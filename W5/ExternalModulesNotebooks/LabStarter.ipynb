{
 "cells": [
  {
   "cell_type": "code",
   "execution_count": 99,
   "metadata": {},
   "outputs": [],
   "source": [
    "import pandas as pd\n",
    "from arcgis.features import GeoAccessor, GeoSeriesAccessor"
   ]
  },
  {
   "cell_type": "code",
   "execution_count": 100,
   "metadata": {},
   "outputs": [
    {
     "data": {
      "text/html": [
       "<div>\n",
       "<style scoped>\n",
       "    .dataframe tbody tr th:only-of-type {\n",
       "        vertical-align: middle;\n",
       "    }\n",
       "\n",
       "    .dataframe tbody tr th {\n",
       "        vertical-align: top;\n",
       "    }\n",
       "\n",
       "    .dataframe thead th {\n",
       "        text-align: right;\n",
       "    }\n",
       "</style>\n",
       "<table border=\"1\" class=\"dataframe\">\n",
       "  <thead>\n",
       "    <tr style=\"text-align: right;\">\n",
       "      <th></th>\n",
       "      <th>FID</th>\n",
       "      <th>Habitat_Or</th>\n",
       "      <th>Crosswalk</th>\n",
       "      <th>Class</th>\n",
       "      <th>Match</th>\n",
       "      <th>SHAPE</th>\n",
       "    </tr>\n",
       "  </thead>\n",
       "  <tbody>\n",
       "    <tr>\n",
       "      <th>0</th>\n",
       "      <td>0</td>\n",
       "      <td>Macroalgae-on-sand</td>\n",
       "      <td>Sand</td>\n",
       "      <td>Sand</td>\n",
       "      <td>1</td>\n",
       "      <td>{\"x\": -195577.34539999813, \"y\": 107448.9072000...</td>\n",
       "    </tr>\n",
       "    <tr>\n",
       "      <th>1</th>\n",
       "      <td>1</td>\n",
       "      <td>Reef-rubble</td>\n",
       "      <td>Coral/Algae</td>\n",
       "      <td>Coral/Algae</td>\n",
       "      <td>1</td>\n",
       "      <td>{\"x\": -196101.2509999927, \"y\": 107477.93150001...</td>\n",
       "    </tr>\n",
       "    <tr>\n",
       "      <th>2</th>\n",
       "      <td>2</td>\n",
       "      <td>Reef-rubble</td>\n",
       "      <td>Coral/Algae</td>\n",
       "      <td>Coral/Algae</td>\n",
       "      <td>1</td>\n",
       "      <td>{\"x\": -194910.3166999966, \"y\": 108064.08080001...</td>\n",
       "    </tr>\n",
       "    <tr>\n",
       "      <th>3</th>\n",
       "      <td>3</td>\n",
       "      <td>Gorgonian-hardground</td>\n",
       "      <td>Hardbottom Dense Algae</td>\n",
       "      <td>Hardbottom Dense Algae</td>\n",
       "      <td>1</td>\n",
       "      <td>{\"x\": -191755.79799999855, \"y\": 109182.5773000...</td>\n",
       "    </tr>\n",
       "    <tr>\n",
       "      <th>4</th>\n",
       "      <td>4</td>\n",
       "      <td>Gorgonian-hardground</td>\n",
       "      <td>Hardbottom Dense Algae</td>\n",
       "      <td>Hardbottom Dense Algae</td>\n",
       "      <td>1</td>\n",
       "      <td>{\"x\": -192088.17339999788, \"y\": 109268.3106000...</td>\n",
       "    </tr>\n",
       "    <tr>\n",
       "      <th>...</th>\n",
       "      <td>...</td>\n",
       "      <td>...</td>\n",
       "      <td>...</td>\n",
       "      <td>...</td>\n",
       "      <td>...</td>\n",
       "      <td>...</td>\n",
       "    </tr>\n",
       "    <tr>\n",
       "      <th>2681</th>\n",
       "      <td>2681</td>\n",
       "      <td>Bare carbonate sand</td>\n",
       "      <td>Sand</td>\n",
       "      <td>Sand</td>\n",
       "      <td>1</td>\n",
       "      <td>{\"x\": 1396522.0376000013, \"y\": 203980.03950000...</td>\n",
       "    </tr>\n",
       "    <tr>\n",
       "      <th>2682</th>\n",
       "      <td>2682</td>\n",
       "      <td>Bare carbonate sand</td>\n",
       "      <td>Sand</td>\n",
       "      <td>Sand</td>\n",
       "      <td>1</td>\n",
       "      <td>{\"x\": 1396170.716400005, \"y\": 204225.512000000...</td>\n",
       "    </tr>\n",
       "    <tr>\n",
       "      <th>2683</th>\n",
       "      <td>2683</td>\n",
       "      <td>Flat gorgonian hardgrounds</td>\n",
       "      <td>Hardbottom Dense Algae</td>\n",
       "      <td>Hardbottom Dense Algae</td>\n",
       "      <td>1</td>\n",
       "      <td>{\"x\": 1396265.6319999974, \"y\": 204356.11159999...</td>\n",
       "    </tr>\n",
       "    <tr>\n",
       "      <th>2684</th>\n",
       "      <td>2684</td>\n",
       "      <td>Semi-consolidated rubble</td>\n",
       "      <td>Coral/Algae</td>\n",
       "      <td>Coral/Algae</td>\n",
       "      <td>1</td>\n",
       "      <td>{\"x\": 1396444.0528999977, \"y\": 204501.26540001...</td>\n",
       "    </tr>\n",
       "    <tr>\n",
       "      <th>2685</th>\n",
       "      <td>2685</td>\n",
       "      <td>Bare carbonate sand</td>\n",
       "      <td>Sand</td>\n",
       "      <td>Sand</td>\n",
       "      <td>1</td>\n",
       "      <td>{\"x\": 1395454.4901000075, \"y\": 205229.98300000...</td>\n",
       "    </tr>\n",
       "  </tbody>\n",
       "</table>\n",
       "<p>2686 rows × 6 columns</p>\n",
       "</div>"
      ],
      "text/plain": [
       "       FID  ...                                              SHAPE\n",
       "0        0  ...  {\"x\": -195577.34539999813, \"y\": 107448.9072000...\n",
       "1        1  ...  {\"x\": -196101.2509999927, \"y\": 107477.93150001...\n",
       "2        2  ...  {\"x\": -194910.3166999966, \"y\": 108064.08080001...\n",
       "3        3  ...  {\"x\": -191755.79799999855, \"y\": 109182.5773000...\n",
       "4        4  ...  {\"x\": -192088.17339999788, \"y\": 109268.3106000...\n",
       "...    ...  ...                                                ...\n",
       "2681  2681  ...  {\"x\": 1396522.0376000013, \"y\": 203980.03950000...\n",
       "2682  2682  ...  {\"x\": 1396170.716400005, \"y\": 204225.512000000...\n",
       "2683  2683  ...  {\"x\": 1396265.6319999974, \"y\": 204356.11159999...\n",
       "2684  2684  ...  {\"x\": 1396444.0528999977, \"y\": 204501.26540001...\n",
       "2685  2685  ...  {\"x\": 1395454.4901000075, \"y\": 205229.98300000...\n",
       "\n",
       "[2686 rows x 6 columns]"
      ]
     },
     "execution_count": 100,
     "metadata": {},
     "output_type": "execute_result"
    }
   ],
   "source": [
    "sdf = pd.DataFrame.spatial.from_featureclass(\"aassesmet.shp\")\n",
    "sdf"
   ]
  },
  {
   "cell_type": "code",
   "execution_count": 104,
   "metadata": {},
   "outputs": [
    {
     "data": {
      "text/html": [
       "<div>\n",
       "<style scoped>\n",
       "    .dataframe tbody tr th:only-of-type {\n",
       "        vertical-align: middle;\n",
       "    }\n",
       "\n",
       "    .dataframe tbody tr th {\n",
       "        vertical-align: top;\n",
       "    }\n",
       "\n",
       "    .dataframe thead th {\n",
       "        text-align: right;\n",
       "    }\n",
       "</style>\n",
       "<table border=\"1\" class=\"dataframe\">\n",
       "  <thead>\n",
       "    <tr style=\"text-align: right;\">\n",
       "      <th>Crosswalk</th>\n",
       "      <th>Boulders and Rocks</th>\n",
       "      <th>Coral/Algae</th>\n",
       "      <th>Hardbottom Dense Algae</th>\n",
       "      <th>Hardbottom Sparse Algae</th>\n",
       "      <th>Muddy Bottom</th>\n",
       "      <th>Sand</th>\n",
       "      <th>Seagrass Dense</th>\n",
       "      <th>Seagrass Sparse</th>\n",
       "    </tr>\n",
       "    <tr>\n",
       "      <th>Class</th>\n",
       "      <th></th>\n",
       "      <th></th>\n",
       "      <th></th>\n",
       "      <th></th>\n",
       "      <th></th>\n",
       "      <th></th>\n",
       "      <th></th>\n",
       "      <th></th>\n",
       "    </tr>\n",
       "  </thead>\n",
       "  <tbody>\n",
       "    <tr>\n",
       "      <th>Boulders and Rocks</th>\n",
       "      <td>36</td>\n",
       "      <td>5</td>\n",
       "      <td>0</td>\n",
       "      <td>0</td>\n",
       "      <td>0</td>\n",
       "      <td>0</td>\n",
       "      <td>1</td>\n",
       "      <td>0</td>\n",
       "    </tr>\n",
       "    <tr>\n",
       "      <th>Coral/Algae</th>\n",
       "      <td>2</td>\n",
       "      <td>666</td>\n",
       "      <td>131</td>\n",
       "      <td>38</td>\n",
       "      <td>0</td>\n",
       "      <td>18</td>\n",
       "      <td>31</td>\n",
       "      <td>20</td>\n",
       "    </tr>\n",
       "    <tr>\n",
       "      <th>Hardbottom Dense Algae</th>\n",
       "      <td>1</td>\n",
       "      <td>20</td>\n",
       "      <td>278</td>\n",
       "      <td>22</td>\n",
       "      <td>0</td>\n",
       "      <td>6</td>\n",
       "      <td>7</td>\n",
       "      <td>12</td>\n",
       "    </tr>\n",
       "    <tr>\n",
       "      <th>Hardbottom Sparse Algae</th>\n",
       "      <td>1</td>\n",
       "      <td>10</td>\n",
       "      <td>13</td>\n",
       "      <td>90</td>\n",
       "      <td>0</td>\n",
       "      <td>23</td>\n",
       "      <td>5</td>\n",
       "      <td>33</td>\n",
       "    </tr>\n",
       "    <tr>\n",
       "      <th>Muddy Bottom</th>\n",
       "      <td>0</td>\n",
       "      <td>0</td>\n",
       "      <td>0</td>\n",
       "      <td>0</td>\n",
       "      <td>7</td>\n",
       "      <td>0</td>\n",
       "      <td>0</td>\n",
       "      <td>1</td>\n",
       "    </tr>\n",
       "    <tr>\n",
       "      <th>Sand</th>\n",
       "      <td>3</td>\n",
       "      <td>28</td>\n",
       "      <td>8</td>\n",
       "      <td>7</td>\n",
       "      <td>5</td>\n",
       "      <td>466</td>\n",
       "      <td>18</td>\n",
       "      <td>13</td>\n",
       "    </tr>\n",
       "    <tr>\n",
       "      <th>Seagrass Dense</th>\n",
       "      <td>2</td>\n",
       "      <td>15</td>\n",
       "      <td>19</td>\n",
       "      <td>3</td>\n",
       "      <td>1</td>\n",
       "      <td>6</td>\n",
       "      <td>317</td>\n",
       "      <td>22</td>\n",
       "    </tr>\n",
       "    <tr>\n",
       "      <th>Seagrass Sparse</th>\n",
       "      <td>0</td>\n",
       "      <td>26</td>\n",
       "      <td>8</td>\n",
       "      <td>21</td>\n",
       "      <td>8</td>\n",
       "      <td>14</td>\n",
       "      <td>45</td>\n",
       "      <td>154</td>\n",
       "    </tr>\n",
       "  </tbody>\n",
       "</table>\n",
       "</div>"
      ],
      "text/plain": [
       "Crosswalk                Boulders and Rocks  ...  Seagrass Sparse\n",
       "Class                                        ...                 \n",
       "Boulders and Rocks                       36  ...                0\n",
       "Coral/Algae                               2  ...               20\n",
       "Hardbottom Dense Algae                    1  ...               12\n",
       "Hardbottom Sparse Algae                   1  ...               33\n",
       "Muddy Bottom                              0  ...                1\n",
       "Sand                                      3  ...               13\n",
       "Seagrass Dense                            2  ...               22\n",
       "Seagrass Sparse                           0  ...              154\n",
       "\n",
       "[8 rows x 8 columns]"
      ]
     },
     "execution_count": 104,
     "metadata": {},
     "output_type": "execute_result"
    }
   ],
   "source": [
    "aadf = pd.crosstab(index=sdf[\"Class\"], columns=sdf[\"Crosswalk\"])\n",
    "aadf"
   ]
  },
  {
   "cell_type": "code",
   "execution_count": 105,
   "metadata": {},
   "outputs": [],
   "source": [
    "#Continue here\n",
    "\n",
    "totalObs = aadf.sum().sum()"
   ]
  },
  {
   "cell_type": "code",
   "execution_count": 106,
   "metadata": {},
   "outputs": [
    {
     "data": {
      "text/plain": [
       "36"
      ]
     },
     "execution_count": 106,
     "metadata": {},
     "output_type": "execute_result"
    }
   ],
   "source": [
    "aadf.iloc[0,0]"
   ]
  },
  {
   "cell_type": "code",
   "execution_count": 110,
   "metadata": {},
   "outputs": [
    {
     "data": {
      "text/plain": [
       "Crosswalk\n",
       "Boulders and Rocks          45\n",
       "Coral/Algae                770\n",
       "Hardbottom Dense Algae     457\n",
       "Hardbottom Sparse Algae    181\n",
       "Muddy Bottom                21\n",
       "Sand                       533\n",
       "Seagrass Dense             424\n",
       "Seagrass Sparse            255\n",
       "dtype: int64"
      ]
     },
     "execution_count": 110,
     "metadata": {},
     "output_type": "execute_result"
    }
   ],
   "source": [
    "aadf.apply(np.sum, axis = 0)"
   ]
  },
  {
   "cell_type": "code",
   "execution_count": 135,
   "metadata": {},
   "outputs": [
    {
     "data": {
      "text/plain": [
       "Class\n",
       "Boulders and Rocks          42\n",
       "Coral/Algae                906\n",
       "Hardbottom Dense Algae     346\n",
       "Hardbottom Sparse Algae    175\n",
       "Muddy Bottom                 8\n",
       "Sand                       548\n",
       "Seagrass Dense             385\n",
       "Seagrass Sparse            276\n",
       "dtype: int64"
      ]
     },
     "execution_count": 135,
     "metadata": {},
     "output_type": "execute_result"
    }
   ],
   "source": [
    "aadf.sum(axis = 1)"
   ]
  },
  {
   "cell_type": "code",
   "execution_count": 137,
   "metadata": {},
   "outputs": [
    {
     "data": {
      "text/plain": [
       "Crosswalk\n",
       "Boulders and Rocks          45\n",
       "Coral/Algae                770\n",
       "Hardbottom Dense Algae     457\n",
       "Hardbottom Sparse Algae    181\n",
       "Muddy Bottom                21\n",
       "Sand                       533\n",
       "Seagrass Dense             424\n",
       "Seagrass Sparse            255\n",
       "dtype: int64"
      ]
     },
     "execution_count": 137,
     "metadata": {},
     "output_type": "execute_result"
    }
   ],
   "source": [
    "aadf.sum(axis = 0)"
   ]
  },
  {
   "cell_type": "code",
   "execution_count": null,
   "metadata": {},
   "outputs": [],
   "source": []
  }
 ],
 "metadata": {
  "kernelspec": {
   "display_name": "ArcGISPro",
   "language": "Python",
   "name": "python3"
  },
  "language_info": {
   "file_extension": ".py",
   "name": "python",
   "version": "3"
  }
 },
 "nbformat": 4,
 "nbformat_minor": 2
}

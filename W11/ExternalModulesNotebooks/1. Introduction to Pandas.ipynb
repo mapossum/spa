{
 "cells": [
  {
   "cell_type": "markdown",
   "metadata": {},
   "source": [
    "---\n",
    "<center><h1>Basic intro into pandas</h1></center>\n",
    "\n",
    "\n",
    "<center><h2> Introduction to pandas data structures</h2></center>\n",
    "\n",
    "---"
   ]
  },
  {
   "cell_type": "markdown",
   "metadata": {},
   "source": [
    "[Рandas](http://pandas.pydata.org/pandas-docs/stable/) is a powerfull and flexible open source Python library for data analysis. Python has long been great for data preparation, but less so for data analysis and modeling. pandas helps fill this gap, enabling us to carry out our entire data analysis workflow in Python without having to switch to a more domain specific language like R or loading of working data into a database and using SQL (or worse, Excel). pandas makes Python great for analysis.\n",
    "\n",
    "Library Highlights:\n",
    "\n",
    "- A fast and efficient DataFrame object for data manipulation with integrated indexing (like a spreadsheet, but better in many ways);\n",
    "- Tools for reading and writing data between in-memory data structures and different formats: CSV and text files, Microsoft Excel, SQL databases, and the HDF5 format;\n",
    "- Intelligent data alignment and integrated handling of missing data: gain automatic label-based alignment in computations and easily manipulate messy data into an orderly form;\n",
    "- Flexible reshaping and pivoting of data sets;\n",
    "- Intelligent label-based slicing, fancy indexing, and subsetting of large data sets;\n",
    "- Columns can be inserted and deleted from data structures for size mutability;\n",
    "- Aggregating or transforming data with a powerful group by engine allowing split-apply-combine operations on data sets;\n",
    "- High performance merging and joining of data sets;\n",
    "- Hierarchical axis indexing provides an intuitive way of working with high-dimensional data in a lower-dimensional data structure;\n",
    "- Time series-functionality: date range generation and frequency conversion, moving window statistics, moving window linear regressions, date shifting and lagging. Even create domain-specific time offsets and join time series without losing data;\n",
    "- Highly optimized for performance, with critical code paths written in Cython or C.\n",
    "- Python with pandas is in use in a wide variety of academic and commercial domains, including Finance, Neuroscience, Economics, Statistics, Advertising, Web Analytics, Geospatial Sciences, and more.\n"
   ]
  },
  {
   "cell_type": "markdown",
   "metadata": {},
   "source": [
    "# Table of Contents\n",
    "- [Introduction to pandas data structures](#Introduction-to-pandas-data-structures)\n",
    "    * [Series](#Series)\n",
    "    * [DataFrames](#DataFrames)\n",
    "    * [Read data from files and write data to files](#Read-data-from-files-and-write-data-to-files)\n",
    "    - [*Exercise 1*](#Exercise-1)\n",
    "    - [*Exercise 2*](#Exercise-2)"
   ]
  },
  {
   "cell_type": "markdown",
   "metadata": {},
   "source": [
    "To use pandas you should simply import it as Python module. Usually together with NumPy (which we learned about last week)."
   ]
  },
  {
   "cell_type": "code",
   "execution_count": 1,
   "metadata": {
    "scrolled": false
   },
   "outputs": [],
   "source": [
    "import pandas as pd\n",
    "import numpy as np\n",
    "import random"
   ]
  },
  {
   "cell_type": "markdown",
   "metadata": {},
   "source": [
    "## Introduction to pandas data structures\n",
    "\n",
    "[[back to top]](#Table-of-Contents)\n",
    "\n",
    "### Series\n",
    "\n",
    "[[back to top]](#Table-of-Contents)\n",
    "\n",
    "Pandas introduces two new data structures to Python – Series and DataFrame, both of which are built on top of NumPy.\n",
    "A Series is a one-dimensional object similar to an array, list, or column in a table. It will assign a labeled index to each item in the Series. By default, each item will receive an index label from 0 to N, where N is the length of the Series minus one."
   ]
  },
  {
   "cell_type": "code",
   "execution_count": 2,
   "metadata": {
    "scrolled": true
   },
   "outputs": [
    {
     "data": {
      "text/plain": [
       "0               1\n",
       "1    hello, world\n",
       "2             NaN\n",
       "3     -1234567890\n",
       "4            3.14\n",
       "5               0\n",
       "dtype: object"
      ]
     },
     "execution_count": 2,
     "metadata": {},
     "output_type": "execute_result"
    }
   ],
   "source": [
    "my_first_series = pd.Series([1, 'hello, world', np.nan, -1234567890, 3.14, 0])\n",
    "my_first_series"
   ]
  },
  {
   "cell_type": "markdown",
   "metadata": {},
   "source": [
    "You can also set specific index at creating the Series.  Doing this makes it more like a python dictionary (associative array)."
   ]
  },
  {
   "cell_type": "code",
   "execution_count": 3,
   "metadata": {
    "scrolled": true
   },
   "outputs": [
    {
     "data": {
      "text/plain": [
       "A                     1\n",
       "B          hello, world\n",
       "unknown             NaN\n",
       "0           -1234567890\n",
       "C                  3.14\n",
       "D                     0\n",
       "dtype: object"
      ]
     },
     "execution_count": 3,
     "metadata": {},
     "output_type": "execute_result"
    }
   ],
   "source": [
    "my_first_series = pd.Series([1, 'hello, world', np.nan, -1234567890, 3.14, 0], index=['A', 'B', 'unknown', 0, 'C', 'D'])\n",
    "my_first_series"
   ]
  },
  {
   "cell_type": "markdown",
   "metadata": {},
   "source": [
    "In fact, the Series constructor can convert a Python dictionary, using the keys of the dictionary as its index."
   ]
  },
  {
   "cell_type": "code",
   "execution_count": 4,
   "metadata": {
    "scrolled": true
   },
   "outputs": [
    {
     "data": {
      "text/plain": [
       "John      10\n",
       "Annet     12\n",
       "Robert     5\n",
       "Jack      55\n",
       "dtype: int64"
      ]
     },
     "execution_count": 4,
     "metadata": {},
     "output_type": "execute_result"
    }
   ],
   "source": [
    "my_dict = {'John': 10, 'Annet': 12, 'Robert': 5, 'Jack': 55}\n",
    "my_first_series = pd.Series(my_dict)\n",
    "my_first_series"
   ]
  },
  {
   "cell_type": "markdown",
   "metadata": {},
   "source": [
    "Then you can use the index to select necessary items from the Series in a way nearly identical to using a python dictionary."
   ]
  },
  {
   "cell_type": "code",
   "execution_count": 5,
   "metadata": {},
   "outputs": [
    {
     "data": {
      "text/plain": [
       "55"
      ]
     },
     "execution_count": 5,
     "metadata": {},
     "output_type": "execute_result"
    }
   ],
   "source": [
    "my_dict['Jack']"
   ]
  },
  {
   "cell_type": "code",
   "execution_count": 6,
   "metadata": {
    "scrolled": true
   },
   "outputs": [
    {
     "data": {
      "text/plain": [
       "55"
      ]
     },
     "execution_count": 6,
     "metadata": {},
     "output_type": "execute_result"
    }
   ],
   "source": [
    "my_first_series['Jack']"
   ]
  },
  {
   "cell_type": "markdown",
   "metadata": {},
   "source": [
    "however, you can also ask for more than one index in series by passing a list of index values."
   ]
  },
  {
   "cell_type": "code",
   "execution_count": 7,
   "metadata": {
    "scrolled": true
   },
   "outputs": [
    {
     "data": {
      "text/plain": [
       "Jack      55\n",
       "Robert     5\n",
       "dtype: int64"
      ]
     },
     "execution_count": 7,
     "metadata": {},
     "output_type": "execute_result"
    }
   ],
   "source": [
    "my_first_series[['Jack', 'Robert']]"
   ]
  },
  {
   "cell_type": "markdown",
   "metadata": {},
   "source": [
    "To see all indexes of the Series you may use index attribute"
   ]
  },
  {
   "cell_type": "code",
   "execution_count": 8,
   "metadata": {
    "scrolled": true
   },
   "outputs": [
    {
     "data": {
      "text/plain": [
       "Index(['John', 'Annet', 'Robert', 'Jack'], dtype='object')"
      ]
     },
     "execution_count": 8,
     "metadata": {},
     "output_type": "execute_result"
    }
   ],
   "source": [
    "my_first_series.index"
   ]
  },
  {
   "cell_type": "markdown",
   "metadata": {},
   "source": [
    "Similarly, you may display only values"
   ]
  },
  {
   "cell_type": "code",
   "execution_count": 9,
   "metadata": {
    "scrolled": true
   },
   "outputs": [
    {
     "data": {
      "text/plain": [
       "array([10, 12,  5, 55], dtype=int64)"
      ]
     },
     "execution_count": 9,
     "metadata": {},
     "output_type": "execute_result"
    }
   ],
   "source": [
    "my_first_series.values"
   ]
  },
  {
   "cell_type": "markdown",
   "metadata": {},
   "source": [
    "pandas provides the method [`rename({old_name_1: new_name_1, old_name_2: new_name_2, ... })`](http://pandas.pydata.org/pandas-docs/stable/generated/pandas.DataFrame.rename.html) that returns a new table allowing easily change index names.\n",
    "\n",
    "We also can filter the series. Let’s find all items, which are less than 20 and odd:"
   ]
  },
  {
   "cell_type": "code",
   "execution_count": 10,
   "metadata": {
    "scrolled": true
   },
   "outputs": [
    {
     "data": {
      "text/plain": [
       "Robert    5\n",
       "dtype: int64"
      ]
     },
     "execution_count": 10,
     "metadata": {},
     "output_type": "execute_result"
    }
   ],
   "source": [
    "my_first_series[(my_first_series < 20) & (my_first_series % 2 != 0)]"
   ]
  },
  {
   "cell_type": "markdown",
   "metadata": {},
   "source": [
    "You may achieve the same result at using Python dictionary data structures `my_dict`, which we have used before, but this would invlove programming a loop, for example, in such way"
   ]
  },
  {
   "cell_type": "code",
   "execution_count": 11,
   "metadata": {
    "scrolled": true
   },
   "outputs": [
    {
     "data": {
      "text/plain": [
       "{'Robert': 5}"
      ]
     },
     "execution_count": 11,
     "metadata": {},
     "output_type": "execute_result"
    }
   ],
   "source": [
    "filtered = {}\n",
    "for key, val in my_dict.items():\n",
    "    if val < 20 and val % 2 != 0:\n",
    "        filtered[key] = val\n",
    "filtered"
   ]
  },
  {
   "cell_type": "markdown",
   "metadata": {},
   "source": [
    "There is a shorter way to write the loop using generators for dict, which we did not cover ealier"
   ]
  },
  {
   "cell_type": "code",
   "execution_count": 12,
   "metadata": {
    "scrolled": true
   },
   "outputs": [
    {
     "data": {
      "text/plain": [
       "{'Robert': 5}"
      ]
     },
     "execution_count": 12,
     "metadata": {},
     "output_type": "execute_result"
    }
   ],
   "source": [
    "filtered = {key: val for key, val in my_dict.items() if val < 20 and val % 2 != 0}\n",
    "filtered"
   ]
  },
  {
   "cell_type": "markdown",
   "metadata": {},
   "source": [
    "The previous example demonstrates only one of huge amount of advantages of pandas’ potential over pure Python. \n",
    "Series is a mutable data structures and you can easily change any item’s value:"
   ]
  },
  {
   "cell_type": "code",
   "execution_count": 13,
   "metadata": {
    "scrolled": true
   },
   "outputs": [
    {
     "name": "stdout",
     "output_type": "stream",
     "text": [
      "Robert's previous value : 5\n",
      "Robert's new value : 15\n"
     ]
    }
   ],
   "source": [
    "print(\"Robert's previous value : {}\".format(my_first_series['Robert']))\n",
    "my_first_series['Robert'] = 15\n",
    "print(\"Robert's new value : {}\".format(my_first_series['Robert']))"
   ]
  },
  {
   "cell_type": "markdown",
   "metadata": {},
   "source": [
    "or add new values:"
   ]
  },
  {
   "cell_type": "code",
   "execution_count": 14,
   "metadata": {
    "scrolled": true
   },
   "outputs": [
    {
     "data": {
      "text/plain": [
       "John      10\n",
       "Annet     12\n",
       "Robert    15\n",
       "Jack      55\n",
       "dtype: int64"
      ]
     },
     "execution_count": 14,
     "metadata": {},
     "output_type": "execute_result"
    }
   ],
   "source": [
    "#my_first_series = my_first_series.append(pd.Series({'Joshua': 0, 'George': 200}))\n",
    "my_first_series"
   ]
  },
  {
   "cell_type": "markdown",
   "metadata": {},
   "source": [
    "If it is necessary to apply any mathematical operation to Series items, it is simmilar to how you would do the same to an array. You may done it like below:"
   ]
  },
  {
   "cell_type": "code",
   "execution_count": 15,
   "metadata": {
    "scrolled": true
   },
   "outputs": [
    {
     "data": {
      "text/plain": [
       "John       6.666667\n",
       "Annet      8.000000\n",
       "Robert    10.000000\n",
       "Jack      36.666667\n",
       "dtype: float64"
      ]
     },
     "execution_count": 15,
     "metadata": {},
     "output_type": "execute_result"
    }
   ],
   "source": [
    "my_first_series_2 = my_first_series / 1.5\n",
    "my_first_series_2"
   ]
  },
  {
   "cell_type": "markdown",
   "metadata": {},
   "source": [
    "Thus the corresponding mathematical operation is applied for each Series item like at using loops for Python lists.\n",
    "In the same way you may add, substitute etc. two or more Series:"
   ]
  },
  {
   "cell_type": "code",
   "execution_count": 16,
   "metadata": {
    "scrolled": true
   },
   "outputs": [
    {
     "data": {
      "text/plain": [
       "John      16.666667\n",
       "Annet     20.000000\n",
       "Robert    25.000000\n",
       "Jack      91.666667\n",
       "dtype: float64"
      ]
     },
     "execution_count": 16,
     "metadata": {},
     "output_type": "execute_result"
    }
   ],
   "source": [
    "my_first_series_total = my_first_series + my_first_series_2\n",
    "my_first_series_total"
   ]
  },
  {
   "cell_type": "markdown",
   "metadata": {},
   "source": [
    "`NULL`/`NaN` checking can be performed with `isnull()` and `notnull()`."
   ]
  },
  {
   "cell_type": "code",
   "execution_count": 17,
   "metadata": {
    "scrolled": true
   },
   "outputs": [
    {
     "data": {
      "text/plain": [
       "John      10\n",
       "Annet     12\n",
       "Robert    15\n",
       "Jack      55\n",
       "dtype: int64"
      ]
     },
     "execution_count": 17,
     "metadata": {},
     "output_type": "execute_result"
    }
   ],
   "source": [
    "my_first_series_total.notnull()\n",
    "my_first_series[my_first_series_total.notnull()]"
   ]
  },
  {
   "cell_type": "code",
   "execution_count": 18,
   "metadata": {
    "scrolled": true
   },
   "outputs": [
    {
     "data": {
      "text/plain": [
       "John      False\n",
       "Annet     False\n",
       "Robert    False\n",
       "Jack      False\n",
       "dtype: bool"
      ]
     },
     "execution_count": 18,
     "metadata": {},
     "output_type": "execute_result"
    }
   ],
   "source": [
    "my_first_series_total.isnull()"
   ]
  },
  {
   "cell_type": "markdown",
   "metadata": {},
   "source": [
    "### DataFrames\n",
    "[[back to top]](#Table-of-Contents)\n",
    "\n",
    "A DataFrame is a tabular data structure comprised of rows and columns which is too closest to a spreadsheet, database table etc. It is a primary data structure in pandas as Series.  We can consider a DataFrame as a group of Series objects that share an index (the column names, simmilar to a dictionary of dictionaries). Arithmetic operations align on both row and column labels.\n",
    "\n",
    "One of the simplest ways for creation of a DataFrame out of common Python data structures is the passing a dictionary of lists to the DataFrame constructor. To order columns we may use columns parameter, because by default the DataFrame constructor will order the columns alphabetically.\n",
    "\n",
    "Let’s create the DataFrame for the list of finals matches of World Cup, their locations, the finalists and final scores beginning from 1990:"
   ]
  },
  {
   "cell_type": "code",
   "execution_count": 19,
   "metadata": {
    "scrolled": true
   },
   "outputs": [
    {
     "data": {
      "text/html": [
       "<div>\n",
       "<style scoped>\n",
       "    .dataframe tbody tr th:only-of-type {\n",
       "        vertical-align: middle;\n",
       "    }\n",
       "\n",
       "    .dataframe tbody tr th {\n",
       "        vertical-align: top;\n",
       "    }\n",
       "\n",
       "    .dataframe thead th {\n",
       "        text-align: right;\n",
       "    }\n",
       "</style>\n",
       "<table border=\"1\" class=\"dataframe\">\n",
       "  <thead>\n",
       "    <tr style=\"text-align: right;\">\n",
       "      <th></th>\n",
       "      <th>year</th>\n",
       "      <th>winner</th>\n",
       "      <th>runner-up</th>\n",
       "      <th>final score</th>\n",
       "    </tr>\n",
       "  </thead>\n",
       "  <tbody>\n",
       "    <tr>\n",
       "      <th>0</th>\n",
       "      <td>1990</td>\n",
       "      <td>Germany</td>\n",
       "      <td>Argentina</td>\n",
       "      <td>1-0</td>\n",
       "    </tr>\n",
       "    <tr>\n",
       "      <th>1</th>\n",
       "      <td>1994</td>\n",
       "      <td>Brazil</td>\n",
       "      <td>Italy</td>\n",
       "      <td>0-0 (pen)</td>\n",
       "    </tr>\n",
       "    <tr>\n",
       "      <th>2</th>\n",
       "      <td>1998</td>\n",
       "      <td>France</td>\n",
       "      <td>Brazil</td>\n",
       "      <td>3-0</td>\n",
       "    </tr>\n",
       "    <tr>\n",
       "      <th>3</th>\n",
       "      <td>2002</td>\n",
       "      <td>Brazil</td>\n",
       "      <td>Germany</td>\n",
       "      <td>2-0</td>\n",
       "    </tr>\n",
       "    <tr>\n",
       "      <th>4</th>\n",
       "      <td>2006</td>\n",
       "      <td>Italy</td>\n",
       "      <td>France</td>\n",
       "      <td>1-1 (pen)</td>\n",
       "    </tr>\n",
       "    <tr>\n",
       "      <th>5</th>\n",
       "      <td>2010</td>\n",
       "      <td>Spain</td>\n",
       "      <td>Netherlands</td>\n",
       "      <td>1-0</td>\n",
       "    </tr>\n",
       "    <tr>\n",
       "      <th>6</th>\n",
       "      <td>2014</td>\n",
       "      <td>Germany</td>\n",
       "      <td>Argentina</td>\n",
       "      <td>1-0</td>\n",
       "    </tr>\n",
       "  </tbody>\n",
       "</table>\n",
       "</div>"
      ],
      "text/plain": [
       "   year   winner    runner-up final score\n",
       "0  1990  Germany    Argentina         1-0\n",
       "1  1994   Brazil        Italy   0-0 (pen)\n",
       "2  1998   France       Brazil         3-0\n",
       "3  2002   Brazil      Germany         2-0\n",
       "4  2006    Italy       France   1-1 (pen)\n",
       "5  2010    Spain  Netherlands         1-0\n",
       "6  2014  Germany    Argentina         1-0"
      ]
     },
     "execution_count": 19,
     "metadata": {},
     "output_type": "execute_result"
    }
   ],
   "source": [
    "data = {'year': [1990, 1994, 1998, 2002, 2006, 2010, 2014],\n",
    "        'winner': ['Germany', 'Brazil', 'France', 'Brazil','Italy', 'Spain', 'Germany'],\n",
    "        'runner-up': ['Argentina', 'Italy', 'Brazil','Germany', 'France', 'Netherlands', 'Argentina'],\n",
    "        'final score': ['1-0', '0-0 (pen)', '3-0', '2-0', '1-1 (pen)', '1-0', '1-0'] }\n",
    "world_cup = pd.DataFrame(data, columns=data.keys())\n",
    "world_cup"
   ]
  },
  {
   "cell_type": "markdown",
   "metadata": {},
   "source": [
    "Other recipe to set a DataFrame is the using of Python list of dictionaries:"
   ]
  },
  {
   "cell_type": "code",
   "execution_count": 20,
   "metadata": {
    "scrolled": true
   },
   "outputs": [
    {
     "data": {
      "text/html": [
       "<div>\n",
       "<style scoped>\n",
       "    .dataframe tbody tr th:only-of-type {\n",
       "        vertical-align: middle;\n",
       "    }\n",
       "\n",
       "    .dataframe tbody tr th {\n",
       "        vertical-align: top;\n",
       "    }\n",
       "\n",
       "    .dataframe thead th {\n",
       "        text-align: right;\n",
       "    }\n",
       "</style>\n",
       "<table border=\"1\" class=\"dataframe\">\n",
       "  <thead>\n",
       "    <tr style=\"text-align: right;\">\n",
       "      <th></th>\n",
       "      <th>year</th>\n",
       "      <th>winner</th>\n",
       "      <th>runner-up</th>\n",
       "      <th>final score</th>\n",
       "    </tr>\n",
       "  </thead>\n",
       "  <tbody>\n",
       "    <tr>\n",
       "      <th>0</th>\n",
       "      <td>1990</td>\n",
       "      <td>Germany</td>\n",
       "      <td>Argentina</td>\n",
       "      <td>1-0</td>\n",
       "    </tr>\n",
       "    <tr>\n",
       "      <th>1</th>\n",
       "      <td>1994</td>\n",
       "      <td>Brazil</td>\n",
       "      <td>Italy</td>\n",
       "      <td>0-0 (pen)</td>\n",
       "    </tr>\n",
       "    <tr>\n",
       "      <th>2</th>\n",
       "      <td>1998</td>\n",
       "      <td>France</td>\n",
       "      <td>Brazil</td>\n",
       "      <td>3-0</td>\n",
       "    </tr>\n",
       "    <tr>\n",
       "      <th>3</th>\n",
       "      <td>2002</td>\n",
       "      <td>Brazil</td>\n",
       "      <td>Germany</td>\n",
       "      <td>2-0</td>\n",
       "    </tr>\n",
       "    <tr>\n",
       "      <th>4</th>\n",
       "      <td>2006</td>\n",
       "      <td>Italy</td>\n",
       "      <td>France</td>\n",
       "      <td>1-1 (pen)</td>\n",
       "    </tr>\n",
       "    <tr>\n",
       "      <th>5</th>\n",
       "      <td>2010</td>\n",
       "      <td>Spain</td>\n",
       "      <td>Netherlands</td>\n",
       "      <td>1-0</td>\n",
       "    </tr>\n",
       "    <tr>\n",
       "      <th>6</th>\n",
       "      <td>2014</td>\n",
       "      <td>Germany</td>\n",
       "      <td>Argentina</td>\n",
       "      <td>1-0</td>\n",
       "    </tr>\n",
       "  </tbody>\n",
       "</table>\n",
       "</div>"
      ],
      "text/plain": [
       "   year   winner    runner-up final score\n",
       "0  1990  Germany    Argentina         1-0\n",
       "1  1994   Brazil        Italy   0-0 (pen)\n",
       "2  1998   France       Brazil         3-0\n",
       "3  2002   Brazil      Germany         2-0\n",
       "4  2006    Italy       France   1-1 (pen)\n",
       "5  2010    Spain  Netherlands         1-0\n",
       "6  2014  Germany    Argentina         1-0"
      ]
     },
     "execution_count": 20,
     "metadata": {},
     "output_type": "execute_result"
    }
   ],
   "source": [
    "data_2 = [{'year': 1990, 'winner': 'Germany', 'runner-up': 'Argentina', 'final score': '1-0'}, \n",
    "          {'year': 1994, 'winner': 'Brazil', 'runner-up': 'Italy', 'final score': '0-0 (pen)'},\n",
    "          {'year': 1998, 'winner': 'France', 'runner-up': 'Brazil', 'final score': '3-0'}, \n",
    "          {'year': 2002, 'winner': 'Brazil', 'runner-up': 'Germany', 'final score': '2-0'}, \n",
    "          {'year': 2006, 'winner': 'Italy','runner-up': 'France', 'final score': '1-1 (pen)'}, \n",
    "          {'year': 2010, 'winner': 'Spain', 'runner-up': 'Netherlands', 'final score': '1-0'}, \n",
    "          {'year': 2014, 'winner': 'Germany', 'runner-up': 'Argentina', 'final score': '1-0'}\n",
    "         ]\n",
    "world_cup = pd.DataFrame(data_2)\n",
    "world_cup"
   ]
  },
  {
   "cell_type": "markdown",
   "metadata": {},
   "source": [
    "If you want to see only 3 first rows of the previous table, you may use method `head(n)`, where `n` corresponds to the number of first rows of the table.\n",
    "\n",
    "Note, that the expression `head()` is equal to `head(5)`."
   ]
  },
  {
   "cell_type": "code",
   "execution_count": 21,
   "metadata": {
    "scrolled": true
   },
   "outputs": [
    {
     "data": {
      "text/html": [
       "<div>\n",
       "<style scoped>\n",
       "    .dataframe tbody tr th:only-of-type {\n",
       "        vertical-align: middle;\n",
       "    }\n",
       "\n",
       "    .dataframe tbody tr th {\n",
       "        vertical-align: top;\n",
       "    }\n",
       "\n",
       "    .dataframe thead th {\n",
       "        text-align: right;\n",
       "    }\n",
       "</style>\n",
       "<table border=\"1\" class=\"dataframe\">\n",
       "  <thead>\n",
       "    <tr style=\"text-align: right;\">\n",
       "      <th></th>\n",
       "      <th>year</th>\n",
       "      <th>winner</th>\n",
       "      <th>runner-up</th>\n",
       "      <th>final score</th>\n",
       "    </tr>\n",
       "  </thead>\n",
       "  <tbody>\n",
       "    <tr>\n",
       "      <th>0</th>\n",
       "      <td>1990</td>\n",
       "      <td>Germany</td>\n",
       "      <td>Argentina</td>\n",
       "      <td>1-0</td>\n",
       "    </tr>\n",
       "    <tr>\n",
       "      <th>1</th>\n",
       "      <td>1994</td>\n",
       "      <td>Brazil</td>\n",
       "      <td>Italy</td>\n",
       "      <td>0-0 (pen)</td>\n",
       "    </tr>\n",
       "    <tr>\n",
       "      <th>2</th>\n",
       "      <td>1998</td>\n",
       "      <td>France</td>\n",
       "      <td>Brazil</td>\n",
       "      <td>3-0</td>\n",
       "    </tr>\n",
       "  </tbody>\n",
       "</table>\n",
       "</div>"
      ],
      "text/plain": [
       "   year   winner  runner-up final score\n",
       "0  1990  Germany  Argentina         1-0\n",
       "1  1994   Brazil      Italy   0-0 (pen)\n",
       "2  1998   France     Brazil         3-0"
      ]
     },
     "execution_count": 21,
     "metadata": {},
     "output_type": "execute_result"
    }
   ],
   "source": [
    "world_cup.head(3)"
   ]
  },
  {
   "cell_type": "markdown",
   "metadata": {},
   "source": [
    "There is method `tail(n)`, which works like `head(n)`, but return the last `n` rows of the DataFrame:"
   ]
  },
  {
   "cell_type": "code",
   "execution_count": 22,
   "metadata": {
    "scrolled": true
   },
   "outputs": [
    {
     "data": {
      "text/html": [
       "<div>\n",
       "<style scoped>\n",
       "    .dataframe tbody tr th:only-of-type {\n",
       "        vertical-align: middle;\n",
       "    }\n",
       "\n",
       "    .dataframe tbody tr th {\n",
       "        vertical-align: top;\n",
       "    }\n",
       "\n",
       "    .dataframe thead th {\n",
       "        text-align: right;\n",
       "    }\n",
       "</style>\n",
       "<table border=\"1\" class=\"dataframe\">\n",
       "  <thead>\n",
       "    <tr style=\"text-align: right;\">\n",
       "      <th></th>\n",
       "      <th>year</th>\n",
       "      <th>winner</th>\n",
       "      <th>runner-up</th>\n",
       "      <th>final score</th>\n",
       "    </tr>\n",
       "  </thead>\n",
       "  <tbody>\n",
       "    <tr>\n",
       "      <th>5</th>\n",
       "      <td>2010</td>\n",
       "      <td>Spain</td>\n",
       "      <td>Netherlands</td>\n",
       "      <td>1-0</td>\n",
       "    </tr>\n",
       "    <tr>\n",
       "      <th>6</th>\n",
       "      <td>2014</td>\n",
       "      <td>Germany</td>\n",
       "      <td>Argentina</td>\n",
       "      <td>1-0</td>\n",
       "    </tr>\n",
       "  </tbody>\n",
       "</table>\n",
       "</div>"
      ],
      "text/plain": [
       "   year   winner    runner-up final score\n",
       "5  2010    Spain  Netherlands         1-0\n",
       "6  2014  Germany    Argentina         1-0"
      ]
     },
     "execution_count": 22,
     "metadata": {},
     "output_type": "execute_result"
    }
   ],
   "source": [
    "world_cup.tail(2)"
   ]
  },
  {
   "cell_type": "markdown",
   "metadata": {},
   "source": [
    "Here you can also use well-know Python slices:"
   ]
  },
  {
   "cell_type": "code",
   "execution_count": 23,
   "metadata": {
    "scrolled": true
   },
   "outputs": [
    {
     "data": {
      "text/html": [
       "<div>\n",
       "<style scoped>\n",
       "    .dataframe tbody tr th:only-of-type {\n",
       "        vertical-align: middle;\n",
       "    }\n",
       "\n",
       "    .dataframe tbody tr th {\n",
       "        vertical-align: top;\n",
       "    }\n",
       "\n",
       "    .dataframe thead th {\n",
       "        text-align: right;\n",
       "    }\n",
       "</style>\n",
       "<table border=\"1\" class=\"dataframe\">\n",
       "  <thead>\n",
       "    <tr style=\"text-align: right;\">\n",
       "      <th></th>\n",
       "      <th>year</th>\n",
       "      <th>winner</th>\n",
       "      <th>runner-up</th>\n",
       "      <th>final score</th>\n",
       "    </tr>\n",
       "  </thead>\n",
       "  <tbody>\n",
       "    <tr>\n",
       "      <th>2</th>\n",
       "      <td>1998</td>\n",
       "      <td>France</td>\n",
       "      <td>Brazil</td>\n",
       "      <td>3-0</td>\n",
       "    </tr>\n",
       "    <tr>\n",
       "      <th>3</th>\n",
       "      <td>2002</td>\n",
       "      <td>Brazil</td>\n",
       "      <td>Germany</td>\n",
       "      <td>2-0</td>\n",
       "    </tr>\n",
       "    <tr>\n",
       "      <th>4</th>\n",
       "      <td>2006</td>\n",
       "      <td>Italy</td>\n",
       "      <td>France</td>\n",
       "      <td>1-1 (pen)</td>\n",
       "    </tr>\n",
       "  </tbody>\n",
       "</table>\n",
       "</div>"
      ],
      "text/plain": [
       "   year  winner runner-up final score\n",
       "2  1998  France    Brazil         3-0\n",
       "3  2002  Brazil   Germany         2-0\n",
       "4  2006   Italy    France   1-1 (pen)"
      ]
     },
     "execution_count": 23,
     "metadata": {},
     "output_type": "execute_result"
    }
   ],
   "source": [
    "world_cup[2:5]"
   ]
  },
  {
   "cell_type": "markdown",
   "metadata": {},
   "source": [
    "### Read data from files and write data to files\n",
    "[[back to top]](#Table-of-Contents)\n",
    "\n",
    "Too often we have the necessity to work with a dataset saved in specific text format file (txt, CSV, JSON etc.) or database (MySQL, particularly). pandas allows us to convert data from any file or database (this point we will consider in the following part of the post series about pandas) to DataFrame. Let’s show how you may read and write a dataset for different types of files:\n",
    "\n",
    "1\\. CSV file(s) (“Comma Separated Values” is text format for presenting tabular data; each line of the file corresponds to one line of the table; the values of a single column are separated by comma separating character, in general):\n",
    "\n",
    "**Reading:**\n",
    "\n",
    "    df = pd.read_csv(\"path\\to\\the\\csv\\file\\for\\reading\")\n",
    "    \n",
    "**Writing:**\n",
    "    \n",
    "    df.to_csv(\"path\\to\\the\\folder\\where\\you\\want\\save\\csv\\file\")\n",
    "    \n",
    "where you should set the absolute path to CSV file like `\"C:/User/csv_file_with_data.csv\"`\n",
    "\n",
    "2\\. Excel file(s) (\\*.xls and \\*.xlsx):  \n",
    "\n",
    "**Reading:**\n",
    "\n",
    "    df = pd.read_excel(\"path\\to\\the\\excel\\file\\for\\reading\", \"sheet_name\")\n",
    "    \n",
    "**Writing:**\n",
    "\n",
    "    df.to_excel(\"path\\to\\the\\folder\\where\\you\\want\\save\\excel\\file\")\n",
    "    \n",
    "where you should set the absolute path to Excel file and the sheet name like “Sheet1”\n",
    "\n",
    "3\\. txt  file(s) (txt file can be read as a CSV file with other separator (delimiter); we suppose below that columns are separated by tabulation):\n",
    "\n",
    "**Reading:**\n",
    "\n",
    "    df = pd.read_csv(\"path\\to\\the\\txt\\file\\for\\reading\", sep='\\t')\n",
    "    \n",
    "**Writing:**\n",
    "\n",
    "    df.to_csv(\"path\\to\\the\\folder\\where\\you\\want\\save\\txt\\file\", sep='\\t')\n",
    "    \n",
    "4\\. JSON files (an open-standard format that uses human-readable text to transmit data objects consisting of attribute–value pairs. It is the most common data format used for asynchronous browser/server communication. By its view it is very similar to Python dictionary)\n",
    "\n",
    "**Reading:**\n",
    "\n",
    "    df = pd.read_json(\"path\\to\\the\\json\\file\\for\\reading\", sep='\\t')\n",
    "    \n",
    "**Writing:**\n",
    "\n",
    "    df.to_json(\"path\\to\\the\\folder\\where\\you\\want\\save\\json\\file\", sep='\\t')\n",
    "\n",
    "Pay attention that compounded paths contain various separators (such \"/\" or such \"\\\") on different operating system (OS). The best practise is usage of `os` Python library. Suppose we want save a DataFrame in the folder `target_folder` with such hierarchy:\n",
    "\n",
    "    main_folder\n",
    "    |----folder1\n",
    "    |----folder2\n",
    "         |----sub_folder1\n",
    "         |----target_folder\n",
    "         |----sub_folder3\n",
    "    |----folder2\n",
    "         |----sub_folder1\n",
    "         \n",
    "and call it as `\"my_file.csv\"`. The code for saving using `os` library is the following:\n",
    "\n",
    "    import os\n",
    "    df.to_csv(os.path.join(\"main_folder\", \"folder2\", \"target_folder\", \"my_file.csv\")\n",
    "    \n",
    "thus, `os.path.join` concatenated all directories into one path independently on the OS.\n",
    "\n",
    "Let's save the `world_cup` DataFrame as CSV and JSON files:"
   ]
  },
  {
   "cell_type": "code",
   "execution_count": 24,
   "metadata": {},
   "outputs": [
    {
     "name": "stdout",
     "output_type": "stream",
     "text": [
      "DataFrame was written\n",
      "True\n",
      ",year,winner,runner-up,final score\n",
      "0,1990,Germany,Argentina,1-0\n",
      "1,1994,Brazil,Italy,0-0 (pen)\n",
      "2,1998,France,Brazil,3-0\n",
      "3,2002,Brazil,Germany,2-0\n",
      "4,2006,Italy,France,1-1 (pen)\n",
      "5,2010,Spain,Netherlands,1-0\n",
      "6,2014,Germany,Argentina,1-0\n",
      "\n"
     ]
    }
   ],
   "source": [
    "world_cup.to_csv(\"world_cup.csv\") #, index=False, header=False)\n",
    "print(\"DataFrame was written\")\n",
    "\n",
    "# Check whether the \"world_cup.csv\" exists\n",
    "import os\n",
    "print(os.path.exists(\"world_cup.csv\"))\n",
    "\n",
    "# Read the file \n",
    "print\n",
    "with open(\"world_cup.csv\") as f:\n",
    "    print(f.read())"
   ]
  },
  {
   "cell_type": "markdown",
   "metadata": {},
   "source": [
    "To save CSV file without index use `index=False` attribute."
   ]
  },
  {
   "cell_type": "code",
   "execution_count": 25,
   "metadata": {},
   "outputs": [
    {
     "name": "stdout",
     "output_type": "stream",
     "text": [
      "DataFrame was written\n",
      "True\n",
      "{\"year\":{\"0\":1990,\"1\":1994,\"2\":1998,\"3\":2002,\"4\":2006,\"5\":2010,\"6\":2014},\"winner\":{\"0\":\"Germany\",\"1\":\"Brazil\",\"2\":\"France\",\"3\":\"Brazil\",\"4\":\"Italy\",\"5\":\"Spain\",\"6\":\"Germany\"},\"runner-up\":{\"0\":\"Argentina\",\"1\":\"Italy\",\"2\":\"Brazil\",\"3\":\"Germany\",\"4\":\"France\",\"5\":\"Netherlands\",\"6\":\"Argentina\"},\"final score\":{\"0\":\"1-0\",\"1\":\"0-0 (pen)\",\"2\":\"3-0\",\"3\":\"2-0\",\"4\":\"1-1 (pen)\",\"5\":\"1-0\",\"6\":\"1-0\"}}\n"
     ]
    },
    {
     "data": {
      "text/plain": [
       "{'year': {'0': 1990, '1': 1994, '2': 1998, '3': 2002, '4': 2006, '5': 2010, '6': 2014}, 'winner': {'0': 'Germany', '1': 'Brazil', '2': 'France', '3': 'Brazil', '4': 'Italy', '5': 'Spain', '6': 'Germany'}, 'runner-up': {'0': 'Argentina', '1': 'Italy', '2': 'Brazil', '3': 'Germany', '4': 'France', '5': 'Netherlands', '6': 'Argentina'}, 'final score': {'0': '1-0', '1': '0-0 (pen)', '2': '3-0', '3': '2-0', '4': '1-1 (pen)', '5': '1-0', '6': '1-0'}}"
      ]
     },
     "execution_count": 25,
     "metadata": {},
     "output_type": "execute_result"
    }
   ],
   "source": [
    "world_cup.to_json(\"world_cup.json\")\n",
    "print(\"DataFrame was written\")\n",
    "\n",
    "# Check whether the \"world_cup.json\" exists\n",
    "import os\n",
    "print(os.path.exists(\"world_cup.json\"))\n",
    "\n",
    "# Read the file \n",
    "print\n",
    "with open(\"world_cup.json\") as f:\n",
    "    print(f.read())\n",
    "\n",
    "# Let's prettify print\n",
    "import json\n",
    "with open(\"world_cup.json\") as f:\n",
    "    content = json.load(f)\n",
    "content"
   ]
  },
  {
   "cell_type": "markdown",
   "metadata": {},
   "source": [
    "And read the just saved CSV and JSON files to new DataFrames:"
   ]
  },
  {
   "cell_type": "code",
   "execution_count": 26,
   "metadata": {},
   "outputs": [
    {
     "data": {
      "text/html": [
       "<div>\n",
       "<style scoped>\n",
       "    .dataframe tbody tr th:only-of-type {\n",
       "        vertical-align: middle;\n",
       "    }\n",
       "\n",
       "    .dataframe tbody tr th {\n",
       "        vertical-align: top;\n",
       "    }\n",
       "\n",
       "    .dataframe thead th {\n",
       "        text-align: right;\n",
       "    }\n",
       "</style>\n",
       "<table border=\"1\" class=\"dataframe\">\n",
       "  <thead>\n",
       "    <tr style=\"text-align: right;\">\n",
       "      <th></th>\n",
       "      <th>Unnamed: 0</th>\n",
       "      <th>year</th>\n",
       "      <th>winner</th>\n",
       "      <th>runner-up</th>\n",
       "      <th>final score</th>\n",
       "    </tr>\n",
       "  </thead>\n",
       "  <tbody>\n",
       "    <tr>\n",
       "      <th>0</th>\n",
       "      <td>0</td>\n",
       "      <td>1990</td>\n",
       "      <td>Germany</td>\n",
       "      <td>Argentina</td>\n",
       "      <td>1-0</td>\n",
       "    </tr>\n",
       "    <tr>\n",
       "      <th>1</th>\n",
       "      <td>1</td>\n",
       "      <td>1994</td>\n",
       "      <td>Brazil</td>\n",
       "      <td>Italy</td>\n",
       "      <td>0-0 (pen)</td>\n",
       "    </tr>\n",
       "    <tr>\n",
       "      <th>2</th>\n",
       "      <td>2</td>\n",
       "      <td>1998</td>\n",
       "      <td>France</td>\n",
       "      <td>Brazil</td>\n",
       "      <td>3-0</td>\n",
       "    </tr>\n",
       "    <tr>\n",
       "      <th>3</th>\n",
       "      <td>3</td>\n",
       "      <td>2002</td>\n",
       "      <td>Brazil</td>\n",
       "      <td>Germany</td>\n",
       "      <td>2-0</td>\n",
       "    </tr>\n",
       "    <tr>\n",
       "      <th>4</th>\n",
       "      <td>4</td>\n",
       "      <td>2006</td>\n",
       "      <td>Italy</td>\n",
       "      <td>France</td>\n",
       "      <td>1-1 (pen)</td>\n",
       "    </tr>\n",
       "    <tr>\n",
       "      <th>5</th>\n",
       "      <td>5</td>\n",
       "      <td>2010</td>\n",
       "      <td>Spain</td>\n",
       "      <td>Netherlands</td>\n",
       "      <td>1-0</td>\n",
       "    </tr>\n",
       "    <tr>\n",
       "      <th>6</th>\n",
       "      <td>6</td>\n",
       "      <td>2014</td>\n",
       "      <td>Germany</td>\n",
       "      <td>Argentina</td>\n",
       "      <td>1-0</td>\n",
       "    </tr>\n",
       "  </tbody>\n",
       "</table>\n",
       "</div>"
      ],
      "text/plain": [
       "   Unnamed: 0  year   winner    runner-up final score\n",
       "0           0  1990  Germany    Argentina         1-0\n",
       "1           1  1994   Brazil        Italy   0-0 (pen)\n",
       "2           2  1998   France       Brazil         3-0\n",
       "3           3  2002   Brazil      Germany         2-0\n",
       "4           4  2006    Italy       France   1-1 (pen)\n",
       "5           5  2010    Spain  Netherlands         1-0\n",
       "6           6  2014  Germany    Argentina         1-0"
      ]
     },
     "execution_count": 26,
     "metadata": {},
     "output_type": "execute_result"
    }
   ],
   "source": [
    "df_csv = pd.read_csv(\"world_cup.csv\")\n",
    "df_csv"
   ]
  },
  {
   "cell_type": "code",
   "execution_count": 27,
   "metadata": {},
   "outputs": [
    {
     "data": {
      "text/html": [
       "<div>\n",
       "<style scoped>\n",
       "    .dataframe tbody tr th:only-of-type {\n",
       "        vertical-align: middle;\n",
       "    }\n",
       "\n",
       "    .dataframe tbody tr th {\n",
       "        vertical-align: top;\n",
       "    }\n",
       "\n",
       "    .dataframe thead th {\n",
       "        text-align: right;\n",
       "    }\n",
       "</style>\n",
       "<table border=\"1\" class=\"dataframe\">\n",
       "  <thead>\n",
       "    <tr style=\"text-align: right;\">\n",
       "      <th></th>\n",
       "      <th>Unnamed: 0</th>\n",
       "      <th>winner</th>\n",
       "      <th>runner-up</th>\n",
       "      <th>final score</th>\n",
       "    </tr>\n",
       "    <tr>\n",
       "      <th>year</th>\n",
       "      <th></th>\n",
       "      <th></th>\n",
       "      <th></th>\n",
       "      <th></th>\n",
       "    </tr>\n",
       "  </thead>\n",
       "  <tbody>\n",
       "    <tr>\n",
       "      <th>1990</th>\n",
       "      <td>0</td>\n",
       "      <td>Germany</td>\n",
       "      <td>Argentina</td>\n",
       "      <td>1-0</td>\n",
       "    </tr>\n",
       "    <tr>\n",
       "      <th>1994</th>\n",
       "      <td>1</td>\n",
       "      <td>Brazil</td>\n",
       "      <td>Italy</td>\n",
       "      <td>0-0 (pen)</td>\n",
       "    </tr>\n",
       "    <tr>\n",
       "      <th>1998</th>\n",
       "      <td>2</td>\n",
       "      <td>France</td>\n",
       "      <td>Brazil</td>\n",
       "      <td>3-0</td>\n",
       "    </tr>\n",
       "    <tr>\n",
       "      <th>2002</th>\n",
       "      <td>3</td>\n",
       "      <td>Brazil</td>\n",
       "      <td>Germany</td>\n",
       "      <td>2-0</td>\n",
       "    </tr>\n",
       "    <tr>\n",
       "      <th>2006</th>\n",
       "      <td>4</td>\n",
       "      <td>Italy</td>\n",
       "      <td>France</td>\n",
       "      <td>1-1 (pen)</td>\n",
       "    </tr>\n",
       "    <tr>\n",
       "      <th>2010</th>\n",
       "      <td>5</td>\n",
       "      <td>Spain</td>\n",
       "      <td>Netherlands</td>\n",
       "      <td>1-0</td>\n",
       "    </tr>\n",
       "    <tr>\n",
       "      <th>2014</th>\n",
       "      <td>6</td>\n",
       "      <td>Germany</td>\n",
       "      <td>Argentina</td>\n",
       "      <td>1-0</td>\n",
       "    </tr>\n",
       "  </tbody>\n",
       "</table>\n",
       "</div>"
      ],
      "text/plain": [
       "      Unnamed: 0   winner    runner-up final score\n",
       "year                                              \n",
       "1990           0  Germany    Argentina         1-0\n",
       "1994           1   Brazil        Italy   0-0 (pen)\n",
       "1998           2   France       Brazil         3-0\n",
       "2002           3   Brazil      Germany         2-0\n",
       "2006           4    Italy       France   1-1 (pen)\n",
       "2010           5    Spain  Netherlands         1-0\n",
       "2014           6  Germany    Argentina         1-0"
      ]
     },
     "execution_count": 27,
     "metadata": {},
     "output_type": "execute_result"
    }
   ],
   "source": [
    "df_csv.set_index(\"year\")"
   ]
  },
  {
   "cell_type": "markdown",
   "metadata": {},
   "source": [
    "As you can see, the `df_csv` contains an additional index column `Unnamed: 0`. You can miss it using `index_col=0` attribute."
   ]
  },
  {
   "cell_type": "code",
   "execution_count": 28,
   "metadata": {},
   "outputs": [
    {
     "data": {
      "text/html": [
       "<div>\n",
       "<style scoped>\n",
       "    .dataframe tbody tr th:only-of-type {\n",
       "        vertical-align: middle;\n",
       "    }\n",
       "\n",
       "    .dataframe tbody tr th {\n",
       "        vertical-align: top;\n",
       "    }\n",
       "\n",
       "    .dataframe thead th {\n",
       "        text-align: right;\n",
       "    }\n",
       "</style>\n",
       "<table border=\"1\" class=\"dataframe\">\n",
       "  <thead>\n",
       "    <tr style=\"text-align: right;\">\n",
       "      <th></th>\n",
       "      <th>year</th>\n",
       "      <th>winner</th>\n",
       "      <th>runner-up</th>\n",
       "      <th>final score</th>\n",
       "    </tr>\n",
       "  </thead>\n",
       "  <tbody>\n",
       "    <tr>\n",
       "      <th>0</th>\n",
       "      <td>1990</td>\n",
       "      <td>Germany</td>\n",
       "      <td>Argentina</td>\n",
       "      <td>1-0</td>\n",
       "    </tr>\n",
       "    <tr>\n",
       "      <th>1</th>\n",
       "      <td>1994</td>\n",
       "      <td>Brazil</td>\n",
       "      <td>Italy</td>\n",
       "      <td>0-0 (pen)</td>\n",
       "    </tr>\n",
       "    <tr>\n",
       "      <th>2</th>\n",
       "      <td>1998</td>\n",
       "      <td>France</td>\n",
       "      <td>Brazil</td>\n",
       "      <td>3-0</td>\n",
       "    </tr>\n",
       "    <tr>\n",
       "      <th>3</th>\n",
       "      <td>2002</td>\n",
       "      <td>Brazil</td>\n",
       "      <td>Germany</td>\n",
       "      <td>2-0</td>\n",
       "    </tr>\n",
       "    <tr>\n",
       "      <th>4</th>\n",
       "      <td>2006</td>\n",
       "      <td>Italy</td>\n",
       "      <td>France</td>\n",
       "      <td>1-1 (pen)</td>\n",
       "    </tr>\n",
       "    <tr>\n",
       "      <th>5</th>\n",
       "      <td>2010</td>\n",
       "      <td>Spain</td>\n",
       "      <td>Netherlands</td>\n",
       "      <td>1-0</td>\n",
       "    </tr>\n",
       "    <tr>\n",
       "      <th>6</th>\n",
       "      <td>2014</td>\n",
       "      <td>Germany</td>\n",
       "      <td>Argentina</td>\n",
       "      <td>1-0</td>\n",
       "    </tr>\n",
       "  </tbody>\n",
       "</table>\n",
       "</div>"
      ],
      "text/plain": [
       "   year   winner    runner-up final score\n",
       "0  1990  Germany    Argentina         1-0\n",
       "1  1994   Brazil        Italy   0-0 (pen)\n",
       "2  1998   France       Brazil         3-0\n",
       "3  2002   Brazil      Germany         2-0\n",
       "4  2006    Italy       France   1-1 (pen)\n",
       "5  2010    Spain  Netherlands         1-0\n",
       "6  2014  Germany    Argentina         1-0"
      ]
     },
     "execution_count": 28,
     "metadata": {},
     "output_type": "execute_result"
    }
   ],
   "source": [
    "df_csv = pd.read_csv(\"world_cup.csv\", index_col=0)\n",
    "df_csv"
   ]
  },
  {
   "cell_type": "code",
   "execution_count": 29,
   "metadata": {},
   "outputs": [
    {
     "data": {
      "text/html": [
       "<div>\n",
       "<style scoped>\n",
       "    .dataframe tbody tr th:only-of-type {\n",
       "        vertical-align: middle;\n",
       "    }\n",
       "\n",
       "    .dataframe tbody tr th {\n",
       "        vertical-align: top;\n",
       "    }\n",
       "\n",
       "    .dataframe thead th {\n",
       "        text-align: right;\n",
       "    }\n",
       "</style>\n",
       "<table border=\"1\" class=\"dataframe\">\n",
       "  <thead>\n",
       "    <tr style=\"text-align: right;\">\n",
       "      <th></th>\n",
       "      <th>year</th>\n",
       "      <th>winner</th>\n",
       "      <th>runner-up</th>\n",
       "      <th>final score</th>\n",
       "    </tr>\n",
       "  </thead>\n",
       "  <tbody>\n",
       "    <tr>\n",
       "      <th>0</th>\n",
       "      <td>1990</td>\n",
       "      <td>Germany</td>\n",
       "      <td>Argentina</td>\n",
       "      <td>1-0</td>\n",
       "    </tr>\n",
       "    <tr>\n",
       "      <th>1</th>\n",
       "      <td>1994</td>\n",
       "      <td>Brazil</td>\n",
       "      <td>Italy</td>\n",
       "      <td>0-0 (pen)</td>\n",
       "    </tr>\n",
       "    <tr>\n",
       "      <th>2</th>\n",
       "      <td>1998</td>\n",
       "      <td>France</td>\n",
       "      <td>Brazil</td>\n",
       "      <td>3-0</td>\n",
       "    </tr>\n",
       "    <tr>\n",
       "      <th>3</th>\n",
       "      <td>2002</td>\n",
       "      <td>Brazil</td>\n",
       "      <td>Germany</td>\n",
       "      <td>2-0</td>\n",
       "    </tr>\n",
       "    <tr>\n",
       "      <th>4</th>\n",
       "      <td>2006</td>\n",
       "      <td>Italy</td>\n",
       "      <td>France</td>\n",
       "      <td>1-1 (pen)</td>\n",
       "    </tr>\n",
       "    <tr>\n",
       "      <th>5</th>\n",
       "      <td>2010</td>\n",
       "      <td>Spain</td>\n",
       "      <td>Netherlands</td>\n",
       "      <td>1-0</td>\n",
       "    </tr>\n",
       "    <tr>\n",
       "      <th>6</th>\n",
       "      <td>2014</td>\n",
       "      <td>Germany</td>\n",
       "      <td>Argentina</td>\n",
       "      <td>1-0</td>\n",
       "    </tr>\n",
       "  </tbody>\n",
       "</table>\n",
       "</div>"
      ],
      "text/plain": [
       "   year   winner    runner-up final score\n",
       "0  1990  Germany    Argentina         1-0\n",
       "1  1994   Brazil        Italy   0-0 (pen)\n",
       "2  1998   France       Brazil         3-0\n",
       "3  2002   Brazil      Germany         2-0\n",
       "4  2006    Italy       France   1-1 (pen)\n",
       "5  2010    Spain  Netherlands         1-0\n",
       "6  2014  Germany    Argentina         1-0"
      ]
     },
     "execution_count": 29,
     "metadata": {},
     "output_type": "execute_result"
    }
   ],
   "source": [
    "df_json = pd.read_json(\"world_cup.json\")\n",
    "df_json"
   ]
  },
  {
   "cell_type": "markdown",
   "metadata": {},
   "source": [
    "> ### Exercise 1\n",
    "\n",
    "> - Rename `John` to `Barbara` in `my_first_series` and change value of `Jack` from `55` to `-10`."
   ]
  },
  {
   "cell_type": "code",
   "execution_count": 30,
   "metadata": {},
   "outputs": [
    {
     "data": {
      "text/plain": [
       "John      10\n",
       "Annet     12\n",
       "Robert    15\n",
       "Jack      55\n",
       "dtype: int64"
      ]
     },
     "execution_count": 30,
     "metadata": {},
     "output_type": "execute_result"
    }
   ],
   "source": [
    "# type your code here\n",
    "my_first_series"
   ]
  },
  {
   "cell_type": "markdown",
   "metadata": {},
   "source": [
    "> ### Exercise 2\n",
    "\n",
    "> - Find all positive values in `my_first_series` using filter options and write resulting Series to `positive` variable.\n",
    "\n",
    "> - Create the new Series `new_series`, which contains all items from `my_first_series` and two new items `(Ashly, NaN)` and `(Lukas, -5)`. \n",
    "\n",
    "> - At first, add Series `new_series` and `my_first_series` and then multiply them. Try explaining why you have such results.\n",
    "\n",
    "> - Save `new_series` as CSV file to the folder, where the current IPython notebook exists. Call this file as `\"new_series.csv\"`. "
   ]
  },
  {
   "cell_type": "code",
   "execution_count": 31,
   "metadata": {
    "scrolled": false
   },
   "outputs": [
    {
     "data": {
      "text/plain": [
       "John      10\n",
       "Annet     12\n",
       "Robert    15\n",
       "Jack      55\n",
       "dtype: int64"
      ]
     },
     "execution_count": 31,
     "metadata": {},
     "output_type": "execute_result"
    }
   ],
   "source": [
    "# type your code here\n",
    "positive = my_first_series[my_first_series > 0]\n",
    "positive"
   ]
  },
  {
   "cell_type": "code",
   "execution_count": null,
   "metadata": {},
   "outputs": [],
   "source": []
  },
  {
   "cell_type": "code",
   "execution_count": null,
   "metadata": {},
   "outputs": [],
   "source": []
  }
 ],
 "metadata": {
  "anaconda-cloud": {},
  "kernelspec": {
   "display_name": "ArcGISPro",
   "language": "Python",
   "name": "python3"
  },
  "language_info": {
   "file_extension": ".py",
   "name": "python",
   "version": "3"
  },
  "widgets": {
   "state": {},
   "version": "1.0.0"
  }
 },
 "nbformat": 4,
 "nbformat_minor": 1
}

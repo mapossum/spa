{
 "cells": [
  {
   "cell_type": "code",
   "execution_count": 56,
   "metadata": {},
   "outputs": [
    {
     "name": "stdout",
     "output_type": "stream",
     "text": [
      "('C:\\\\courses\\\\spa\\\\Week7\\\\L7Project\\\\L7Project.gdb', 'Cityi10_MBG_rDifference')\n",
      "298 298\n"
     ]
    }
   ],
   "source": [
    "import arcpy\n",
    "\n",
    "orgfc = r\"C:\\courses\\spa\\Week7\\L7Project\\Cityi10\\cityi10.shp\"\n",
    "mbgfc = r\"C:\\courses\\spa\\Week7\\L7Project\\L7Project.gdb\\Cityi10_MBG_Rect\"\n",
    "ffc = r\"C:\\courses\\spa\\Week7\\L7Project\\L7Project.gdb\\Cityi10_MBG_rDifference\"\n",
    "\n",
    "outputpathinfo = os.path.split(ffc)\n",
    "print(outputpathinfo)\n",
    "arcpy.env.overwriteOutput = True\n",
    "\n",
    "arcpy.CreateFeatureclass_management(outputpathinfo[0], outputpathinfo[1], \"POLYGON\", mbgfc, \"#\", \"#\", mbgfc)\n",
    "\n",
    "#read (open a search cursor) for the input points and loop through each point\n",
    "cursor = arcpy.da.InsertCursor(ffc, ['SHAPE@', \"NAME10\", \"Fish\"])\n",
    "\n",
    "ocursor = arcpy.da.SearchCursor(orgfc, [\"SHAPE@\", \"NAME10\"])\n",
    "mcursor = arcpy.da.SearchCursor(mbgfc, [\"SHAPE@\"])\n",
    "\n",
    "ogeoms = []\n",
    "mgeoms = []\n",
    "names = []\n",
    "\n",
    "for orow in ocursor:\n",
    "    ogeoms.append(orow[0])\n",
    "    names.append(orow[1])\n",
    "\n",
    "for mrow in mcursor:\n",
    "    mgeoms.append(mrow[0])\n",
    "\n",
    "print(len(ogeoms), len(mgeoms))\n",
    "\n",
    "citylist = zipped_list = zip(ogeoms, mgeoms, names)\n",
    "\n",
    "for city in list(citylist):\n",
    "    outputGeom = city[1].difference(city[0])\n",
    "    percentdiff = city[0].getArea() / city[1].getArea() * 100\n",
    "    cursor.insertRow((outputGeom, city[2], percentdiff))\n",
    "\n",
    "del cursor\n",
    "    "
   ]
  },
  {
   "cell_type": "code",
   "execution_count": 57,
   "metadata": {},
   "outputs": [
    {
     "name": "stdout",
     "output_type": "stream",
     "text": [
      "('C:\\\\courses\\\\spa\\\\Week7\\\\L7Project\\\\L7Project.gdb', 'Counties_Difference')\n",
      "3069 3069\n"
     ]
    }
   ],
   "source": [
    "import arcpy\n",
    "\n",
    "orgfc = r\"C:\\courses\\spa\\Week7\\L7Project\\USCounties.shp\"\n",
    "mbgfc = r\"C:\\courses\\spa\\Week7\\L7Project\\L7Project.gdb\\Counties_Circle\"\n",
    "ffc = r\"C:\\courses\\spa\\Week7\\L7Project\\L7Project.gdb\\Counties_Difference\"\n",
    "\n",
    "outputpathinfo = os.path.split(ffc)\n",
    "print(outputpathinfo)\n",
    "arcpy.env.overwriteOutput = True\n",
    "\n",
    "arcpy.CreateFeatureclass_management(outputpathinfo[0], outputpathinfo[1], \"POLYGON\", mbgfc, \"#\", \"#\", mbgfc)\n",
    "\n",
    "#read (open a search cursor) for the input points and loop through each point\n",
    "cursor = arcpy.da.InsertCursor(ffc, ['SHAPE@', \"NAME\", \"Cows\"])\n",
    "\n",
    "ocursor = arcpy.da.SearchCursor(orgfc, [\"SHAPE@\", \"NAME\"])\n",
    "mcursor = arcpy.da.SearchCursor(mbgfc, [\"SHAPE@\"])\n",
    "\n",
    "ogeoms = []\n",
    "mgeoms = []\n",
    "names = []\n",
    "\n",
    "for orow in ocursor:\n",
    "    ogeoms.append(orow[0])\n",
    "    names.append(orow[1])\n",
    "\n",
    "for mrow in mcursor:\n",
    "    mgeoms.append(mrow[0])\n",
    "\n",
    "print(len(ogeoms), len(mgeoms))\n",
    "\n",
    "citylist = zipped_list = zip(ogeoms, mgeoms, names)\n",
    "\n",
    "for city in list(citylist):\n",
    "    outputGeom = city[1].difference(city[0])\n",
    "    percentdiff = city[0].getArea() / city[1].getArea() * 100\n",
    "    cursor.insertRow((outputGeom, city[2], percentdiff))\n",
    "\n",
    "del cursor\n",
    "    "
   ]
  },
  {
   "cell_type": "code",
   "execution_count": 61,
   "metadata": {},
   "outputs": [
    {
     "name": "stdout",
     "output_type": "stream",
     "text": [
      "('C:\\\\courses\\\\spa\\\\Week7\\\\L7Project\\\\L7Project.gdb', 'CD_Diff')\n",
      "444 444\n"
     ]
    }
   ],
   "source": [
    "import arcpy\n",
    "\n",
    "orgfc = r\"C:\\courses\\spa\\Week7\\L7Project\\L7Project.gdb\\CD\"\n",
    "mbgfc = r\"C:\\courses\\spa\\Week7\\L7Project\\L7Project.gdb\\CD_Circle\"\n",
    "ffc = r\"C:\\courses\\spa\\Week7\\L7Project\\L7Project.gdb\\CD_Diff\"\n",
    "\n",
    "outputpathinfo = os.path.split(ffc)\n",
    "print(outputpathinfo)\n",
    "arcpy.env.overwriteOutput = True\n",
    "\n",
    "arcpy.CreateFeatureclass_management(outputpathinfo[0], outputpathinfo[1], \"POLYGON\", mbgfc, \"#\", \"#\", mbgfc)\n",
    "\n",
    "#read (open a search cursor) for the input points and loop through each point\n",
    "cursor = arcpy.da.InsertCursor(ffc, ['SHAPE@', \"NAME\", \"PERC\"])\n",
    "\n",
    "ocursor = arcpy.da.SearchCursor(orgfc, [\"SHAPE@\", \"NAME\"])\n",
    "mcursor = arcpy.da.SearchCursor(mbgfc, [\"SHAPE@\"])\n",
    "\n",
    "ogeoms = []\n",
    "mgeoms = []\n",
    "names = []\n",
    "\n",
    "for orow in ocursor:\n",
    "    ogeoms.append(orow[0])\n",
    "    names.append(orow[1])\n",
    "\n",
    "for mrow in mcursor:\n",
    "    mgeoms.append(mrow[0])\n",
    "\n",
    "print(len(ogeoms), len(mgeoms))\n",
    "\n",
    "citylist = zipped_list = zip(ogeoms, mgeoms, names)\n",
    "\n",
    "for city in list(citylist):\n",
    "    outputGeom = city[1].difference(city[0])\n",
    "    percentdiff = city[0].getArea() / city[1].getArea() * 100\n",
    "    cursor.insertRow((outputGeom, city[2], percentdiff))\n",
    "\n",
    "del cursor\n",
    "    "
   ]
  },
  {
   "cell_type": "code",
   "execution_count": null,
   "metadata": {},
   "outputs": [],
   "source": []
  }
 ],
 "metadata": {
  "kernelspec": {
   "display_name": "ArcGISPro",
   "language": "python",
   "name": "python3"
  },
  "language_info": {
   "file_extension": ".py",
   "mimetype": "text/x-python",
   "name": "python",
   "version": "3.11.10"
  }
 },
 "nbformat": 4,
 "nbformat_minor": 4
}

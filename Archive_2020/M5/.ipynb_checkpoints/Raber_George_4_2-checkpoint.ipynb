{
 "cells": [
  {
   "cell_type": "code",
   "execution_count": 5,
   "metadata": {},
   "outputs": [
    {
     "data": {
      "text/plain": [
       "<Result 'C:\\\\temp\\\\LabData.gdb\\\\watersheds_w_pops'>"
      ]
     },
     "execution_count": 5,
     "metadata": {},
     "output_type": "execute_result"
    }
   ],
   "source": [
    "import arcpy\n",
    "\n",
    "#What inputs are we going to allow the user to specify\n",
    "watersheds = r\"C:\\temp\\LabData.gdb\\watersheds\"\n",
    "census = r\"C:\\temp\\LabData.gdb\\ctracts\"\n",
    "int1 = r\"in_memory\\int2\"\n",
    "output = r\"C:\\temp\\LabData.gdb\\watersheds_w_pops\"\n",
    "\n",
    "#Write Code Logic\n",
    "\n",
    "#overlay watersheds and census data\n",
    "arcpy.Identity_analysis(watersheds, census, int1)\n",
    "\n",
    "#dissolve output data into new data using watershed field\n",
    "arcpy.Dissolve_management(int1, output, [\"HUC_8\"], [[\"P0010001\", \"SUM\"]])\n",
    "\n",
    "#Results!"
   ]
  },
  {
   "cell_type": "code",
   "execution_count": null,
   "metadata": {},
   "outputs": [],
   "source": []
  }
 ],
 "metadata": {
  "kernelspec": {
   "display_name": "Python 3",
   "language": "python",
   "name": "python3"
  },
  "language_info": {
   "codemirror_mode": {
    "name": "ipython",
    "version": 3
   },
   "file_extension": ".py",
   "mimetype": "text/x-python",
   "name": "python",
   "nbconvert_exporter": "python",
   "pygments_lexer": "ipython3",
   "version": "3.6.8"
  }
 },
 "nbformat": 4,
 "nbformat_minor": 2
}

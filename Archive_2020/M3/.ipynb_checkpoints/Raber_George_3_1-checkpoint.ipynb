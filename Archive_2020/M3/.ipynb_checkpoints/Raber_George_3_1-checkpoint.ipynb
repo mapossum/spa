{
 "cells": [
  {
   "cell_type": "code",
   "execution_count": 28,
   "metadata": {},
   "outputs": [
    {
     "name": "stdout",
     "output_type": "stream",
     "text": [
      "15\n"
     ]
    }
   ],
   "source": [
    "#Take a list of numbers and return sum, mean and stdev\n",
    "def calcStats(nums):\n",
    "    #Cacluate the sum\n",
    "    sum = 0\n",
    "    # for each element that I will call x in the sequenece called nums do what I will put in the indented area\n",
    "    for x in nums:\n",
    "        sum = sum + x\n",
    "    mean = #Put some code here to represent the sum / count\n",
    "    \n",
    "    #to calculate the stdev you will need to write another loop that loops through the same numbers\n",
    "    #The stdev = the total of all the squared differences between each value and the mean, then take the sq root\n",
    "    return sum, mean, stdev\n",
    "            \n",
    "\n",
    "Test1 = [3,4,2,5,1]\n",
    "print(calcStats(Test1))\n",
    "\n",
    "\n",
    "#Test2 = [2,\"pizza\",6,7,8]\n",
    "#print(calcStats(Test2))"
   ]
  },
  {
   "cell_type": "code",
   "execution_count": null,
   "metadata": {},
   "outputs": [],
   "source": []
  }
 ],
 "metadata": {
  "kernelspec": {
   "display_name": "Python 3",
   "language": "python",
   "name": "python3"
  },
  "language_info": {
   "codemirror_mode": {
    "name": "ipython",
    "version": 3
   },
   "file_extension": ".py",
   "mimetype": "text/x-python",
   "name": "python",
   "nbconvert_exporter": "python",
   "pygments_lexer": "ipython3",
   "version": "3.6.8"
  }
 },
 "nbformat": 4,
 "nbformat_minor": 2
}

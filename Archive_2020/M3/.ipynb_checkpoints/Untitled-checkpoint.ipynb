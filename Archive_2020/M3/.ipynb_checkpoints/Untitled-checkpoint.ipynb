{
 "cells": [
  {
   "cell_type": "code",
   "execution_count": 5,
   "metadata": {},
   "outputs": [
    {
     "name": "stdout",
     "output_type": "stream",
     "text": [
      "None\n"
     ]
    }
   ],
   "source": [
    "def calStats(nums):\n",
    "\n",
    "    try:\n",
    "        #Cacluate the sum\n",
    "\n",
    "        sum = 0\n",
    "\n",
    "        for x in nums:\n",
    "\n",
    "            sum = sum + x\n",
    "\n",
    "        mean = float(sum/len(nums))\n",
    "\n",
    "  \n",
    "\n",
    "        sumofsq = 0\n",
    "\n",
    "        for x in nums:\n",
    "\n",
    "           sumofsq = (sumofsq +((x-mean)**2))\n",
    "\n",
    "        stdev = (sumofsq / (len(nums)-1))**0.5\n",
    "\n",
    "        #to calculate the sddev you will need to write another loop that loops through the same numbers\n",
    "\n",
    "        #The stdev = the total of all the squared differences between each value and the mean, then take the sq root\n",
    "\n",
    "        return sum, mean, stdev\n",
    "    \n",
    "    except:\n",
    "        \n",
    "        return None\n",
    "\n",
    "     \n",
    "\n",
    " \n",
    "\n",
    "Test1 = [3,4,\"Thing\",3,5,1]\n",
    "\n",
    " \n",
    "\n",
    "print(calStats(Test1))"
   ]
  },
  {
   "cell_type": "code",
   "execution_count": null,
   "metadata": {},
   "outputs": [],
   "source": []
  }
 ],
 "metadata": {
  "kernelspec": {
   "display_name": "Python 3",
   "language": "python",
   "name": "python3"
  },
  "language_info": {
   "codemirror_mode": {
    "name": "ipython",
    "version": 3
   },
   "file_extension": ".py",
   "mimetype": "text/x-python",
   "name": "python",
   "nbconvert_exporter": "python",
   "pygments_lexer": "ipython3",
   "version": "3.6.8"
  }
 },
 "nbformat": 4,
 "nbformat_minor": 2
}

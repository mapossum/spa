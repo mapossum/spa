{
 "cells": [
  {
   "cell_type": "code",
   "execution_count": 33,
   "metadata": {},
   "outputs": [
    {
     "name": "stdout",
     "output_type": "stream",
     "text": [
      "The current total is 4 , Wheras the current value to add is 4\n",
      "The current total is 7 , Wheras the current value to add is 3\n",
      "The current total is 9 , Wheras the current value to add is 2\n",
      "The current total is 10 , Wheras the current value to add is 1\n",
      "10\n",
      "The current total is 5 , Wheras the current value to add is 5\n",
      "The current total is 8 , Wheras the current value to add is 3\n",
      "The current total is 16 , Wheras the current value to add is 8\n",
      "The current total is 25 , Wheras the current value to add is 9\n",
      "The current total is 35 , Wheras the current value to add is 10\n",
      "The current total is 38 , Wheras the current value to add is 3\n",
      "The current total is 40 , Wheras the current value to add is 2\n",
      "The current total is 41 , Wheras the current value to add is 1\n",
      "41\n"
     ]
    }
   ],
   "source": [
    "def addnumbers(x,y):\n",
    "    return x + y\n",
    "\n",
    "#This function should return the sum, difference, product and quotient\n",
    "def operations(x,y):\n",
    "    return (x+y, x-y, x*y, x/y)\n",
    "\n",
    "#This function should return the sum, difference, product and quotient\n",
    "def operationslong(x,y):\n",
    "    sum = x+y\n",
    "    diff = x-y\n",
    "    product = x*y\n",
    "    quotient = x/y\n",
    "    return (sum, diff, product, quotient)\n",
    "\n",
    "#This is an example of a reduce function\n",
    "def addthemall(nums):\n",
    "    total = 0\n",
    "    # for each element that I will call x in the sequenece called nums do what I will put in the indented area\n",
    "    for x in nums:\n",
    "        total = total + x\n",
    "        print(\"The current total is \" + str(total), \", Wheras the current value to add is \" + str(x))\n",
    "    return total\n",
    "\n",
    "\n",
    "\n",
    "#a = operations(4,6)\n",
    "#print(a[1])\n",
    "\n",
    "print(addthemall((4,3,2,1)))\n",
    "print(addthemall([5,3,8,9,10,3,2,1]))\n"
   ]
  },
  {
   "cell_type": "code",
   "execution_count": 52,
   "metadata": {},
   "outputs": [
    {
     "name": "stdout",
     "output_type": "stream",
     "text": [
      "[6, 7, 8, 9, 10]\n",
      "[12, 14, 13, 12]\n"
     ]
    }
   ],
   "source": [
    "#This is an example of a filter function\n",
    "def largeNumbers(nums, cutoff=0):\n",
    "    outputlist = []\n",
    "    for x in nums:\n",
    "        if x >= cutoff:\n",
    "            outputlist.append(x)\n",
    "            #print(outputlist)\n",
    "    return outputlist\n",
    "    \n",
    "mylist = [1,2,3,4,5,6,7,8,9,10]\n",
    "anotherlist = [2,3,5,6,12,14,-20,6,7,-2,1,4,13,-50,8,12,6,0]\n",
    "\n",
    "print(largeNumbers(mylist,6))\n",
    "print(largeNumbers(anotherlist,12))\n",
    "\n"
   ]
  },
  {
   "cell_type": "code",
   "execution_count": 56,
   "metadata": {},
   "outputs": [
    {
     "name": "stdout",
     "output_type": "stream",
     "text": [
      "[10, 13, 9, 15, 16, 8, 9]\n",
      "[15, 18, 14, 20, 21, 13, 14]\n",
      "[4, 7, 3, 9, 10, 2, 3]\n"
     ]
    }
   ],
   "source": [
    "#This is an example of a map function\n",
    "#A map function takes each value in a list and returns a function of that value\n",
    "\n",
    "def addmore(nums, y):\n",
    "    outputlist = []\n",
    "    for x in nums:\n",
    "        outputlist.append(x + y)\n",
    "    return outputlist\n",
    "\n",
    "mylist = [3,6,2,8,9,1,2]\n",
    "print(addmore(mylist, 7))\n",
    "print(addmore(mylist, 12))\n",
    "print(addmore(mylist, 1))\n"
   ]
  },
  {
   "cell_type": "code",
   "execution_count": 59,
   "metadata": {},
   "outputs": [
    {
     "name": "stdout",
     "output_type": "stream",
     "text": [
      "[10, 13, 9, 15, 16, 8, 9]\n",
      "[15, 18, 14, 20, 21, 13, 14]\n",
      "[4, 7, 3, 9, 10, 2, 3]\n"
     ]
    }
   ],
   "source": [
    "#repeating vs function\n",
    "mylist = [3,6,2,8,9,1,2]\n",
    "y = 7\n",
    "outputlist = []\n",
    "for x in mylist:\n",
    "    outputlist.append(x + y)\n",
    "print(outputlist)\n",
    "\n",
    "mylist = [3,6,2,8,9,1,2]\n",
    "y = 12\n",
    "outputlist = []\n",
    "for x in mylist:\n",
    "    outputlist.append(x + y)\n",
    "print(outputlist)\n",
    "\n",
    "mylist = [3,6,2,8,9,1,2]\n",
    "y = 1\n",
    "outputlist = []\n",
    "for x in mylist:\n",
    "    outputlist.append(x + y)\n",
    "print(outputlist)"
   ]
  },
  {
   "cell_type": "code",
   "execution_count": null,
   "metadata": {},
   "outputs": [],
   "source": []
  }
 ],
 "metadata": {
  "kernelspec": {
   "display_name": "Python 3",
   "language": "python",
   "name": "python3"
  },
  "language_info": {
   "codemirror_mode": {
    "name": "ipython",
    "version": 3
   },
   "file_extension": ".py",
   "mimetype": "text/x-python",
   "name": "python",
   "nbconvert_exporter": "python",
   "pygments_lexer": "ipython3",
   "version": "3.6.8"
  }
 },
 "nbformat": 4,
 "nbformat_minor": 2
}

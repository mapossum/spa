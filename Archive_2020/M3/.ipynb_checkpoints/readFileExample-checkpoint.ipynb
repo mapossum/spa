{
 "cells": [
  {
   "cell_type": "markdown",
   "metadata": {},
   "source": [
    "In this notebook we will read a file line by line and get the coordinates of each line"
   ]
  },
  {
   "cell_type": "code",
   "execution_count": 44,
   "metadata": {},
   "outputs": [
    {
     "name": "stdout",
     "output_type": "stream",
     "text": [
      "skipping line \n",
      "4.4 6.7\n",
      "5.3 7.1\n",
      "6.3 10.1\n"
     ]
    }
   ],
   "source": [
    "# opens a file and reads each line and prints that line onto the screen \n",
    "f = open(r'C:\\Users\\George\\courses\\spa\\M3\\points.txt', 'r')\n",
    "for line in f:   ## iterates over the lines of the file\n",
    "    cleanline = line.replace(\"\\n\", \"\")\n",
    "    \n",
    "    splitline = cleanline.split(\",\")\n",
    "    try:    \n",
    "        x, y = float(splitline[0]), float(splitline[1])\n",
    "        #the above is equivalent to this:\n",
    "        #x = float(splitline[0])\n",
    "        #y = float(splitline[1])\n",
    "        print(x, y)\n",
    "    except:\n",
    "        print(\"skipping line\") \n",
    "                  \n",
    "f.close()\n"
   ]
  },
  {
   "cell_type": "code",
   "execution_count": 40,
   "metadata": {},
   "outputs": [
    {
     "name": "stdout",
     "output_type": "stream",
     "text": [
      "Nope\n",
      "5.3  Its in range\n",
      "6.3  Its in range\n"
     ]
    }
   ],
   "source": [
    "# opens a file and reads each line and prints that line onto the screen \n",
    "f = open(r'C:\\Users\\George\\courses\\spa\\M3\\points.txt', 'r')\n",
    "linelist = []\n",
    "for line in f:   ## iterates over the lines of the file\n",
    "    cleanline = line.replace(\"\\n\", \"\")\n",
    "    \n",
    "    splitline = cleanline.split(\",\")\n",
    "    \n",
    "    linelist.append(splitline)\n",
    "\n",
    "linelist = linelist[1:] \n",
    "\n",
    "for row in linelist:\n",
    "    #print(row)\n",
    "    x = float(row[0])\n",
    "    y = float(row[1])\n",
    "    if x > 4.5 and x < 7:\n",
    "        print(x, \" Its in range\")\n",
    "    else:\n",
    "        print(\"Nope\")\n",
    "\n",
    "f.close()\n"
   ]
  },
  {
   "cell_type": "code",
   "execution_count": 37,
   "metadata": {},
   "outputs": [
    {
     "data": {
      "text/plain": [
       "5.3"
      ]
     },
     "execution_count": 37,
     "metadata": {},
     "output_type": "execute_result"
    }
   ],
   "source": [
    "float(linelist[1][0])"
   ]
  },
  {
   "cell_type": "code",
   "execution_count": 45,
   "metadata": {},
   "outputs": [],
   "source": [
    "mylist = [\"George\", \"Jim\", \"Elvis\"] #This is a list of names\n",
    "mytuple = (\"George\", \"Jim\", \"Elvis\") #This is a tuple of names"
   ]
  },
  {
   "cell_type": "code",
   "execution_count": 46,
   "metadata": {},
   "outputs": [
    {
     "name": "stdout",
     "output_type": "stream",
     "text": [
      "['George', 'Jim', 'Elvis']\n",
      "('George', 'Jim', 'Elvis')\n"
     ]
    }
   ],
   "source": [
    "print(mylist)\n",
    "print(mytuple)"
   ]
  },
  {
   "cell_type": "code",
   "execution_count": 50,
   "metadata": {},
   "outputs": [
    {
     "data": {
      "text/plain": [
       "'Jim'"
      ]
     },
     "execution_count": 50,
     "metadata": {},
     "output_type": "execute_result"
    }
   ],
   "source": [
    "mytuple[1]"
   ]
  },
  {
   "cell_type": "markdown",
   "metadata": {},
   "source": [
    "List can be changed, they are mutable <br>\n",
    "Tuples can not be changed, they are immutable"
   ]
  },
  {
   "cell_type": "code",
   "execution_count": 52,
   "metadata": {},
   "outputs": [
    {
     "name": "stdout",
     "output_type": "stream",
     "text": [
      "['George', 'Bob', 'Elvis']\n"
     ]
    }
   ],
   "source": [
    "mylist[1] = \"Bob\"\n",
    "print(mylist)"
   ]
  },
  {
   "cell_type": "code",
   "execution_count": 53,
   "metadata": {},
   "outputs": [
    {
     "ename": "TypeError",
     "evalue": "'tuple' object does not support item assignment",
     "output_type": "error",
     "traceback": [
      "\u001b[1;31m---------------------------------------------------------------------------\u001b[0m",
      "\u001b[1;31mTypeError\u001b[0m                                 Traceback (most recent call last)",
      "\u001b[1;32m<ipython-input-53-b1094198f940>\u001b[0m in \u001b[0;36m<module>\u001b[1;34m\u001b[0m\n\u001b[1;32m----> 1\u001b[1;33m \u001b[0mmytuple\u001b[0m\u001b[1;33m[\u001b[0m\u001b[1;36m1\u001b[0m\u001b[1;33m]\u001b[0m \u001b[1;33m=\u001b[0m \u001b[1;34m\"Bob\"\u001b[0m\u001b[1;33m\u001b[0m\u001b[1;33m\u001b[0m\u001b[0m\n\u001b[0m\u001b[0;32m      2\u001b[0m \u001b[0mprint\u001b[0m\u001b[1;33m(\u001b[0m\u001b[0mmytuple\u001b[0m\u001b[1;33m)\u001b[0m\u001b[1;33m\u001b[0m\u001b[1;33m\u001b[0m\u001b[0m\n",
      "\u001b[1;31mTypeError\u001b[0m: 'tuple' object does not support item assignment"
     ]
    }
   ],
   "source": [
    "mytuple[1] = \"Bob\"\n",
    "print(mytuple)"
   ]
  },
  {
   "cell_type": "code",
   "execution_count": 55,
   "metadata": {},
   "outputs": [
    {
     "name": "stdout",
     "output_type": "stream",
     "text": [
      "('George', 'Bob', 'Elvis')\n"
     ]
    }
   ],
   "source": [
    "mytuple = ('George', 'Bob', 'Elvis')\n",
    "print(mytuple)"
   ]
  },
  {
   "cell_type": "code",
   "execution_count": 56,
   "metadata": {},
   "outputs": [
    {
     "name": "stdout",
     "output_type": "stream",
     "text": [
      "('George', 'Lloyd', 'Elvis')\n"
     ]
    }
   ],
   "source": [
    "mytuple = (mytuple[0], \"Lloyd\", mytuple[2])\n",
    "print(mytuple)"
   ]
  },
  {
   "cell_type": "code",
   "execution_count": 57,
   "metadata": {},
   "outputs": [
    {
     "ename": "TypeError",
     "evalue": "'str' object does not support item assignment",
     "output_type": "error",
     "traceback": [
      "\u001b[1;31m---------------------------------------------------------------------------\u001b[0m",
      "\u001b[1;31mTypeError\u001b[0m                                 Traceback (most recent call last)",
      "\u001b[1;32m<ipython-input-57-5e8e0e170934>\u001b[0m in \u001b[0;36m<module>\u001b[1;34m\u001b[0m\n\u001b[0;32m      1\u001b[0m \u001b[0msentance\u001b[0m \u001b[1;33m=\u001b[0m \u001b[1;34m\"Hello, how is it going?\"\u001b[0m\u001b[1;33m\u001b[0m\u001b[1;33m\u001b[0m\u001b[0m\n\u001b[1;32m----> 2\u001b[1;33m \u001b[0msentance\u001b[0m\u001b[1;33m[\u001b[0m\u001b[1;36m2\u001b[0m\u001b[1;33m]\u001b[0m \u001b[1;33m=\u001b[0m \u001b[1;34m\"t\"\u001b[0m\u001b[1;33m\u001b[0m\u001b[1;33m\u001b[0m\u001b[0m\n\u001b[0m",
      "\u001b[1;31mTypeError\u001b[0m: 'str' object does not support item assignment"
     ]
    }
   ],
   "source": [
    "sentance = \"Hello, how is it going?\"\n",
    "sentance[2] = \"t\""
   ]
  },
  {
   "cell_type": "code",
   "execution_count": 59,
   "metadata": {},
   "outputs": [
    {
     "data": {
      "text/plain": [
       "'Hetlo, how is it going?'"
      ]
     },
     "execution_count": 59,
     "metadata": {},
     "output_type": "execute_result"
    }
   ],
   "source": [
    "sentance = \"Hello, how is it going?\"\n",
    "sentance = sentance[:2] + \"t\" + sentance[3:]\n",
    "sentance"
   ]
  },
  {
   "cell_type": "code",
   "execution_count": null,
   "metadata": {},
   "outputs": [],
   "source": []
  }
 ],
 "metadata": {
  "kernelspec": {
   "display_name": "Python 3",
   "language": "python",
   "name": "python3"
  },
  "language_info": {
   "codemirror_mode": {
    "name": "ipython",
    "version": 3
   },
   "file_extension": ".py",
   "mimetype": "text/x-python",
   "name": "python",
   "nbconvert_exporter": "python",
   "pygments_lexer": "ipython3",
   "version": "3.6.8"
  }
 },
 "nbformat": 4,
 "nbformat_minor": 2
}

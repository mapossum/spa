{
 "cells": [
  {
   "cell_type": "code",
   "execution_count": 8,
   "metadata": {},
   "outputs": [
    {
     "name": "stdout",
     "output_type": "stream",
     "text": [
      "Candidate: 1\n",
      "    address Hattiesburg, Mississippi\n",
      "    location {'x': -89.29070999999999, 'y': 31.327350000000024}\n",
      "    score 100\n",
      "    attributes {}\n",
      "    extent {'xmin': -89.39571, 'ymin': 31.222350000000024, 'xmax': -89.18570999999999, 'ymax': 31.432350000000024}\n",
      " \n",
      "Candidate: 2\n",
      "    address Hattiesburg St, Jackson, Mississippi, 39204\n",
      "    location {'x': -90.22018856149981, 'y': 32.2918509411157}\n",
      "    score 97.35\n",
      "    attributes {}\n",
      "    extent {'xmin': -90.22118856149982, 'ymin': 32.2908509411157, 'xmax': -90.2191885614998, 'ymax': 32.292850941115695}\n",
      " \n",
      "Candidate: 3\n",
      "    address Hattiesburg St, Jackson, Mississippi, 39209\n",
      "    location {'x': -90.22024125, 'y': 32.29665299999999}\n",
      "    score 97.35\n",
      "    attributes {}\n",
      "    extent {'xmin': -90.22124125, 'ymin': 32.295652999999994, 'xmax': -90.21924125, 'ymax': 32.29765299999999}\n",
      " \n",
      "Candidate: 4\n",
      "    address Hattiesburg St, Bay Saint Louis, Mississippi, 39520\n",
      "    location {'x': -89.42800725000001, 'y': 30.308377500000002}\n",
      "    score 97.35\n",
      "    attributes {}\n",
      "    extent {'xmin': -89.42900725000001, 'ymin': 30.3073775, 'xmax': -89.42700725, 'ymax': 30.309377500000004}\n",
      " \n",
      "Candidate: 5\n",
      "    address Hattiesburg Dr, Magee, Mississippi, 39111\n",
      "    location {'x': -89.7255413356201, 'y': 31.865859666862857}\n",
      "    score 97.35\n",
      "    attributes {}\n",
      "    extent {'xmin': -89.7265413356201, 'ymin': 31.864859666862856, 'xmax': -89.72454133562009, 'ymax': 31.866859666862858}\n",
      " \n",
      "Candidate: 6\n",
      "    address Hattiesburg St, Hattiesburg, Mississippi, 39401\n",
      "    location {'x': -89.2827587962445, 'y': 31.30069492908627}\n",
      "    score 97.35\n",
      "    attributes {}\n",
      "    extent {'xmin': -89.2837587962445, 'ymin': 31.299694929086268, 'xmax': -89.28175879624449, 'ymax': 31.30169492908627}\n",
      " \n",
      "Candidate: 7\n",
      "    address N Hattiesburg Ave, Hattiesburg, Mississippi, 39401\n",
      "    location {'x': -89.27141894055585, 'y': 31.280162635031797}\n",
      "    score 96.42\n",
      "    attributes {}\n",
      "    extent {'xmin': -89.27241894055585, 'ymin': 31.279162635031796, 'xmax': -89.27041894055584, 'ymax': 31.281162635031798}\n",
      " \n",
      "Candidate: 8\n",
      "    address S Hattiesburg Ave, Hattiesburg, Mississippi, 39401\n",
      "    location {'x': -89.27138341165458, 'y': 31.275260756552715}\n",
      "    score 96.42\n",
      "    attributes {}\n",
      "    extent {'xmin': -89.27238341165459, 'ymin': 31.274260756552714, 'xmax': -89.27038341165458, 'ymax': 31.276260756552716}\n",
      " \n"
     ]
    },
    {
     "data": {
      "text/plain": [
       "{'x': -89.29070999999999, 'y': 31.327350000000024}"
      ]
     },
     "execution_count": 8,
     "metadata": {},
     "output_type": "execute_result"
    }
   ],
   "source": [
    "import math, urllib\n",
    "import urllib.parse\n",
    "import urllib.request\n",
    "\n",
    "def makeItPretty(candidate):\n",
    "    i = 1\n",
    "    for can in candidate:\n",
    "        print(\"Candidate: \" + str(i))\n",
    "        for item in can:\n",
    "            print(\"   \", item, can[item])\n",
    "        print(\" \")\n",
    "        i = i + 1\n",
    "\n",
    "def getaddresslocation(address):\n",
    "    params = urllib.parse.urlencode({'SingleLine': address, 'f': 'json'})\n",
    "    f = urllib.request.urlopen(\"https://geocode.arcgis.com/arcgis/rest/services/World/GeocodeServer/findAddressCandidates?%s\" % params)\n",
    "    loc = eval(f.read())\n",
    "    makeItPretty(loc['candidates'])\n",
    "    return (loc['candidates'][0]['location'])\n",
    "\n",
    "getaddresslocation(\"Hattiesburg, MS\")\n",
    "\n"
   ]
  },
  {
   "cell_type": "code",
   "execution_count": null,
   "metadata": {},
   "outputs": [],
   "source": []
  }
 ],
 "metadata": {
  "kernelspec": {
   "display_name": "Python 3",
   "language": "python",
   "name": "python3"
  },
  "language_info": {
   "codemirror_mode": {
    "name": "ipython",
    "version": 3
   },
   "file_extension": ".py",
   "mimetype": "text/x-python",
   "name": "python",
   "nbconvert_exporter": "python",
   "pygments_lexer": "ipython3",
   "version": "3.6.8"
  }
 },
 "nbformat": 4,
 "nbformat_minor": 2
}

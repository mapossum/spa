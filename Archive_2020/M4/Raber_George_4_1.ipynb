{
 "cells": [
  {
   "cell_type": "code",
   "execution_count": 27,
   "metadata": {},
   "outputs": [
    {
     "data": {
      "text/plain": [
       "{'x': 6.602059996000037, 'y': 0.2393107930000724}"
      ]
     },
     "execution_count": 27,
     "metadata": {},
     "output_type": "execute_result"
    }
   ],
   "source": [
    "import math, urllib\n",
    "import urllib.parse\n",
    "import urllib.request\n",
    "\n",
    "def getaddresslocation(address):\n",
    "    params = urllib.parse.urlencode({'SingleLine': address, 'f': 'json'})\n",
    "    f = urllib.request.urlopen(\"https://geocode.arcgis.com/arcgis/rest/services/World/GeocodeServer/findAddressCandidates?%s\" % params)\n",
    "    loc = eval(f.read())\n",
    "    return (loc['candidates'][0]['location'])\n",
    "\n",
    "myLocation = getaddresslocation(b'City,State,Country')\n",
    "myLocation"
   ]
  },
  {
   "cell_type": "code",
   "execution_count": 22,
   "metadata": {},
   "outputs": [
    {
     "name": "stdout",
     "output_type": "stream",
     "text": [
      "City,State,Country\n",
      "Chapman,Alabama,United States\n",
      "Millry,Alabama,United States\n",
      "Beebe,Arkansas,United States\n",
      "London,Arkansas,United States\n",
      "Alpine,Arizona,United States\n",
      "Rio Rico,Arizona,United States\n",
      "Baldwin Park,California,United States\n",
      "Chico,California,United States\n",
      "Escondido,California,United States\n",
      "Huron,California,United States\n",
      "Lucerne,California,United States\n",
      "Norwalk,California,United States\n",
      "Randsburg,California,United States\n",
      "Sheep Ranch,California,United States\n",
      "Villa Park,California,United States\n",
      "Commerce City,Colorado,United States\n",
      "Louviers,Colorado,United States\n",
      "Bethany,Connecticut,United States\n",
      "Mystic,Connecticut,United States\n",
      "West Granby,Connecticut,United States\n",
      "Callahan,Florida,United States\n",
      "Jupiter,Florida,United States\n",
      "Plant City,Florida,United States\n",
      "Braselton,Georgia,United States\n",
      "Grovetown,Georgia,United States\n",
      "Pine Mountain,Georgia,United States\n",
      "Haiku-Pauwela,Hawaii,United States\n",
      "Boone,Iowa,United States\n",
      "Ellsworth,Iowa,United States\n",
      "Le Mars,Iowa,United States\n",
      "Oxford Junction,Iowa,United States\n",
      "Truro,Iowa,United States\n",
      "Idaho City,Idaho,United States\n",
      "Ashley,Illinois,United States\n",
      "Christopher,Illinois,United States\n",
      "Forrest,Illinois,United States\n",
      "Ina,Illinois,United States\n",
      "Menard,Illinois,United States\n",
      "Piper City,Illinois,United States\n",
      "Staunton,Illinois,United States\n"
     ]
    }
   ],
   "source": [
    "#Read the file line by line and then feed that line into the function\n",
    "\n",
    "fp = open(r'C:\\Users\\George\\courses\\spa\\M4\\citiesSubset.txt', 'r')\n",
    "\n",
    "for line in fp:\n",
    "    print(line.strip())\n",
    "    \n",
    "fp.close()\n",
    "\n",
    "\n"
   ]
  },
  {
   "cell_type": "code",
   "execution_count": 26,
   "metadata": {},
   "outputs": [
    {
     "name": "stdout",
     "output_type": "stream",
     "text": [
      "{b'City,State,Country': {'x': 30, 'y': 20}}\n",
      "{b'Chapman,Alabama,United States': {'x': 30, 'y': 20}}\n",
      "{b'Millry,Alabama,United States': {'x': 30, 'y': 20}}\n",
      "{b'Beebe,Arkansas,United States': {'x': 30, 'y': 20}}\n",
      "{b'London,Arkansas,United States': {'x': 30, 'y': 20}}\n",
      "{b'Alpine,Arizona,United States': {'x': 30, 'y': 20}}\n",
      "{b'Rio Rico,Arizona,United States': {'x': 30, 'y': 20}}\n",
      "{b'Baldwin Park,California,United States': {'x': 30, 'y': 20}}\n",
      "{b'Chico,California,United States': {'x': 30, 'y': 20}}\n",
      "{b'Escondido,California,United States': {'x': 30, 'y': 20}}\n",
      "{b'Huron,California,United States': {'x': 30, 'y': 20}}\n",
      "{b'Lucerne,California,United States': {'x': 30, 'y': 20}}\n",
      "{b'Norwalk,California,United States': {'x': 30, 'y': 20}}\n",
      "{b'Randsburg,California,United States': {'x': 30, 'y': 20}}\n",
      "{b'Sheep Ranch,California,United States': {'x': 30, 'y': 20}}\n",
      "{b'Villa Park,California,United States': {'x': 30, 'y': 20}}\n",
      "{b'Commerce City,Colorado,United States': {'x': 30, 'y': 20}}\n",
      "{b'Louviers,Colorado,United States': {'x': 30, 'y': 20}}\n",
      "{b'Bethany,Connecticut,United States': {'x': 30, 'y': 20}}\n",
      "{b'Mystic,Connecticut,United States': {'x': 30, 'y': 20}}\n",
      "{b'West Granby,Connecticut,United States': {'x': 30, 'y': 20}}\n",
      "{b'Callahan,Florida,United States': {'x': 30, 'y': 20}}\n",
      "{b'Jupiter,Florida,United States': {'x': 30, 'y': 20}}\n",
      "{b'Plant City,Florida,United States': {'x': 30, 'y': 20}}\n",
      "{b'Braselton,Georgia,United States': {'x': 30, 'y': 20}}\n",
      "{b'Grovetown,Georgia,United States': {'x': 30, 'y': 20}}\n",
      "{b'Pine Mountain,Georgia,United States': {'x': 30, 'y': 20}}\n",
      "{b'Haiku-Pauwela,Hawaii,United States': {'x': 30, 'y': 20}}\n",
      "{b'Boone,Iowa,United States': {'x': 30, 'y': 20}}\n",
      "{b'Ellsworth,Iowa,United States': {'x': 30, 'y': 20}}\n",
      "{b'Le Mars,Iowa,United States': {'x': 30, 'y': 20}}\n",
      "{b'Oxford Junction,Iowa,United States': {'x': 30, 'y': 20}}\n",
      "{b'Truro,Iowa,United States': {'x': 30, 'y': 20}}\n",
      "{b'Idaho City,Idaho,United States': {'x': 30, 'y': 20}}\n",
      "{b'Ashley,Illinois,United States': {'x': 30, 'y': 20}}\n",
      "{b'Christopher,Illinois,United States': {'x': 30, 'y': 20}}\n",
      "{b'Forrest,Illinois,United States': {'x': 30, 'y': 20}}\n",
      "{b'Ina,Illinois,United States': {'x': 30, 'y': 20}}\n",
      "{b'Menard,Illinois,United States': {'x': 30, 'y': 20}}\n",
      "{b'Piper City,Illinois,United States': {'x': 30, 'y': 20}}\n",
      "{b'Staunton,Illinois,United States': {'x': 30, 'y': 20}}\n"
     ]
    }
   ],
   "source": [
    "f = urllib.request.urlopen(r\"https://raw.githubusercontent.com/mapossum/spa/master/M4/citiesSubset.txt\")\n",
    "loc = f.read()\n",
    "\n",
    "linelist = loc.splitlines()\n",
    "\n",
    "\n",
    "for line in linelist:\n",
    "    print({\"CityName\": {\"x\": 30, \"y\" : 20}})\n",
    "    #print(line)\n",
    "\n",
    "\n"
   ]
  },
  {
   "cell_type": "code",
   "execution_count": null,
   "metadata": {},
   "outputs": [],
   "source": []
  }
 ],
 "metadata": {
  "kernelspec": {
   "display_name": "Python 3",
   "language": "python",
   "name": "python3"
  },
  "language_info": {
   "codemirror_mode": {
    "name": "ipython",
    "version": 3
   },
   "file_extension": ".py",
   "mimetype": "text/x-python",
   "name": "python",
   "nbconvert_exporter": "python",
   "pygments_lexer": "ipython3",
   "version": "3.6.8"
  }
 },
 "nbformat": 4,
 "nbformat_minor": 2
}

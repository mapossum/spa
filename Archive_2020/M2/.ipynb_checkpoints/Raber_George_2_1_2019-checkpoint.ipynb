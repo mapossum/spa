{
 "cells": [
  {
   "cell_type": "code",
   "execution_count": 7,
   "metadata": {},
   "outputs": [],
   "source": [
    "#This function should return \"Yes or No\" if the three inputs can make a triangle\n",
    "def is_triangle(one,two,three):\n",
    "    #Test is any one line is longer than the other two added together\n",
    "    if (one > (two + three)):\n",
    "        test1 = True\n",
    "    else:\n",
    "        test1 = False\n",
    "    #Test all three (You have to write some more code for this to actually be right)\n",
    "    if test1:\n",
    "        return \"No\"\n",
    "    else:\n",
    "        return \"Yes\""
   ]
  },
  {
   "cell_type": "code",
   "execution_count": 12,
   "metadata": {},
   "outputs": [
    {
     "name": "stdout",
     "output_type": "stream",
     "text": [
      "Input the first side of the Triangle: 10\n",
      "Input the second side of the Triangle: 2\n",
      "Input the third side of the Triangle: 3\n",
      "No , this is a triangle,\n"
     ]
    }
   ],
   "source": [
    "side1 = input(\"Input the first side of the Triangle: \")\n",
    "side1 = int(side1)\n",
    "side2 = input(\"Input the second side of the Triangle: \")\n",
    "side2 = int(side2)\n",
    "side3 = input(\"Input the third side of the Triangle: \")\n",
    "side3 = int(side3)\n",
    "\n",
    "answer = is_triangle(side1,side2,side3)\n",
    "\n",
    "# Modify this statement to be a complete sentance\n",
    "print(answer)"
   ]
  },
  {
   "cell_type": "code",
   "execution_count": null,
   "metadata": {},
   "outputs": [],
   "source": []
  },
  {
   "cell_type": "code",
   "execution_count": null,
   "metadata": {},
   "outputs": [],
   "source": []
  }
 ],
 "metadata": {
  "kernelspec": {
   "display_name": "Python 3",
   "language": "python",
   "name": "python3"
  },
  "language_info": {
   "codemirror_mode": {
    "name": "ipython",
    "version": 3
   },
   "file_extension": ".py",
   "mimetype": "text/x-python",
   "name": "python",
   "nbconvert_exporter": "python",
   "pygments_lexer": "ipython3",
   "version": "3.6.8"
  }
 },
 "nbformat": 4,
 "nbformat_minor": 2
}

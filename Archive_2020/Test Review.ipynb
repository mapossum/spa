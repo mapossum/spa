{
 "cells": [
  {
   "cell_type": "code",
   "execution_count": 5,
   "metadata": {},
   "outputs": [],
   "source": [
    "#Assign the value of 6 to the variable x\n",
    "x = 6"
   ]
  },
  {
   "cell_type": "code",
   "execution_count": 7,
   "metadata": {},
   "outputs": [
    {
     "data": {
      "text/plain": [
       "True"
      ]
     },
     "execution_count": 7,
     "metadata": {},
     "output_type": "execute_result"
    }
   ],
   "source": [
    "#Comparison operator\n",
    "x==6"
   ]
  },
  {
   "cell_type": "code",
   "execution_count": 17,
   "metadata": {},
   "outputs": [
    {
     "name": "stdout",
     "output_type": "stream",
     "text": [
      "3\n",
      "5.0\n",
      "<class 'float'>\n"
     ]
    }
   ],
   "source": [
    "import math\n",
    "def findhypon(a,b):\n",
    "    c2 = (a**2) + (b**2)\n",
    "    c = math.sqrt(c2)\n",
    "    return c\n",
    "\n",
    "x = 3\n",
    "y = 4\n",
    "\n",
    "answer = findhypon(x,y)\n",
    "\n",
    "#Print the value of a at the end to find out what it is (Question 8)\n",
    "print(x)\n",
    "\n",
    "#The value of c is undefined at this point.(Question 9)\n",
    "#print(c)\n",
    "\n",
    "#The value of answer is printed here (Question 10)\n",
    "print(answer)\n",
    "\n",
    "print(type(answer)) #(Question 11)"
   ]
  },
  {
   "cell_type": "code",
   "execution_count": 7,
   "metadata": {},
   "outputs": [
    {
     "name": "stdout",
     "output_type": "stream",
     "text": [
      "Check Question 17\n",
      "[1, 2, 3, 1, 2, 3, 1, 2, 3]\n",
      "[1, 2, 3, 1, 2, 3, 1, 2, 3]\n",
      "True\n",
      "Check Question 16\n",
      "[1, 2, 3, 1, 2, 3, 1, 2, 3]\n",
      "Check Question 14\n",
      "<class 'list'>\n",
      "Check Question 15\n",
      "[1, 4, 9, 1, 4, 9, 1, 4, 9]\n"
     ]
    }
   ],
   "source": [
    "def createRange1(x):\n",
    "    outSeq = []\n",
    "    for c in range(0,x):\n",
    "        outSeq.append(c % 3 + 1)\n",
    "    return outSeq\n",
    "\n",
    "def createRange2(x):\n",
    "    outSeq = []\n",
    "    c = 0\n",
    "    while x > c:\n",
    "        outSeq.append(c % 3 + 1)\n",
    "        c = c + 1  ##THIS IS THE LINE REFERENCED BELOW\n",
    "    return outSeq\n",
    "\n",
    "def multiplySeq(x,y):\n",
    "    for i in range(0,len(x)):\n",
    "        x[i] = x[i] * y[i]\n",
    "\n",
    "myL1 = createRange1(9)\n",
    "myL2 = createRange2(9)\n",
    "\n",
    " \n",
    "\n",
    "print('Check Question 17')\n",
    "print(myL1)\n",
    "print(myL2)\n",
    "print(myL1 == myL2)\n",
    "\n",
    "print('Check Question 16')\n",
    "print(myL1)\n",
    "\n",
    "multiplySeq(myL1,myL2)\n",
    "\n",
    "print('Check Question 14')\n",
    "print(type(myL1))\n",
    "\n",
    "print('Check Question 15')\n",
    "print(myL1)"
   ]
  },
  {
   "cell_type": "code",
   "execution_count": 12,
   "metadata": {},
   "outputs": [
    {
     "name": "stdout",
     "output_type": "stream",
     "text": [
      "<class 'tuple'>\n"
     ]
    }
   ],
   "source": [
    "#line 4 was mistyped so I threw out 22\n",
    "def totallist(mylist):\n",
    "    total = 0\n",
    "    count = 0\n",
    "    for item in mylist:\n",
    "        total = total + item\n",
    "        count = count + 1\n",
    "    return total, count\n",
    "\n",
    "myList = [1,2,3,4,5]\n",
    "\n",
    "output = totallist(myList)\n",
    "print(type(output))"
   ]
  },
  {
   "cell_type": "code",
   "execution_count": 15,
   "metadata": {},
   "outputs": [
    {
     "name": "stdout",
     "output_type": "stream",
     "text": [
      "[1, 2, 3, 4, 5]\n"
     ]
    }
   ],
   "source": [
    "def ctof(mylist):\n",
    "    for item in mylist:\n",
    "        item = (item * 1.8) + 32\n",
    "\n",
    "myList = [1,2,3,4,5]\n",
    "\n",
    "ctof(myList)\n",
    "print(myList)"
   ]
  },
  {
   "cell_type": "code",
   "execution_count": 22,
   "metadata": {},
   "outputs": [
    {
     "name": "stdout",
     "output_type": "stream",
     "text": [
      "[0.75, 0.42857142857142855, 1.5, 0.6, -1.0, 0.42857142857142855, 1.5, 0.5]\n"
     ]
    }
   ],
   "source": [
    "def dividethat(x,y):\n",
    "    outSeq = []\n",
    "    for v in y:\n",
    "        if (v == 0):\n",
    "            outSeq.append(-1.0)\n",
    "        else:\n",
    "            outSeq.append(x/v)\n",
    "    return outSeq\n",
    "\n",
    "a = [4,7,2,5,0,7,2,6]\n",
    "\n",
    "print(dividethat(3,a))\n"
   ]
  },
  {
   "cell_type": "code",
   "execution_count": null,
   "metadata": {},
   "outputs": [],
   "source": []
  }
 ],
 "metadata": {
  "kernelspec": {
   "display_name": "Python 3",
   "language": "python",
   "name": "python3"
  },
  "language_info": {
   "codemirror_mode": {
    "name": "ipython",
    "version": 3
   },
   "file_extension": ".py",
   "mimetype": "text/x-python",
   "name": "python",
   "nbconvert_exporter": "python",
   "pygments_lexer": "ipython3",
   "version": "3.6.8"
  }
 },
 "nbformat": 4,
 "nbformat_minor": 2
}

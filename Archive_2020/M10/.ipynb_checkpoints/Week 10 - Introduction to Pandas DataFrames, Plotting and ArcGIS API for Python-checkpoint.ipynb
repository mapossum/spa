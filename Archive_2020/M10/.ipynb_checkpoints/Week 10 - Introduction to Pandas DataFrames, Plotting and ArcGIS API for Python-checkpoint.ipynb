{
 "cells": [
  {
   "cell_type": "markdown",
   "metadata": {},
   "source": [
    "<h1> What is Pandas?</h1>\n",
    "<img src='https://media.giphy.com/media/AGl4BWvZNfvby/giphy.gif'>\n",
    "<ul>\n",
    "<li>Pandas is a package providing fast, flexible, and expressive data structures designed to make working with table (relational and labeled) data both easy and intuitive.</li>\n",
    "<li>Data feels like excel spreadsheets, but you can update it and manipulate it using python code.</li>\n",
    "    <li> <a href='https://pandas.pydata.org/' target=\"_blank\"> https://pandas.pydata.org/</a></li>\n",
    "</ul>\n"
   ]
  },
  {
   "cell_type": "markdown",
   "metadata": {},
   "source": [
    "<h1> Why use Pandas? </h1>\n",
    "<ul>\n",
    "<li> Easy handling of missing data</li>\n",
    "<li> Size mutabilty (harder with numpy arrays) </li>\n",
    "<li> Automatic and explicit data alignment </li>\n",
    "<li> Database like query ability </li>\n",
    "<li> Powerful, flexible group by functionality </li>\n",
    "</ul>"
   ]
  },
  {
   "cell_type": "markdown",
   "metadata": {},
   "source": [
    "<h2> Other Reasons? </h2>\n",
    "<ul>\n",
    "<li> Intelligent label-based slicing</li>\n",
    "<li> Fancy Indexing and Subsetting </li>\n",
    "<li> Intuitive Merging and Joining data sets </li>\n",
    "<li> Database like query ability </li>\n",
    "<li> Flexible reshaping and pivoting of data sets </li>\n",
    "</ul>"
   ]
  },
  {
   "cell_type": "markdown",
   "metadata": {},
   "source": [
    "<h1> The ArcGIS API for Python </h1>\n",
    "<h2> A powerful Python library for spatial analysis, mapping and GIS </h2>\n",
    "<p>\n",
    "<a href='https://developers.arcgis.com/python/' target='_blank'>ArcGIS API for Python </a> is another ESRI Python library (besides arcpy) for working with maps and geospatial data, powered by web GIS. Arcpy installes with ArcGIS for Desktop (ArcGIS Pro).  </p>\n",
    "<p> It provides simple and efficient tools for sophisticated vector and raster analysis, geocoding, map making, routing and directions, as well as for organizing and managing a GIS with users, groups and information items. In addition to working with your own data, the library enables access to ready to use maps and curated geographic data from Esri and other authoritative sources. We will introduce these concepts this week, but get into more details next week.\n",
    "</p>\n",
    "<p>It also integrates well with the scientific Python ecosystem and includes rich support for Pandas and Jupyter notebook. We will cover this this week</p>"
   ]
  },
  {
   "cell_type": "code",
   "execution_count": 1,
   "metadata": {},
   "outputs": [],
   "source": [
    "#This loads one of the libraries we are introducing this week, the ArcGIS API for Python explained above\n",
    "from arcgis import GIS\n",
    "\n",
    "#This loads arcpy which we can use for running ArcGIS Pro tools and manipulating low level data (e.g. through cursors)\n",
    "import arcpy\n",
    "\n",
    "#This libary is for reading web resources using a URL\n",
    "import urllib.request as rq\n",
    "\n",
    "#This loads the pandas library which we are also introducing today.\n",
    "#The basic unit of pandas is a \"DataFrame\" which you can think of kinda like a speadsheet.\n",
    "#Read more here: https://pandas.pydata.org/\n",
    "import pandas as pd\n",
    "\n",
    "#This little line of code makes to so plots show up inline\n",
    "#we will talk a little about matplotlib this week and next\n",
    "#It is a library for plotting\n",
    "%matplotlib inline\n",
    "\n",
    "#This loads a specific part of the ArcGIS API for Python \n",
    "#(The features sub module for manipulation of GIS vector data)\n",
    "#It allows you to create an ESRI specific data frame (called a spatially enabled data frame)\n",
    "#Read more here: https://developers.arcgis.com/python/guide/introduction-to-the-spatially-enabled-dataframe/\n",
    "from arcgis.features import GeoAccessor, GeoSeriesAccessor\n",
    "\n"
   ]
  },
  {
   "cell_type": "code",
   "execution_count": 2,
   "metadata": {},
   "outputs": [
    {
     "name": "stdout",
     "output_type": "stream",
     "text": [
      "Enter password: ········\n"
     ]
    }
   ],
   "source": [
    "#Make an anon connection to ArcGIS Online\n",
    "gis = GIS()\n",
    "\n",
    "#Make a secure connection with ArcGIS Online (i.e. login into ArcGIS.com)\n",
    "gis = GIS(\"https://arcgis.com\",\"graber\")"
   ]
  },
  {
   "cell_type": "markdown",
   "metadata": {},
   "source": [
    "<h1> A \"Series\" is a basic structure in pandas </h1>\n",
    "<p> A series can be any datatype, but everything in a series is the same datatype</p>"
   ]
  },
  {
   "cell_type": "code",
   "execution_count": 4,
   "metadata": {},
   "outputs": [
    {
     "data": {
      "text/plain": [
       "array([ 0.64762653,  0.00461346, -0.6911744 , -0.02203828,  1.53722993,\n",
       "       -1.0910951 ,  0.39156219,  1.55124522,  0.72771571,  0.14514299])"
      ]
     },
     "execution_count": 4,
     "metadata": {},
     "output_type": "execute_result"
    }
   ],
   "source": [
    "import numpy as np\n",
    "data = np.random.randn(10)\n",
    "data"
   ]
  },
  {
   "cell_type": "code",
   "execution_count": 11,
   "metadata": {},
   "outputs": [
    {
     "data": {
      "text/plain": [
       "0    0.647627\n",
       "1    0.004613\n",
       "2   -0.691174\n",
       "3   -0.022038\n",
       "4    1.537230\n",
       "5   -1.091095\n",
       "6    0.391562\n",
       "7    1.551245\n",
       "8    0.727716\n",
       "9    0.145143\n",
       "dtype: float64"
      ]
     },
     "execution_count": 11,
     "metadata": {},
     "output_type": "execute_result"
    }
   ],
   "source": [
    "series = pd.Series(data)\n",
    "series"
   ]
  },
  {
   "cell_type": "markdown",
   "metadata": {},
   "source": [
    "<h1> DataFrames </h1>\n",
    "<p> Series are kinda cool, but DataFrames are really useful.  As mentioned above they are 2d data structures that all you to manipulate data in a table.</p>\n",
    "<p> Here is an example:</p>"
   ]
  },
  {
   "cell_type": "code",
   "execution_count": 14,
   "metadata": {},
   "outputs": [
    {
     "data": {
      "text/plain": [
       "([array([0.33600608, 0.15865412, 0.69856992, 0.2269698 , 0.69492884,\n",
       "         0.44925612, 0.7435877 , 0.43021098, 0.19298247, 0.2495802 ]),\n",
       "  array([0.40293552, 0.28164929, 0.06942845, 0.65039323, 0.10472327,\n",
       "         0.57774798, 0.93649019, 0.29026564, 0.71616507, 0.26941222]),\n",
       "  array([0.10657698, 0.9726306 , 0.56411235, 0.4263604 , 0.71611082,\n",
       "         0.06742579, 0.55727793, 0.51261206, 0.47175238, 0.90952323]),\n",
       "  array([88, 65, 46, 31, 45, 49,  2,  6, 40, 66])],\n",
       " {0: 'red', 1: 'green', 2: 'blue', 3: 'height'})"
      ]
     },
     "execution_count": 14,
     "metadata": {},
     "output_type": "execute_result"
    }
   ],
   "source": [
    "#DataFrames are built Row by row not column by column.\n",
    "data1 = np.random.rand(10)\n",
    "data2 = np.random.rand(10)\n",
    "data3 = np.random.rand(10)\n",
    "tdata = np.random.rand(10)\n",
    "data4 = (tdata * 100).astype(int)\n",
    "\n",
    "fields = {0:\"red\",1:\"green\", 2:\"blue\", 3:\"height\"}\n",
    "data = [data1,data2,data3,data4]\n",
    "data, fields"
   ]
  },
  {
   "cell_type": "markdown",
   "metadata": {},
   "source": [
    "When I turn it into a Dataframe the sequences of data become rows by default."
   ]
  },
  {
   "cell_type": "code",
   "execution_count": 15,
   "metadata": {},
   "outputs": [
    {
     "data": {
      "text/html": [
       "<div>\n",
       "<style scoped>\n",
       "    .dataframe tbody tr th:only-of-type {\n",
       "        vertical-align: middle;\n",
       "    }\n",
       "\n",
       "    .dataframe tbody tr th {\n",
       "        vertical-align: top;\n",
       "    }\n",
       "\n",
       "    .dataframe thead th {\n",
       "        text-align: right;\n",
       "    }\n",
       "</style>\n",
       "<table border=\"1\" class=\"dataframe\">\n",
       "  <thead>\n",
       "    <tr style=\"text-align: right;\">\n",
       "      <th></th>\n",
       "      <th>0</th>\n",
       "      <th>1</th>\n",
       "      <th>2</th>\n",
       "      <th>3</th>\n",
       "      <th>4</th>\n",
       "      <th>5</th>\n",
       "      <th>6</th>\n",
       "      <th>7</th>\n",
       "      <th>8</th>\n",
       "      <th>9</th>\n",
       "    </tr>\n",
       "  </thead>\n",
       "  <tbody>\n",
       "    <tr>\n",
       "      <th>0</th>\n",
       "      <td>0.336006</td>\n",
       "      <td>0.158654</td>\n",
       "      <td>0.698570</td>\n",
       "      <td>0.226970</td>\n",
       "      <td>0.694929</td>\n",
       "      <td>0.449256</td>\n",
       "      <td>0.743588</td>\n",
       "      <td>0.430211</td>\n",
       "      <td>0.192982</td>\n",
       "      <td>0.249580</td>\n",
       "    </tr>\n",
       "    <tr>\n",
       "      <th>1</th>\n",
       "      <td>0.402936</td>\n",
       "      <td>0.281649</td>\n",
       "      <td>0.069428</td>\n",
       "      <td>0.650393</td>\n",
       "      <td>0.104723</td>\n",
       "      <td>0.577748</td>\n",
       "      <td>0.936490</td>\n",
       "      <td>0.290266</td>\n",
       "      <td>0.716165</td>\n",
       "      <td>0.269412</td>\n",
       "    </tr>\n",
       "    <tr>\n",
       "      <th>2</th>\n",
       "      <td>0.106577</td>\n",
       "      <td>0.972631</td>\n",
       "      <td>0.564112</td>\n",
       "      <td>0.426360</td>\n",
       "      <td>0.716111</td>\n",
       "      <td>0.067426</td>\n",
       "      <td>0.557278</td>\n",
       "      <td>0.512612</td>\n",
       "      <td>0.471752</td>\n",
       "      <td>0.909523</td>\n",
       "    </tr>\n",
       "    <tr>\n",
       "      <th>3</th>\n",
       "      <td>88.000000</td>\n",
       "      <td>65.000000</td>\n",
       "      <td>46.000000</td>\n",
       "      <td>31.000000</td>\n",
       "      <td>45.000000</td>\n",
       "      <td>49.000000</td>\n",
       "      <td>2.000000</td>\n",
       "      <td>6.000000</td>\n",
       "      <td>40.000000</td>\n",
       "      <td>66.000000</td>\n",
       "    </tr>\n",
       "  </tbody>\n",
       "</table>\n",
       "</div>"
      ],
      "text/plain": [
       "           0          1          2          3          4          5         6  \\\n",
       "0   0.336006   0.158654   0.698570   0.226970   0.694929   0.449256  0.743588   \n",
       "1   0.402936   0.281649   0.069428   0.650393   0.104723   0.577748  0.936490   \n",
       "2   0.106577   0.972631   0.564112   0.426360   0.716111   0.067426  0.557278   \n",
       "3  88.000000  65.000000  46.000000  31.000000  45.000000  49.000000  2.000000   \n",
       "\n",
       "          7          8          9  \n",
       "0  0.430211   0.192982   0.249580  \n",
       "1  0.290266   0.716165   0.269412  \n",
       "2  0.512612   0.471752   0.909523  \n",
       "3  6.000000  40.000000  66.000000  "
      ]
     },
     "execution_count": 15,
     "metadata": {},
     "output_type": "execute_result"
    }
   ],
   "source": [
    "tempdf = pd.DataFrame(data)\n",
    "tempdf"
   ]
  },
  {
   "cell_type": "markdown",
   "metadata": {},
   "source": [
    "DataFrame Methods can be chained together. Break down what each method does."
   ]
  },
  {
   "cell_type": "code",
   "execution_count": 9,
   "metadata": {},
   "outputs": [
    {
     "data": {
      "text/html": [
       "<div>\n",
       "<style scoped>\n",
       "    .dataframe tbody tr th:only-of-type {\n",
       "        vertical-align: middle;\n",
       "    }\n",
       "\n",
       "    .dataframe tbody tr th {\n",
       "        vertical-align: top;\n",
       "    }\n",
       "\n",
       "    .dataframe thead th {\n",
       "        text-align: right;\n",
       "    }\n",
       "</style>\n",
       "<table border=\"1\" class=\"dataframe\">\n",
       "  <thead>\n",
       "    <tr style=\"text-align: right;\">\n",
       "      <th></th>\n",
       "      <th>red</th>\n",
       "      <th>green</th>\n",
       "      <th>blue</th>\n",
       "      <th>height</th>\n",
       "    </tr>\n",
       "  </thead>\n",
       "  <tbody>\n",
       "    <tr>\n",
       "      <th>0</th>\n",
       "      <td>0.481510</td>\n",
       "      <td>0.030165</td>\n",
       "      <td>0.048288</td>\n",
       "      <td>94</td>\n",
       "    </tr>\n",
       "    <tr>\n",
       "      <th>1</th>\n",
       "      <td>0.731228</td>\n",
       "      <td>0.697082</td>\n",
       "      <td>0.901798</td>\n",
       "      <td>66</td>\n",
       "    </tr>\n",
       "    <tr>\n",
       "      <th>2</th>\n",
       "      <td>0.848111</td>\n",
       "      <td>0.020350</td>\n",
       "      <td>0.657433</td>\n",
       "      <td>17</td>\n",
       "    </tr>\n",
       "    <tr>\n",
       "      <th>3</th>\n",
       "      <td>0.489335</td>\n",
       "      <td>0.297121</td>\n",
       "      <td>0.244677</td>\n",
       "      <td>5</td>\n",
       "    </tr>\n",
       "    <tr>\n",
       "      <th>4</th>\n",
       "      <td>0.624778</td>\n",
       "      <td>0.532240</td>\n",
       "      <td>0.693425</td>\n",
       "      <td>72</td>\n",
       "    </tr>\n",
       "    <tr>\n",
       "      <th>5</th>\n",
       "      <td>0.672309</td>\n",
       "      <td>0.752018</td>\n",
       "      <td>0.898582</td>\n",
       "      <td>20</td>\n",
       "    </tr>\n",
       "    <tr>\n",
       "      <th>6</th>\n",
       "      <td>0.642640</td>\n",
       "      <td>0.283896</td>\n",
       "      <td>0.159427</td>\n",
       "      <td>62</td>\n",
       "    </tr>\n",
       "    <tr>\n",
       "      <th>7</th>\n",
       "      <td>0.460619</td>\n",
       "      <td>0.929010</td>\n",
       "      <td>0.040443</td>\n",
       "      <td>91</td>\n",
       "    </tr>\n",
       "    <tr>\n",
       "      <th>8</th>\n",
       "      <td>0.204446</td>\n",
       "      <td>0.893704</td>\n",
       "      <td>0.763429</td>\n",
       "      <td>25</td>\n",
       "    </tr>\n",
       "    <tr>\n",
       "      <th>9</th>\n",
       "      <td>0.870356</td>\n",
       "      <td>0.652540</td>\n",
       "      <td>0.035596</td>\n",
       "      <td>25</td>\n",
       "    </tr>\n",
       "  </tbody>\n",
       "</table>\n",
       "</div>"
      ],
      "text/plain": [
       "        red     green      blue  height\n",
       "0  0.481510  0.030165  0.048288      94\n",
       "1  0.731228  0.697082  0.901798      66\n",
       "2  0.848111  0.020350  0.657433      17\n",
       "3  0.489335  0.297121  0.244677       5\n",
       "4  0.624778  0.532240  0.693425      72\n",
       "5  0.672309  0.752018  0.898582      20\n",
       "6  0.642640  0.283896  0.159427      62\n",
       "7  0.460619  0.929010  0.040443      91\n",
       "8  0.204446  0.893704  0.763429      25\n",
       "9  0.870356  0.652540  0.035596      25"
      ]
     },
     "execution_count": 9,
     "metadata": {},
     "output_type": "execute_result"
    }
   ],
   "source": [
    "mydf = pd.DataFrame(data).transpose().rename(columns=fields).astype({'height': 'int32'})\n",
    "mydf"
   ]
  },
  {
   "cell_type": "code",
   "execution_count": 18,
   "metadata": {},
   "outputs": [
    {
     "data": {
      "text/html": [
       "<div>\n",
       "<style scoped>\n",
       "    .dataframe tbody tr th:only-of-type {\n",
       "        vertical-align: middle;\n",
       "    }\n",
       "\n",
       "    .dataframe tbody tr th {\n",
       "        vertical-align: top;\n",
       "    }\n",
       "\n",
       "    .dataframe thead th {\n",
       "        text-align: right;\n",
       "    }\n",
       "</style>\n",
       "<table border=\"1\" class=\"dataframe\">\n",
       "  <thead>\n",
       "    <tr style=\"text-align: right;\">\n",
       "      <th></th>\n",
       "      <th>red</th>\n",
       "      <th>green</th>\n",
       "      <th>blue</th>\n",
       "      <th>height</th>\n",
       "    </tr>\n",
       "  </thead>\n",
       "  <tbody>\n",
       "    <tr>\n",
       "      <th>0</th>\n",
       "      <td>0.723023</td>\n",
       "      <td>0.715081</td>\n",
       "      <td>0.145464</td>\n",
       "      <td>55</td>\n",
       "    </tr>\n",
       "    <tr>\n",
       "      <th>1</th>\n",
       "      <td>0.583464</td>\n",
       "      <td>0.492068</td>\n",
       "      <td>0.553281</td>\n",
       "      <td>23</td>\n",
       "    </tr>\n",
       "    <tr>\n",
       "      <th>2</th>\n",
       "      <td>0.281629</td>\n",
       "      <td>0.522669</td>\n",
       "      <td>0.704030</td>\n",
       "      <td>48</td>\n",
       "    </tr>\n",
       "    <tr>\n",
       "      <th>3</th>\n",
       "      <td>0.101975</td>\n",
       "      <td>0.930267</td>\n",
       "      <td>0.009161</td>\n",
       "      <td>42</td>\n",
       "    </tr>\n",
       "    <tr>\n",
       "      <th>4</th>\n",
       "      <td>0.360858</td>\n",
       "      <td>0.692428</td>\n",
       "      <td>0.869512</td>\n",
       "      <td>31</td>\n",
       "    </tr>\n",
       "    <tr>\n",
       "      <th>5</th>\n",
       "      <td>0.218431</td>\n",
       "      <td>0.370493</td>\n",
       "      <td>0.303136</td>\n",
       "      <td>7</td>\n",
       "    </tr>\n",
       "    <tr>\n",
       "      <th>6</th>\n",
       "      <td>0.460417</td>\n",
       "      <td>0.828235</td>\n",
       "      <td>0.594427</td>\n",
       "      <td>25</td>\n",
       "    </tr>\n",
       "    <tr>\n",
       "      <th>7</th>\n",
       "      <td>0.707410</td>\n",
       "      <td>0.138310</td>\n",
       "      <td>0.024661</td>\n",
       "      <td>17</td>\n",
       "    </tr>\n",
       "    <tr>\n",
       "      <th>8</th>\n",
       "      <td>0.081796</td>\n",
       "      <td>0.296390</td>\n",
       "      <td>0.710126</td>\n",
       "      <td>72</td>\n",
       "    </tr>\n",
       "    <tr>\n",
       "      <th>9</th>\n",
       "      <td>0.132637</td>\n",
       "      <td>0.033439</td>\n",
       "      <td>0.419971</td>\n",
       "      <td>91</td>\n",
       "    </tr>\n",
       "  </tbody>\n",
       "</table>\n",
       "</div>"
      ],
      "text/plain": [
       "        red     green      blue  height\n",
       "0  0.723023  0.715081  0.145464      55\n",
       "1  0.583464  0.492068  0.553281      23\n",
       "2  0.281629  0.522669  0.704030      48\n",
       "3  0.101975  0.930267  0.009161      42\n",
       "4  0.360858  0.692428  0.869512      31\n",
       "5  0.218431  0.370493  0.303136       7\n",
       "6  0.460417  0.828235  0.594427      25\n",
       "7  0.707410  0.138310  0.024661      17\n",
       "8  0.081796  0.296390  0.710126      72\n",
       "9  0.132637  0.033439  0.419971      91"
      ]
     },
     "execution_count": 18,
     "metadata": {},
     "output_type": "execute_result"
    }
   ],
   "source": [
    "#You can build them by column, but you have to use Series as the building blox then concat them.\n",
    "s1 = pd.Series(np.random.rand(10), name='red')\n",
    "s2 = pd.Series(np.random.rand(10), name='green')\n",
    "s3 = pd.Series(np.random.rand(10), name='blue')\n",
    "tdata = (np.random.rand(10) * 100).astype(int)\n",
    "s4 = pd.Series(tdata, name='height')\n",
    "\n",
    "mydf = pd.concat([s1, s2,s3,s4], axis=1)\n",
    "mydf"
   ]
  },
  {
   "cell_type": "markdown",
   "metadata": {},
   "source": [
    "Charting in Pandas is avalible through the matplotlib library.  \n",
    "https://pandas.pydata.org/pandas-docs/stable/user_guide/visualization.html#other-plots"
   ]
  },
  {
   "cell_type": "code",
   "execution_count": 33,
   "metadata": {},
   "outputs": [
    {
     "data": {
      "image/png": "[encoded data removed]",
      "text/plain": [
       "<Figure size 432x288 with 1 Axes>"
      ]
     },
     "metadata": {
      "needs_background": "light"
     },
     "output_type": "display_data"
    }
   ],
   "source": [
    "#Scatter Plot\n",
    "myplot = mydf.plot.scatter(x='red',y='blue',c='DarkBlue', s = 100, alpha=0.5)"
   ]
  },
  {
   "cell_type": "code",
   "execution_count": 43,
   "metadata": {},
   "outputs": [
    {
     "data": {
      "image/png": "[encoded data removed]",
      "text/plain": [
       "<Figure size 432x288 with 1 Axes>"
      ]
     },
     "metadata": {
      "needs_background": "light"
     },
     "output_type": "display_data"
    }
   ],
   "source": [
    "#Bar Plot\n",
    "barchart = mydf.plot.bar(y='height', rot=1)"
   ]
  },
  {
   "cell_type": "code",
   "execution_count": 45,
   "metadata": {},
   "outputs": [
    {
     "data": {
      "text/html": [
       "<div>\n",
       "<style scoped>\n",
       "    .dataframe tbody tr th:only-of-type {\n",
       "        vertical-align: middle;\n",
       "    }\n",
       "\n",
       "    .dataframe tbody tr th {\n",
       "        vertical-align: top;\n",
       "    }\n",
       "\n",
       "    .dataframe thead th {\n",
       "        text-align: right;\n",
       "    }\n",
       "</style>\n",
       "<table border=\"1\" class=\"dataframe\">\n",
       "  <thead>\n",
       "    <tr style=\"text-align: right;\">\n",
       "      <th></th>\n",
       "      <th>red</th>\n",
       "      <th>green</th>\n",
       "      <th>blue</th>\n",
       "      <th>height</th>\n",
       "      <th>majority</th>\n",
       "      <th>zeros</th>\n",
       "      <th>total</th>\n",
       "    </tr>\n",
       "  </thead>\n",
       "  <tbody>\n",
       "    <tr>\n",
       "      <th>0</th>\n",
       "      <td>0.723023</td>\n",
       "      <td>0.715081</td>\n",
       "      <td>0.145464</td>\n",
       "      <td>55</td>\n",
       "      <td>red</td>\n",
       "      <td>0</td>\n",
       "      <td>1.583568</td>\n",
       "    </tr>\n",
       "    <tr>\n",
       "      <th>1</th>\n",
       "      <td>0.583464</td>\n",
       "      <td>0.492068</td>\n",
       "      <td>0.553281</td>\n",
       "      <td>23</td>\n",
       "      <td>red</td>\n",
       "      <td>0</td>\n",
       "      <td>1.628813</td>\n",
       "    </tr>\n",
       "    <tr>\n",
       "      <th>2</th>\n",
       "      <td>0.281629</td>\n",
       "      <td>0.522669</td>\n",
       "      <td>0.704030</td>\n",
       "      <td>48</td>\n",
       "      <td>blue</td>\n",
       "      <td>0</td>\n",
       "      <td>1.508327</td>\n",
       "    </tr>\n",
       "    <tr>\n",
       "      <th>3</th>\n",
       "      <td>0.101975</td>\n",
       "      <td>0.930267</td>\n",
       "      <td>0.009161</td>\n",
       "      <td>42</td>\n",
       "      <td>green</td>\n",
       "      <td>0</td>\n",
       "      <td>1.041403</td>\n",
       "    </tr>\n",
       "    <tr>\n",
       "      <th>4</th>\n",
       "      <td>0.360858</td>\n",
       "      <td>0.692428</td>\n",
       "      <td>0.869512</td>\n",
       "      <td>31</td>\n",
       "      <td>blue</td>\n",
       "      <td>0</td>\n",
       "      <td>1.922798</td>\n",
       "    </tr>\n",
       "    <tr>\n",
       "      <th>5</th>\n",
       "      <td>0.218431</td>\n",
       "      <td>0.370493</td>\n",
       "      <td>0.303136</td>\n",
       "      <td>7</td>\n",
       "      <td>blue</td>\n",
       "      <td>0</td>\n",
       "      <td>0.892061</td>\n",
       "    </tr>\n",
       "    <tr>\n",
       "      <th>6</th>\n",
       "      <td>0.460417</td>\n",
       "      <td>0.828235</td>\n",
       "      <td>0.594427</td>\n",
       "      <td>25</td>\n",
       "      <td>blue</td>\n",
       "      <td>0</td>\n",
       "      <td>1.883080</td>\n",
       "    </tr>\n",
       "    <tr>\n",
       "      <th>7</th>\n",
       "      <td>0.707410</td>\n",
       "      <td>0.138310</td>\n",
       "      <td>0.024661</td>\n",
       "      <td>17</td>\n",
       "      <td>red</td>\n",
       "      <td>0</td>\n",
       "      <td>0.870381</td>\n",
       "    </tr>\n",
       "    <tr>\n",
       "      <th>8</th>\n",
       "      <td>0.081796</td>\n",
       "      <td>0.296390</td>\n",
       "      <td>0.710126</td>\n",
       "      <td>72</td>\n",
       "      <td>blue</td>\n",
       "      <td>0</td>\n",
       "      <td>1.088312</td>\n",
       "    </tr>\n",
       "    <tr>\n",
       "      <th>9</th>\n",
       "      <td>0.132637</td>\n",
       "      <td>0.033439</td>\n",
       "      <td>0.419971</td>\n",
       "      <td>91</td>\n",
       "      <td>blue</td>\n",
       "      <td>0</td>\n",
       "      <td>0.586048</td>\n",
       "    </tr>\n",
       "  </tbody>\n",
       "</table>\n",
       "</div>"
      ],
      "text/plain": [
       "        red     green      blue  height majority  zeros     total\n",
       "0  0.723023  0.715081  0.145464      55      red      0  1.583568\n",
       "1  0.583464  0.492068  0.553281      23      red      0  1.628813\n",
       "2  0.281629  0.522669  0.704030      48     blue      0  1.508327\n",
       "3  0.101975  0.930267  0.009161      42    green      0  1.041403\n",
       "4  0.360858  0.692428  0.869512      31     blue      0  1.922798\n",
       "5  0.218431  0.370493  0.303136       7     blue      0  0.892061\n",
       "6  0.460417  0.828235  0.594427      25     blue      0  1.883080\n",
       "7  0.707410  0.138310  0.024661      17      red      0  0.870381\n",
       "8  0.081796  0.296390  0.710126      72     blue      0  1.088312\n",
       "9  0.132637  0.033439  0.419971      91     blue      0  0.586048"
      ]
     },
     "execution_count": 45,
     "metadata": {},
     "output_type": "execute_result"
    }
   ],
   "source": [
    "#You can create columns and make them equal to functions of other columns\n",
    "#Use numpy.where to add conditionals\n",
    "mydf['majority'] = np.where(mydf['red']>mydf['green'], 'red', 'green')\n",
    "mydf['majority'] = np.where(mydf['blue']>mydf['red'], 'blue', mydf['majority'])\n",
    "mydf['total'] = mydf['red'] + mydf['green'] + mydf['blue']\n",
    "mydf"
   ]
  },
  {
   "cell_type": "code",
   "execution_count": 46,
   "metadata": {},
   "outputs": [
    {
     "data": {
      "text/html": [
       "<div>\n",
       "<style scoped>\n",
       "    .dataframe tbody tr th:only-of-type {\n",
       "        vertical-align: middle;\n",
       "    }\n",
       "\n",
       "    .dataframe tbody tr th {\n",
       "        vertical-align: top;\n",
       "    }\n",
       "\n",
       "    .dataframe thead th {\n",
       "        text-align: right;\n",
       "    }\n",
       "</style>\n",
       "<table border=\"1\" class=\"dataframe\">\n",
       "  <thead>\n",
       "    <tr style=\"text-align: right;\">\n",
       "      <th></th>\n",
       "      <th>red</th>\n",
       "      <th>green</th>\n",
       "      <th>blue</th>\n",
       "      <th>height</th>\n",
       "    </tr>\n",
       "    <tr>\n",
       "      <th>majority</th>\n",
       "      <th></th>\n",
       "      <th></th>\n",
       "      <th></th>\n",
       "      <th></th>\n",
       "    </tr>\n",
       "  </thead>\n",
       "  <tbody>\n",
       "    <tr>\n",
       "      <th>blue</th>\n",
       "      <td>0.255961</td>\n",
       "      <td>0.457276</td>\n",
       "      <td>0.600200</td>\n",
       "      <td>45.666667</td>\n",
       "    </tr>\n",
       "    <tr>\n",
       "      <th>green</th>\n",
       "      <td>0.101975</td>\n",
       "      <td>0.930267</td>\n",
       "      <td>0.009161</td>\n",
       "      <td>42.000000</td>\n",
       "    </tr>\n",
       "    <tr>\n",
       "      <th>red</th>\n",
       "      <td>0.671299</td>\n",
       "      <td>0.448486</td>\n",
       "      <td>0.241135</td>\n",
       "      <td>31.666667</td>\n",
       "    </tr>\n",
       "  </tbody>\n",
       "</table>\n",
       "</div>"
      ],
      "text/plain": [
       "               red     green      blue     height\n",
       "majority                                         \n",
       "blue      0.255961  0.457276  0.600200  45.666667\n",
       "green     0.101975  0.930267  0.009161  42.000000\n",
       "red       0.671299  0.448486  0.241135  31.666667"
      ]
     },
     "execution_count": 46,
     "metadata": {},
     "output_type": "execute_result"
    }
   ],
   "source": [
    "groupedDF = mydf.groupby(\"majority\")['red', 'green', \"blue\", \"height\"].mean()\n",
    "groupedDF"
   ]
  },
  {
   "cell_type": "code",
   "execution_count": 54,
   "metadata": {},
   "outputs": [
    {
     "data": {
      "image/png": "[encoded data removed]",
      "text/plain": [
       "<Figure size 432x288 with 1 Axes>"
      ]
     },
     "metadata": {
      "needs_background": "light"
     },
     "output_type": "display_data"
    }
   ],
   "source": [
    "#Bar Plot of Grouped Data\n",
    "clrs = groupedDF.reset_index()['majority']\n",
    "barchart = groupedDF.plot.bar(y='height', rot=0, color=clrs)"
   ]
  },
  {
   "cell_type": "code",
   "execution_count": 48,
   "metadata": {},
   "outputs": [
    {
     "data": {
      "text/html": [
       "<div>\n",
       "<style scoped>\n",
       "    .dataframe tbody tr th:only-of-type {\n",
       "        vertical-align: middle;\n",
       "    }\n",
       "\n",
       "    .dataframe tbody tr th {\n",
       "        vertical-align: top;\n",
       "    }\n",
       "\n",
       "    .dataframe thead th {\n",
       "        text-align: right;\n",
       "    }\n",
       "</style>\n",
       "<table border=\"1\" class=\"dataframe\">\n",
       "  <thead>\n",
       "    <tr style=\"text-align: right;\">\n",
       "      <th></th>\n",
       "      <th>red</th>\n",
       "      <th>green</th>\n",
       "      <th>blue</th>\n",
       "      <th>height</th>\n",
       "      <th>zeros</th>\n",
       "      <th>total</th>\n",
       "    </tr>\n",
       "  </thead>\n",
       "  <tbody>\n",
       "    <tr>\n",
       "      <th>count</th>\n",
       "      <td>10.000000</td>\n",
       "      <td>10.000000</td>\n",
       "      <td>10.000000</td>\n",
       "      <td>10.000000</td>\n",
       "      <td>10.0</td>\n",
       "      <td>10.000000</td>\n",
       "    </tr>\n",
       "    <tr>\n",
       "      <th>mean</th>\n",
       "      <td>0.365164</td>\n",
       "      <td>0.501938</td>\n",
       "      <td>0.433377</td>\n",
       "      <td>41.100000</td>\n",
       "      <td>0.0</td>\n",
       "      <td>1.300479</td>\n",
       "    </tr>\n",
       "    <tr>\n",
       "      <th>std</th>\n",
       "      <td>0.243604</td>\n",
       "      <td>0.295037</td>\n",
       "      <td>0.303208</td>\n",
       "      <td>26.074466</td>\n",
       "      <td>0.0</td>\n",
       "      <td>0.463344</td>\n",
       "    </tr>\n",
       "    <tr>\n",
       "      <th>min</th>\n",
       "      <td>0.081796</td>\n",
       "      <td>0.033439</td>\n",
       "      <td>0.009161</td>\n",
       "      <td>7.000000</td>\n",
       "      <td>0.0</td>\n",
       "      <td>0.586048</td>\n",
       "    </tr>\n",
       "    <tr>\n",
       "      <th>25%</th>\n",
       "      <td>0.154085</td>\n",
       "      <td>0.314916</td>\n",
       "      <td>0.184882</td>\n",
       "      <td>23.500000</td>\n",
       "      <td>0.0</td>\n",
       "      <td>0.929396</td>\n",
       "    </tr>\n",
       "    <tr>\n",
       "      <th>50%</th>\n",
       "      <td>0.321244</td>\n",
       "      <td>0.507368</td>\n",
       "      <td>0.486626</td>\n",
       "      <td>36.500000</td>\n",
       "      <td>0.0</td>\n",
       "      <td>1.298320</td>\n",
       "    </tr>\n",
       "    <tr>\n",
       "      <th>75%</th>\n",
       "      <td>0.552703</td>\n",
       "      <td>0.709418</td>\n",
       "      <td>0.676629</td>\n",
       "      <td>53.250000</td>\n",
       "      <td>0.0</td>\n",
       "      <td>1.617501</td>\n",
       "    </tr>\n",
       "    <tr>\n",
       "      <th>max</th>\n",
       "      <td>0.723023</td>\n",
       "      <td>0.930267</td>\n",
       "      <td>0.869512</td>\n",
       "      <td>91.000000</td>\n",
       "      <td>0.0</td>\n",
       "      <td>1.922798</td>\n",
       "    </tr>\n",
       "  </tbody>\n",
       "</table>\n",
       "</div>"
      ],
      "text/plain": [
       "             red      green       blue     height  zeros      total\n",
       "count  10.000000  10.000000  10.000000  10.000000   10.0  10.000000\n",
       "mean    0.365164   0.501938   0.433377  41.100000    0.0   1.300479\n",
       "std     0.243604   0.295037   0.303208  26.074466    0.0   0.463344\n",
       "min     0.081796   0.033439   0.009161   7.000000    0.0   0.586048\n",
       "25%     0.154085   0.314916   0.184882  23.500000    0.0   0.929396\n",
       "50%     0.321244   0.507368   0.486626  36.500000    0.0   1.298320\n",
       "75%     0.552703   0.709418   0.676629  53.250000    0.0   1.617501\n",
       "max     0.723023   0.930267   0.869512  91.000000    0.0   1.922798"
      ]
     },
     "execution_count": 48,
     "metadata": {},
     "output_type": "execute_result"
    }
   ],
   "source": [
    "mydf.describe()"
   ]
  },
  {
   "cell_type": "code",
   "execution_count": 55,
   "metadata": {},
   "outputs": [
    {
     "data": {
      "image/png": "[encoded data removed]",
      "text/plain": [
       "<Figure size 432x288 with 1 Axes>"
      ]
     },
     "metadata": {
      "needs_background": "light"
     },
     "output_type": "display_data"
    }
   ],
   "source": [
    "boxplot = mydf.boxplot(column=['red', 'green', 'blue'])"
   ]
  },
  {
   "cell_type": "code",
   "execution_count": 27,
   "metadata": {},
   "outputs": [
    {
     "name": "stdout",
     "output_type": "stream",
     "text": [
      "Index(['red', 'green', 'blue', 'height', 'majority'], dtype='object')\n",
      "*******\n",
      "red         float64\n",
      "green       float64\n",
      "blue        float64\n",
      "height        int32\n",
      "majority     object\n",
      "dtype: object\n"
     ]
    }
   ],
   "source": [
    "print(mydf.columns)\n",
    "print('*******')\n",
    "print(mydf.dtypes)"
   ]
  },
  {
   "cell_type": "markdown",
   "metadata": {},
   "source": [
    "<h2>Accessing Data in a DataFrame</h2>\n",
    "<ul>\n",
    "    <li>Zero based indexing (like most of Python)</li>\n",
    "    <li>Use \"iloc\" to access a row.</li>\n",
    "    <li>Use the [\"column name\"] to access just a column, like a dictionary. (Think of a Dataframe as a dictionary of columns.)</li>\n",
    "</ul>"
   ]
  },
  {
   "cell_type": "code",
   "execution_count": 57,
   "metadata": {},
   "outputs": [
    {
     "data": {
      "text/html": [
       "<div>\n",
       "<style scoped>\n",
       "    .dataframe tbody tr th:only-of-type {\n",
       "        vertical-align: middle;\n",
       "    }\n",
       "\n",
       "    .dataframe tbody tr th {\n",
       "        vertical-align: top;\n",
       "    }\n",
       "\n",
       "    .dataframe thead th {\n",
       "        text-align: right;\n",
       "    }\n",
       "</style>\n",
       "<table border=\"1\" class=\"dataframe\">\n",
       "  <thead>\n",
       "    <tr style=\"text-align: right;\">\n",
       "      <th></th>\n",
       "      <th>red</th>\n",
       "      <th>green</th>\n",
       "    </tr>\n",
       "  </thead>\n",
       "  <tbody>\n",
       "    <tr>\n",
       "      <th>4</th>\n",
       "      <td>0.360858</td>\n",
       "      <td>0.692428</td>\n",
       "    </tr>\n",
       "    <tr>\n",
       "      <th>5</th>\n",
       "      <td>0.218431</td>\n",
       "      <td>0.370493</td>\n",
       "    </tr>\n",
       "    <tr>\n",
       "      <th>6</th>\n",
       "      <td>0.460417</td>\n",
       "      <td>0.828235</td>\n",
       "    </tr>\n",
       "  </tbody>\n",
       "</table>\n",
       "</div>"
      ],
      "text/plain": [
       "        red     green\n",
       "4  0.360858  0.692428\n",
       "5  0.218431  0.370493\n",
       "6  0.460417  0.828235"
      ]
     },
     "execution_count": 57,
     "metadata": {},
     "output_type": "execute_result"
    }
   ],
   "source": [
    "newdf = mydf[['red', 'green']].iloc[4:7]\n",
    "newdf"
   ]
  },
  {
   "cell_type": "code",
   "execution_count": 62,
   "metadata": {},
   "outputs": [
    {
     "data": {
      "text/html": [
       "<div>\n",
       "<style scoped>\n",
       "    .dataframe tbody tr th:only-of-type {\n",
       "        vertical-align: middle;\n",
       "    }\n",
       "\n",
       "    .dataframe tbody tr th {\n",
       "        vertical-align: top;\n",
       "    }\n",
       "\n",
       "    .dataframe thead th {\n",
       "        text-align: right;\n",
       "    }\n",
       "</style>\n",
       "<table border=\"1\" class=\"dataframe\">\n",
       "  <thead>\n",
       "    <tr style=\"text-align: right;\">\n",
       "      <th></th>\n",
       "      <th>red</th>\n",
       "      <th>green</th>\n",
       "    </tr>\n",
       "  </thead>\n",
       "  <tbody>\n",
       "    <tr>\n",
       "      <th>0</th>\n",
       "      <td>0.723023</td>\n",
       "      <td>0.715081</td>\n",
       "    </tr>\n",
       "    <tr>\n",
       "      <th>2</th>\n",
       "      <td>0.281629</td>\n",
       "      <td>0.522669</td>\n",
       "    </tr>\n",
       "    <tr>\n",
       "      <th>3</th>\n",
       "      <td>0.101975</td>\n",
       "      <td>0.930267</td>\n",
       "    </tr>\n",
       "    <tr>\n",
       "      <th>4</th>\n",
       "      <td>0.360858</td>\n",
       "      <td>0.692428</td>\n",
       "    </tr>\n",
       "    <tr>\n",
       "      <th>6</th>\n",
       "      <td>0.460417</td>\n",
       "      <td>0.828235</td>\n",
       "    </tr>\n",
       "  </tbody>\n",
       "</table>\n",
       "</div>"
      ],
      "text/plain": [
       "        red     green\n",
       "0  0.723023  0.715081\n",
       "2  0.281629  0.522669\n",
       "3  0.101975  0.930267\n",
       "4  0.360858  0.692428\n",
       "6  0.460417  0.828235"
      ]
     },
     "execution_count": 62,
     "metadata": {},
     "output_type": "execute_result"
    }
   ],
   "source": [
    "mydf[['red', 'green']].query('green > 0.5')"
   ]
  },
  {
   "cell_type": "markdown",
   "metadata": {},
   "source": [
    "<h1>Now let's try with some real geographic data!</h1>"
   ]
  },
  {
   "cell_type": "code",
   "execution_count": 86,
   "metadata": {},
   "outputs": [
    {
     "data": {
      "text/html": [
       "<div>\n",
       "<style scoped>\n",
       "    .dataframe tbody tr th:only-of-type {\n",
       "        vertical-align: middle;\n",
       "    }\n",
       "\n",
       "    .dataframe tbody tr th {\n",
       "        vertical-align: top;\n",
       "    }\n",
       "\n",
       "    .dataframe thead th {\n",
       "        text-align: right;\n",
       "    }\n",
       "</style>\n",
       "<table border=\"1\" class=\"dataframe\">\n",
       "  <thead>\n",
       "    <tr style=\"text-align: right;\">\n",
       "      <th></th>\n",
       "      <th>Date</th>\n",
       "      <th>Location</th>\n",
       "      <th>Casualties</th>\n",
       "      <th>Type</th>\n",
       "      <th>Latitude</th>\n",
       "      <th>Longitude</th>\n",
       "    </tr>\n",
       "  </thead>\n",
       "  <tbody>\n",
       "    <tr>\n",
       "      <th>171</th>\n",
       "      <td>201907</td>\n",
       "      <td>Nowshera, Pakistan</td>\n",
       "      <td>1</td>\n",
       "      <td>Fall</td>\n",
       "      <td>34.010464</td>\n",
       "      <td>71.987553</td>\n",
       "    </tr>\n",
       "    <tr>\n",
       "      <th>172</th>\n",
       "      <td>201907</td>\n",
       "      <td>Pakistan</td>\n",
       "      <td>2</td>\n",
       "      <td>Drowned</td>\n",
       "      <td>30.375321</td>\n",
       "      <td>69.345114</td>\n",
       "    </tr>\n",
       "    <tr>\n",
       "      <th>173</th>\n",
       "      <td>201908</td>\n",
       "      <td>Sydney, Australia</td>\n",
       "      <td>1</td>\n",
       "      <td>Fall</td>\n",
       "      <td>-33.868820</td>\n",
       "      <td>151.209296</td>\n",
       "    </tr>\n",
       "    <tr>\n",
       "      <th>174</th>\n",
       "      <td>201909</td>\n",
       "      <td>Pavagadh, India</td>\n",
       "      <td>1</td>\n",
       "      <td>Fall</td>\n",
       "      <td>22.462015</td>\n",
       "      <td>73.524074</td>\n",
       "    </tr>\n",
       "    <tr>\n",
       "      <th>175</th>\n",
       "      <td>201910</td>\n",
       "      <td>India</td>\n",
       "      <td>4</td>\n",
       "      <td>Fall</td>\n",
       "      <td>20.593682</td>\n",
       "      <td>78.962881</td>\n",
       "    </tr>\n",
       "  </tbody>\n",
       "</table>\n",
       "</div>"
      ],
      "text/plain": [
       "       Date            Location  Casualties     Type   Latitude   Longitude\n",
       "171  201907  Nowshera, Pakistan           1     Fall  34.010464   71.987553\n",
       "172  201907            Pakistan           2  Drowned  30.375321   69.345114\n",
       "173  201908   Sydney, Australia           1     Fall -33.868820  151.209296\n",
       "174  201909     Pavagadh, India           1     Fall  22.462015   73.524074\n",
       "175  201910               India           4     Fall  20.593682   78.962881"
      ]
     },
     "execution_count": 86,
     "metadata": {},
     "output_type": "execute_result"
    }
   ],
   "source": [
    "#Read from URL (Must not be to big)\n",
    "#url = 'https://data.cityofchicago.org/api/views/ijzp-q8t2/rows.csv?accessType=DOWNLOAD'\n",
    "#f = rq.urlopen(url)\n",
    "\n",
    "#Read from file -- Better if Big\n",
    "f = \"SelfieDeaths.csv\"\n",
    "\n",
    "#This is how to read a CSV into Pandas Data Frame that ArcGIS can read\n",
    "#then fill any missing values with a value of your choice\n",
    "#Finally convert the dataFrame into a spatial Data Frame (ArcGIS API for Python)\n",
    "SelfieDeaths = pd.read_csv(f).fillna(0)\n",
    "SelfieDeaths.tail()"
   ]
  },
  {
   "cell_type": "code",
   "execution_count": 87,
   "metadata": {},
   "outputs": [
    {
     "data": {
      "text/html": [
       "<div>\n",
       "<style scoped>\n",
       "    .dataframe tbody tr th:only-of-type {\n",
       "        vertical-align: middle;\n",
       "    }\n",
       "\n",
       "    .dataframe tbody tr th {\n",
       "        vertical-align: top;\n",
       "    }\n",
       "\n",
       "    .dataframe thead th {\n",
       "        text-align: right;\n",
       "    }\n",
       "</style>\n",
       "<table border=\"1\" class=\"dataframe\">\n",
       "  <thead>\n",
       "    <tr style=\"text-align: right;\">\n",
       "      <th></th>\n",
       "      <th>Date</th>\n",
       "      <th>Location</th>\n",
       "      <th>Casualties</th>\n",
       "      <th>Type</th>\n",
       "      <th>Latitude</th>\n",
       "      <th>Longitude</th>\n",
       "      <th>SHAPE</th>\n",
       "    </tr>\n",
       "  </thead>\n",
       "  <tbody>\n",
       "    <tr>\n",
       "      <th>0</th>\n",
       "      <td>201110</td>\n",
       "      <td>United States</td>\n",
       "      <td>3</td>\n",
       "      <td>Transport</td>\n",
       "      <td>40.730610</td>\n",
       "      <td>-73.935242</td>\n",
       "      <td>{\"x\": -73.935242, \"y\": 40.73061, \"spatialRefer...</td>\n",
       "    </tr>\n",
       "    <tr>\n",
       "      <th>1</th>\n",
       "      <td>201312</td>\n",
       "      <td>London</td>\n",
       "      <td>1</td>\n",
       "      <td>Transport</td>\n",
       "      <td>51.509865</td>\n",
       "      <td>-0.118092</td>\n",
       "      <td>{\"x\": -0.118092, \"y\": 51.509865000000005, \"spa...</td>\n",
       "    </tr>\n",
       "    <tr>\n",
       "      <th>2</th>\n",
       "      <td>201403</td>\n",
       "      <td>Spain</td>\n",
       "      <td>1</td>\n",
       "      <td>Electrocution</td>\n",
       "      <td>40.416775</td>\n",
       "      <td>-3.703790</td>\n",
       "      <td>{\"x\": -3.70379, \"y\": 40.416775, \"spatialRefere...</td>\n",
       "    </tr>\n",
       "    <tr>\n",
       "      <th>3</th>\n",
       "      <td>201404</td>\n",
       "      <td>North Carolina</td>\n",
       "      <td>1</td>\n",
       "      <td>Transport</td>\n",
       "      <td>35.782169</td>\n",
       "      <td>-80.793457</td>\n",
       "      <td>{\"x\": -80.79345699999999, \"y\": 35.782169, \"spa...</td>\n",
       "    </tr>\n",
       "    <tr>\n",
       "      <th>4</th>\n",
       "      <td>205106</td>\n",
       "      <td>Russia</td>\n",
       "      <td>1</td>\n",
       "      <td>Fall</td>\n",
       "      <td>61.524000</td>\n",
       "      <td>105.318800</td>\n",
       "      <td>{\"x\": 105.3188, \"y\": 61.523999999999994, \"spat...</td>\n",
       "    </tr>\n",
       "  </tbody>\n",
       "</table>\n",
       "</div>"
      ],
      "text/plain": [
       "     Date        Location  Casualties           Type   Latitude   Longitude  \\\n",
       "0  201110   United States           3      Transport  40.730610  -73.935242   \n",
       "1  201312          London           1      Transport  51.509865   -0.118092   \n",
       "2  201403           Spain           1  Electrocution  40.416775   -3.703790   \n",
       "3  201404  North Carolina           1      Transport  35.782169  -80.793457   \n",
       "4  205106          Russia           1           Fall  61.524000  105.318800   \n",
       "\n",
       "                                               SHAPE  \n",
       "0  {\"x\": -73.935242, \"y\": 40.73061, \"spatialRefer...  \n",
       "1  {\"x\": -0.118092, \"y\": 51.509865000000005, \"spa...  \n",
       "2  {\"x\": -3.70379, \"y\": 40.416775, \"spatialRefere...  \n",
       "3  {\"x\": -80.79345699999999, \"y\": 35.782169, \"spa...  \n",
       "4  {\"x\": 105.3188, \"y\": 61.523999999999994, \"spat...  "
      ]
     },
     "execution_count": 87,
     "metadata": {},
     "output_type": "execute_result"
    }
   ],
   "source": [
    "#Convert the dataFrame into a Spatiallially Enabled Data Frame (ArcGIS API for Python)\n",
    "sdfSelfie = pd.DataFrame.spatial.from_xy(SelfieDeaths, \"Longitude\", \"Latitude\", sr=4326)\n",
    "sdfSelfie.head()"
   ]
  },
  {
   "cell_type": "code",
   "execution_count": 88,
   "metadata": {},
   "outputs": [
    {
     "data": {
      "text/html": [
       "<div>\n",
       "<style scoped>\n",
       "    .dataframe tbody tr th:only-of-type {\n",
       "        vertical-align: middle;\n",
       "    }\n",
       "\n",
       "    .dataframe tbody tr th {\n",
       "        vertical-align: top;\n",
       "    }\n",
       "\n",
       "    .dataframe thead th {\n",
       "        text-align: right;\n",
       "    }\n",
       "</style>\n",
       "<table border=\"1\" class=\"dataframe\">\n",
       "  <thead>\n",
       "    <tr style=\"text-align: right;\">\n",
       "      <th></th>\n",
       "      <th>Date</th>\n",
       "      <th>Location</th>\n",
       "      <th>Casualties</th>\n",
       "      <th>Type</th>\n",
       "      <th>Latitude</th>\n",
       "      <th>Longitude</th>\n",
       "      <th>SHAPE</th>\n",
       "      <th>Year</th>\n",
       "      <th>Month</th>\n",
       "      <th>Day</th>\n",
       "      <th>DataTime</th>\n",
       "    </tr>\n",
       "  </thead>\n",
       "  <tbody>\n",
       "    <tr>\n",
       "      <th>0</th>\n",
       "      <td>201110</td>\n",
       "      <td>United States</td>\n",
       "      <td>3</td>\n",
       "      <td>Transport</td>\n",
       "      <td>40.730610</td>\n",
       "      <td>-73.935242</td>\n",
       "      <td>{\"x\": -73.935242, \"y\": 40.73061, \"spatialRefer...</td>\n",
       "      <td>2011</td>\n",
       "      <td>10</td>\n",
       "      <td>1</td>\n",
       "      <td>2011-10-01</td>\n",
       "    </tr>\n",
       "    <tr>\n",
       "      <th>1</th>\n",
       "      <td>201312</td>\n",
       "      <td>London</td>\n",
       "      <td>1</td>\n",
       "      <td>Transport</td>\n",
       "      <td>51.509865</td>\n",
       "      <td>-0.118092</td>\n",
       "      <td>{\"x\": -0.118092, \"y\": 51.509865000000005, \"spa...</td>\n",
       "      <td>2013</td>\n",
       "      <td>12</td>\n",
       "      <td>1</td>\n",
       "      <td>2013-12-01</td>\n",
       "    </tr>\n",
       "    <tr>\n",
       "      <th>2</th>\n",
       "      <td>201403</td>\n",
       "      <td>Spain</td>\n",
       "      <td>1</td>\n",
       "      <td>Electrocution</td>\n",
       "      <td>40.416775</td>\n",
       "      <td>-3.703790</td>\n",
       "      <td>{\"x\": -3.70379, \"y\": 40.416775, \"spatialRefere...</td>\n",
       "      <td>2014</td>\n",
       "      <td>03</td>\n",
       "      <td>1</td>\n",
       "      <td>2014-03-01</td>\n",
       "    </tr>\n",
       "    <tr>\n",
       "      <th>3</th>\n",
       "      <td>201404</td>\n",
       "      <td>North Carolina</td>\n",
       "      <td>1</td>\n",
       "      <td>Transport</td>\n",
       "      <td>35.782169</td>\n",
       "      <td>-80.793457</td>\n",
       "      <td>{\"x\": -80.79345699999999, \"y\": 35.782169, \"spa...</td>\n",
       "      <td>2014</td>\n",
       "      <td>04</td>\n",
       "      <td>1</td>\n",
       "      <td>2014-04-01</td>\n",
       "    </tr>\n",
       "    <tr>\n",
       "      <th>5</th>\n",
       "      <td>201405</td>\n",
       "      <td>India</td>\n",
       "      <td>1</td>\n",
       "      <td>Transport</td>\n",
       "      <td>20.593700</td>\n",
       "      <td>78.962900</td>\n",
       "      <td>{\"x\": 78.9629, \"y\": 20.5937, \"spatialReference...</td>\n",
       "      <td>2014</td>\n",
       "      <td>05</td>\n",
       "      <td>1</td>\n",
       "      <td>2014-05-01</td>\n",
       "    </tr>\n",
       "  </tbody>\n",
       "</table>\n",
       "</div>"
      ],
      "text/plain": [
       "     Date        Location  Casualties           Type   Latitude  Longitude  \\\n",
       "0  201110   United States           3      Transport  40.730610 -73.935242   \n",
       "1  201312          London           1      Transport  51.509865  -0.118092   \n",
       "2  201403           Spain           1  Electrocution  40.416775  -3.703790   \n",
       "3  201404  North Carolina           1      Transport  35.782169 -80.793457   \n",
       "5  201405           India           1      Transport  20.593700  78.962900   \n",
       "\n",
       "                                               SHAPE  Year Month  Day  \\\n",
       "0  {\"x\": -73.935242, \"y\": 40.73061, \"spatialRefer...  2011    10    1   \n",
       "1  {\"x\": -0.118092, \"y\": 51.509865000000005, \"spa...  2013    12    1   \n",
       "2  {\"x\": -3.70379, \"y\": 40.416775, \"spatialRefere...  2014    03    1   \n",
       "3  {\"x\": -80.79345699999999, \"y\": 35.782169, \"spa...  2014    04    1   \n",
       "5  {\"x\": 78.9629, \"y\": 20.5937, \"spatialReference...  2014    05    1   \n",
       "\n",
       "    DataTime  \n",
       "0 2011-10-01  \n",
       "1 2013-12-01  \n",
       "2 2014-03-01  \n",
       "3 2014-04-01  \n",
       "5 2014-05-01  "
      ]
     },
     "execution_count": 88,
     "metadata": {},
     "output_type": "execute_result"
    }
   ],
   "source": [
    "#apply lets you apply a little function called a lambda\n",
    "sdfSelfie[\"Year\"] = sdfSelfie.Date.apply(lambda x: str(x)[0:4])\n",
    "sdfSelfie[\"Month\"] = sdfSelfie.Date.apply(lambda x: str(x)[4:6])\n",
    "sdfSelfie[\"Day\"] = 1\n",
    "\n",
    "#The to_datetime function lets you add a datetime colum that can be useful for sorting\n",
    "sdfSelfie['DataTime'] = pd.to_datetime(sdfSelfie[[\"Year\", \"Month\", \"Day\"]])\n",
    "sdfSelfie.sort_values(by=['DataTime']).head()"
   ]
  },
  {
   "cell_type": "code",
   "execution_count": 90,
   "metadata": {},
   "outputs": [
    {
     "data": {
      "text/html": [
       "<div>\n",
       "<style scoped>\n",
       "    .dataframe tbody tr th:only-of-type {\n",
       "        vertical-align: middle;\n",
       "    }\n",
       "\n",
       "    .dataframe tbody tr th {\n",
       "        vertical-align: top;\n",
       "    }\n",
       "\n",
       "    .dataframe thead th {\n",
       "        text-align: right;\n",
       "    }\n",
       "</style>\n",
       "<table border=\"1\" class=\"dataframe\">\n",
       "  <thead>\n",
       "    <tr style=\"text-align: right;\">\n",
       "      <th></th>\n",
       "      <th>Date</th>\n",
       "      <th>Location</th>\n",
       "      <th>Casualties</th>\n",
       "      <th>Type</th>\n",
       "      <th>Latitude</th>\n",
       "      <th>Longitude</th>\n",
       "      <th>SHAPE</th>\n",
       "      <th>Year</th>\n",
       "      <th>Month</th>\n",
       "      <th>Day</th>\n",
       "      <th>DataTime</th>\n",
       "    </tr>\n",
       "  </thead>\n",
       "  <tbody>\n",
       "    <tr>\n",
       "      <th>171</th>\n",
       "      <td>201907</td>\n",
       "      <td>Nowshera, Pakistan</td>\n",
       "      <td>1</td>\n",
       "      <td>Fall</td>\n",
       "      <td>34.010464</td>\n",
       "      <td>71.987553</td>\n",
       "      <td>{\"x\": 71.987553, \"y\": 34.010464, \"spatialRefer...</td>\n",
       "      <td>2019</td>\n",
       "      <td>07</td>\n",
       "      <td>1</td>\n",
       "      <td>2019-07-01</td>\n",
       "    </tr>\n",
       "    <tr>\n",
       "      <th>172</th>\n",
       "      <td>201907</td>\n",
       "      <td>Pakistan</td>\n",
       "      <td>2</td>\n",
       "      <td>Drowned</td>\n",
       "      <td>30.375321</td>\n",
       "      <td>69.345114</td>\n",
       "      <td>{\"x\": 69.345114, \"y\": 30.375321000000003, \"spa...</td>\n",
       "      <td>2019</td>\n",
       "      <td>07</td>\n",
       "      <td>1</td>\n",
       "      <td>2019-07-01</td>\n",
       "    </tr>\n",
       "    <tr>\n",
       "      <th>173</th>\n",
       "      <td>201908</td>\n",
       "      <td>Sydney, Australia</td>\n",
       "      <td>1</td>\n",
       "      <td>Fall</td>\n",
       "      <td>-33.868820</td>\n",
       "      <td>151.209296</td>\n",
       "      <td>{\"x\": 151.209296, \"y\": -33.86882, \"spatialRefe...</td>\n",
       "      <td>2019</td>\n",
       "      <td>08</td>\n",
       "      <td>1</td>\n",
       "      <td>2019-08-01</td>\n",
       "    </tr>\n",
       "    <tr>\n",
       "      <th>174</th>\n",
       "      <td>201909</td>\n",
       "      <td>Pavagadh, India</td>\n",
       "      <td>1</td>\n",
       "      <td>Fall</td>\n",
       "      <td>22.462015</td>\n",
       "      <td>73.524074</td>\n",
       "      <td>{\"x\": 73.524074, \"y\": 22.462015, \"spatialRefer...</td>\n",
       "      <td>2019</td>\n",
       "      <td>09</td>\n",
       "      <td>1</td>\n",
       "      <td>2019-09-01</td>\n",
       "    </tr>\n",
       "    <tr>\n",
       "      <th>175</th>\n",
       "      <td>201910</td>\n",
       "      <td>India</td>\n",
       "      <td>4</td>\n",
       "      <td>Fall</td>\n",
       "      <td>20.593682</td>\n",
       "      <td>78.962881</td>\n",
       "      <td>{\"x\": 78.96288100000001, \"y\": 20.593682, \"spat...</td>\n",
       "      <td>2019</td>\n",
       "      <td>10</td>\n",
       "      <td>1</td>\n",
       "      <td>2019-10-01</td>\n",
       "    </tr>\n",
       "  </tbody>\n",
       "</table>\n",
       "</div>"
      ],
      "text/plain": [
       "       Date            Location  Casualties     Type   Latitude   Longitude  \\\n",
       "171  201907  Nowshera, Pakistan           1     Fall  34.010464   71.987553   \n",
       "172  201907            Pakistan           2  Drowned  30.375321   69.345114   \n",
       "173  201908   Sydney, Australia           1     Fall -33.868820  151.209296   \n",
       "174  201909     Pavagadh, India           1     Fall  22.462015   73.524074   \n",
       "175  201910               India           4     Fall  20.593682   78.962881   \n",
       "\n",
       "                                                 SHAPE  Year Month  Day  \\\n",
       "171  {\"x\": 71.987553, \"y\": 34.010464, \"spatialRefer...  2019    07    1   \n",
       "172  {\"x\": 69.345114, \"y\": 30.375321000000003, \"spa...  2019    07    1   \n",
       "173  {\"x\": 151.209296, \"y\": -33.86882, \"spatialRefe...  2019    08    1   \n",
       "174  {\"x\": 73.524074, \"y\": 22.462015, \"spatialRefer...  2019    09    1   \n",
       "175  {\"x\": 78.96288100000001, \"y\": 20.593682, \"spat...  2019    10    1   \n",
       "\n",
       "      DataTime  \n",
       "171 2019-07-01  \n",
       "172 2019-07-01  \n",
       "173 2019-08-01  \n",
       "174 2019-09-01  \n",
       "175 2019-10-01  "
      ]
     },
     "execution_count": 90,
     "metadata": {},
     "output_type": "execute_result"
    }
   ],
   "source": [
    "#try and show time series chart\n",
    "sdfSelfie.tail()"
   ]
  },
  {
   "cell_type": "code",
   "execution_count": 112,
   "metadata": {
    "scrolled": true
   },
   "outputs": [
    {
     "data": {
      "application/vnd.jupyter.widget-view+json": {
       "model_id": "badbdd3b01f5496fb531c8859964dcef",
       "version_major": 2,
       "version_minor": 0
      },
      "text/plain": [
       "MapView(layout=Layout(height='400px', width='100%'))"
      ]
     },
     "metadata": {},
     "output_type": "display_data"
    },
    {
     "data": {
      "text/html": [
       "<div class=\"map-static-img-preview-68effb48-2921-4840-a832-30ca93dd318b\"><img src=\"\"></img></div>"
      ],
      "text/plain": [
       "<IPython.core.display.HTML object>"
      ]
     },
     "metadata": {},
     "output_type": "display_data"
    }
   ],
   "source": [
    "m1 = GIS().map()\n",
    "m1.center = [34,-89]\n",
    "m1"
   ]
  },
  {
   "cell_type": "code",
   "execution_count": 114,
   "metadata": {},
   "outputs": [
    {
     "data": {
      "text/plain": [
       "True"
      ]
     },
     "execution_count": 114,
     "metadata": {},
     "output_type": "execute_result"
    }
   ],
   "source": [
    "sdfSelfie.spatial.plot(map_widget= m1)\n",
    "sdfSelfie.spatial.plot(map_widget= m1, renderer_type='u', col='Type')"
   ]
  },
  {
   "cell_type": "code",
   "execution_count": 109,
   "metadata": {},
   "outputs": [],
   "source": [
    "sdfSelfie2018 = sdfSelfie.query(\"DataTime > 2016\")\n",
    "sdf1 = sdfSelfie2018.groupby('Type')['Latitude', 'Longitude'].mean()\n",
    "sdf2 = sdfSelfie2018.groupby('Type')['Casualties'].count()"
   ]
  },
  {
   "cell_type": "code",
   "execution_count": 110,
   "metadata": {},
   "outputs": [
    {
     "data": {
      "text/html": [
       "<div>\n",
       "<style scoped>\n",
       "    .dataframe tbody tr th:only-of-type {\n",
       "        vertical-align: middle;\n",
       "    }\n",
       "\n",
       "    .dataframe tbody tr th {\n",
       "        vertical-align: top;\n",
       "    }\n",
       "\n",
       "    .dataframe thead th {\n",
       "        text-align: right;\n",
       "    }\n",
       "</style>\n",
       "<table border=\"1\" class=\"dataframe\">\n",
       "  <thead>\n",
       "    <tr style=\"text-align: right;\">\n",
       "      <th></th>\n",
       "      <th>Count</th>\n",
       "      <th>Latitude</th>\n",
       "      <th>Longitude</th>\n",
       "      <th>SHAPE</th>\n",
       "    </tr>\n",
       "    <tr>\n",
       "      <th>Type</th>\n",
       "      <th></th>\n",
       "      <th></th>\n",
       "      <th></th>\n",
       "      <th></th>\n",
       "    </tr>\n",
       "  </thead>\n",
       "  <tbody>\n",
       "    <tr>\n",
       "      <th>Fire</th>\n",
       "      <td>1</td>\n",
       "      <td>13.082680</td>\n",
       "      <td>80.270718</td>\n",
       "      <td>{\"x\": 80.270718, \"y\": 13.08268, \"spatialRefere...</td>\n",
       "    </tr>\n",
       "    <tr>\n",
       "      <th>Other</th>\n",
       "      <td>1</td>\n",
       "      <td>34.876195</td>\n",
       "      <td>73.693352</td>\n",
       "      <td>{\"x\": 73.693352, \"y\": 34.876195, \"spatialRefer...</td>\n",
       "    </tr>\n",
       "    <tr>\n",
       "      <th>Electrocution</th>\n",
       "      <td>6</td>\n",
       "      <td>39.513511</td>\n",
       "      <td>53.873280</td>\n",
       "      <td>{\"x\": 53.873279833333335, \"y\": 39.513511, \"spa...</td>\n",
       "    </tr>\n",
       "    <tr>\n",
       "      <th>Firearm</th>\n",
       "      <td>6</td>\n",
       "      <td>19.983978</td>\n",
       "      <td>34.608645</td>\n",
       "      <td>{\"x\": 34.60864466666666, \"y\": 19.9839783333333...</td>\n",
       "    </tr>\n",
       "    <tr>\n",
       "      <th>Animal</th>\n",
       "      <td>8</td>\n",
       "      <td>21.462158</td>\n",
       "      <td>58.235136</td>\n",
       "      <td>{\"x\": 58.235135500000005, \"y\": 21.462157625000...</td>\n",
       "    </tr>\n",
       "    <tr>\n",
       "      <th>Transport</th>\n",
       "      <td>19</td>\n",
       "      <td>21.944068</td>\n",
       "      <td>70.562218</td>\n",
       "      <td>{\"x\": 70.5622184210526, \"y\": 21.94406768421053...</td>\n",
       "    </tr>\n",
       "    <tr>\n",
       "      <th>Drowned</th>\n",
       "      <td>31</td>\n",
       "      <td>21.597178</td>\n",
       "      <td>60.879504</td>\n",
       "      <td>{\"x\": 60.8795040967742, \"y\": 21.59717829032257...</td>\n",
       "    </tr>\n",
       "    <tr>\n",
       "      <th>Fall</th>\n",
       "      <td>49</td>\n",
       "      <td>19.801246</td>\n",
       "      <td>29.566063</td>\n",
       "      <td>{\"x\": 29.566063142857125, \"y\": 19.801245571428...</td>\n",
       "    </tr>\n",
       "  </tbody>\n",
       "</table>\n",
       "</div>"
      ],
      "text/plain": [
       "               Count   Latitude  Longitude  \\\n",
       "Type                                         \n",
       "Fire               1  13.082680  80.270718   \n",
       "Other              1  34.876195  73.693352   \n",
       "Electrocution      6  39.513511  53.873280   \n",
       "Firearm            6  19.983978  34.608645   \n",
       "Animal             8  21.462158  58.235136   \n",
       "Transport         19  21.944068  70.562218   \n",
       "Drowned           31  21.597178  60.879504   \n",
       "Fall              49  19.801246  29.566063   \n",
       "\n",
       "                                                           SHAPE  \n",
       "Type                                                              \n",
       "Fire           {\"x\": 80.270718, \"y\": 13.08268, \"spatialRefere...  \n",
       "Other          {\"x\": 73.693352, \"y\": 34.876195, \"spatialRefer...  \n",
       "Electrocution  {\"x\": 53.873279833333335, \"y\": 39.513511, \"spa...  \n",
       "Firearm        {\"x\": 34.60864466666666, \"y\": 19.9839783333333...  \n",
       "Animal         {\"x\": 58.235135500000005, \"y\": 21.462157625000...  \n",
       "Transport      {\"x\": 70.5622184210526, \"y\": 21.94406768421053...  \n",
       "Drowned        {\"x\": 60.8795040967742, \"y\": 21.59717829032257...  \n",
       "Fall           {\"x\": 29.566063142857125, \"y\": 19.801245571428...  "
      ]
     },
     "execution_count": 110,
     "metadata": {},
     "output_type": "execute_result"
    }
   ],
   "source": [
    "dfGrouped = pd.merge(sdf2, sdf1, on=['Type'])\n",
    "dfGrouped.rename(columns={\"Casualties\": \"Count\"}, inplace = True)\n",
    "sdfGrouped = pd.DataFrame.spatial.from_xy(dfGrouped, \"Longitude\", \"Latitude\", sr=4326)\n",
    "sdfGroupedSorted = sdfGrouped.sort_values(by=['Count'])\n",
    "sdfGroupedSorted"
   ]
  },
  {
   "cell_type": "code",
   "execution_count": 111,
   "metadata": {},
   "outputs": [
    {
     "data": {
      "image/png": "[encoded data removed]",
      "text/plain": [
       "<Figure size 720x720 with 1 Axes>"
      ]
     },
     "metadata": {
      "needs_background": "light"
     },
     "output_type": "display_data"
    }
   ],
   "source": [
    "ax = sdfGroupedSorted.plot.barh(y='Count', width=0.5, fontsize=10, title=\"Crime type\", figsize=(10,10))"
   ]
  },
  {
   "cell_type": "code",
   "execution_count": 113,
   "metadata": {},
   "outputs": [
    {
     "data": {
      "text/plain": [
       "True"
      ]
     },
     "execution_count": 113,
     "metadata": {},
     "output_type": "execute_result"
    }
   ],
   "source": [
    "sdfShow = sdfGroupedSorted.reset_index()\n",
    "sdfShow.spatial.plot(map_widget= m1, renderer_type='u', col='Type')"
   ]
  },
  {
   "cell_type": "code",
   "execution_count": 116,
   "metadata": {},
   "outputs": [
    {
     "data": {
      "text/plain": [
       "'c:\\\\temp\\\\LabData.gdb\\\\selfieTest'"
      ]
     },
     "execution_count": 116,
     "metadata": {},
     "output_type": "execute_result"
    }
   ],
   "source": [
    "#Save data out to File Geodatabase\n",
    "sdfSelfie.spatial.to_featureclass(location=r\"c:\\temp\\LabData.gdb\\selfieTest\")"
   ]
  },
  {
   "cell_type": "code",
   "execution_count": 119,
   "metadata": {},
   "outputs": [
    {
     "data": {
      "text/html": [
       "<div class=\"item_container\" style=\"height: auto; overflow: hidden; border: 1px solid #cfcfcf; border-radius: 2px; background: #f6fafa; line-height: 1.21429em; padding: 10px;\">\n",
       "                    <div class=\"item_left\" style=\"width: 210px; float: left;\">\n",
       "                       <a href='https://southernmiss.maps.arcgis.com/home/item.html?id=a78bf8f48e574395ab950094d5e36ce6' target='_blank'>\n",
       "                        <img src='http://static.arcgis.com/images/desktopapp.png' class=\"itemThumbnail\">\n",
       "                       </a>\n",
       "                    </div>\n",
       "\n",
       "                    <div class=\"item_right\"     style=\"float: none; width: auto; overflow: hidden;\">\n",
       "                        <a href='https://southernmiss.maps.arcgis.com/home/item.html?id=a78bf8f48e574395ab950094d5e36ce6' target='_blank'><b>selfieDeaths</b>\n",
       "                        </a>\n",
       "                        <br/><img src='https://southernmiss.maps.arcgis.com/home/js/jsapi/esri/css/images/item_type_icons/featureshosted16.png' style=\"vertical-align:middle;\">Feature Layer Collection by graber\n",
       "                        <br/>Last Modified: November 12, 2019\n",
       "                        <br/>0 comments, 0 views\n",
       "                    </div>\n",
       "                </div>\n",
       "                "
      ],
      "text/plain": [
       "<Item title:\"selfieDeaths\" type:Feature Layer Collection owner:graber>"
      ]
     },
     "execution_count": 119,
     "metadata": {},
     "output_type": "execute_result"
    }
   ],
   "source": [
    "#Shared on ArcGIS.com\n",
    "lyr = sdfSelfie.spatial.to_featurelayer('selfieDeaths', gis=gis)\n",
    "lyr"
   ]
  },
  {
   "cell_type": "code",
   "execution_count": null,
   "metadata": {},
   "outputs": [],
   "source": []
  }
 ],
 "metadata": {
  "kernelspec": {
   "display_name": "Python 3",
   "language": "python",
   "name": "python3"
  },
  "language_info": {
   "codemirror_mode": {
    "name": "ipython",
    "version": 3
   },
   "file_extension": ".py",
   "mimetype": "text/x-python",
   "name": "python",
   "nbconvert_exporter": "python",
   "pygments_lexer": "ipython3",
   "version": "3.6.8"
  }
 },
 "nbformat": 4,
 "nbformat_minor": 2
}

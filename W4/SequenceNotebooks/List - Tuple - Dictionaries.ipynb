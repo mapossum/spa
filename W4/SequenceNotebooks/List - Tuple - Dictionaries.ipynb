{
 "cells": [
  {
   "cell_type": "markdown",
   "metadata": {},
   "source": [
    "---\n",
    "<center><h1> Sequence Data Structures in Python</h1></center>\n",
    "\n",
    "---"
   ]
  },
  {
   "cell_type": "markdown",
   "metadata": {},
   "source": [
    "## Table of Contents\n",
    "- [Sequence Data Structures](#Data-Structures)\n",
    "    * [List](#List)\n",
    "    * [Ranges of Integers](#Ranges-of-Integers)\n",
    "     - [*Exercise 2.1*](#Exercise-2.1)\n",
    "     - [*Exercise 2.2*](#Exercise-2.2)\n",
    "    * [Tuple](#Tuple)\n",
    "    * [Dictionary](#Dictionary)\n",
    "     - [*Exercise 2.4*](#Exercise-2.4)\n",
    "    * [Combining Data Structures](#Combining-Data-Structures)"
   ]
  },
  {
   "cell_type": "markdown",
   "metadata": {},
   "source": [
    "---\n",
    "# Data Structures"
   ]
  },
  {
   "cell_type": "markdown",
   "metadata": {},
   "source": [
    "We have covered in detail much of the basics of python's primitive data types. Its now useful to consider how these basic types can be collected in ways that are meaningful and useful for a variety of tasks. Data structures are a fundamental component of programming, a collection of elements of data that adhere to certain properties, depending on the type. In these notes, we'll present three basic data structures, the list, the set, and the dictionary. Python data structures are very rich, and beyond the scope of this simple primer. Please see [the documentation](http://docs.python.org/2/tutorial/datastructures.html) for a more complete view."
   ]
  },
  {
   "cell_type": "markdown",
   "metadata": {},
   "source": [
    "### List"
   ]
  },
  {
   "cell_type": "markdown",
   "metadata": {},
   "source": [
    "[[back to top]](#Table-of-Contents)"
   ]
  },
  {
   "cell_type": "markdown",
   "metadata": {},
   "source": [
    "A list, sometimes called and array or a vector is an ordered collection of values. The value of a particular element in a list is retrieved by querying for a specific index into an array. Lists allow duplicate values, but but indicies are unique. In python, like most programming languages, list indices start at 0, that is, to get the first element in a list, request the element at index 0. Lists provide very fast access to elements at specific positions, but are inefficient at \"membership queries,\" determining if an element is in the array. \n",
    "\n",
    "In python, lists are specified by square brackets, `[ ]`, containing zero or more values, separated by commas. Lists are the most common data structure, and are often generated as a result of other functions, for instance, `a_string.split(\" \")`.\n",
    "\n",
    "To query a specific value from a list, pass in the requested index into square brackets following the name of the list. Negative indices can be used to traverse the list from the right."
   ]
  },
  {
   "cell_type": "code",
   "execution_count": 38,
   "metadata": {
    "scrolled": false
   },
   "outputs": [
    {
     "name": "stdout",
     "output_type": "stream",
     "text": [
      "another_list[1]:\n",
      "b\n",
      "a_list[-1]:\n",
      "11\n",
      "a_list[2:]:\n",
      "[3, 0, 5, 10, 11]\n"
     ]
    }
   ],
   "source": [
    "a_list = [1, 2, 3, 0, 5, 10, 11]\n",
    "another_list = [\"a\", \"b\", \"c\"]\n",
    "empty_list = []\n",
    "mixed_list = [1, \"a\"]\n",
    "\n",
    "print (\"another_list[1]:\")\n",
    "print (another_list[1])\n",
    "print (\"a_list[-1]:\")\n",
    "print (a_list[-1])      # indexing from the right\n",
    "print (\"a_list[2:]:\")\n",
    "print (a_list[2:])"
   ]
  },
  {
   "cell_type": "markdown",
   "metadata": {},
   "source": [
    "Some common functionality of lists:\n",
    "\n",
    "+ `list.append(x)`: adds an element ot the end of a list\n",
    "+ `list_1.extend(list_2)`: adds all elements in the second list to the end of the first list\n",
    "+ `list.insert(index, x)`: inserts element x into the list at the specified index. Elements to the right of this index are shifted over\n",
    "+ `list.pop(index)`: removes the element at the specified position\n",
    "+ `list.index(x)`: looks through the list to find the specified element, returning it's position if it's found, else throws an error\n",
    "+ `list.remove(x)`: removes object `x` from list\n",
    "+ `list.count(x)`: counts the number of occurrences of the input element\n",
    "+ `list.sort()`: sorts the list of items\n",
    "+ `list.reverse()`: reverses the order of the list\n",
    "+ `len(list)`: returns the number of elements in the list"
   ]
  },
  {
   "cell_type": "code",
   "execution_count": 39,
   "metadata": {
    "scrolled": false
   },
   "outputs": [
    {
     "name": "stdout",
     "output_type": "stream",
     "text": [
      "a_list:\n",
      "[1, 2, 3, 0, 5, 10, 11]\n",
      "append(7):\n",
      "[1, 2, 3, 0, 5, 10, 11, 7] \n",
      "\n",
      "extend([3, 9, 6]):\n",
      "[1, 2, 3, 0, 5, 10, 11, 7, 3, 9, 6] \n",
      "\n",
      "insert(3, -1):\n",
      "[1, 2, 3, -1, 0, 5, 10, 11, 7, 3, 9, 6] \n",
      "\n",
      "pop():\n",
      "[1, 2, 3, -1, 0, 5, 10, 11, 7, 3, 9] \n",
      "\n",
      "the removed item from pop:\n",
      "6\n",
      "pop(0):\n",
      "[2, 3, -1, 0, 5, 10, 11, 7, 3, 9] \n",
      "\n",
      "remove(0):\n",
      "[2, 3, -1, 5, 10, 11, 7, 3, 9] \n",
      "\n",
      "index(10):\n",
      "4\n",
      "[2, 3, -1, 5, 10, 11, 7, 3, 9] \n",
      "\n",
      "count(3):\n",
      "2\n",
      "[2, 3, -1, 5, 10, 11, 7, 3, 9] \n",
      "\n",
      "sort():\n",
      "[-1, 2, 3, 3, 5, 7, 9, 10, 11] \n",
      "\n",
      "reverse():\n",
      "[11, 10, 9, 7, 5, 3, 3, 2, -1] \n",
      "\n",
      "len():\n",
      "9\n"
     ]
    }
   ],
   "source": [
    "a_list = [1, 2, 3, 0, 5, 10, 11]\n",
    "print (\"a_list:\")\n",
    "print (a_list)\n",
    "\n",
    "a_list.append(7)\n",
    "print (\"append(7):\")\n",
    "print (a_list, '\\n')\n",
    "\n",
    "a_list.extend([3, 9, 6])\n",
    "print (\"extend([3, 9, 6]):\")\n",
    "print (a_list, '\\n')\n",
    "\n",
    "a_list.insert(3, -1)\n",
    "print ('insert(3, -1):')\n",
    "print (a_list, '\\n')\n",
    "\n",
    "x = a_list.pop()\n",
    "print (\"pop():\")\n",
    "print (a_list, '\\n')\n",
    "print (\"the removed item from pop:\")\n",
    "print(x)\n",
    "\n",
    "a_list.pop(0)\n",
    "print (\"pop(0):\")\n",
    "print (a_list, '\\n')\n",
    "\n",
    "a_list.remove(0)\n",
    "print (\"remove(0):\")\n",
    "print (a_list, '\\n')\n",
    "\n",
    "x = a_list.index(10)\n",
    "print (\"index(10):\")\n",
    "print (x)\n",
    "print (a_list, '\\n')   # a_list was not changed\n",
    "\n",
    "y = a_list.count(3)\n",
    "print (\"count(3):\")\n",
    "print (y)\n",
    "print (a_list, '\\n')   # a_list was not changed\n",
    "\n",
    "a_list.sort()\n",
    "print (\"sort():\")\n",
    "print (a_list, '\\n')\n",
    "\n",
    "a_list.reverse()\n",
    "print (\"reverse():\")\n",
    "print (a_list, '\\n')\n",
    "print (\"len():\")\n",
    "print (len(a_list))"
   ]
  },
  {
   "cell_type": "markdown",
   "metadata": {},
   "source": [
    "Lets remember just three helpful function available for lists: \n",
    "\n",
    "* `max(list)`: returns item from the list with max value\t\n",
    "* `min(list)`: returns item from the list with min value\n",
    "* `sum(list)`: returns of all list's elements if they are summable"
   ]
  },
  {
   "cell_type": "code",
   "execution_count": 40,
   "metadata": {
    "scrolled": false
   },
   "outputs": [
    {
     "name": "stdout",
     "output_type": "stream",
     "text": [
      "max(list_1):\n",
      "4\n",
      "min(list_1):\n",
      "1\n",
      "sum(list_1):\n",
      "10\n",
      "sum(list_2):\n"
     ]
    },
    {
     "ename": "TypeError",
     "evalue": "unsupported operand type(s) for +: 'int' and 'str'",
     "output_type": "error",
     "traceback": [
      "\u001b[0;31m---------------------------------------------------------------------------\u001b[0m\n\u001b[0;31mTypeError\u001b[0m                                 Traceback (most recent call last)",
      "In  \u001b[0;34m[40]\u001b[0m:\nLine \u001b[0;34m11\u001b[0m:    \u001b[36mprint\u001b[39;49;00m (\u001b[36msum\u001b[39;49;00m(list_2))   \u001b[37m# cause an error as well as max(list_1) and min(list_1)\u001b[39;49;00m\n",
      "\u001b[0;31mTypeError\u001b[0m: unsupported operand type(s) for +: 'int' and 'str'\n\u001b[0;31m---------------------------------------------------------------------------\u001b[0m"
     ]
    }
   ],
   "source": [
    "list_1 = [1, 2, 3, 4]\n",
    "list_2 = [0, 1, 'a', True]\n",
    "print (\"max(list_1):\")\n",
    "print (max(list_1))\n",
    "print (\"min(list_1):\")\n",
    "print (min(list_1))\n",
    "print (\"sum(list_1):\")\n",
    "print (sum(list_1))\n",
    "\n",
    "print (\"sum(list_2):\")\n",
    "print (sum(list_2))   # cause an error as well as max(list_1) and min(list_1)"
   ]
  },
  {
   "cell_type": "markdown",
   "metadata": {},
   "source": [
    "We have used method `pop` for deletion an element of the list. Function **`del`** plays the same role, but it \"can\" delete whole list at onse also. The same statement is correct for other data types."
   ]
  },
  {
   "cell_type": "code",
   "execution_count": 82,
   "metadata": {
    "scrolled": false
   },
   "outputs": [
    {
     "name": "stdout",
     "output_type": "stream",
     "text": [
      "a_list after 'del a_list[3]':\n",
      "[1, 2, 3, 5, 10, 11]\n",
      "<class 'list'>\n",
      "a_list after 'del a_list':\n"
     ]
    },
    {
     "ename": "NameError",
     "evalue": "name 'a_list' is not defined",
     "output_type": "error",
     "traceback": [
      "\u001b[0;31m---------------------------------------------------------------------------\u001b[0m\n\u001b[0;31mNameError\u001b[0m                                 Traceback (most recent call last)",
      "In  \u001b[0;34m[82]\u001b[0m:\nLine \u001b[0;34m10\u001b[0m:    \u001b[36mprint\u001b[39;49;00m (a_list)\n",
      "\u001b[0;31mNameError\u001b[0m: name 'a_list' is not defined\n\u001b[0;31m---------------------------------------------------------------------------\u001b[0m"
     ]
    }
   ],
   "source": [
    "a_list = [1, 2, 3, 0, 5, 10, 11]\n",
    "\n",
    "del a_list[3]\n",
    "print (\"a_list after 'del a_list[3]':\")\n",
    "print (a_list)\n",
    "print (type(a_list))\n",
    "\n",
    "print (\"a_list after 'del a_list':\")\n",
    "del a_list\n",
    "print (a_list)\n",
    "print (type(a_list))"
   ]
  },
  {
   "cell_type": "markdown",
   "metadata": {},
   "source": [
    "The above error message said us that there are no `a_list` variable for now. Thus, `del` remove it from the memory. \n",
    "\n",
    "We have also used function **`type(var)`** to finc out the type of variable `var`. "
   ]
  },
  {
   "cell_type": "markdown",
   "metadata": {},
   "source": [
    "Lists may contain elements of different types and also nested lists"
   ]
  },
  {
   "cell_type": "code",
   "execution_count": 45,
   "metadata": {
    "scrolled": false
   },
   "outputs": [
    {
     "name": "stdout",
     "output_type": "stream",
     "text": [
      "Combined list:\n",
      "['A', 0.25, -1, True, [1], False, [1, ('1', None), 'a']]\n"
     ]
    },
    {
     "data": {
      "text/plain": [
       "'1'"
      ]
     },
     "execution_count": 45,
     "metadata": {},
     "output_type": "execute_result"
    }
   ],
   "source": [
    "combined_list = [\"A\", 0.25, -1, True, [1], 1==0, [1, ('1', None), 'a']]\n",
    "print ('Combined list:')\n",
    "print (combined_list)\n",
    "combined_list[6][1][0]"
   ]
  },
  {
   "cell_type": "markdown",
   "metadata": {},
   "source": [
    "### Ranges of Integers"
   ]
  },
  {
   "cell_type": "markdown",
   "metadata": {},
   "source": [
    "[[back to top]](#Table-of-Contents)"
   ]
  },
  {
   "cell_type": "markdown",
   "metadata": {},
   "source": [
    "Often it is convenient to define (and iterate through) ranges of integers. Python has a convenient range function that allows you to do just this.\n",
    "\n",
    "The `range()` command is a convenient way to make sequential lists of numbers:"
   ]
  },
  {
   "cell_type": "code",
   "execution_count": 29,
   "metadata": {
    "scrolled": false
   },
   "outputs": [
    {
     "name": "stdout",
     "output_type": "stream",
     "text": [
      "range(3):\n",
      "range(0, 3)\n",
      "range(-5, 5):\n",
      "range(-5, 5)\n",
      "range(-5, 5, 2):\n",
      "range(-5, 5, 2)\n"
     ]
    }
   ],
   "source": [
    "print (\"range(3):\")\n",
    "print (range(3)) # start at zero, < the specified ceiling value\n",
    "print (\"range(-5, 5):\")\n",
    "print (range(-5, 5)) #from the left value, < right value\n",
    "print (\"range(-5, 5, 2):\")\n",
    "print (range(-5, 5, 2)) #from the left value, to the middle value, incrementing by the right value"
   ]
  },
  {
   "cell_type": "markdown",
   "metadata": {},
   "source": [
    "Note that `range(n)` starts at 0 and gives the sequential list of integers less than `n`. If you want to start at a different number, use range(start,stop). The first lists created below with range have a *step* of 1 between elements. You can also give a fixed step size via a third command:"
   ]
  },
  {
   "cell_type": "code",
   "execution_count": 30,
   "metadata": {
    "scrolled": false
   },
   "outputs": [
    {
     "name": "stdout",
     "output_type": "stream",
     "text": [
      "range(2,8):\n",
      "range(2, 8)\n",
      "range(0,20,2):\n",
      "range(0, 20, 2)\n"
     ]
    }
   ],
   "source": [
    "print (\"range(2,8):\")\n",
    "print (range(2,8))\n",
    "evens = range(0,20,2)\n",
    "print (\"range(0,20,2):\")\n",
    "print (evens)"
   ]
  },
  {
   "cell_type": "markdown",
   "metadata": {},
   "source": [
    "As an example let's write code for Fibonacci sequence using Python lists"
   ]
  },
  {
   "cell_type": "code",
   "execution_count": 47,
   "metadata": {
    "scrolled": false
   },
   "outputs": [
    {
     "name": "stdout",
     "output_type": "stream",
     "text": [
      "Fibonacci sequence with lists:\n",
      "[0, 1, 1, 2, 3, 5, 8, 13, 21]\n"
     ]
    }
   ],
   "source": [
    "i = 2\n",
    "seq = [0, 1]\n",
    "while seq[i-1] < 20: \n",
    "    seq.append(seq[i-1] + seq[i-2])\n",
    "    i = i + 1\n",
    "print (\"Fibonacci sequence with lists:\")\n",
    "print (seq)"
   ]
  },
  {
   "cell_type": "code",
   "execution_count": 49,
   "metadata": {},
   "outputs": [
    {
     "data": {
      "text/plain": [
       "('George', 'Jorge')"
      ]
     },
     "execution_count": 49,
     "metadata": {},
     "output_type": "execute_result"
    }
   ],
   "source": [
    "#List are mutable, String and Tuples are not\n",
    "seq[3] = 20\n",
    "seq\n",
    "\n",
    "name = \"George\"\n",
    "\n",
    "spname = name.replace(\"Ge\", \"J\")\n",
    "name, spname"
   ]
  },
  {
   "cell_type": "markdown",
   "metadata": {},
   "source": [
    "`None` is a special value in Python. It is a value that indicates no value."
   ]
  },
  {
   "cell_type": "markdown",
   "metadata": {},
   "source": [
    "### Tuple"
   ]
  },
  {
   "cell_type": "markdown",
   "metadata": {},
   "source": [
    "[[back to top]](#Table-of-Contents)"
   ]
  },
  {
   "cell_type": "markdown",
   "metadata": {},
   "source": [
    "Tuples are immutable and contain a fixed number of elements. A tuple consists of a number of values separated by commas, for instance:"
   ]
  },
  {
   "cell_type": "code",
   "execution_count": 44,
   "metadata": {
    "scrolled": false
   },
   "outputs": [
    {
     "name": "stdout",
     "output_type": "stream",
     "text": [
      "t:\n",
      "(12345, 54321, 'hello!') \n",
      "\n",
      "t[0]:\n",
      "12345 \n",
      "\n",
      "my_tuple[1]:\n",
      "2 \n",
      "\n",
      "Two elements. The first one: NYU and the second one stern:\n"
     ]
    }
   ],
   "source": [
    "t = 12345, 54321, 'hello!'\n",
    "print ('t:')\n",
    "print (t,'\\n')\n",
    "print ('t[0]:')\n",
    "print (t[0],'\\n')\n",
    "\n",
    "my_tuple = (1, 2, 3)\n",
    "print ('my_tuple[1]:')\n",
    "print (my_tuple[1],'\\n')\n",
    "\n",
    "print (\"Two elements. The first one: %s and the second one %s:\" % (\"NYU\", \"stern\"))"
   ]
  },
  {
   "cell_type": "markdown",
   "metadata": {},
   "source": [
    "Let's rewrite the Fibonacci script from above using tuples, to avoid the temporary variable t:"
   ]
  },
  {
   "cell_type": "code",
   "execution_count": 45,
   "metadata": {
    "scrolled": false
   },
   "outputs": [
    {
     "name": "stdout",
     "output_type": "stream",
     "text": [
      "Fibonacci series with tuples:\n",
      "1\n",
      "1\n",
      "2\n",
      "3\n",
      "5\n",
      "8\n",
      "13\n"
     ]
    }
   ],
   "source": [
    "# Fibonacci series:\n",
    "# the sum of two elements defines the next\n",
    "a = 0\n",
    "b = 1\n",
    "print (\"Fibonacci series with tuples:\")\n",
    "while b < 20:\n",
    "    print (b),\n",
    "    a, b = b, a+b"
   ]
  },
  {
   "cell_type": "markdown",
   "metadata": {},
   "source": [
    "### Dictionary"
   ]
  },
  {
   "cell_type": "markdown",
   "metadata": {},
   "source": [
    "[[back to top]](#Table-of-Contents)"
   ]
  },
  {
   "cell_type": "markdown",
   "metadata": {},
   "source": [
    "Dictionaries, sometimes called dicts, maps, or, rarely, hashes are data structures containing key-value pairs. Dictionaries have a set of unique keys and are used to retrieve the value information associated with these keys. For instance, a dictionary might be used to store for each user, that user's location, or for a product id, the description associated with that product. Lookup into a dictionary is very efficient, and because these data structures are very common, they are frequently used and encountered in practice. \n",
    "\n",
    "Dictionaries are specified by curly braces, `{ }`, containing zero or more comma separated key-value pairs, where the keys and values are separated by a colon, `:`. Like a list, values for a particular key are retrieved by passing the query key into square brackets."
   ]
  },
  {
   "cell_type": "code",
   "execution_count": 53,
   "metadata": {
    "scrolled": false
   },
   "outputs": [
    {
     "name": "stdout",
     "output_type": "stream",
     "text": [
      "a_dict['c']:\n",
      "3\n"
     ]
    }
   ],
   "source": [
    "a_dict = {\"a\":1, \"b\":2, \"c\":3, \"d\": 4}\n",
    "another_dict = {\"c\":5, \"d\":6}\n",
    "empty_dict = {}\n",
    "print (\"a_dict['c']:\")\n",
    "print (a_dict[\"c\"])"
   ]
  },
  {
   "cell_type": "markdown",
   "metadata": {},
   "source": [
    "Like the set, the easiest way to check if a particular key is in a map is through the `in` keyword:"
   ]
  },
  {
   "cell_type": "code",
   "execution_count": 22,
   "metadata": {
    "scrolled": false
   },
   "outputs": [
    {
     "name": "stdout",
     "output_type": "stream",
     "text": [
      "a in a dict:\n",
      "True\n",
      "b in another_dict:\n",
      "False\n"
     ]
    }
   ],
   "source": [
    "print (\"a in a dict:\")\n",
    "print (\"a\" in a_dict)\n",
    "print (\"b in another_dict:\")\n",
    "print (\"b\" in another_dict)"
   ]
  },
  {
   "cell_type": "markdown",
   "metadata": {},
   "source": [
    "Some common operations on dictionaries:\n",
    "\n",
    "+ `dict.keys()`: returns a list containing the keys of a dictionary\n",
    "+ `dict.values()`: returns a list containing the values in a dictionary\n",
    "+ `dict.pop(x)`: removes the key `x` and its associated value from the dictionary\n",
    "+ `dict.clear()`: removes all elements of dictionary `dict`\n",
    "+ `dict.copy()`: returns a shallow copy of dictionary `dict`\n",
    "+ `dict.fromkeys()`: сreates a new dictionary with keys from sequence and values set to value\t\n",
    "+ `dict.get(key, default=None)`: for key `key`, returns value or default if key not in dictionary\n",
    "+ `dict.has_key(key)`: returns true if key in dictionary `dict`, false otherwise\n",
    "+ `dict.items()`: returns a list of dict's (key, value) tuple pairs\n",
    "+ `dict.setdefault(key, default=None)`: similar to get(), but will set `dict[key]=default` if `key` is not already in dict\n",
    "+ `dict.update(dict_2)`: adds dictionary `dict_2`'s key-values pairs to `dict`"
   ]
  },
  {
   "cell_type": "code",
   "execution_count": 27,
   "metadata": {
    "scrolled": false
   },
   "outputs": [
    {
     "name": "stdout",
     "output_type": "stream",
     "text": [
      "dict_1 keys:\n",
      "dict_keys(['a', 'b', 'c', 'd'])\n",
      "dict_1 values:\n",
      "dict_values([1, 2, 3, 4]) \n",
      "\n",
      "dict_01 from keys 'seq':\n",
      "{'name': None, 'age': None, 'sex': None} \n",
      "\n",
      "dict_2.pop('e'):\n",
      "{'d': 5, 'f': 7} \n",
      "\n",
      "dict_2:\n",
      "{'d': 5, 'f': 7}\n",
      "dict_3:\n",
      "{'d': 5, 'f': 7}\n",
      "dict_4:\n",
      "{'d': 5, 'f': 7} \n",
      "\n",
      "After dict_2.clear():\n",
      "dict_2:\n",
      "{}\n",
      "dict_3:\n",
      "{'d': 5, 'f': 7}\n",
      "dict_4:\n",
      "{} \n",
      "\n",
      "dict_02 from keys 'seq':\n",
      "{'name': 5, 'age': 5, 'sex': 5} \n",
      "\n",
      "dict_1.has_key('b'):\n",
      "True\n",
      "dict_1.has_key('f'):\n",
      "False \n",
      "\n",
      "dict_1 get 'b':\n",
      "2 \n",
      "\n",
      "dict_1 get 'f':\n",
      "None \n",
      "\n",
      "dict_1 items:\n",
      "dict_items([('a', 1), ('b', 2), ('c', 3), ('d', 4)]) \n",
      "\n",
      "dict_1 update:\n",
      "{'a': 1, 'b': 2, 'c': 3, 'd': 4, 'x': 0}\n"
     ]
    }
   ],
   "source": [
    "dict_1 = {\"a\":1, \"b\":2, \"c\":3, \"d\": 4}\n",
    "dict_2 = {\"d\":5, \"e\":6, \"f\": 7}\n",
    "print (\"dict_1 keys:\")\n",
    "print (dict_1.keys())\n",
    "print (\"dict_1 values:\")\n",
    "print (dict_1.values(), '\\n')\n",
    "\n",
    "\n",
    "seq = ('name', 'age', 'sex')\n",
    "dict_01 = dict.fromkeys(seq)\n",
    "print (\"dict_01 from keys 'seq':\")\n",
    "print (dict_01, '\\n')\n",
    "\n",
    "dict_2.pop(\"e\")\n",
    "print (\"dict_2.pop('e'):\")\n",
    "print (dict_2, '\\n')\n",
    "\n",
    "dict_3 = dict_2.copy()\n",
    "dict_4 = dict_2\n",
    "print (\"dict_2:\")\n",
    "print (dict_2)\n",
    "print ('dict_3:')\n",
    "print (dict_3)\n",
    "print ('dict_4:')\n",
    "print (dict_4, '\\n')\n",
    "\n",
    "dict_2.clear()\n",
    "print (\"After dict_2.clear():\")\n",
    "print (\"dict_2:\")\n",
    "print (dict_2)         # is removed\n",
    "print ('dict_3:')\n",
    "print (dict_3)         # is NOT removed\n",
    "print ('dict_4:')\n",
    "print (dict_4, '\\n')   # is removed also\n",
    "\n",
    "dict_02 = dict.fromkeys(seq, 5)\n",
    "print (\"dict_02 from keys 'seq':\")\n",
    "print (dict_02, '\\n')\n",
    "\n",
    "print (\"dict_1.has_key('b'):\")\n",
    "print (\"b\" in dict_1)\n",
    "print (\"dict_1.has_key('f'):\")\n",
    "print (\"f\" in dict_1, '\\n')\n",
    "\n",
    "print (\"dict_1 get 'b':\")\n",
    "print (dict_1.get(\"b\"), '\\n')\n",
    "print (\"dict_1 get 'f':\")\n",
    "print (dict_1.get(\"f\"), '\\n')\n",
    "\n",
    "print (\"dict_1 items:\")\n",
    "print (dict_1.items(), '\\n')\n",
    "\n",
    "dict_1.update({\"x\": 0})\n",
    "print (\"dict_1 update:\")\n",
    "print (dict_1)"
   ]
  },
  {
   "cell_type": "markdown",
   "metadata": {
    "collapsed": true
   },
   "source": [
    ">### Exercise\n",
    "\n",
    "> You have three dictionaries \n",
    "\n",
    "> 1. `john = {\"name\": \"John\", \"age\": 23, \"profession\": \"Python Developer\", \"salary\": 80000}`; \n",
    "> 2. `thomas = {\"name\": \"Thomas\", \"age\": 53, \"profession\": \"Teacher\", \"salary\": 15000}`; \n",
    "> 3. `barbara = {\"name\": \"Barbara\", \"age\": 30, \"profession\": \"Doctor\", \"salary\": 47000}`;\n",
    "\n",
    "> For these dictionaries you need:\n",
    "\n",
    ">* Barbara had the birthday yesterday, now she is 31, and the John's salary increased to 85000 last month. Correct these data.\n",
    "\n",
    ">* Calculate the `diff` value as the difference between average salary of John, Thomas and Barbara before and after the previous corrections.  "
   ]
  },
  {
   "cell_type": "code",
   "execution_count": 63,
   "metadata": {
    "scrolled": false
   },
   "outputs": [
    {
     "data": {
      "text/plain": [
       "{'name': 'John', 'age': 23, 'profession': 'Python Developer', 'salary': 85000}"
      ]
     },
     "execution_count": 63,
     "metadata": {},
     "output_type": "execute_result"
    }
   ],
   "source": [
    "# type your code here\n",
    "john = {\"name\": \"John\", \"age\": 23, \"profession\": \"Python Developer\", \"salary\": 80000}\n",
    "thomas = {\"name\": \"Thomas\", \"age\": 53, \"profession\": \"Teacher\", \"salary\": 15000}\n",
    "barbara = {\"name\": \"Barbara\", \"age\": 30, \"profession\": \"Doctor\", \"salary\": 47000}\n",
    "\n",
    "#Continue your answer below\n",
    "\n",
    "barbara[\"age\"] = 31\n",
    "barbara\n",
    "\n",
    "john[\"salary\"] = 85000\n",
    "john\n",
    "\n",
    "\n"
   ]
  },
  {
   "cell_type": "code",
   "execution_count": 64,
   "metadata": {},
   "outputs": [
    {
     "name": "stdout",
     "output_type": "stream",
     "text": [
      "name John\n",
      "age 23\n",
      "profession Python Developer\n",
      "salary 85000\n",
      " \n",
      "name Thomas\n",
      "age 53\n",
      "profession Teacher\n",
      "salary 15000\n",
      " \n",
      "name Barbara\n",
      "age 31\n",
      "profession Doctor\n",
      "salary 47000\n",
      " \n"
     ]
    }
   ],
   "source": [
    "employees = [john,thomas,barbara]\n",
    "\n",
    "for employee in employees:\n",
    "    for col in employee:\n",
    "        print(col, employee[col])\n",
    "    print(\" \")"
   ]
  },
  {
   "cell_type": "markdown",
   "metadata": {},
   "source": [
    "Function **`cmp(obj_1, obj_2)`** compares elements of both objects `obj_1` and `obj_2`. It is available for lists, tuples and dictionaries."
   ]
  },
  {
   "cell_type": "markdown",
   "metadata": {},
   "source": [
    "### Combining Data Structures"
   ]
  },
  {
   "cell_type": "markdown",
   "metadata": {},
   "source": [
    "[[back to top]](#Table-of-Contents)"
   ]
  },
  {
   "cell_type": "markdown",
   "metadata": {
    "collapsed": true
   },
   "source": [
    "There are many opportunities to combine data types in python. Lists can be populated by arbitrary data structures. Similarly, you can use any type as the value in a dictionary. However, the elements of sets, and the keys of dictionaries need to have some special properties that allow the mechanics of the data structure to determine how to store the element."
   ]
  },
  {
   "cell_type": "code",
   "execution_count": 40,
   "metadata": {
    "scrolled": false
   },
   "outputs": [
    {
     "name": "stdout",
     "output_type": "stream",
     "text": [
      "lists of lists\n",
      "[[1, 2, 3], [4, 5, 6, 7]]\n",
      "lists of lists of lists\n",
      "[[[1, 2, 3], [4, 5, 6, 7]], [[4, 5, 6], [7, 8, 9]]]\n",
      "retrieving data from this data structure\n",
      "[[1, 2, 3], [4, 5, 6, 7]]\n",
      "[1, 2, 3]\n",
      "1\n",
      "data structures as values in a dictionary\n",
      "{'lol': [[1, 2, 3], [4, 5, 6, 7]], 'lol_2': [[4, 5, 6], [7, 8, 9]]}\n",
      "retrieving data from this dictionary\n",
      "[[1, 2, 3], [4, 5, 6, 7]]\n",
      "[1, 2, 3]\n",
      "1\n"
     ]
    }
   ],
   "source": [
    "print (\"lists of lists\")\n",
    "lol = [[1, 2, 3], [4, 5, 6, 7]]\n",
    "lol_2 = [[4, 5, 6], [7, 8, 9]]\n",
    "print (lol)\n",
    "\n",
    "print (\"lists of lists of lists\")\n",
    "lolol = [lol, lol_2]\n",
    "print (lolol)\n",
    "\n",
    "print (\"retrieving data from this data structure\")\n",
    "print (lolol[0])\n",
    "print (lolol[0][0])\n",
    "print (lolol[0][0][0])\n",
    "\n",
    "print (\"data structures as values in a dictionary\")\n",
    "dlol = {\"lol\":lol, \"lol_2\":lol_2}\n",
    "print (dlol)\n",
    "\n",
    "print (\"retrieving data from this dictionary\")\n",
    "print (dlol[\"lol\"])\n",
    "print (dlol[\"lol\"][0])\n",
    "print (dlol[\"lol\"][0][0])"
   ]
  }
 ],
 "metadata": {
  "anaconda-cloud": {},
  "kernelspec": {
   "display_name": "ArcGISPro",
   "language": "Python",
   "name": "python3"
  },
  "language_info": {
   "file_extension": ".py",
   "name": "python",
   "version": "3"
  }
 },
 "nbformat": 4,
 "nbformat_minor": 1
}

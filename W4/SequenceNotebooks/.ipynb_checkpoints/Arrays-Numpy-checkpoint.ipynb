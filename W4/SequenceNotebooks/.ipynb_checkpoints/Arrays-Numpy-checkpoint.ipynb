{
 "cells": [
  {
   "cell_type": "markdown",
   "metadata": {},
   "source": [
    "---\n",
    "<h1><center>Arrays (NumPy)</h1></center>\n",
    "\n",
    "---"
   ]
  },
  {
   "cell_type": "markdown",
   "metadata": {},
   "source": [
    "# Introduction"
   ]
  },
  {
   "cell_type": "code",
   "execution_count": 119,
   "metadata": {},
   "outputs": [],
   "source": [
    "import numpy as np"
   ]
  },
  {
   "cell_type": "markdown",
   "metadata": {
    "collapsed": true
   },
   "source": [
    "We have import above a new module `numpy`. The `numpy` package (module) is used in almost all numerical computation using Python. It is a package that provide high-performance vector, matrix and higher-dimensional data structures for Python. It is implemented in C and Fortran so when calculations are vectorized (formulated with vectors and matrices), performance is very good.\n",
    "\n",
    "Below we have provided only small part of all features and available function set of NumPy. More information you can find at [official site](http://www.numpy.org/)."
   ]
  },
  {
   "cell_type": "markdown",
   "metadata": {},
   "source": [
    "# Table of Contents\n",
    "- [The NumPy array object](#The-NumPy-array-object) \n",
    "- [NumPy array-generating functions](#NumPy-array-generating-functions)\n",
    "- [Manipulating arrays](#Manipulating-arrays)\n",
    "- [Operations on NumPy arrays](#Operations-on-NumPy-arrays)\n",
    "- [Data processing](#Data-processing)\n",
    "- [*Exercise 1.1*](#Exercise-1.1)\n",
    "- [*Exercise 1.2*](#Exercise-1.2)\n",
    "- [*Exercise 1.3*](#Exercise-1.3)\n",
    "- [*Exercise 1.4*](#Exercise-1.4)"
   ]
  },
  {
   "cell_type": "markdown",
   "metadata": {},
   "source": [
    "### The NumPy array object"
   ]
  },
  {
   "cell_type": "markdown",
   "metadata": {},
   "source": [
    "[[back to top]](#Table-of-Contents)"
   ]
  },
  {
   "cell_type": "markdown",
   "metadata": {},
   "source": [
    "To create new vector and matrix arrays from Python lists or tuples we can use the `numpy.array` function."
   ]
  },
  {
   "cell_type": "code",
   "execution_count": 120,
   "metadata": {},
   "outputs": [
    {
     "name": "stdout",
     "output_type": "stream",
     "text": [
      "NumPy one dimensional array (vector):\n",
      "v = [1 2 3 4]\n",
      "\n",
      "NumPy two dimensional array (matrix) M:\n",
      " [[1 2]\n",
      " [3 4]\n",
      " [5 6]]\n",
      "\n",
      "Types of v and M: <class 'numpy.ndarray'> <class 'numpy.ndarray'>\n"
     ]
    }
   ],
   "source": [
    "v = np.array([1,2,3,4])\n",
    "print (\"NumPy one dimensional array (vector):\\nv =\", v)\n",
    "\n",
    "M = np.array([[1, 2], [3, 4], [5, 6]])\n",
    "print (\"\\nNumPy two dimensional array (matrix) M:\\n\", M)\n",
    "\n",
    "# The `v` and `M` objects are both of the type `ndarray` that the `numpy` module provides.\n",
    "print (\"\\nTypes of v and M:\", type(v), type(M))"
   ]
  },
  {
   "cell_type": "markdown",
   "metadata": {},
   "source": [
    "The difference between the `v` and `M` arrays is only their shapes. We can get information about the shape of an array by using the `ndarray.shape` property. The number of elements in the array is available through the ndarray.size property. Equivalently, we could use the function `numpy.shape` and `numpy.size`."
   ]
  },
  {
   "cell_type": "code",
   "execution_count": 121,
   "metadata": {},
   "outputs": [
    {
     "name": "stdout",
     "output_type": "stream",
     "text": [
      "v.shape: (4,)\n",
      "M.shape: (3, 2)\n",
      "\n",
      "v contains 4 elements\n",
      "M contains 6 elements\n"
     ]
    }
   ],
   "source": [
    "print (\"v.shape:\", v.shape)\n",
    "print (\"M.shape:\", M.shape)\n",
    "\n",
    "print (\"\\nv contains {} elements\".format(v.size))\n",
    "print (\"M contains {} elements\".format(M.size))"
   ]
  },
  {
   "cell_type": "markdown",
   "metadata": {},
   "source": [
    "More properties of the `numpy` arrays:"
   ]
  },
  {
   "cell_type": "code",
   "execution_count": 122,
   "metadata": {},
   "outputs": [
    {
     "name": "stdout",
     "output_type": "stream",
     "text": [
      "M data type: int32\n",
      "M.itemsize: 4\n",
      "M.nbytes: 24\n",
      "M.ndim: 2\n"
     ]
    }
   ],
   "source": [
    "# `dtype` (data type) property shows the type of the data of an array:\n",
    "print (\"M data type:\", M.dtype)\n",
    "\n",
    "# itemsize returns the bytes per element\n",
    "print (\"M.itemsize:\", M.itemsize) \n",
    "\n",
    "# `nbytes` returns number of bytes\n",
    "print (\"M.nbytes:\", M.nbytes)\n",
    "\n",
    "# `ndim` shows number of dimensions\n",
    "print (\"M.ndim:\", M.ndim)"
   ]
  },
  {
   "cell_type": "markdown",
   "metadata": {},
   "source": [
    "If we want, we can explicitly define the type of the array data when we create it, using the `dtype` keyword argument. Common data types that can be used with dtype are: `int, float, complex, bool, object`, etc. We can also explicitly define the bit size of the data types, for example: `int32, int16, float64, complex128`."
   ]
  },
  {
   "cell_type": "code",
   "execution_count": 123,
   "metadata": {},
   "outputs": [
    {
     "name": "stdout",
     "output_type": "stream",
     "text": [
      "a:\n",
      " [[1.+0.j 2.+0.j]\n",
      " [3.+0.j 4.+0.j]]\n",
      "\n",
      "a.dtype: complex128\n"
     ]
    }
   ],
   "source": [
    "a = np.array([[1, 2], [3, 4]], dtype=\"complex\")\n",
    "print (\"a:\\n\", a)\n",
    "print (\"\\na.dtype:\", a.dtype)"
   ]
  },
  {
   "cell_type": "markdown",
   "metadata": {},
   "source": [
    "### NumPy array-generating functions"
   ]
  },
  {
   "cell_type": "markdown",
   "metadata": {},
   "source": [
    "[[back to top]](#Table-of-Contents)"
   ]
  },
  {
   "cell_type": "markdown",
   "metadata": {},
   "source": [
    "For larger arrays it is inpractical to initialize the data manually, using explicit python lists. Instead we can use one of the many functions in NumPy that generate arrays of different forms. Some of the more common are:\n",
    "* `arange`\n",
    "* `linspace`\n",
    "* `random.rand` and `random.randn`\n",
    "* `diag`\n",
    "* `ones`\n",
    "* `zeros`\n",
    "* `identity`"
   ]
  },
  {
   "cell_type": "code",
   "execution_count": 124,
   "metadata": {},
   "outputs": [
    {
     "name": "stdout",
     "output_type": "stream",
     "text": [
      "numpy.arange:\n",
      "np.arange(0, 10, 1):\n",
      " [0 1 2 3 4 5 6 7 8 9]\n",
      "np.arange(-3, 3, 0.5):\n",
      " [-3.  -2.5 -2.  -1.5 -1.  -0.5  0.   0.5  1.   1.5  2.   2.5]\n"
     ]
    }
   ],
   "source": [
    "print (\"numpy.arange:\")\n",
    "x_1 = np.arange(0, 10, 1)      # arguments: start, stop, step\n",
    "print (\"np.arange(0, 10, 1):\\n\", x_1)\n",
    "print (\"np.arange(-3, 3, 0.5):\\n\", np.arange(-3, 3, 0.5)) "
   ]
  },
  {
   "cell_type": "code",
   "execution_count": 125,
   "metadata": {},
   "outputs": [
    {
     "name": "stdout",
     "output_type": "stream",
     "text": [
      "numpy.linspace\n",
      "np.linspace(0, 5, 9):\n",
      " [0.    0.625 1.25  1.875 2.5   3.125 3.75  4.375 5.   ]\n"
     ]
    }
   ],
   "source": [
    "print (\"numpy.linspace\")\n",
    "# using linspace and logspace, both end points ARE included\n",
    "x_2 = np.linspace(0, 5, 9)   # arguments: start, stop, points amount between start and end\n",
    "print (\"np.linspace(0, 5, 9):\\n\", x_2)"
   ]
  },
  {
   "cell_type": "code",
   "execution_count": 126,
   "metadata": {},
   "outputs": [
    {
     "name": "stdout",
     "output_type": "stream",
     "text": [
      "numpy.random.rand and numpy.random.randn:\n",
      "random.rand(5,5):\n",
      " [[0.53338681 0.29704061 0.3398062  0.20049086 0.22030889]\n",
      " [0.97523403 0.81731629 0.61924922 0.69764534 0.63101489]\n",
      " [0.18724862 0.25802309 0.96247087 0.66869075 0.0273536 ]\n",
      " [0.96486171 0.94679354 0.32745496 0.86073573 0.42358613]\n",
      " [0.97465427 0.65024603 0.41082088 0.66435511 0.57886484]]\n",
      "random.randn(5,5):\n",
      " [[-1.5884957  -0.31561033  0.45091724  1.18637898 -2.00450194]\n",
      " [ 1.02335137 -0.01136006 -1.16184367 -0.17346888  1.0242253 ]\n",
      " [-1.58906714  0.41467969 -0.3938534  -0.29408087  0.96800062]\n",
      " [-1.0923648  -0.02584387  0.70173976  0.05690271 -2.75327285]\n",
      " [-1.90608472 -1.72105546 -0.54051385  1.29550803 -0.58417897]]\n"
     ]
    }
   ],
   "source": [
    "from numpy import random\n",
    "\n",
    "print (\"numpy.random.rand and numpy.random.randn:\") \n",
    "# uniform random numbers in [0,1]\n",
    "print (\"random.rand(5,5):\\n\", random.rand(5,5))\n",
    "# standard normal distributed random numbers\n",
    "print (\"random.randn(5,5):\\n\", random.randn(5,5))"
   ]
  },
  {
   "cell_type": "code",
   "execution_count": 127,
   "metadata": {},
   "outputs": [
    {
     "name": "stdout",
     "output_type": "stream",
     "text": [
      "numpy.diag:\n",
      "np.diag([1,2,3]):\n",
      " [[1 0 0]\n",
      " [0 2 0]\n",
      " [0 0 3]]\n",
      "np.diag([1,2,3], k=1):\n",
      " [[0 1 0 0]\n",
      " [0 0 2 0]\n",
      " [0 0 0 3]\n",
      " [0 0 0 0]]\n"
     ]
    }
   ],
   "source": [
    "print (\"numpy.diag:\")\n",
    "# a diagonal matrix\n",
    "print (\"np.diag([1,2,3]):\\n\", np.diag([1,2,3]))\n",
    "# diagonal with offset from the main diagonal\n",
    "print (\"np.diag([1,2,3], k=1):\\n\", np.diag([1,2,3], k=1)) "
   ]
  },
  {
   "cell_type": "code",
   "execution_count": 128,
   "metadata": {},
   "outputs": [
    {
     "name": "stdout",
     "output_type": "stream",
     "text": [
      "numpy.zeros, numpy.ones and numpy.identity:\n",
      "np.zeros((3,3)):\n",
      " [[0. 0. 0.]\n",
      " [0. 0. 0.]\n",
      " [0. 0. 0.]]\n",
      "np.ones((3,3)):\n",
      " [[1. 1. 1.]\n",
      " [1. 1. 1.]\n",
      " [1. 1. 1.]]\n",
      "np.identity(4):\n",
      " [[1. 0. 0. 0.]\n",
      " [0. 1. 0. 0.]\n",
      " [0. 0. 1. 0.]\n",
      " [0. 0. 0. 1.]]\n"
     ]
    }
   ],
   "source": [
    "print (\"numpy.zeros, numpy.ones and numpy.identity:\") \n",
    "# array with zeros\n",
    "print (\"np.zeros((3,3)):\\n\", np.zeros((3,3)))\n",
    "# array with unities\n",
    "print (\"np.ones((3,3)):\\n\", np.ones((3,3)))\n",
    "# identity matrix\n",
    "print (\"np.identity(4):\\n\", np.identity(4))  # argument is the dimension of the squared matrix"
   ]
  },
  {
   "cell_type": "markdown",
   "metadata": {},
   "source": [
    "### Manipulating arrays"
   ]
  },
  {
   "cell_type": "markdown",
   "metadata": {},
   "source": [
    "[[back to top]](#Table-of-Contents)"
   ]
  },
  {
   "cell_type": "markdown",
   "metadata": {
    "collapsed": true
   },
   "source": [
    "**Indexing**\n",
    "\n",
    "We can index elements in an array using square brackets and indices."
   ]
  },
  {
   "cell_type": "code",
   "execution_count": 129,
   "metadata": {},
   "outputs": [
    {
     "name": "stdout",
     "output_type": "stream",
     "text": [
      "v[0] = 1\n",
      "\n",
      "M[1,1] = 4\n",
      "\n",
      "The second row of M: M[1] = [3 4]\n",
      "\n",
      "M[1,:] returns also the second row of M: [3 4]\n",
      "\n",
      "The second column of M: M[:,1] = [2 4 6]\n"
     ]
    }
   ],
   "source": [
    "# v is a vector, and has only one dimension, taking one index\n",
    "print (\"v[0] =\", v[0])\n",
    "\n",
    "# M is a matrix, or a 2 dimensional array, taking two indices \n",
    "print (\"\\nM[1,1] =\", M[1,1])\n",
    "\n",
    "# If we omit an index of a multidimensional array it returns the whole row (or, in general, a N-1 dimensional array)\n",
    "print (\"\\nThe second row of M: M[1] =\", M[1])\n",
    "# The same thing can be achieved with using : instead of an index\n",
    "print (\"\\nM[1,:] returns also the second row of M:\", M[1,:]) # row 1\n",
    "\n",
    "print (\"\\nThe second column of M: M[:,1] =\", M[:,1]) # column 1"
   ]
  },
  {
   "cell_type": "code",
   "execution_count": 130,
   "metadata": {},
   "outputs": [
    {
     "name": "stdout",
     "output_type": "stream",
     "text": [
      "Initial matrix M:\n",
      "[[1 2]\n",
      " [3 4]\n",
      " [5 6]]\n",
      "\n",
      "M[0,0] elements was reassigned to 1:\n",
      "[[-1  2]\n",
      " [ 3  4]\n",
      " [ 5  6]]\n",
      "\n",
      "The second row was replaced to zeros and then the second column eleemts were replaced to -1:\n",
      "[[-1 -1]\n",
      " [ 3 -1]\n",
      " [ 0 -1]]\n"
     ]
    }
   ],
   "source": [
    "print (\"Initial matrix M:\")\n",
    "print (M)\n",
    "\n",
    "#We can assign new values to elements in an array using indexing:\n",
    "M[0,0] = -1\n",
    "print (\"\\nM[0,0] elements was reassigned to 1:\")\n",
    "print (M)\n",
    "\n",
    "# also works for rows and columns\n",
    "M[2,:] = 0\n",
    "M[:,1] = -1\n",
    "print (\"\\nThe second row was replaced to zeros and then the second column eleemts were replaced to -1:\")\n",
    "print (M)"
   ]
  },
  {
   "cell_type": "markdown",
   "metadata": {
    "collapsed": true
   },
   "source": [
    "We can also use index masks: If the index mask is an Numpy array of data type bool, then an element is selected (`True`) or not (`False`) depending on the value of the index mask at the position of each element:"
   ]
  },
  {
   "cell_type": "code",
   "execution_count": 131,
   "metadata": {},
   "outputs": [
    {
     "name": "stdout",
     "output_type": "stream",
     "text": [
      "Initial array x:\n",
      " [0.  0.5 1.  1.5 2.  2.5 3.  3.5 4.  4.5 5.  5.5 6.  6.5 7.  7.5 8.  8.5\n",
      " 9.  9.5]\n",
      "\n",
      "Mask:\n",
      " [False False False False False False False False False False False  True\n",
      "  True  True  True False False False False False]\n",
      "\n",
      "Elements of x satisfying mask conditions:\n",
      " [5.5 6.  6.5 7. ]\n"
     ]
    }
   ],
   "source": [
    "x = np.arange(0, 10, 0.5)\n",
    "print (\"Initial array x:\\n\", x)\n",
    "\n",
    "# Set the mask for filtering\n",
    "mask = (5 < x) * (x < 7.5)\n",
    "print (\"\\nMask:\\n\", mask)\n",
    "\n",
    "print (\"\\nElements of x satisfying mask conditions:\\n\", x[mask])"
   ]
  },
  {
   "cell_type": "markdown",
   "metadata": {
    "collapsed": true
   },
   "source": [
    "The index mask can be converted to position index using the `numpy.where` function."
   ]
  },
  {
   "cell_type": "code",
   "execution_count": 132,
   "metadata": {},
   "outputs": [
    {
     "name": "stdout",
     "output_type": "stream",
     "text": [
      "Indices of `True` elements:\n",
      " (array([ 0,  4,  8, 12, 16], dtype=int64),)\n",
      "\n",
      "Filtered values:\n",
      " [0. 2. 4. 6. 8.]\n",
      "\n",
      "x array, where positions satisfying the condition is signed as 1 and others are equal to 0:\n",
      " [1 0 0 0 1 0 0 0 1 0 0 0 1 0 0 0 1 0 0 0]\n",
      "\n",
      "How many elements satisfy the condition: 5\n"
     ]
    }
   ],
   "source": [
    "# Indexes of elements which will remain\n",
    "indices = np.where(x % 2 == 0)\n",
    "print (\"Indices of `True` elements:\\n\", indices)\n",
    "\n",
    "new_x = x[indices] # this indexing is equivalent to the fancy indexing x[mask]\n",
    "print (\"\\nFiltered values:\\n\", new_x)\n",
    "\n",
    "# Return elements either from 1 or 0 instead of real values\n",
    "ind = np.where(x % 2 == 0, 1, 0)\n",
    "print (\"\\nx array, where positions satisfying the condition is signed as 1 and others are equal to 0:\\n\", ind)\n",
    "\n",
    "# It nicely works when you need count how many elements satisfy the condition\n",
    "print (\"\\nHow many elements satisfy the condition:\", ind.sum())"
   ]
  },
  {
   "cell_type": "markdown",
   "metadata": {
    "collapsed": true
   },
   "source": [
    "### Operations on NumPy arrays"
   ]
  },
  {
   "cell_type": "markdown",
   "metadata": {},
   "source": [
    "[[back to top]](#Table-of-Contents)"
   ]
  },
  {
   "cell_type": "markdown",
   "metadata": {
    "collapsed": true
   },
   "source": [
    "We can use the usual arithmetic operators to multiply, add, subtract, and divide arrays with scalar numbers."
   ]
  },
  {
   "cell_type": "code",
   "execution_count": 133,
   "metadata": {},
   "outputs": [
    {
     "name": "stdout",
     "output_type": "stream",
     "text": [
      "Operations on the array v1: [0 1 2 3 4]\n",
      "\n",
      "v1 * 2: [0 2 4 6 8]\n",
      "\n",
      "v1 + 2: [2 3 4 5 6]\n",
      "\n",
      "\n",
      "Operations on the array M1:\n",
      " [[4 9 6 3 4]\n",
      " [9 0 7 3 6]\n",
      " [9 1 7 1 7]\n",
      " [1 8 7 4 9]\n",
      " [7 3 9 1 8]]\n",
      "\n",
      "M1 * 2:\n",
      " [[ 8 18 12  6  8]\n",
      " [18  0 14  6 12]\n",
      " [18  2 14  2 14]\n",
      " [ 2 16 14  8 18]\n",
      " [14  6 18  2 16]]\n",
      "\n",
      "M1 + 2:\n",
      " [[ 6 11  8  5  6]\n",
      " [11  2  9  5  8]\n",
      " [11  3  9  3  9]\n",
      " [ 3 10  9  6 11]\n",
      " [ 9  5 11  3 10]]\n"
     ]
    }
   ],
   "source": [
    "v1 = np.arange(0, 5)\n",
    "print (\"Operations on the array v1:\", v1)\n",
    "\n",
    "print (\"\\nv1 * 2:\", v1 * 2)\n",
    "print (\"\\nv1 + 2:\", v1 + 2)\n",
    "\n",
    "M1 = np.random.randint(10, size=(5, 5))\n",
    "print (\"\\n\\nOperations on the array M1:\\n\", M1)\n",
    "\n",
    "print (\"\\nM1 * 2:\\n\", M1 * 2)\n",
    "print (\"\\nM1 + 2:\\n\", M1 + 2)"
   ]
  },
  {
   "cell_type": "markdown",
   "metadata": {},
   "source": [
    "When we add, subtract, multiply and divide arrays with each other, the default behaviour is element-wise operations:"
   ]
  },
  {
   "cell_type": "code",
   "execution_count": 18,
   "metadata": {},
   "outputs": [
    {
     "name": "stdout",
     "output_type": "stream",
     "text": [
      "v1 * v1: [ 0  1  4  9 16]\n",
      "\n",
      "M1 * M1:\n",
      " [[81 16  9 25  9]\n",
      " [25  9 49 81  1]\n",
      " [81 16 36  9 16]\n",
      " [64  9 81 64 16]\n",
      " [64 16 25 16  9]]\n",
      "\n",
      "M1.shape, v1.shape: (5, 5) (5,)\n",
      "M1 * v1:\n",
      " [[ 0  4  6 15 12]\n",
      " [ 0  3 14 27  4]\n",
      " [ 0  4 12  9 16]\n",
      " [ 0  3 18 24 16]\n",
      " [ 0  4 10 12 12]]\n"
     ]
    }
   ],
   "source": [
    "# Element-wise multiplication\n",
    "print (\"v1 * v1:\", v1 * v1)\n",
    "print (\"\\nM1 * M1:\\n\", M1 * M1)\n",
    "\n",
    "# If we multiply arrays with compatible shapes, we get an element-wise multiplication of each row\n",
    "print (\"\\nM1.shape, v1.shape:\", M1.shape, v1.shape)\n",
    "print (\"M1 * v1:\\n\", M1 * v1)"
   ]
  },
  {
   "cell_type": "markdown",
   "metadata": {},
   "source": [
    "### Data processing"
   ]
  },
  {
   "cell_type": "markdown",
   "metadata": {},
   "source": [
    "[[back to top]](#Table-of-Contents)"
   ]
  },
  {
   "cell_type": "markdown",
   "metadata": {},
   "source": [
    "Often it is useful to store datasets in NumPy arrays. NumPy provides a number of functions to calculate statistics of datasets in arrays.\n",
    "\n",
    "|Method|Description|\n",
    "|-----|-----|\n",
    "|`sum`|Sum of all the elements in the array or along an axis. Zero-length arrays have sum 0.\n",
    "|`prod`| Product of all elements\n",
    "|`mean`|Arithmetic mean. Zero-length arrays have NaN mean.\n",
    "|`std, var`|Standard deviation and variance, respectively, with optional degrees of freedom adjustment (default denominator n).\n",
    "|`min, max`|Minimum and maximum.\n",
    "|`argmin, argmax`|Indices of minimum and maximum elements, respectively.\n",
    "|`cumsum`|Cumulative sum of elements starting from 0.\n",
    "|`cumprod`|Cumulative product of elements starting from 1."
   ]
  },
  {
   "cell_type": "code",
   "execution_count": 134,
   "metadata": {},
   "outputs": [
    {
     "name": "stdout",
     "output_type": "stream",
     "text": [
      "M1.sum(): 133\n",
      "M1[:, 2].sum(): 36\n",
      "(M1 + 1).prod(): 1073741824\n",
      "M1.mean(): 5.32\n"
     ]
    }
   ],
   "source": [
    "print (\"M1.sum():\", M1.sum())\n",
    "print (\"M1[:, 2].sum():\", M1[:, 2].sum())\n",
    "print (\"(M1 + 1).prod():\", (M1 + 1).prod())\n",
    "print (\"M1.mean():\", M1.mean())"
   ]
  },
  {
   "cell_type": "markdown",
   "metadata": {},
   "source": [
    "> ### Exercise\n",
    "\n",
    "> Create the following `numpy` array:\n",
    "> $$A = \\begin{bmatrix}\n",
    " 1      &  2      & \\cdots &  10     \\\\\n",
    " 11     &  12     & \\cdots &  20     \\\\\n",
    " \\vdots &  \\vdots & \\ddots &  \\vdots \\\\\n",
    " 91     &  92    & \\cdots  &  100    \\\\\n",
    "\\end{bmatrix}\n",
    "$$\n",
    ">\n",
    "> Call it also `A`. \n",
    "\n",
    "> * Use the array object to get the number of elements, rows and columns. \n",
    "\n",
    "> * Lookup the help on the numpy.mean function and read over it (link below). Calculate the average value of all rows, all columns and whole matrix `A`. Write results to the variables `rows_mean`, `columns_mean` and `whole_mean`, respectively.\n",
    "\n",
    "> * https://numpy.org/doc/stable/reference/generated/numpy.mean.html?highlight=numpy%20mean#numpy.mean\n"
   ]
  },
  {
   "cell_type": "code",
   "execution_count": 138,
   "metadata": {},
   "outputs": [
    {
     "name": "stdout",
     "output_type": "stream",
     "text": [
      "[[  1   2   3   4   5   6   7   8   9  10]\n",
      " [ 11  12  13  14  15  16  17  18  19  20]\n",
      " [ 21  22  23  24  25  26  27  28  29  30]\n",
      " [ 31  32  33  34  35  36  37  38  39  40]\n",
      " [ 41  42  43  44  45  46  47  48  49  50]\n",
      " [ 51  52  53  54  55  56  57  58  59  60]\n",
      " [ 61  62  63  64  65  66  67  68  69  70]\n",
      " [ 71  72  73  74  75  76  77  78  79  80]\n",
      " [ 81  82  83  84  85  86  87  88  89  90]\n",
      " [ 91  92  93  94  95  96  97  98  99 100]]\n"
     ]
    }
   ],
   "source": [
    "# type your code here\n",
    "\n",
    "A = np.array([[1, 2, 3, 4, 5, 6, 7, 8, 9, 10],\n",
    "              [11, 12, 13, 14, 15, 16, 17, 18, 19, 20],\n",
    "               [21, 22, 23, 24, 25, 26, 27, 28, 29, 30],\n",
    "               [31, 32, 33, 34, 35, 36, 37, 38, 39, 40],\n",
    "               [41, 42, 43, 44, 45, 46, 47, 48, 49, 50],\n",
    "               [51, 52, 53, 54, 55, 56, 57, 58, 59, 60],\n",
    "               [61, 62, 63, 64, 65, 66, 67, 68, 69, 70],\n",
    "               [71, 72, 73, 74, 75, 76, 77, 78, 79, 80],\n",
    "               [81, 82, 83, 84, 85, 86, 87, 88, 89, 90],\n",
    "               [91, 92, 93, 94, 95, 96, 97, 98, 99, 100]])\n",
    "print (A)\n",
    "\n",
    "#Continue Code"
   ]
  },
  {
   "cell_type": "markdown",
   "metadata": {},
   "source": [
    "> ### Exercise\n",
    "\n",
    "> How do you create a vector that has exactly 50 points and spans the range 11 to 23? Write result to a variabled named `range50` variable."
   ]
  },
  {
   "cell_type": "code",
   "execution_count": 139,
   "metadata": {},
   "outputs": [],
   "source": [
    "# type your code here\n",
    "\n"
   ]
  },
  {
   "cell_type": "markdown",
   "metadata": {},
   "source": [
    "> ### Exercise\n",
    "\n",
    "> Using `numpy.where` function to find all numbers less then the mean of the A array."
   ]
  },
  {
   "cell_type": "code",
   "execution_count": 140,
   "metadata": {},
   "outputs": [],
   "source": [
    "# type your code here\n",
    "\n",
    "A = np.array([[1, 2, 3, 4, 5, 6, 7, 8, 9, 10],\n",
    "              [11, 12, 13, 14, 15, 16, 17, 18, 19, 20],\n",
    "               [21, 22, 23, 24, 25, 26, 27, 28, 29, 30],\n",
    "               [31, 32, 33, 34, 35, 36, 37, 38, 39, 40],\n",
    "               [41, 42, 43, 44, 45, 46, 47, 48, 49, 50],\n",
    "               [51, 52, 53, 54, 55, 56, 57, 58, 59, 60],\n",
    "               [61, 62, 63, 64, 65, 66, 67, 68, 69, 70],\n",
    "               [71, 72, 73, 74, 75, 76, 77, 78, 79, 80],\n",
    "               [81, 82, 83, 84, 85, 86, 87, 88, 89, 90],\n",
    "               [91, 92, 93, 94, 95, 96, 97, 98, 99, 100]])\n"
   ]
  }
 ],
 "metadata": {
  "kernelspec": {
   "display_name": "ArcGISPro",
   "language": "Python",
   "name": "python3"
  },
  "language_info": {
   "file_extension": ".py",
   "name": "python",
   "version": "3"
  },
  "widgets": {
   "state": {},
   "version": "1.0.0"
  }
 },
 "nbformat": 4,
 "nbformat_minor": 1
}

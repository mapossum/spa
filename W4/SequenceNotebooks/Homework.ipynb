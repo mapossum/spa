{
 "cells": [
  {
   "cell_type": "code",
   "execution_count": 16,
   "metadata": {},
   "outputs": [
    {
     "name": "stdout",
     "output_type": "stream",
     "text": [
      "0.0 0.0\n",
      "2.0 3.0\n",
      "5.0 6.0\n",
      "7.0 -1.0\n",
      "6.0 -4.0\n",
      "8.0 3.0\n",
      "5.0 4.0\n"
     ]
    },
    {
     "data": {
      "text/plain": [
       "array([[ 0.,  0.],\n",
       "       [ 2.,  3.],\n",
       "       [ 5.,  6.],\n",
       "       [ 7., -1.],\n",
       "       [ 6., -4.],\n",
       "       [ 8.,  3.],\n",
       "       [ 5.,  4.]])"
      ]
     },
     "execution_count": 16,
     "metadata": {},
     "output_type": "execute_result"
    }
   ],
   "source": [
    "import numpy as np\n",
    "\n",
    "#open a file\n",
    "f = open(r\"..\\points2.txt\", \"r\")\n",
    "\n",
    "coordlist = []\n",
    "\n",
    "for line in f:\n",
    "    splitline = line.split(\" \")\n",
    "    x = float(splitline[0])\n",
    "    y = float(splitline[1])\n",
    "    coordlist.append([x,y])\n",
    "    print(x,y)\n",
    "    \n",
    "f.close()\n",
    "np.array(coordlist)"
   ]
  },
  {
   "cell_type": "code",
   "execution_count": 21,
   "metadata": {},
   "outputs": [
    {
     "name": "stdout",
     "output_type": "stream",
     "text": [
      "0.0 0.0\n",
      "2.0 3.0\n",
      "5.0 6.0\n",
      "7.0 -1.0\n",
      "6.0 -4.0\n",
      "8.0 3.0\n",
      "5.0 4.0\n"
     ]
    },
    {
     "data": {
      "text/plain": [
       "9.959183673469386"
      ]
     },
     "execution_count": 21,
     "metadata": {},
     "output_type": "execute_result"
    }
   ],
   "source": [
    "import numpy as np\n",
    "\n",
    "#open a file\n",
    "f = open(r\"..\\points2.txt\", \"r\")\n",
    "\n",
    "xlist = []\n",
    "ylist = []\n",
    "\n",
    "for line in f:\n",
    "    splitline = line.split(\" \")\n",
    "    x = float(splitline[0])\n",
    "    y = float(splitline[1])\n",
    "    xlist.append(x)\n",
    "    ylist.append(y)\n",
    "    print(x,y)\n",
    "    \n",
    "f.close()\n",
    "yarr =  np.array(ylist)\n",
    "\n",
    "np.sum((yarr - yarr.mean()) ** 2) / len(yarr)"
   ]
  },
  {
   "cell_type": "code",
   "execution_count": null,
   "metadata": {},
   "outputs": [],
   "source": []
  }
 ],
 "metadata": {
  "kernelspec": {
   "display_name": "ArcGISPro",
   "language": "Python",
   "name": "python3"
  },
  "language_info": {
   "file_extension": ".py",
   "name": "python",
   "version": "3"
  }
 },
 "nbformat": 4,
 "nbformat_minor": 2
}

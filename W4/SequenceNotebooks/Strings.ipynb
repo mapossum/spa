{
 "cells": [
  {
   "cell_type": "markdown",
   "metadata": {},
   "source": [
    "<center><h1> Strings </h1></center>"
   ]
  },
  {
   "cell_type": "markdown",
   "metadata": {},
   "source": [
    "The lessons that follow make use of the IPython notebooks. Briefly, notebooks have code cells (that are generally followed by result cells) and text cells. The text cells are the stuff that you're reading now. The code cells start with \"`In []:`\" with some number generally in the brackets. If you put your cursor in the code cell and hit Shift-Enter (or use menu \"Cell\" ⇒ \"Run\", or press button <span style=\"border: 1px solid #ddd\"><i class=\"fa fa-step-forward\" style=\"margin: 5px\"></i></span> on the Instrument Bar), the code will run in the Python interpreter and the result will print out in the output cell. You can then change things around and see whether you understand what's going on. "
   ]
  },
  {
   "cell_type": "markdown",
   "metadata": {},
   "source": [
    "Variables form a fundamental concept of any programming language. A variable has a name and a value. \n",
    "\n",
    "Variables are aliases for data. This allows the developer to use the name for a particular value rather than the value it self. This makes the code more readable, and allows various optimizations to make a program run more efficiently.\n",
    "\n",
    "In python, a variable can be named almost anything, according to the whims of the programmer. You can use any letter, the special characters \"\\_\" and every number provided you do not start with it. White spaces and signs with special meanings in Python, as \"+\" and \"-\" are not allowed. Variable names are case-sensitive. The common pattern is to separate words in variable names with underscores \"\\_\".\n",
    "\n",
    "Variables are declared by stating the variable name and assigning to it using the \"=\" operator. At any time, you can reassign a value to a variable."
   ]
  },
  {
   "cell_type": "code",
   "execution_count": 5,
   "metadata": {
    "scrolled": false
   },
   "outputs": [
    {
     "name": "stdout",
     "output_type": "stream",
     "text": [
      "My first variable:\n",
      "Hello, \n",
      "\n",
      "My first and second variables:\n",
      "Hello, Class! \n",
      "\n",
      "Reassigned first and second variables:\n",
      "Goodbye, Class! \n",
      "\n",
      "Reassigned first variable again:\n",
      "Class! \n",
      "\n"
     ]
    }
   ],
   "source": [
    "my_first_variable = \"Hello,\"\n",
    "my_second_variable = \"Class!\"\n",
    "yet_another_variable = 1\n",
    "pi = 3.1415926\n",
    "a = 2\n",
    "print (\"My first variable:\")\n",
    "print (my_first_variable,'\\n')\n",
    "\n",
    "# print may contain more than one argument\n",
    "print (\"My first and second variables:\")\n",
    "print (my_first_variable, my_second_variable,'\\n')\n",
    "\n",
    "# It is possible to reassign a created variable\n",
    "my_first_variable = \"Goodbye,\" # reassigning\n",
    "\n",
    "print (\"Reassigned first and second variables:\")\n",
    "print (my_first_variable, my_second_variable,'\\n')\n",
    "\n",
    "# Reassigning again\n",
    "my_first_variable = my_second_variable \n",
    "\n",
    "print (\"Reassigned first variable again:\")\n",
    "print (my_first_variable,'\\n')"
   ]
  },
  {
   "cell_type": "markdown",
   "metadata": {},
   "source": [
    "After variable declaration you may use it:"
   ]
  },
  {
   "cell_type": "code",
   "execution_count": 10,
   "metadata": {
    "scrolled": false
   },
   "outputs": [
    {
     "name": "stdout",
     "output_type": "stream",
     "text": [
      "b:\n",
      "6.25 \n",
      "\n",
      "R:\n",
      "15.625 \n",
      "\n",
      "2 * pi * R:\n",
      "98.17476875 \n",
      "\n"
     ]
    }
   ],
   "source": [
    "b = a ** 2\n",
    "print ('b:')\n",
    "print (b,'\\n')\n",
    "\n",
    "R = b * a\n",
    "print ('R:')\n",
    "print (R,'\\n')\n",
    "\n",
    "# Any operation may be done even in print \n",
    "print ('2 * pi * R:')\n",
    "print (2 * pi * R,'\\n')"
   ]
  },
  {
   "cell_type": "markdown",
   "metadata": {},
   "source": [
    "Several variables can be defined at once (this is called **unpacking**):"
   ]
  },
  {
   "cell_type": "code",
   "execution_count": 11,
   "metadata": {
    "scrolled": false
   },
   "outputs": [
    {
     "name": "stdout",
     "output_type": "stream",
     "text": [
      "a, b:\n",
      "2.5 6\n"
     ]
    }
   ],
   "source": [
    "a, b = 2.5, 6\n",
    "print ('a, b:')\n",
    "print (a, b)"
   ]
  },
  {
   "cell_type": "markdown",
   "metadata": {},
   "source": [
    "We can get the output of unix commands in Python variables by prefixing them with `!`"
   ]
  },
  {
   "cell_type": "code",
   "execution_count": 12,
   "metadata": {
    "scrolled": false
   },
   "outputs": [
    {
     "name": "stdout",
     "output_type": "stream",
     "text": [
      "Current date:\n",
      "['The current date is: Wed 02/10/2021 ', 'Enter the new date: (mm-dd-yy) ']\n"
     ]
    }
   ],
   "source": [
    "current_date = !date\n",
    "print ('Current date:')\n",
    "print (current_date)"
   ]
  },
  {
   "cell_type": "markdown",
   "metadata": {},
   "source": [
    "There are different types of variables. Here, we have used a number (more precisely, an **integer**). Other important types include **floating-point numbers** to represent real numbers, **strings** to represent text, and **booleans** to represent `True/False` values. Here are a few examples:"
   ]
  },
  {
   "cell_type": "code",
   "execution_count": 13,
   "metadata": {
    "scrolled": false
   },
   "outputs": [
    {
     "name": "stdout",
     "output_type": "stream",
     "text": [
      "String, string, float:\n",
      "pi is about 3.1415\n"
     ]
    }
   ],
   "source": [
    "some_float = 3.1415\n",
    "some_string = 'pi is'  \n",
    "# You can also use double quotes.\n",
    "other_string = \"about\"\n",
    "print ('String, string, float:')\n",
    "print (some_string, other_string, some_float) "
   ]
  },
  {
   "cell_type": "markdown",
   "metadata": {},
   "source": [
    "### String"
   ]
  },
  {
   "cell_type": "markdown",
   "metadata": {},
   "source": [
    "[[back to top]](#Table-of-Contents)"
   ]
  },
  {
   "cell_type": "markdown",
   "metadata": {},
   "source": [
    "Textual data, characters and sequences of characters. Can be specified by surrounding some text with single `'` or double `\"` quotes. "
   ]
  },
  {
   "cell_type": "code",
   "execution_count": 14,
   "metadata": {
    "scrolled": false
   },
   "outputs": [
    {
     "name": "stdout",
     "output_type": "stream",
     "text": [
      "str_1:\n",
      "Hello, World!\n"
     ]
    }
   ],
   "source": [
    "str_1 = \"Hello, World!\"\n",
    "print ('str_1:')\n",
    "print (str_1)"
   ]
  },
  {
   "cell_type": "code",
   "execution_count": 15,
   "metadata": {
    "scrolled": false
   },
   "outputs": [
    {
     "name": "stdout",
     "output_type": "stream",
     "text": [
      "str_2:\n",
      "Hello World!\n",
      "Hello World Twice!\n",
      "\n",
      "str_3:\n",
      "Hello\tWorld!\n",
      "\n"
     ]
    }
   ],
   "source": [
    "# Notice that we end the strings below with the \\n character, which is the \"new line\" special character\n",
    "str_2 = \"Hello World!\\nHello World Twice!\\n\"\n",
    "print ('str_2:')\n",
    "print (str_2)\n",
    "\n",
    "# Let's use the \\t character, which is the special character for tab\n",
    "str_3 = \"Hello\\tWorld!\\n\"\n",
    "print ('str_3:')\n",
    "print (str_3)"
   ]
  },
  {
   "cell_type": "markdown",
   "metadata": {},
   "source": [
    "But not both at the same time, unless you want one of the symbols to be part of the string."
   ]
  },
  {
   "cell_type": "code",
   "execution_count": 16,
   "metadata": {
    "scrolled": false
   },
   "outputs": [
    {
     "name": "stdout",
     "output_type": "stream",
     "text": [
      "str_4:\n",
      "This is a string within single quotes that can contain \"double quotes\" as part of the string\n",
      "\n",
      "str_5:\n",
      "If we want to have 'single quotes' in single quoted string we should escape them\n",
      "\n",
      "str_6:\n",
      "Similarly, if we want to have \"double quotes\" in double quoted string we should escape them\n",
      "\n",
      "Double escape:\n",
      "C:\\path\\on\\windows\n",
      "C:\\path\\on\\windows\n"
     ]
    }
   ],
   "source": [
    "str_4 = 'This is a string within single quotes that can contain \"double quotes\" as part of the string\\n'\n",
    "print ('str_4:')\n",
    "print (str_4)\n",
    "\n",
    "str_5 = 'If we want to have \\'single quotes\\' in single quoted string we should escape them\\n'\n",
    "print ('str_5:')\n",
    "print (str_5)\n",
    "\n",
    "str_6 = \"Similarly, if we want to have \\\"double quotes\\\" in double quoted string we should escape them\\n\"\n",
    "print ('str_6:')\n",
    "print (str_6)\n",
    "\n",
    "print (\"Double escape:\")\n",
    "print(\"C:\\\\path\\\\on\\\\windows\")\n",
    "print(r\"C:\\path\\on\\windows\")"
   ]
  },
  {
   "cell_type": "markdown",
   "metadata": {},
   "source": [
    "You can also disable escaping by using **raw literals** with a `r` prefix before the string, like in the last example above. In this case, backslashes are considered as normal characters.\n",
    "\n",
    "You will find the list of special characters in Python [here](https://docs.python.org/3.4/reference/lexical_analysis.html#string-and-bytes-literals).\n",
    "\n",
    "You can use the \"+\" operator to concatenate strings together. If you have a lot of words to concatenate together, there are other, more efficient ways to do this (we will consider it further). But this is fine for linking a few strings together."
   ]
  },
  {
   "cell_type": "code",
   "execution_count": 63,
   "metadata": {
    "scrolled": false
   },
   "outputs": [
    {
     "name": "stdout",
     "output_type": "stream",
     "text": [
      "str7 str8:\n",
      "hello world!\n"
     ]
    }
   ],
   "source": [
    "str_7 = \"hello\"\n",
    "str_8 = \"world\"\n",
    "print (\"str7 str8:\")\n",
    "print (str_7 + \" \" + str_8 + \"!\")"
   ]
  },
  {
   "cell_type": "markdown",
   "metadata": {},
   "source": [
    "Multilines strings remember multilines comments"
   ]
  },
  {
   "cell_type": "code",
   "execution_count": 64,
   "metadata": {
    "scrolled": false
   },
   "outputs": [
    {
     "name": "stdout",
     "output_type": "stream",
     "text": [
      "str_9:\n",
      "\n",
      "If we want to have multiple lines in the string\n",
      "then we can use triple quotes: This is a multiline\n",
      "string!\n",
      "\n"
     ]
    }
   ],
   "source": [
    "str_9 = \"\"\"\n",
    "If we want to have multiple lines in the string\n",
    "then we can use triple quotes: This is a multiline\n",
    "string!\n",
    "\"\"\"\n",
    "print ('str_9:')\n",
    "print (str_9)\n",
    "# or the same in triple double quotes \"\"\""
   ]
  },
  {
   "cell_type": "markdown",
   "metadata": {},
   "source": [
    "If we want to assign the text to a variable, we put it within parentheses"
   ]
  },
  {
   "cell_type": "code",
   "execution_count": 65,
   "metadata": {
    "scrolled": false
   },
   "outputs": [
    {
     "name": "stdout",
     "output_type": "stream",
     "text": [
      "Array string concat:\n",
      "Two or more string literals\n",
      "(i.e. the ones enclosed between quotes)\n",
      "next to each other are automatically concatenated.\n",
      "\n",
      "Inline string concat:\n",
      "Two or more string literals(i.e. the ones enclosed between quotes)next to each other are automatically concatenated.\n",
      "\n"
     ]
    }
   ],
   "source": [
    "str_10 = ('Two or more string literals\\n' \n",
    "'(i.e. the ones enclosed between quotes)\\n' \n",
    "'next to each other are automatically concatenated.\\n')\n",
    "print (\"Array string concat:\")\n",
    "print (str_10)\n",
    "\n",
    "# Compare with\n",
    "print (\"Inline string concat:\")\n",
    "print ('Two or more string literals' '(i.e. the ones enclosed between quotes)' \n",
    "       'next to each other are automatically concatenated.\\n')"
   ]
  },
  {
   "cell_type": "markdown",
   "metadata": {},
   "source": [
    "Strings can be indexed (subscripted), with the first character having index 0. There is no separate character type; a character is simply a string of size one:"
   ]
  },
  {
   "cell_type": "code",
   "execution_count": 17,
   "metadata": {
    "scrolled": false
   },
   "outputs": [
    {
     "name": "stdout",
     "output_type": "stream",
     "text": [
      "word[0]:\n",
      "P\n",
      "\"word\"[0]:\n",
      "w\n",
      "word[5]:\n",
      "n\n"
     ]
    }
   ],
   "source": [
    "word = 'Python'\n",
    "print (\"word[0]:\")\n",
    "print (word[0])  # character in position 0\n",
    "print ('\"word\"[0]:')\n",
    "print (\"word\"[0])\n",
    "print ('word[5]:')\n",
    "print (word[5])  # character in position 5"
   ]
  },
  {
   "cell_type": "markdown",
   "metadata": {},
   "source": [
    "Indices may also be negative numbers, to start counting from the right:"
   ]
  },
  {
   "cell_type": "code",
   "execution_count": 67,
   "metadata": {
    "scrolled": false
   },
   "outputs": [
    {
     "name": "stdout",
     "output_type": "stream",
     "text": [
      "n\n",
      "o\n",
      "P\n"
     ]
    }
   ],
   "source": [
    "print (word[-1])  # the last character\n",
    "print (word[-2])  # second-last character\n",
    "print (word[-6])  # the first letter"
   ]
  },
  {
   "cell_type": "markdown",
   "metadata": {},
   "source": [
    "In addition to indexing, **slicing** is also supported. While indexing is used to obtain individual characters, slicing allows you to obtain a substring:"
   ]
  },
  {
   "cell_type": "code",
   "execution_count": 68,
   "metadata": {
    "scrolled": false
   },
   "outputs": [
    {
     "name": "stdout",
     "output_type": "stream",
     "text": [
      "word[0:2]:\n",
      "Py\n",
      "word[2:5]:\n",
      "tho\n",
      "word[2:]:\n",
      "thon\n",
      "word[:3]:\n",
      "Pyt\n",
      "word[0:6:2]:\n",
      "Pto\n",
      "word[::2]:\n",
      "Pto\n",
      "word[:-1]:\n",
      "Pytho\n",
      "word[-3:]:\n",
      "hon\n",
      "word[-6:]:\n",
      "Python\n",
      "word[::-1]:\n",
      "nohtyP\n",
      "word[::-2]:\n",
      "nhy\n"
     ]
    }
   ],
   "source": [
    "print ('word[0:2]:')\n",
    "print (word[0:2])    # characters from position 0 (included) to 2 (excluded)\n",
    "print ('word[2:5]:')\n",
    "print (word[2:5])    # characters from position 2 (included) to 5 (excluded)\n",
    "print ('word[2:]:')\n",
    "print (word[2:])     # characters from position 2 (included) to the end\n",
    "print ('word[:3]:')\n",
    "print (word[:3])     # characters from beginning (position 0) to position 3 (excluded)\n",
    "print ('word[0:6:2]:')\n",
    "print (word[0:6:2])  # characters from beginning (position 0) to the end (position 6 excluded) with the step 2, \n",
    "                   # i.e. each odd positioning character\n",
    "print ('word[::2]:')\n",
    "print (word[::2])    # the same as above\n",
    "print ('word[:-1]:')\n",
    "print (word[:-1])    # the same as word[:5]\n",
    "print ('word[-3:]:')\n",
    "print (word[-3:])    # the same as word[3:6]\n",
    "print ('word[-6:]:')\n",
    "print (word[-6:])    # the same as word[:6]\n",
    "print ('word[::-1]:')\n",
    "print (word[::-1])   # returns the palindrome, i.e. we are going from the last character to the first one with step 1\n",
    "print ('word[::-2]:')\n",
    "print (word[::-2])   # we are going from the last character to the first one with step 2"
   ]
  },
  {
   "cell_type": "markdown",
   "metadata": {},
   "source": [
    ">### Example Exercise\n",
    "\n",
    ">* Assign the string 'Dealing with Data' to a Python variable. \n",
    "\n",
    ">* Print the word 'Dealing' by using the indexing/slicing approach. \n",
    "\n",
    ">* Print the word 'Data' by using the negative indexing/slicing approach.\n",
    "\n",
    ">* Using slices and strings concatenation swap 'Dealing' and 'Data'.\n",
    "\n",
    ">* What should be `start`, `end` and `step` values of a slice of this string to get the word 'with' in opposite order 'htiw'? Replace `start`, `end` and `step` variables in the `indeces` variable below. Use only one slicing and avoid [::-1] slicing."
   ]
  },
  {
   "cell_type": "code",
   "execution_count": 24,
   "metadata": {
    "scrolled": false
   },
   "outputs": [
    {
     "name": "stdout",
     "output_type": "stream",
     "text": [
      "Dealing\n",
      "Data\n",
      "Data with Dealing\n",
      "htiw\n"
     ]
    }
   ],
   "source": [
    "# type your code here\n",
    "\n",
    "string = 'Dealing with Data'\n",
    "dealing = string[:7]\n",
    "print (dealing)\n",
    "data = string[-4:]\n",
    "print (data)\n",
    "w = string[7:-4]\n",
    "changed = data + w + dealing\n",
    "\n",
    "print (changed)\n",
    "print (string[11:7:-1])\n",
    "\n",
    "indices = (11, 7, -1)"
   ]
  },
  {
   "cell_type": "markdown",
   "metadata": {},
   "source": [
    "### Operations on Strings "
   ]
  },
  {
   "cell_type": "markdown",
   "metadata": {},
   "source": [
    "[[back to top]](#Table-of-Contents)"
   ]
  },
  {
   "cell_type": "markdown",
   "metadata": {},
   "source": [
    "We've already seen one of the most common string operators, `+`, used for string concatenation, the indexing operation to get specific characters, and the slicing operation to get substrings. Below are some of the more commonly used string operations:\n",
    "\n",
    "+ `+` : concatenate two strings\n",
    "+ `len(str)`: length of a string, number of characters\n",
    "+ `str.upper()`: returns an uppercase version of a string\n",
    "+ `str.lower()`: returns a lowercase version of a string\n",
    "+ `haystack.index(needle)`: searches haystack for needle, prints the position of the first occurrence, indexed from 0. Note, throws an error if needle isn't found\n",
    "+ `str_1.count(str_2)`: counts the number of occurrences of one string in another\n",
    "+ `haystack.startswith(needle)`: does a the haystack string start with the needle string?\n",
    "+ `haystack.endswith(needle)`: does a the haystack string end with the needle string?\n",
    "+ `str_1.split(str_2)`: split the first string at every occurrence of the second string. Outputs a list (see below)\n",
    "+ `str.strip()`: remove any whitespace from the left or right of the string, including newlines\n",
    "+ `str.lstrip()`: remove any whitespace only from the left of the string, including newlines\n",
    "+ `str.rstrip()`: remove any whitespace only from the right of the string, including newlines \n",
    "+ `str.format(values)`: returns a formatted version of str, using substitutions from values\n",
    "+ `str.isalnum()`: returns true if string has at least 1 character and all characters are alphanumeric and false otherwise\n",
    "+ `str.isalpha()`: returns true if string has at least 1 character and all characters are alphabetic and false otherwise\n",
    "+ `str.isdigit()`: returns true if string contains only digits and false otherwise\n",
    "+ `str.isdecimal()`: returns true if a unicode string contains only decimal characters and false otherwise\n",
    "+ `str.islower()`: returns true if string has at least 1 cased character and all cased characters are in lowercase and false otherwise\n",
    "+ `str.isnumeric()`: returns true if a unicode string contains only numeric characters and false otherwise\n",
    "+ `str.isspace()`: returns true if string contains only whitespace characters and false otherwise\n",
    "+ `str.istitle()`: returns true if string is properly \"titlecased\" and false otherwise\n",
    "+ `str.isupper()`: returns true if string has at least one cased character and all cased characters are in uppercase and false otherwise\n",
    "+ `str.join(seq)`: concatenates a sequence of elements in one common string with separator `str`\n",
    "+ `str.capitalize()`: capitalizes first letter of string\n",
    "+ `str.replace(old_substr, new_substr)`: returns a copy of the string in which the occurrences of `old_substr` have been replaced with `new_substr`\n",
    "+ `str.title()`: returns \"titlecased\" version of string, that is, all words begin with uppercase and the rest are lowercase\n",
    "+ `str.decode(encoding='UTF-8')`: decodes the string using the codec registered for encoding\n",
    "+ `str.encode(encoding='UTF-8')`: returns encoded string version of string\n",
    "+ `str_1.find(str_2, beg=0 end=len(string))`: determine if `str_2` occurs in `str_1` or in a substring of string if starting index `beg` and ending index `end` are given returns index if found and -1 otherwise.\n",
    "\n",
    "A better list of string operations is [available here](http://docs.python.org/2/library/string.html)."
   ]
  },
  {
   "cell_type": "code",
   "execution_count": 70,
   "metadata": {
    "scrolled": false
   },
   "outputs": [
    {
     "name": "stdout",
     "output_type": "stream",
     "text": [
      "Python is the word. And on and on and on and on...\n",
      "The length of the 'word' above is 50 characters\n",
      "PYTHON IS THE WORD. AND ON AND ON AND ON AND ON...\n",
      "The first time that we see the string 'on' is at position 4\n",
      "We see the string on that many times: 5\n"
     ]
    }
   ],
   "source": [
    "words = \"Python is the word. And on and on and on and on...\"\n",
    "print (words)\n",
    "print (\"The length of the 'word' above is\", len(words), \"characters\")\n",
    "print (words.upper())\n",
    "print (\"The first time that we see the string 'on' is at position\", words.index(\"on\"))\n",
    "print (\"We see the string on that many times:\", words.count(\"on\"))"
   ]
  },
  {
   "cell_type": "code",
   "execution_count": 71,
   "metadata": {
    "scrolled": false
   },
   "outputs": [
    {
     "name": "stdout",
     "output_type": "stream",
     "text": [
      "Format examples:\n",
      "Python is a programming language.\n",
      "2 plus 3 equals 5\n",
      "2 plus 3 equals 5\n"
     ]
    }
   ],
   "source": [
    "print ('Format examples:')\n",
    "print (\"{} is a programming language.\".format(\"Python\"))\n",
    "print (\"{} plus {} equals {}\".format(2, 3, 5))\n",
    "print (\"{2} plus {0} equals {1}\".format(3, 5, 2))"
   ]
  },
  {
   "cell_type": "code",
   "execution_count": 72,
   "metadata": {
    "scrolled": false
   },
   "outputs": [
    {
     "name": "stdout",
     "output_type": "stream",
     "text": [
      "concatenation:\n",
      "Hello, World! Hello World!\n",
      "Hello World Twice!\n",
      "\n",
      "Hello, World! everybody\n",
      "length:\n",
      "13\n",
      "46\n",
      "string casing:\n",
      "HELLO, WORLD!\n",
      "hello\n",
      "string indexing:\n",
      "2\n",
      "2\n",
      "string count:\n",
      "3\n",
      "1\n",
      "starts with & endswith:\n",
      "True\n",
      "False\n",
      "split:\n",
      "['practical', 'data', 'science']\n",
      "['hello']\n",
      "equality:\n",
      "False\n",
      "False\n"
     ]
    }
   ],
   "source": [
    "print (\"concatenation:\")\n",
    "print (str_1 + \" \" + str_2)\n",
    "print (str_1 + \" everybody\")\n",
    "\n",
    "print (\"length:\")\n",
    "print (len(str_1))\n",
    "print (len(str_1 + \" \" + str_2))\n",
    "\n",
    "print (\"string casing:\")\n",
    "print (str_1.upper())\n",
    "print (\"HELLO\".lower())\n",
    "\n",
    "print (\"string indexing:\")\n",
    "print (\"hello\".index(\"ll\"))\n",
    "print (\"hello\".upper().index(\"LL\"))\n",
    "\n",
    "print (\"string count:\")\n",
    "print (str_1.count(\"l\"))\n",
    "print (str_1.count(\"ll\"))\n",
    "\n",
    "print (\"starts with & endswith:\")\n",
    "print (\"hello\".startswith(\"he\"))\n",
    "print (\"hello\".endswith(\"world\"))\n",
    "\n",
    "print (\"split:\")\n",
    "print (\"practical data science\".split(\" \"))\n",
    "print (\"hello\".split(\" \"))\n",
    "\n",
    "print (\"equality:\")\n",
    "print (str_1 == \"hello\")\n",
    "print (str_1 == \"HELLO\")"
   ]
  },
  {
   "cell_type": "markdown",
   "metadata": {},
   "source": [
    "Python allows getting information about data type, function etc. \n",
    "\n",
    "* `dir()`: without arguments, returns the list of names in the current local scope; with an argument, attempt to return a list of valid attributes for that object.\n",
    "* `help()`: if no argument is given, the interactive help system starts on the interpreter console; if the argument is a string, then the string is looked up as the name of a module, function, class, method, keyword, or documentation topic, and a help page is printed on the console."
   ]
  },
  {
   "cell_type": "code",
   "execution_count": 73,
   "metadata": {
    "scrolled": true
   },
   "outputs": [
    {
     "data": {
      "text/plain": [
       "['__add__', '__class__', '__contains__', '__delattr__', '__dir__', '__doc__', '__eq__', '__format__', '__ge__', '__getattribute__', '__getitem__', '__getnewargs__', '__gt__', '__hash__', '__init__', '__init_subclass__', '__iter__', '__le__', '__len__', '__lt__', '__mod__', '__mul__', '__ne__', '__new__', '__reduce__', '__reduce_ex__', '__repr__', '__rmod__', '__rmul__', '__setattr__', '__sizeof__', '__str__', '__subclasshook__', 'capitalize', 'casefold', 'center', 'count', 'encode', 'endswith', 'expandtabs', 'find', 'format', 'format_map', 'index', 'isalnum', 'isalpha', 'isascii', 'isdecimal', 'isdigit', 'isidentifier', 'islower', 'isnumeric', 'isprintable', 'isspace', 'istitle', 'isupper', 'join', 'ljust', 'lower', 'lstrip', 'maketrans', 'partition', 'replace', 'rfind', 'rindex', 'rjust', 'rpartition', 'rsplit', 'rstrip', 'split', 'splitlines', 'startswith', 'strip', 'swapcase', 'title', 'translate', 'upper', 'zfill']"
      ]
     },
     "execution_count": 73,
     "metadata": {},
     "output_type": "execute_result"
    }
   ],
   "source": [
    "dir(str)"
   ]
  },
  {
   "cell_type": "code",
   "execution_count": 74,
   "metadata": {
    "scrolled": true
   },
   "outputs": [
    {
     "name": "stdout",
     "output_type": "stream",
     "text": [
      "Help on class str in module builtins:\n",
      "\n",
      "class str(object)\n",
      " |  str(object='') -> str\n",
      " |  str(bytes_or_buffer[, encoding[, errors]]) -> str\n",
      " |  \n",
      " |  Create a new string object from the given object. If encoding or\n",
      " |  errors is specified, then the object must expose a data buffer\n",
      " |  that will be decoded using the given encoding and error handler.\n",
      " |  Otherwise, returns the result of object.__str__() (if defined)\n",
      " |  or repr(object).\n",
      " |  encoding defaults to sys.getdefaultencoding().\n",
      " |  errors defaults to 'strict'.\n",
      " |  \n",
      " |  Methods defined here:\n",
      " |  \n",
      " |  __add__(self, value, /)\n",
      " |      Return self+value.\n",
      " |  \n",
      " |  __contains__(self, key, /)\n",
      " |      Return key in self.\n",
      " |  \n",
      " |  __eq__(self, value, /)\n",
      " |      Return self==value.\n",
      " |  \n",
      " |  __format__(self, format_spec, /)\n",
      " |      Return a formatted version of the string as described by format_spec.\n",
      " |  \n",
      " |  __ge__(self, value, /)\n",
      " |      Return self>=value.\n",
      " |  \n",
      " |  __getattribute__(self, name, /)\n",
      " |      Return getattr(self, name).\n",
      " |  \n",
      " |  __getitem__(self, key, /)\n",
      " |      Return self[key].\n",
      " |  \n",
      " |  __getnewargs__(...)\n",
      " |  \n",
      " |  __gt__(self, value, /)\n",
      " |      Return self>value.\n",
      " |  \n",
      " |  __hash__(self, /)\n",
      " |      Return hash(self).\n",
      " |  \n",
      " |  __iter__(self, /)\n",
      " |      Implement iter(self).\n",
      " |  \n",
      " |  __le__(self, value, /)\n",
      " |      Return self<=value.\n",
      " |  \n",
      " |  __len__(self, /)\n",
      " |      Return len(self).\n",
      " |  \n",
      " |  __lt__(self, value, /)\n",
      " |      Return self<value.\n",
      " |  \n",
      " |  __mod__(self, value, /)\n",
      " |      Return self%value.\n",
      " |  \n",
      " |  __mul__(self, value, /)\n",
      " |      Return self*value.\n",
      " |  \n",
      " |  __ne__(self, value, /)\n",
      " |      Return self!=value.\n",
      " |  \n",
      " |  __repr__(self, /)\n",
      " |      Return repr(self).\n",
      " |  \n",
      " |  __rmod__(self, value, /)\n",
      " |      Return value%self.\n",
      " |  \n",
      " |  __rmul__(self, value, /)\n",
      " |      Return value*self.\n",
      " |  \n",
      " |  __sizeof__(self, /)\n",
      " |      Return the size of the string in memory, in bytes.\n",
      " |  \n",
      " |  __str__(self, /)\n",
      " |      Return str(self).\n",
      " |  \n",
      " |  capitalize(self, /)\n",
      " |      Return a capitalized version of the string.\n",
      " |      \n",
      " |      More specifically, make the first character have upper case and the rest lower\n",
      " |      case.\n",
      " |  \n",
      " |  casefold(self, /)\n",
      " |      Return a version of the string suitable for caseless comparisons.\n",
      " |  \n",
      " |  center(self, width, fillchar=' ', /)\n",
      " |      Return a centered string of length width.\n",
      " |      \n",
      " |      Padding is done using the specified fill character (default is a space).\n",
      " |  \n",
      " |  count(...)\n",
      " |      S.count(sub[, start[, end]]) -> int\n",
      " |      \n",
      " |      Return the number of non-overlapping occurrences of substring sub in\n",
      " |      string S[start:end].  Optional arguments start and end are\n",
      " |      interpreted as in slice notation.\n",
      " |  \n",
      " |  encode(self, /, encoding='utf-8', errors='strict')\n",
      " |      Encode the string using the codec registered for encoding.\n",
      " |      \n",
      " |      encoding\n",
      " |        The encoding in which to encode the string.\n",
      " |      errors\n",
      " |        The error handling scheme to use for encoding errors.\n",
      " |        The default is 'strict' meaning that encoding errors raise a\n",
      " |        UnicodeEncodeError.  Other possible values are 'ignore', 'replace' and\n",
      " |        'xmlcharrefreplace' as well as any other name registered with\n",
      " |        codecs.register_error that can handle UnicodeEncodeErrors.\n",
      " |  \n",
      " |  endswith(...)\n",
      " |      S.endswith(suffix[, start[, end]]) -> bool\n",
      " |      \n",
      " |      Return True if S ends with the specified suffix, False otherwise.\n",
      " |      With optional start, test S beginning at that position.\n",
      " |      With optional end, stop comparing S at that position.\n",
      " |      suffix can also be a tuple of strings to try.\n",
      " |  \n",
      " |  expandtabs(self, /, tabsize=8)\n",
      " |      Return a copy where all tab characters are expanded using spaces.\n",
      " |      \n",
      " |      If tabsize is not given, a tab size of 8 characters is assumed.\n",
      " |  \n",
      " |  find(...)\n",
      " |      S.find(sub[, start[, end]]) -> int\n",
      " |      \n",
      " |      Return the lowest index in S where substring sub is found,\n",
      " |      such that sub is contained within S[start:end].  Optional\n",
      " |      arguments start and end are interpreted as in slice notation.\n",
      " |      \n",
      " |      Return -1 on failure.\n",
      " |  \n",
      " |  format(...)\n",
      " |      S.format(*args, **kwargs) -> str\n",
      " |      \n",
      " |      Return a formatted version of S, using substitutions from args and kwargs.\n",
      " |      The substitutions are identified by braces ('{' and '}').\n",
      " |  \n",
      " |  format_map(...)\n",
      " |      S.format_map(mapping) -> str\n",
      " |      \n",
      " |      Return a formatted version of S, using substitutions from mapping.\n",
      " |      The substitutions are identified by braces ('{' and '}').\n",
      " |  \n",
      " |  index(...)\n",
      " |      S.index(sub[, start[, end]]) -> int\n",
      " |      \n",
      " |      Return the lowest index in S where substring sub is found, \n",
      " |      such that sub is contained within S[start:end].  Optional\n",
      " |      arguments start and end are interpreted as in slice notation.\n",
      " |      \n",
      " |      Raises ValueError when the substring is not found.\n",
      " |  \n",
      " |  isalnum(self, /)\n",
      " |      Return True if the string is an alpha-numeric string, False otherwise.\n",
      " |      \n",
      " |      A string is alpha-numeric if all characters in the string are alpha-numeric and\n",
      " |      there is at least one character in the string.\n",
      " |  \n",
      " |  isalpha(self, /)\n",
      " |      Return True if the string is an alphabetic string, False otherwise.\n",
      " |      \n",
      " |      A string is alphabetic if all characters in the string are alphabetic and there\n",
      " |      is at least one character in the string.\n",
      " |  \n",
      " |  isascii(self, /)\n",
      " |      Return True if all characters in the string are ASCII, False otherwise.\n",
      " |      \n",
      " |      ASCII characters have code points in the range U+0000-U+007F.\n",
      " |      Empty string is ASCII too.\n",
      " |  \n",
      " |  isdecimal(self, /)\n",
      " |      Return True if the string is a decimal string, False otherwise.\n",
      " |      \n",
      " |      A string is a decimal string if all characters in the string are decimal and\n",
      " |      there is at least one character in the string.\n",
      " |  \n",
      " |  isdigit(self, /)\n",
      " |      Return True if the string is a digit string, False otherwise.\n",
      " |      \n",
      " |      A string is a digit string if all characters in the string are digits and there\n",
      " |      is at least one character in the string.\n",
      " |  \n",
      " |  isidentifier(self, /)\n",
      " |      Return True if the string is a valid Python identifier, False otherwise.\n",
      " |      \n",
      " |      Use keyword.iskeyword() to test for reserved identifiers such as \"def\" and\n",
      " |      \"class\".\n",
      " |  \n",
      " |  islower(self, /)\n",
      " |      Return True if the string is a lowercase string, False otherwise.\n",
      " |      \n",
      " |      A string is lowercase if all cased characters in the string are lowercase and\n",
      " |      there is at least one cased character in the string.\n",
      " |  \n",
      " |  isnumeric(self, /)\n",
      " |      Return True if the string is a numeric string, False otherwise.\n",
      " |      \n",
      " |      A string is numeric if all characters in the string are numeric and there is at\n",
      " |      least one character in the string.\n",
      " |  \n",
      " |  isprintable(self, /)\n",
      " |      Return True if the string is printable, False otherwise.\n",
      " |      \n",
      " |      A string is printable if all of its characters are considered printable in\n",
      " |      repr() or if it is empty.\n",
      " |  \n",
      " |  isspace(self, /)\n",
      " |      Return True if the string is a whitespace string, False otherwise.\n",
      " |      \n",
      " |      A string is whitespace if all characters in the string are whitespace and there\n",
      " |      is at least one character in the string.\n",
      " |  \n",
      " |  istitle(self, /)\n",
      " |      Return True if the string is a title-cased string, False otherwise.\n",
      " |      \n",
      " |      In a title-cased string, upper- and title-case characters may only\n",
      " |      follow uncased characters and lowercase characters only cased ones.\n",
      " |  \n",
      " |  isupper(self, /)\n",
      " |      Return True if the string is an uppercase string, False otherwise.\n",
      " |      \n",
      " |      A string is uppercase if all cased characters in the string are uppercase and\n",
      " |      there is at least one cased character in the string.\n",
      " |  \n",
      " |  join(self, iterable, /)\n",
      " |      Concatenate any number of strings.\n",
      " |      \n",
      " |      The string whose method is called is inserted in between each given string.\n",
      " |      The result is returned as a new string.\n",
      " |      \n",
      " |      Example: '.'.join(['ab', 'pq', 'rs']) -> 'ab.pq.rs'\n",
      " |  \n",
      " |  ljust(self, width, fillchar=' ', /)\n",
      " |      Return a left-justified string of length width.\n",
      " |      \n",
      " |      Padding is done using the specified fill character (default is a space).\n",
      " |  \n",
      " |  lower(self, /)\n",
      " |      Return a copy of the string converted to lowercase.\n",
      " |  \n",
      " |  lstrip(self, chars=None, /)\n",
      " |      Return a copy of the string with leading whitespace removed.\n",
      " |      \n",
      " |      If chars is given and not None, remove characters in chars instead.\n",
      " |  \n",
      " |  partition(self, sep, /)\n",
      " |      Partition the string into three parts using the given separator.\n",
      " |      \n",
      " |      This will search for the separator in the string.  If the separator is found,\n",
      " |      returns a 3-tuple containing the part before the separator, the separator\n",
      " |      itself, and the part after it.\n",
      " |      \n",
      " |      If the separator is not found, returns a 3-tuple containing the original string\n",
      " |      and two empty strings.\n",
      " |  \n",
      " |  replace(self, old, new, count=-1, /)\n",
      " |      Return a copy with all occurrences of substring old replaced by new.\n",
      " |      \n",
      " |        count\n",
      " |          Maximum number of occurrences to replace.\n",
      " |          -1 (the default value) means replace all occurrences.\n",
      " |      \n",
      " |      If the optional argument count is given, only the first count occurrences are\n",
      " |      replaced.\n",
      " |  \n",
      " |  rfind(...)\n",
      " |      S.rfind(sub[, start[, end]]) -> int\n",
      " |      \n",
      " |      Return the highest index in S where substring sub is found,\n",
      " |      such that sub is contained within S[start:end].  Optional\n",
      " |      arguments start and end are interpreted as in slice notation.\n",
      " |      \n",
      " |      Return -1 on failure.\n",
      " |  \n",
      " |  rindex(...)\n",
      " |      S.rindex(sub[, start[, end]]) -> int\n",
      " |      \n",
      " |      Return the highest index in S where substring sub is found,\n",
      " |      such that sub is contained within S[start:end].  Optional\n",
      " |      arguments start and end are interpreted as in slice notation.\n",
      " |      \n",
      " |      Raises ValueError when the substring is not found.\n",
      " |  \n",
      " |  rjust(self, width, fillchar=' ', /)\n",
      " |      Return a right-justified string of length width.\n",
      " |      \n",
      " |      Padding is done using the specified fill character (default is a space).\n",
      " |  \n",
      " |  rpartition(self, sep, /)\n",
      " |      Partition the string into three parts using the given separator.\n",
      " |      \n",
      " |      This will search for the separator in the string, starting at the end. If\n",
      " |      the separator is found, returns a 3-tuple containing the part before the\n",
      " |      separator, the separator itself, and the part after it.\n",
      " |      \n",
      " |      If the separator is not found, returns a 3-tuple containing two empty strings\n",
      " |      and the original string.\n",
      " |  \n",
      " |  rsplit(self, /, sep=None, maxsplit=-1)\n",
      " |      Return a list of the words in the string, using sep as the delimiter string.\n",
      " |      \n",
      " |        sep\n",
      " |          The delimiter according which to split the string.\n",
      " |          None (the default value) means split according to any whitespace,\n",
      " |          and discard empty strings from the result.\n",
      " |        maxsplit\n",
      " |          Maximum number of splits to do.\n",
      " |          -1 (the default value) means no limit.\n",
      " |      \n",
      " |      Splits are done starting at the end of the string and working to the front.\n",
      " |  \n",
      " |  rstrip(self, chars=None, /)\n",
      " |      Return a copy of the string with trailing whitespace removed.\n",
      " |      \n",
      " |      If chars is given and not None, remove characters in chars instead.\n",
      " |  \n",
      " |  split(self, /, sep=None, maxsplit=-1)\n",
      " |      Return a list of the words in the string, using sep as the delimiter string.\n",
      " |      \n",
      " |      sep\n",
      " |        The delimiter according which to split the string.\n",
      " |        None (the default value) means split according to any whitespace,\n",
      " |        and discard empty strings from the result.\n",
      " |      maxsplit\n",
      " |        Maximum number of splits to do.\n",
      " |        -1 (the default value) means no limit.\n",
      " |  \n",
      " |  splitlines(self, /, keepends=False)\n",
      " |      Return a list of the lines in the string, breaking at line boundaries.\n",
      " |      \n",
      " |      Line breaks are not included in the resulting list unless keepends is given and\n",
      " |      true.\n",
      " |  \n",
      " |  startswith(...)\n",
      " |      S.startswith(prefix[, start[, end]]) -> bool\n",
      " |      \n",
      " |      Return True if S starts with the specified prefix, False otherwise.\n",
      " |      With optional start, test S beginning at that position.\n",
      " |      With optional end, stop comparing S at that position.\n",
      " |      prefix can also be a tuple of strings to try.\n",
      " |  \n",
      " |  strip(self, chars=None, /)\n",
      " |      Return a copy of the string with leading and trailing whitespace removed.\n",
      " |      \n",
      " |      If chars is given and not None, remove characters in chars instead.\n",
      " |  \n",
      " |  swapcase(self, /)\n",
      " |      Convert uppercase characters to lowercase and lowercase characters to uppercase.\n",
      " |  \n",
      " |  title(self, /)\n",
      " |      Return a version of the string where each word is titlecased.\n",
      " |      \n",
      " |      More specifically, words start with uppercased characters and all remaining\n",
      " |      cased characters have lower case.\n",
      " |  \n",
      " |  translate(self, table, /)\n",
      " |      Replace each character in the string using the given translation table.\n",
      " |      \n",
      " |        table\n",
      " |          Translation table, which must be a mapping of Unicode ordinals to\n",
      " |          Unicode ordinals, strings, or None.\n",
      " |      \n",
      " |      The table must implement lookup/indexing via __getitem__, for instance a\n",
      " |      dictionary or list.  If this operation raises LookupError, the character is\n",
      " |      left untouched.  Characters mapped to None are deleted.\n",
      " |  \n",
      " |  upper(self, /)\n",
      " |      Return a copy of the string converted to uppercase.\n",
      " |  \n",
      " |  zfill(self, width, /)\n",
      " |      Pad a numeric string with zeros on the left, to fill a field of the given width.\n",
      " |      \n",
      " |      The string is never truncated.\n",
      " |  \n",
      " |  ----------------------------------------------------------------------\n",
      " |  Static methods defined here:\n",
      " |  \n",
      " |  __new__(*args, **kwargs) from builtins.type\n",
      " |      Create and return a new object.  See help(type) for accurate signature.\n",
      " |  \n",
      " |  maketrans(x, y=None, z=None, /)\n",
      " |      Return a translation table usable for str.translate().\n",
      " |      \n",
      " |      If there is only one argument, it must be a dictionary mapping Unicode\n",
      " |      ordinals (integers) or characters to Unicode ordinals, strings or None.\n",
      " |      Character keys will be then converted to ordinals.\n",
      " |      If there are two arguments, they must be strings of equal length, and\n",
      " |      in the resulting dictionary, each character in x will be mapped to the\n",
      " |      character at the same position in y. If there is a third argument, it\n",
      " |      must be a string, whose characters will be mapped to None in the result.\n"
     ]
    },
    {
     "name": "stdout",
     "output_type": "stream",
     "text": [
      "\n"
     ]
    }
   ],
   "source": [
    "help(str)"
   ]
  },
  {
   "cell_type": "code",
   "execution_count": 75,
   "metadata": {
    "scrolled": true
   },
   "outputs": [
    {
     "name": "stdout",
     "output_type": "stream",
     "text": [
      "Help on built-in function split:\n",
      "\n",
      "split(sep=None, maxsplit=-1) method of builtins.str instance\n",
      "    Return a list of the words in the string, using sep as the delimiter string.\n",
      "    \n",
      "    sep\n",
      "      The delimiter according which to split the string.\n",
      "      None (the default value) means split according to any whitespace,\n",
      "      and discard empty strings from the result.\n",
      "    maxsplit\n",
      "      Maximum number of splits to do.\n",
      "      -1 (the default value) means no limit.\n",
      "\n"
     ]
    }
   ],
   "source": [
    "string = ''\n",
    "help(string.split)"
   ]
  },
  {
   "cell_type": "markdown",
   "metadata": {},
   "source": [
    "### String Formatting"
   ]
  },
  {
   "cell_type": "markdown",
   "metadata": {},
   "source": [
    "[[back to top]](#Table-of-Contents)"
   ]
  },
  {
   "cell_type": "markdown",
   "metadata": {},
   "source": [
    "Often one wants to embed other information into strings, sometimes with special formatting constraints. In python, one may insert special formatting characters into strings that convey what type of data should be inserted and where, and how the \"stringified\" form should be formatted. For instance, one may wish to insert an integer into a string:"
   ]
  },
  {
   "cell_type": "code",
   "execution_count": 76,
   "metadata": {
    "scrolled": false
   },
   "outputs": [
    {
     "name": "stdout",
     "output_type": "stream",
     "text": [
      "Using %:\n",
      "To be or not 2 be\n",
      "Using format():\n",
      "To be or not 2 be\n"
     ]
    }
   ],
   "source": [
    "message = 2\n",
    "print (\"Using %:\")\n",
    "print (\"To be or not %d be\" % message)\n",
    "# or \n",
    "print (\"Using format():\")\n",
    "print (\"To be or not {} be\".format(message))"
   ]
  },
  {
   "cell_type": "markdown",
   "metadata": {},
   "source": [
    "Another variant of string formating we have illustrated above with the help of `format` string method.\n",
    "\n",
    "Note the `%d` formatting (or conversion) specifier in the string. This is stating that you wish to insert an integer value (more on these conversion specifiers below). Then the value you wish to insert into the string is separated by a `%` character placed after the string. If you wish to insert more than one value into the string being formatted, they can be placed in a comma separated list, surrounded by parentheses after the `%`:"
   ]
  },
  {
   "cell_type": "code",
   "execution_count": 77,
   "metadata": {
    "scrolled": false
   },
   "outputs": [
    {
     "name": "stdout",
     "output_type": "stream",
     "text": [
      "Multiple % formatting:\n",
      "2 be or not 2 be\n"
     ]
    }
   ],
   "source": [
    "print (\"Multiple % formatting:\")\n",
    "print (\"%d be or not %d be\" % (2, 2))"
   ]
  },
  {
   "cell_type": "markdown",
   "metadata": {},
   "source": [
    "In detail, a conversion specifier contains two or more characters which must occur in order with the following components:\n",
    "\n",
    "+ The `%` character which marks the start of the specifier\n",
    "+ An optional minimum field width. The value being read is padded to be at least this width\n",
    "+ An optional precision value, given as a \"`.`\" followed by the number of digits precision. \n",
    "+ Conversion specifier flag, which defines the type of the variable that we are printing (specified below). "
   ]
  },
  {
   "cell_type": "code",
   "execution_count": 86,
   "metadata": {
    "scrolled": false
   },
   "outputs": [
    {
     "name": "stdout",
     "output_type": "stream",
     "text": [
      "Formatting numerical output:\n",
      "Result: 004.35\n",
      "Result:   4.35\n",
      "Result: 4.35\n",
      "Result: 4.3478\n"
     ]
    }
   ],
   "source": [
    "print (\"Formatting numerical output:\")\n",
    "print (\"Result: %06.2f\" % (100.0/23))\n",
    "print (\"Result: %6.2f\" % (100.0/23))\n",
    "print (\"Result: %.2f\" % (100.0/23))\n",
    "print (\"Result: %.4f\" % (100.0/23))"
   ]
  },
  {
   "cell_type": "markdown",
   "metadata": {},
   "source": [
    "Some common conversion flag characters are:\n",
    "\n",
    "+ `d`: Signed integer decimal.\n",
    "+ `i`: Signed integer decimal.\n",
    "+ `e`: Floating point exponential format (lowercase).\n",
    "+ `E`: Floating point exponential format (uppercase).\n",
    "+ `f`: Floating point decimal format.\n",
    "+ `c`: Single character (accepts integer or single character string).\n",
    "+ `r`: String (converts any python object using repr()).\n",
    "+ `s`: String (converts any python object using str())."
   ]
  },
  {
   "cell_type": "code",
   "execution_count": 87,
   "metadata": {
    "scrolled": false
   },
   "outputs": [
    {
     "name": "stdout",
     "output_type": "stream",
     "text": [
      "Conversion flags example:\n",
      "2 be or not 3.333 b\n"
     ]
    }
   ],
   "source": [
    "print (\"Conversion flags example:\")\n",
    "print (\"%d %s or not %04.3f %c\" % (2, \"be\", 10.0/3, 'b'))"
   ]
  },
  {
   "cell_type": "markdown",
   "metadata": {},
   "source": [
    "For a more detailed treatment on string formatting options, see [here](http://docs.python.org/release/2.5.2/lib/typesseq-strings.html)."
   ]
  }
 ],
 "metadata": {
  "anaconda-cloud": {},
  "kernelspec": {
   "display_name": "ArcGISPro",
   "language": "Python",
   "name": "python3"
  },
  "language_info": {
   "file_extension": ".py",
   "name": "python",
   "version": "3"
  }
 },
 "nbformat": 4,
 "nbformat_minor": 1
}

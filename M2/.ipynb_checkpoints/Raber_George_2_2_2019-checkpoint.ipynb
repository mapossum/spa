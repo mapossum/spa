{
 "cells": [
  {
   "cell_type": "markdown",
   "metadata": {},
   "source": [
    "These two functions return the distance given two points"
   ]
  },
  {
   "cell_type": "code",
   "execution_count": 1,
   "metadata": {},
   "outputs": [],
   "source": [
    "#Create Point 1 and Point 2\n",
    "def distance(x1, y1, x2, y2):\n",
    "\n",
    "    #Step 1 - Calculate the difference between x and y\n",
    "    xdiff = x2 - x1\n",
    "    ydiff = y2 - y1\n",
    "\n",
    "    #Step 2 - Square both the differences\n",
    "    xsq = xdiff ** 2\n",
    "    ysq = ydiff * ydiff\n",
    "\n",
    "    #Step 3. This is an equivalent statement\n",
    "    return (xsq + ysq) ** 0.5"
   ]
  },
  {
   "cell_type": "code",
   "execution_count": 2,
   "metadata": {},
   "outputs": [],
   "source": [
    "def distanceBook(x1, y1, x2, y2):\n",
    "    dx = x2 - x1\n",
    "    dy = y2 - y1\n",
    "    dsquared = dx**2 + dy**2\n",
    "    result = dsquared ** 0.5\n",
    "    return result"
   ]
  },
  {
   "cell_type": "code",
   "execution_count": 3,
   "metadata": {},
   "outputs": [
    {
     "name": "stdout",
     "output_type": "stream",
     "text": [
      "2.8284271247461903\n",
      "2.8284271247461903\n"
     ]
    }
   ],
   "source": [
    "print(distance(2,3,4,5))\n",
    "print(distanceBook(2,3,4,5))"
   ]
  },
  {
   "cell_type": "code",
   "execution_count": null,
   "metadata": {},
   "outputs": [],
   "source": [
    "x1 = input(\"Give the X Coordinate of a point \")\n",
    "x1 = int(x1)\n",
    "y1 = input(\"Give the Y Coordinate of a point \")\n",
    "y1 = int(y1)\n",
    "userInput = \"Y\"\n",
    "total = 0\n",
    "while(userInput.upper() == \"Y\" or userInput.upper() == \"YES\"):\n",
    "    x2 = input(\"Give the X Coordinate of the next point \")\n",
    "    x2 = int(x2)\n",
    "    y2 = input(\"Give the Y Coordinate of the next point \")\n",
    "    y2 = int(y2)\n",
    "    #Calculate the distance\n",
    "    currentDistance = distance(x1,y1,x2,y2)\n",
    "    total = total + currentDistance\n",
    "    print(total, currentDistance)\n",
    "    x1 = x2\n",
    "    y1 = y2\n",
    "    userInput = input(\"Add another point? (Answer Y/N)\")\n",
    "    "
   ]
  },
  {
   "cell_type": "markdown",
   "metadata": {},
   "source": [
    "#### "
   ]
  }
 ],
 "metadata": {
  "kernelspec": {
   "display_name": "Python 3",
   "language": "python",
   "name": "python3"
  },
  "language_info": {
   "codemirror_mode": {
    "name": "ipython",
    "version": 3
   },
   "file_extension": ".py",
   "mimetype": "text/x-python",
   "name": "python",
   "nbconvert_exporter": "python",
   "pygments_lexer": "ipython3",
   "version": "3.6.8"
  }
 },
 "nbformat": 4,
 "nbformat_minor": 2
}

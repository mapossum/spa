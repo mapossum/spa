{
 "cells": [
  {
   "cell_type": "code",
   "execution_count": 8,
   "metadata": {},
   "outputs": [
    {
     "name": "stdout",
     "output_type": "stream",
     "text": [
      "a is greater than b\n",
      "The Program is done\n"
     ]
    }
   ],
   "source": [
    "a = 8\n",
    "b = 7\n",
    "if (a > b):\n",
    "    # All this code that is indented \n",
    "    # will only excute if\n",
    "    # the condition above it true\n",
    "    print(\"a is greater than b\")\n",
    "if (a < b):\n",
    "    print(\"b is greater than a\")\n",
    "    \n",
    "print(\"The Program is done\")   "
   ]
  },
  {
   "cell_type": "code",
   "execution_count": null,
   "metadata": {},
   "outputs": [],
   "source": []
  }
 ],
 "metadata": {
  "kernelspec": {
   "display_name": "Python 3",
   "language": "python",
   "name": "python3"
  },
  "language_info": {
   "codemirror_mode": {
    "name": "ipython",
    "version": 3
   },
   "file_extension": ".py",
   "mimetype": "text/x-python",
   "name": "python",
   "nbconvert_exporter": "python",
   "pygments_lexer": "ipython3",
   "version": "3.6.8"
  }
 },
 "nbformat": 4,
 "nbformat_minor": 2
}

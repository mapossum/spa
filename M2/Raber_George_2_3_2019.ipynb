{
 "cells": [
  {
   "cell_type": "code",
   "execution_count": 1,
   "metadata": {},
   "outputs": [
    {
     "name": "stdout",
     "output_type": "stream",
     "text": [
      "882.7437441785887\n"
     ]
    }
   ],
   "source": [
    "import math\n",
    "\n",
    "def recalculate_coordinate(val,_as=None):\n",
    "  \"\"\"\n",
    "    Accepts a coordinate as a tuple (degree, minutes, seconds)\n",
    "    You can give only one of them (e.g. only minutes as a floating point number) and it will be duly\n",
    "    recalculated into degrees, minutes and seconds.\n",
    "    Return value can be specified as 'deg', 'min' or 'sec'; default return value is a proper coordinate tuple.\n",
    "  \"\"\"\n",
    "  deg,  min,  sec = val\n",
    "  # pass outstanding values from right to left\n",
    "  min = (min or 0) + int(sec) / 60\n",
    "  sec = sec % 60\n",
    "  deg = (deg or 0) + int(min) / 60\n",
    "  min = min % 60\n",
    "  # pass decimal part from left to right\n",
    "  dfrac,  dint = math.modf(deg)\n",
    "  min = min + dfrac * 60\n",
    "  deg = dint\n",
    "  mfrac,  mint = math.modf(min)\n",
    "  sec = sec + mfrac * 60\n",
    "  min = mint\n",
    "  if _as:\n",
    "    sec = sec + min * 60 + deg * 3600\n",
    "    if _as == 'sec': return sec\n",
    "    if _as == 'min': return sec / 60\n",
    "    if _as == 'deg': return sec / 3600\n",
    "  return deg,  min,  sec\n",
    "      \n",
    "\n",
    "def points2distance(slong, slat, elong, elat):\n",
    "  \"\"\"\n",
    "    Calculate distance (in kilometers) between two points given as (long, latt) pairs\n",
    "    based on Haversine formula (http://en.wikipedia.org/wiki/Haversine_formula).\n",
    "    slong = Starting Longitude\n",
    "    slat = Starting Latitude\n",
    "    elong = ending Longitude\n",
    "    elat = Ending Latitude\n",
    "  \"\"\"\n",
    "  start = ((slong,0,0),(slat,0,0))\n",
    "  end = ((elong,0,0),(elat,0,0))\n",
    "  start_long = math.radians(recalculate_coordinate(start[0],  'deg'))\n",
    "  start_latt = math.radians(recalculate_coordinate(start[1],  'deg'))\n",
    "  end_long = math.radians(recalculate_coordinate(end[0],  'deg'))\n",
    "  end_latt = math.radians(recalculate_coordinate(end[1],  'deg'))\n",
    "  d_latt = end_latt - start_latt\n",
    "  d_long = end_long - start_long\n",
    "  a = math.sin(d_latt/2)**2 + math.cos(start_latt) * math.cos(end_latt) * math.sin(d_long/2)**2\n",
    "  c = 2 * math.asin(math.sqrt(a))\n",
    "  return 6371 * c\n",
    "\n",
    "\n",
    "#This is an Example of how it could be used\n",
    "print(points2distance(-89.342 , 32.3, -90.233, 24.4))"
   ]
  },
  {
   "cell_type": "code",
   "execution_count": 2,
   "metadata": {},
   "outputs": [
    {
     "name": "stdout",
     "output_type": "stream",
     "text": [
      "Give the X Coordinate of a point 5\n",
      "Give the Y Coordinate of a point 3\n",
      "Give the X Coordinate of the next point 6\n",
      "Give the Y Coordinate of the next point 7\n"
     ]
    },
    {
     "ename": "NameError",
     "evalue": "name 'distance' is not defined",
     "output_type": "error",
     "traceback": [
      "\u001b[1;31m---------------------------------------------------------------------------\u001b[0m",
      "\u001b[1;31mNameError\u001b[0m                                 Traceback (most recent call last)",
      "\u001b[1;32m<ipython-input-2-4b05a6bf3dad>\u001b[0m in \u001b[0;36m<module>\u001b[1;34m\u001b[0m\n\u001b[0;32m     11\u001b[0m     \u001b[0my2\u001b[0m \u001b[1;33m=\u001b[0m \u001b[0mint\u001b[0m\u001b[1;33m(\u001b[0m\u001b[0my2\u001b[0m\u001b[1;33m)\u001b[0m\u001b[1;33m\u001b[0m\u001b[1;33m\u001b[0m\u001b[0m\n\u001b[0;32m     12\u001b[0m     \u001b[1;31m#Calculate the distance\u001b[0m\u001b[1;33m\u001b[0m\u001b[1;33m\u001b[0m\u001b[1;33m\u001b[0m\u001b[0m\n\u001b[1;32m---> 13\u001b[1;33m     \u001b[0mcurrentDistance\u001b[0m \u001b[1;33m=\u001b[0m \u001b[0mdistance\u001b[0m\u001b[1;33m(\u001b[0m\u001b[0mx1\u001b[0m\u001b[1;33m,\u001b[0m\u001b[0my1\u001b[0m\u001b[1;33m,\u001b[0m\u001b[0mx2\u001b[0m\u001b[1;33m,\u001b[0m\u001b[0my2\u001b[0m\u001b[1;33m)\u001b[0m\u001b[1;33m\u001b[0m\u001b[1;33m\u001b[0m\u001b[0m\n\u001b[0m\u001b[0;32m     14\u001b[0m     \u001b[0mtotal\u001b[0m \u001b[1;33m=\u001b[0m \u001b[0mtotal\u001b[0m \u001b[1;33m+\u001b[0m \u001b[0mcurrentDistance\u001b[0m\u001b[1;33m\u001b[0m\u001b[1;33m\u001b[0m\u001b[0m\n\u001b[0;32m     15\u001b[0m     \u001b[0mprint\u001b[0m\u001b[1;33m(\u001b[0m\u001b[0mtotal\u001b[0m\u001b[1;33m,\u001b[0m \u001b[0mcurrentDistance\u001b[0m\u001b[1;33m)\u001b[0m\u001b[1;33m\u001b[0m\u001b[1;33m\u001b[0m\u001b[0m\n",
      "\u001b[1;31mNameError\u001b[0m: name 'distance' is not defined"
     ]
    }
   ],
   "source": [
    "x1 = input(\"Give the X Coordinate of a point \")\n",
    "x1 = int(x1)\n",
    "y1 = input(\"Give the Y Coordinate of a point \")\n",
    "y1 = int(y1)\n",
    "userInput = \"Y\"\n",
    "total = 0\n",
    "while(userInput.upper() == \"Y\" or userInput.upper() == \"YES\"):\n",
    "    x2 = input(\"Give the X Coordinate of the next point \")\n",
    "    x2 = int(x2)\n",
    "    y2 = input(\"Give the Y Coordinate of the next point \")\n",
    "    y2 = int(y2)\n",
    "    #Calculate the distance\n",
    "    currentDistance = distance(x1,y1,x2,y2)\n",
    "    total = total + currentDistance\n",
    "    print(total, currentDistance)\n",
    "    x1 = x2\n",
    "    y1 = y2\n",
    "    userInput = input(\"Add another point? (Answer Y/N)\")\n",
    "    "
   ]
  },
  {
   "cell_type": "code",
   "execution_count": null,
   "metadata": {},
   "outputs": [],
   "source": []
  }
 ],
 "metadata": {
  "kernelspec": {
   "display_name": "Python 3",
   "language": "python",
   "name": "python3"
  },
  "language_info": {
   "codemirror_mode": {
    "name": "ipython",
    "version": 3
   },
   "file_extension": ".py",
   "mimetype": "text/x-python",
   "name": "python",
   "nbconvert_exporter": "python",
   "pygments_lexer": "ipython3",
   "version": "3.6.8"
  }
 },
 "nbformat": 4,
 "nbformat_minor": 2
}

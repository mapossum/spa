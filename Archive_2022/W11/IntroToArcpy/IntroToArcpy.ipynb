{
 "cells": [
  {
   "cell_type": "code",
   "execution_count": 8,
   "metadata": {},
   "outputs": [],
   "source": [
    "import arcpy"
   ]
  },
  {
   "cell_type": "code",
   "execution_count": 9,
   "metadata": {},
   "outputs": [
    {
     "data": {
      "text/plain": [
       "True"
      ]
     },
     "execution_count": 9,
     "metadata": {},
     "output_type": "execute_result"
    }
   ],
   "source": [
    "arcpy.Exists(\"watersheds\")"
   ]
  },
  {
   "cell_type": "code",
   "execution_count": 10,
   "metadata": {},
   "outputs": [
    {
     "data": {
      "text/plain": [
       "'G:\\\\courses\\\\spa\\\\W6\\\\IntroToArcpy\\\\IntroToArcpy.gdb'"
      ]
     },
     "execution_count": 10,
     "metadata": {},
     "output_type": "execute_result"
    }
   ],
   "source": [
    "arcpy.env.workspace"
   ]
  },
  {
   "cell_type": "code",
   "execution_count": 11,
   "metadata": {},
   "outputs": [],
   "source": [
    "from arcpy import env as myenv"
   ]
  },
  {
   "cell_type": "code",
   "execution_count": 12,
   "metadata": {},
   "outputs": [
    {
     "data": {
      "text/plain": [
       "'G:\\\\courses\\\\spa\\\\W6\\\\IntroToArcpy\\\\IntroToArcpy.gdb'"
      ]
     },
     "execution_count": 12,
     "metadata": {},
     "output_type": "execute_result"
    }
   ],
   "source": [
    "myenv.workspace"
   ]
  },
  {
   "cell_type": "code",
   "execution_count": 15,
   "metadata": {},
   "outputs": [
    {
     "data": {
      "text/html": [
       "<h2>Output</h2>G:\\courses\\spa\\W6\\IntroToArcpy\\IntroToArcpy.gdb\\watersheds_clipped<h2>Messages</h2>Start Time: Wednesday, March 3, 2021 1:28:52 PM<br/>Reading Features...<br/>Cracking Features...<br/>Assembling Features...<br/>Succeeded at Wednesday, March 3, 2021 1:28:53 PM (Elapsed Time: 1.45 seconds)<br/><style>.rendered_html td, .rendered_html th {text-align: left;}.rendered_html tbody {border: 1px solid black;}</style>"
      ],
      "text/plain": [
       "<Result 'G:\\\\courses\\\\spa\\\\W6\\\\IntroToArcpy\\\\IntroToArcpy.gdb\\\\watersheds_clipped'>"
      ]
     },
     "execution_count": 15,
     "metadata": {},
     "output_type": "execute_result"
    }
   ],
   "source": [
    "arcpy.Clip_analysis(\"watersheds\", \"ctracts\", \"watersheds_clipped\")"
   ]
  },
  {
   "cell_type": "code",
   "execution_count": 17,
   "metadata": {},
   "outputs": [
    {
     "data": {
      "text/html": [
       "<h2>Output</h2>G:\\courses\\spa\\W6\\IntroToArcpy\\IntroToArcpy.gdb\\watershedBuffer<h2>Messages</h2>Start Time: Wednesday, March 3, 2021 1:38:33 PM<br/>Succeeded at Wednesday, March 3, 2021 1:38:36 PM (Elapsed Time: 3.67 seconds)<br/><style>.rendered_html td, .rendered_html th {text-align: left;}.rendered_html tbody {border: 1px solid black;}</style>"
      ],
      "text/plain": [
       "<Result 'G:\\\\courses\\\\spa\\\\W6\\\\IntroToArcpy\\\\IntroToArcpy.gdb\\\\watershedBuffer'>"
      ]
     },
     "execution_count": 17,
     "metadata": {},
     "output_type": "execute_result"
    }
   ],
   "source": [
    "arcpy.Buffer_analysis(\"watersheds\", \"watershedBuffer\", \"10 Miles\", \"\", \"\", \"ALL\")"
   ]
  },
  {
   "cell_type": "code",
   "execution_count": 18,
   "metadata": {},
   "outputs": [
    {
     "data": {
      "text/plain": [
       "<geoprocessing describe data object object at 0x0000018837D9DF90>"
      ]
     },
     "execution_count": 18,
     "metadata": {},
     "output_type": "execute_result"
    }
   ],
   "source": [
    "arcpy.Describe(\"watersheds\")"
   ]
  },
  {
   "cell_type": "code",
   "execution_count": 20,
   "metadata": {},
   "outputs": [
    {
     "data": {
      "text/plain": [
       "<geoprocessing describe data object object at 0x0000018837D9D150>"
      ]
     },
     "execution_count": 20,
     "metadata": {},
     "output_type": "execute_result"
    }
   ],
   "source": [
    "watersheds = \"watersheds\"\n",
    "arcpy.Describe(watersheds)"
   ]
  },
  {
   "cell_type": "code",
   "execution_count": 23,
   "metadata": {},
   "outputs": [
    {
     "name": "stdout",
     "output_type": "stream",
     "text": [
      "This is not going to work\n"
     ]
    }
   ],
   "source": [
    "descws = arcpy.Describe(\"watersheds\")\n",
    "descws.shapeType\n",
    "if descws.shapeType != \"Point\":\n",
    "    print(\"This is not going to work\")"
   ]
  },
  {
   "cell_type": "code",
   "execution_count": 24,
   "metadata": {},
   "outputs": [
    {
     "data": {
      "text/plain": [
       "[<geoprocessing describe field object object at 0x0000018837D9DBF0>, <geoprocessing describe field object object at 0x0000018837D9DDF0>, <geoprocessing describe field object object at 0x0000018837D9DF90>, <geoprocessing describe field object object at 0x0000018837D9DD70>, <geoprocessing describe field object object at 0x0000018837D9DDB0>]"
      ]
     },
     "execution_count": 24,
     "metadata": {},
     "output_type": "execute_result"
    }
   ],
   "source": [
    "descws.fields"
   ]
  },
  {
   "cell_type": "code",
   "execution_count": 26,
   "metadata": {},
   "outputs": [
    {
     "data": {
      "text/plain": [
       "'OBJECTID'"
      ]
     },
     "execution_count": 26,
     "metadata": {},
     "output_type": "execute_result"
    }
   ],
   "source": [
    "descws.fields[0].name"
   ]
  },
  {
   "cell_type": "code",
   "execution_count": 28,
   "metadata": {},
   "outputs": [
    {
     "name": "stdout",
     "output_type": "stream",
     "text": [
      "OBJECTID\n",
      "Shape\n",
      "HUC_8\n",
      "Shape_Length\n",
      "Shape_Area\n"
     ]
    }
   ],
   "source": [
    "for f in descws.fields:\n",
    "    print(f.name)"
   ]
  },
  {
   "cell_type": "code",
   "execution_count": 29,
   "metadata": {},
   "outputs": [
    {
     "name": "stdout",
     "output_type": "stream",
     "text": [
      "watersheds\n",
      "ctracts\n",
      "watersheds_clipped\n",
      "watershedBuffer\n"
     ]
    }
   ],
   "source": [
    "featureclasses = arcpy.ListFeatureClasses()\n",
    "\n",
    "# Copy shapefiles to a file geodatabase\n",
    "for fc in featureclasses:\n",
    "    print(fc)"
   ]
  },
  {
   "cell_type": "code",
   "execution_count": 30,
   "metadata": {},
   "outputs": [
    {
     "data": {
      "text/html": [
       "<style>.rendered_html td, .rendered_html th {text-align: left}table td#td0  {font-weight: bold}</style><table><tr><td id=\"td0\">type</td><td>Projected</td></tr><tr><td id=\"td0\">name</td><td>NAD_1983_2011_Mississippi_TM</td></tr><tr><td id=\"td0\">factoryCode</td><td>6508</td></tr><tr><td id=\"td0\">linearUnitName</td><td>Meter</td></tr><tr><td id=\"td0\">GCS.name</td><td>GCS_NAD_1983_2011</td></tr></table>"
      ],
      "text/plain": [
       "<geoprocessing spatial reference object object at 0x0000018837D9DD70>"
      ]
     },
     "execution_count": 30,
     "metadata": {},
     "output_type": "execute_result"
    }
   ],
   "source": [
    "descws.spatialReference"
   ]
  },
  {
   "cell_type": "code",
   "execution_count": 31,
   "metadata": {},
   "outputs": [
    {
     "data": {
      "text/html": [
       "<h2>Output</h2>G:\\courses\\spa\\W6\\IntroToArcpy\\Ex05\\parks_project.shp<h2>Messages</h2>Start Time: Wednesday, March 3, 2021 1:56:13 PM<br/>Succeeded at Wednesday, March 3, 2021 1:56:14 PM (Elapsed Time: 0.25 seconds)<br/><style>.rendered_html td, .rendered_html th {text-align: left;}.rendered_html tbody {border: 1px solid black;}</style>"
      ],
      "text/plain": [
       "<Result 'G:\\\\courses\\\\spa\\\\W6\\\\IntroToArcpy\\\\Ex05\\\\parks_project.shp'>"
      ]
     },
     "execution_count": 31,
     "metadata": {},
     "output_type": "execute_result"
    }
   ],
   "source": [
    "input_features = r\"G:\\courses\\spa\\W6\\IntroToArcpy\\Ex05\\parks.shp\"\n",
    "\n",
    "output_feature_class = r\"G:\\courses\\spa\\W6\\IntroToArcpy\\Ex05\\parks_project.shp\"\n",
    "\n",
    "out_coordinate_system = descws.spatialReference\n",
    "\n",
    "# run the tool\n",
    "arcpy.Project_management(input_features, output_feature_class, out_coordinate_system)"
   ]
  },
  {
   "cell_type": "code",
   "execution_count": 32,
   "metadata": {},
   "outputs": [
    {
     "data": {
      "text/html": [
       "<h2>Output</h2>a Layer object<h2>Messages</h2>Start Time: Wednesday, March 3, 2021 2:23:37 PM<br/>Succeeded at Wednesday, March 3, 2021 2:23:37 PM (Elapsed Time: 0.42 seconds)<br/><style>.rendered_html td, .rendered_html th {text-align: left;}.rendered_html tbody {border: 1px solid black;}</style>"
      ],
      "text/plain": [
       "<Result 'ctracts'>"
      ]
     },
     "execution_count": 32,
     "metadata": {},
     "output_type": "execute_result"
    }
   ],
   "source": [
    "import arcpy\n",
    "arcpy.management.AddField(\"ctracts\", \"Pre_Area\", \"DOUBLE\", None, None, None, '', \"NULLABLE\", \"NON_REQUIRED\", '')\n",
    "arcpy.management.Dissolve(\"watersheds_Intersect\", r\"G:\\courses\\spa\\W6\\IntroToArcpy\\IntroToArcpy.gdb\\watersheds_Dissolve\", \"HUC_8\", \"cor_pop SUM\", \"MULTI_PART\", \"DISSOLVE_LINES\")\n",
    "arcpy.management.CalculateField(\"watersheds_Intersect\", \"cor_pop\", \"!P0010001! * (!Shape_Area! / !Pre_Area!)\", \"PYTHON3\", '', \"TEXT\")\n",
    "arcpy.management.AddField(\"watersheds_Intersect\", \"cor_pop\", \"DOUBLE\", None, None, None, '', \"NULLABLE\", \"NON_REQUIRED\", '')\n",
    "arcpy.analysis.Intersect(\"watersheds #;ctracts #\", r\"G:\\courses\\spa\\W6\\IntroToArcpy\\IntroToArcpy.gdb\\watersheds_Intersect\", \"ALL\", None, \"INPUT\")\n",
    "arcpy.management.CalculateField(\"ctracts\", \"Pre_Area\", \"!Shape_Area!\", \"PYTHON3\", '', \"TEXT\")"
   ]
  },
  {
   "cell_type": "code",
   "execution_count": null,
   "metadata": {},
   "outputs": [],
   "source": []
  }
 ],
 "metadata": {
  "kernelspec": {
   "display_name": "ArcGISPro",
   "language": "Python",
   "name": "python3"
  },
  "language_info": {
   "file_extension": ".py",
   "name": "python",
   "version": "3"
  }
 },
 "nbformat": 4,
 "nbformat_minor": 2
}

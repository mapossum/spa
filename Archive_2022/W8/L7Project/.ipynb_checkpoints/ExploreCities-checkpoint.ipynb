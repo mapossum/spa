{
 "cells": [
  {
   "cell_type": "code",
   "execution_count": 16,
   "metadata": {},
   "outputs": [
    {
     "name": "stdout",
     "output_type": "stream",
     "text": [
      "2 Monticello\n",
      "2382.8406090723674\n",
      "20388.25030587478\n",
      "2 Oakland\n",
      "838.2154990861347\n",
      "7508.50335356422\n",
      "2 Ethel\n",
      "6536.055151211822\n",
      "475.0302883286181\n",
      "2 Sherman\n",
      "2224.372711512233\n",
      "14447.63938834281\n",
      "4 Laurel\n",
      "3391.992179817031\n",
      "621.6922841225787\n",
      "520.8405972800124\n",
      "67176.68815923024\n",
      "2 Jackson\n",
      "19390.526565265634\n",
      "126649.64474348312\n"
     ]
    }
   ],
   "source": [
    "import arcpy\n",
    "\n",
    "infc = r\"C:\\temp\\spa\\Cityi10.shp\"\n",
    "\n",
    "# Enter for loop for each feature\n",
    "for row in arcpy.da.SearchCursor(infc, [\"SHAPE@\", \"NAME10\"]):\n",
    "    geom = row[0]\n",
    "    if geom.partCount > 1:\n",
    "        print(geom.partCount, row[1])\n",
    "        \n",
    "        for prt in geom:\n",
    "            \n",
    "            newPL = arcpy.Polyline(prt, geom.spatialReference)\n",
    "            print(newPL.getLength())\n",
    "            #for pnt in prt:\n",
    "                #print(pnt)"
   ]
  },
  {
   "cell_type": "code",
   "execution_count": 20,
   "metadata": {},
   "outputs": [
    {
     "name": "stdout",
     "output_type": "stream",
     "text": [
      "2 Monticello 484.85052023957195\n",
      "2 Oakland 423.9038932270254\n",
      "2 Ethel 215.58560059023927\n",
      "2 Sherman 265.15998063688744\n",
      "4 Laurel 573.8010664270188\n",
      "2 Jackson 1882.9789235844166\n"
     ]
    }
   ],
   "source": [
    "import arcpy\n",
    "\n",
    "infc = r\"C:\\temp\\spa\\Cityi10.shp\"\n",
    "\n",
    "# Enter for loop for each feature\n",
    "for row in arcpy.da.SearchCursor(infc, [\"SHAPE@\", \"NAME10\"]):\n",
    "    geom = row[0]\n",
    "    if geom.partCount > 1:\n",
    "        print(geom.partCount, row[1], geom.area / geom.length)\n",
    "        \n",
    "            \n",
    "            "
   ]
  },
  {
   "cell_type": "code",
   "execution_count": 31,
   "metadata": {},
   "outputs": [
    {
     "name": "stdout",
     "output_type": "stream",
     "text": [
      "1 Port Gibson Port Gibson 37.29034756521628\n"
     ]
    },
    {
     "ename": "RuntimeError",
     "evalue": "Cannot find field 'NAME10ShapeInd'",
     "output_type": "error",
     "traceback": [
      "\u001b[0;31m---------------------------------------------------------------------------\u001b[0m\n\u001b[0;31mRuntimeError\u001b[0m                              Traceback (most recent call last)",
      "In  \u001b[0;34m[31]\u001b[0m:\nLine \u001b[0;34m21\u001b[0m:    cursor.insertRow([newshape, row[\u001b[34m1\u001b[39;49;00m], shpInd])\n",
      "\u001b[0;31mRuntimeError\u001b[0m: Cannot find field 'NAME10ShapeInd'\n\u001b[0;31m---------------------------------------------------------------------------\u001b[0m"
     ]
    }
   ],
   "source": [
    "import arcpy\n",
    "\n",
    "infc = r\"C:\\temp\\spa\\Cityi10.shp\"\n",
    "infcMBG = r\"C:\\temp\\Lab7\\L7Project\\L7Project.gdb\\Cityi10_MinimumBoundingGeome\"\n",
    "arcpy.env.overwriteOutput = True\n",
    "arcpy.CreateFeatureclass_management(r\"C:\\temp\\spa\", \"citiesShape.shp\", \"POLYGON\", infc, \"#\", \"#\", infc)\n",
    "arcpy.AddField_management(r\"C:\\temp\\spa\\citiesShape.shp\", \"ShapeInd\", \"Double\")\n",
    "\n",
    "MBGSC = arcpy.da.SearchCursor(infcMBG, [\"SHAPE@\", \"NAME10\"])\n",
    "cursor = arcpy.da.InsertCursor(r\"C:\\temp\\spa\\citiesShape.shp\", ['SHAPE@', \"NAME10\", \"ShapeInd\"])\n",
    "\n",
    "\n",
    "# Enter for loop for each feature\n",
    "for row in arcpy.da.SearchCursor(infc, [\"SHAPE@\", \"NAME10\"]):\n",
    "    MBGrow = next(MBGSC)\n",
    "    geom = row[0]\n",
    "    geom2 = MBGrow[0]\n",
    "    shpInd = (geom.area / geom2.area) * 100\n",
    "    print(geom.partCount, row[1], MBGSC[1], shpInd)\n",
    "    newshape = geom.buffer(1000)\n",
    "    cursor.insertRow([newshape, row[1], shpInd])\n",
    "    \n",
    "del cursor"
   ]
  },
  {
   "cell_type": "code",
   "execution_count": null,
   "metadata": {},
   "outputs": [],
   "source": []
  },
  {
   "cell_type": "code",
   "execution_count": null,
   "metadata": {},
   "outputs": [],
   "source": []
  }
 ],
 "metadata": {
  "kernelspec": {
   "display_name": "ArcGISPro",
   "language": "Python",
   "name": "python3"
  },
  "language_info": {
   "file_extension": ".py",
   "name": "python",
   "version": "3"
  }
 },
 "nbformat": 4,
 "nbformat_minor": 2
}

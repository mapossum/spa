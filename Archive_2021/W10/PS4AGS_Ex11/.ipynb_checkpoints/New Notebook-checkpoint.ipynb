{
 "cells": [
  {
   "cell_type": "code",
   "execution_count": 7,
   "metadata": {},
   "outputs": [
    {
     "name": "stdout",
     "output_type": "stream",
     "text": [
      "2.7.0\n",
      "G:\\courses\\spa\\W10\\PS4AGS_Ex11\\Austin.aprx\n",
      "Region\n"
     ]
    }
   ],
   "source": [
    "aprx = arcpy.mp.ArcGISProject(\"CURRENT\")\n",
    "#aprx = arcpy.mp.ArcGISProject(r\"G:\\courses\\spa\\W10\\PS4AGS_Ex11\\Austin.aprx\")\n",
    "print(aprx.documentVersion)\n",
    "print(aprx.filePath)\n",
    "print(aprx.activeMap.name)\n",
    "\n",
    "aprx.activeMap.name = \"Austin Region\"\n",
    "aprx.save()"
   ]
  },
  {
   "cell_type": "code",
   "execution_count": 11,
   "metadata": {},
   "outputs": [],
   "source": []
  },
  {
   "cell_type": "code",
   "execution_count": null,
   "metadata": {},
   "outputs": [],
   "source": []
  }
 ],
 "metadata": {
  "kernelspec": {
   "display_name": "ArcGISPro",
   "language": "Python",
   "name": "python3"
  },
  "language_info": {
   "file_extension": ".py",
   "name": "python",
   "version": "3"
  }
 },
 "nbformat": 4,
 "nbformat_minor": 2
}

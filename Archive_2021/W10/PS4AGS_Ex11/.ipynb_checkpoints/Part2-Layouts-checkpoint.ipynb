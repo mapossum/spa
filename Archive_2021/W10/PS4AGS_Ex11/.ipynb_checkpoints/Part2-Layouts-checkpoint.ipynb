{
 "cells": [
  {
   "cell_type": "code",
   "execution_count": null,
   "metadata": {},
   "outputs": [],
   "source": [
    "aprx = arcpy.mp.ArcGISProject(\"CURRENT\")\n",
    "lyts = aprx.listLayouts()\n",
    "for lyt in lyts:\n",
    "    print(lyt.name)\n",
    "del aprx"
   ]
  }
 ],
 "metadata": {
  "kernelspec": {
   "display_name": "ArcGISPro",
   "language": "Python",
   "name": "python3"
  },
  "language_info": {
   "file_extension": ".py",
   "name": "python",
   "version": "3"
  }
 },
 "nbformat": 4,
 "nbformat_minor": 2
}

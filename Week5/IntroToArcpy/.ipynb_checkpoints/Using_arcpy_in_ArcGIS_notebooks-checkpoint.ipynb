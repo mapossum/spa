{
 "cells": [
  {
   "cell_type": "markdown",
   "metadata": {},
   "source": [
    "# Lesson overview"
   ]
  },
  {
   "cell_type": "markdown",
   "metadata": {},
   "source": [
    "The ArcGIS Notebooks Advanced runtime includes [```arcpy```](https://pro.arcgis.com/en/pro-app/arcpy/get-started/what-is-arcpy-.htm), the ArcGIS Python site package that provides a useful and productive way to perform geographic data analysis, data conversion, data management, and map automation with Python. This gives you access to the same geoprocessing tools that you would use in ArcGIS Pro. Using the **Advanced** runtime consumes **.05 credits/minute**, which is **3 credits/hour**. You should choose the Advanced runtime when you know you have tasks to complete that require ```arcpy```.  \n",
    "\n",
    "In this lesson, you will learn how to work with ```arcpy``` in ArcGIS Notebooks and when you should use [```arcgis```](https://pro.arcgis.com/en/pro-app/latest/arcpy/get-started/arcgis-api-for-python.htm) instead of ```arcpy```. You will learn how to upload a file geodatabase into ArcGIS Notebooks, how to use workspaces in ArcGIS Notebooks, and how to visualize data from a file geodatabase on a map in ArcGIS Notebooks. Stay in this notebook and enter your code in new cells beneath each step. This notebook includes a function to show and hide existing cells. Follow the [Get set up](#setup) instructions to hide the answers.\n",
    "\n",
    "In this lesson, you will:\n",
    "\n",
    "* [Get set up](#setup)\n",
    "* [Upload a geodatabase into ArcGIS Notebooks](#upload-gdb)\n",
    "* [Unzip the geodatabase](#unzip)\n",
    "* [Set the default workspace](#set-workspace)\n",
    "* [Create a new file geodatabase](#create-gdb)\n",
    "* [Visualize features on a map](#viz-features)\n",
    "* [Join features using ```arcpy```](#join-arcpy)\n",
    "* [Join features using ```arcgis```](#join-arcgis)\n",
    "* [Create a minimum bounding geometry with ```arcpy```](#mbg-arcpy)\n",
    "* [Optionally, complete a challenge](#challenge)"
   ]
  },
  {
   "cell_type": "markdown",
   "metadata": {},
   "source": [
    "# Get set up <a class=\"anchor\" id=\"setup\"></a>"
   ]
  },
  {
   "cell_type": "markdown",
   "metadata": {},
   "source": [
    "1. The data that you will use for this lesson is the same data that is used in the [Get started with ArcGIS Pro lesson](https://learn.arcgis.com/en/projects/get-started-with-arcgis-pro/). Download [the zipped **Singapore_Data_GDB**](https://learngis.maps.arcgis.com/home/item.html?id=42120b93150b470ca8d191347110cdb0) before starting this lesson. Don't unzip it."
   ]
  },
  {
   "cell_type": "markdown",
   "metadata": {},
   "source": [
    "2. Run the cell below to hide the answers."
   ]
  },
  {
   "cell_type": "code",
   "execution_count": 1,
   "metadata": {},
   "outputs": [
    {
     "data": {
      "text/html": [
       "<script>\n",
       "code_show=true; \n",
       "function code_toggle() {\n",
       " if (code_show){\n",
       " $('div.input').hide();\n",
       " } else {\n",
       " $('div.input').show();\n",
       " }\n",
       " code_show = !code_show\n",
       "} \n",
       "$( document ).ready(code_toggle);\n",
       "</script>\n",
       "Come back to this cell and click <a href=\"javascript:code_toggle()\">Show Answers</a> <a class=\"anchor\" id=\"show_answers\"></a> to see what the code should look like."
      ],
      "text/plain": [
       "<display.HTML object>"
      ]
     },
     "execution_count": 1,
     "metadata": {},
     "output_type": "execute_result"
    }
   ],
   "source": [
    "from IPython.display import HTML\n",
    "\n",
    "HTML('''<script>\n",
    "code_show=true; \n",
    "function code_toggle() {\n",
    " if (code_show){\n",
    " $('div.input').hide();\n",
    " } else {\n",
    " $('div.input').show();\n",
    " }\n",
    " code_show = !code_show\n",
    "} \n",
    "$( document ).ready(code_toggle);\n",
    "</script>\n",
    "Come back to this cell and click <a href=\"javascript:code_toggle()\">Show Answers</a> <a class=\"anchor\" id=\"show_answers\"></a> to see what the code should look like.''')"
   ]
  },
  {
   "cell_type": "markdown",
   "metadata": {},
   "source": [
    "# Upload a geodatabase into ArcGIS Notebooks <a class=\"anchor\" id=\"upload-gdb\"></a>"
   ]
  },
  {
   "cell_type": "markdown",
   "metadata": {},
   "source": [
    "1. To work with feature classes in a geodatabase in ArcGIS Notebooks, you need to upload a zipped geodatabase of the feature classes into the ArcGIS Notebook **Files** area. Start by clicking **Files**.\n",
    "\n",
    "<img src=\"https://learngis.maps.arcgis.com/sharing/rest/content/items/12d4a9c9430f464e90ae330363123262/data\" width=\"400px\" />"
   ]
  },
  {
   "cell_type": "markdown",
   "metadata": {},
   "source": [
    "2. When you open **Files**, a message appears at the bottom of the window saying: \"Uploads are not supported in this folder.\" To upload data into ArcGIS Notebooks, you must move to the ***home*** folder. Click ***home*** to move to the ***home*** folder.\n",
    "\n",
    "<img src=\"https://learngis.maps.arcgis.com/sharing/rest/content/items/c46314f5136f433ebd0a7debd6437b1a/data\" width=\"300px\" />"
   ]
  },
  {
   "cell_type": "markdown",
   "metadata": {},
   "source": [
    "\n",
    "If you have never uploaded files into the **home** folder, it will say **This directory is empty.** If you have uploaded files previously, you will see those files and folders in that directory.   \n",
    "\n",
    "The **home** folder is a folder that is shared by your notebooks. Data that you add to this folder, or to folders within it, is available to any of your notebooks."
   ]
  },
  {
   "cell_type": "markdown",
   "metadata": {},
   "source": [
    "3. Before you upload any files into this folder, you'll import the ```os``` Python module, which enables various operating system operations. You'll use it to create a folder where you will upload a zipped geodatabase for this lesson. You'll name the folder ***using_arcpy_lesson***. Start by importing ```os```.\n",
    "\n",
    "If you hid the answers, insert a cell below this one and add your code to import the ```os``` module, then run the cell.\n",
    "\n",
    "If you need to see the code, scroll to the beginning of the lesson and click the [**Show Answers**](#show_answers) link. "
   ]
  },
  {
   "cell_type": "code",
   "execution_count": null,
   "metadata": {},
   "outputs": [],
   "source": [
    "import os"
   ]
  },
  {
   "cell_type": "markdown",
   "metadata": {},
   "source": [
    "4. In a code cell beneath this line, you will define the directory. Create three variables: ```home_dir```, ```new_dirname```, and ```lesson_dir```.  \n",
    "Set ```home_dir``` equal to ```'/arcgis/home'```.  \n",
    "Set ```new_dirname``` equal to the name of the directory you will create, ```'using_arcpy_lesson'```.  \n",
    "Use ```os.path.join``` to join the ```home_dir``` and ```new_dirname``` into ```lesson_dir```."
   ]
  },
  {
   "cell_type": "code",
   "execution_count": null,
   "metadata": {},
   "outputs": [],
   "source": [
    "home_dir = '/arcgis/home'\n",
    "new_dirname = 'using_arcpy_lesson'\n",
    "lesson_dir = os.path.join(home_dir, new_dirname)"
   ]
  },
  {
   "cell_type": "markdown",
   "metadata": {},
   "source": [
    "5. Use [```os.mkdir```](https://docs.python.org/3/library/os.html?highlight=mkdir#os.mkdir) to create the folder."
   ]
  },
  {
   "cell_type": "code",
   "execution_count": null,
   "metadata": {},
   "outputs": [],
   "source": [
    "os.mkdir(lesson_dir)"
   ]
  },
  {
   "cell_type": "markdown",
   "metadata": {},
   "source": [
    "6. Click **using_arcpy_lesson** to change directory. If necessary, click the home directory again to refresh its content.\n",
    "\n",
    "<img src=\"https://learngis.maps.arcgis.com/sharing/rest/content/items/b819b921b98e43b8beeb825cd70e5e06/data\" width=\"300px\" />  \n"
   ]
  },
  {
   "cell_type": "markdown",
   "metadata": {},
   "source": [
    "7. Next, upload **Singapore_Data.gdb.zip** into the **using_arcpy_lesson** folder. Click **Choose File** and click **Upload**. \n",
    "\n",
    "<img src=\"https://learngis.maps.arcgis.com/sharing/rest/content/items/95adba2a41fe4a9ea1015e2354888026/data\" width=\"300px\" />\n",
    "\n",
    "It may take a minute to upload the zip archive. When the upload is completed, you will see **Singapore_Data.gdb.zip** in the **using_arcpy_lesson** folder."
   ]
  },
  {
   "cell_type": "markdown",
   "metadata": {},
   "source": [
    "# Unzip the geodatabase <a class=\"anchor\" id=\"unzip\"></a>"
   ]
  },
  {
   "cell_type": "markdown",
   "metadata": {},
   "source": [
    "Now that you have uploaded the zipped geodatabadse into ArcGIS Notebooks, you need to unzip the geodatabase to work with the feature classes it contains. You can use the Python ```zipfile``` module. \n",
    "\n",
    "1. Start by importing ```zipfile```."
   ]
  },
  {
   "cell_type": "code",
   "execution_count": null,
   "metadata": {},
   "outputs": [],
   "source": [
    "import zipfile"
   ]
  },
  {
   "cell_type": "markdown",
   "metadata": {},
   "source": [
    "2. Click the add button next to **Singapore_Data.gdb.zip** to add the zip archive to the notebook.\n",
    "\n",
    "<img src=\"https://learngis.maps.arcgis.com/sharing/rest/content/items/36cf211b78474d379c27b7f01ef89777/data\" width=\"300px\" />"
   ]
  },
  {
   "cell_type": "code",
   "execution_count": null,
   "metadata": {},
   "outputs": [],
   "source": [
    "dataset = '/arcgis/home/using_arcpy_lesson/Singapore_Data.gdb.zip'"
   ]
  },
  {
   "cell_type": "markdown",
   "metadata": {},
   "source": [
    "3. Run the cell."
   ]
  },
  {
   "cell_type": "markdown",
   "metadata": {},
   "source": [
    "4. Use ```zipfile``` to unzip the dataset. Create a variable called ```zip_ref```. Set that equal to ```zipfile.ZipFile(dataset, 'r')``` and run the cell."
   ]
  },
  {
   "cell_type": "code",
   "execution_count": null,
   "metadata": {},
   "outputs": [],
   "source": [
    "zip_ref = zipfile.ZipFile(dataset, 'r')"
   ]
  },
  {
   "cell_type": "markdown",
   "metadata": {},
   "source": [
    "5. Extract the dataset by calling ```zip_ref.extractall(lesson_dir)```"
   ]
  },
  {
   "cell_type": "code",
   "execution_count": null,
   "metadata": {},
   "outputs": [],
   "source": [
    "zip_ref.extractall(lesson_dir)"
   ]
  },
  {
   "cell_type": "markdown",
   "metadata": {},
   "source": [
    "6. Click the folder in the **Files** pane to see the geodatabase that you extracted.\n",
    "\n",
    "<img src=\"https://learngis.maps.arcgis.com/sharing/rest/content/items/3ae19f5272bf4264af59e225754bd5f2/data\" width=\"300px\" />"
   ]
  },
  {
   "cell_type": "markdown",
   "metadata": {},
   "source": [
    "# Set the default workspace <a class=\"anchor\" id=\"set-workspace\"></a>"
   ]
  },
  {
   "cell_type": "markdown",
   "metadata": {},
   "source": [
    "The default workspace is a common feature of desktop GIS. It is where data will be read from or written to, if a path is not specified. When working with ```arcpy``` on your desktop or in ArcGIS Pro, the default workspace comes already set.  When working with ```arcpy``` in ArcGIS Notebooks, the default workspace is not set. \n"
   ]
  },
  {
   "cell_type": "markdown",
   "metadata": {},
   "source": [
    "1. Import ```arcpy```."
   ]
  },
  {
   "cell_type": "code",
   "execution_count": null,
   "metadata": {},
   "outputs": [],
   "source": [
    "import arcpy"
   ]
  },
  {
   "cell_type": "markdown",
   "metadata": {},
   "source": [
    "2. Check that the workspace is not set by importing arcpy and printing out the workspace environment variable. You should see that ```arcpy.env.workspace``` is ```None```."
   ]
  },
  {
   "cell_type": "code",
   "execution_count": null,
   "metadata": {},
   "outputs": [],
   "source": [
    "print(arcpy.env.workspace)"
   ]
  },
  {
   "cell_type": "markdown",
   "metadata": {},
   "source": [
    "3. Create a variable named ```singapore_gdb```. Use ```os.path.join``` to set the path by joining ```lesson_dir``` and ```'Singapore_Data.gdb'```."
   ]
  },
  {
   "cell_type": "code",
   "execution_count": null,
   "metadata": {},
   "outputs": [],
   "source": [
    "singapore_gdb = os.path.join(lesson_dir, 'Singapore_Data.gdb')"
   ]
  },
  {
   "cell_type": "markdown",
   "metadata": {},
   "source": [
    "4. Set the workspace to be the ```singapore_gdb``` variable."
   ]
  },
  {
   "cell_type": "code",
   "execution_count": null,
   "metadata": {},
   "outputs": [],
   "source": [
    "arcpy.env.workspace = singapore_gdb"
   ]
  },
  {
   "cell_type": "markdown",
   "metadata": {},
   "source": [
    "5. Now that the workspace is set, you can use ```arcpy``` just like you would if you were using ArcGIS Pro. Examine what feature classes are in the **Singapore_data.gdb** file geodatabase by using ```arcpy.ListFeatureClasses()```."
   ]
  },
  {
   "cell_type": "code",
   "execution_count": null,
   "metadata": {},
   "outputs": [],
   "source": [
    "arcpy.ListFeatureClasses()"
   ]
  },
  {
   "cell_type": "markdown",
   "metadata": {},
   "source": [
    "# Create a new file geodatabase <a class=\"anchor\" id=\"create-gdb\"></a>"
   ]
  },
  {
   "cell_type": "markdown",
   "metadata": {},
   "source": [
    "You can also create file geodatabases and feature classes in ArcGIS Notebooks. \n",
    "\n",
    "1. Create a file geodatabase named **Results.gdb** in the ```lesson_dir``` folder using [```arcpy.management.CreateFileGDB()```](https://pro.arcgis.com/en/pro-app/tool-reference/data-management/create-file-gdb.htm).  \n",
    "To do this, create a variable named ```gp_res``` and set it equal to ```arcpy.management.CreateFileGDB()```. Run the cell."
   ]
  },
  {
   "cell_type": "code",
   "execution_count": null,
   "metadata": {},
   "outputs": [],
   "source": [
    "gp_res = arcpy.management.CreateFileGDB(lesson_dir, 'Results.gdb')"
   ]
  },
  {
   "cell_type": "markdown",
   "metadata": {},
   "source": [
    "2. Add ```gp_res``` in a new cell and run it."
   ]
  },
  {
   "cell_type": "code",
   "execution_count": null,
   "metadata": {},
   "outputs": [],
   "source": [
    "gp_res"
   ]
  },
  {
   "cell_type": "markdown",
   "metadata": {},
   "source": [
    "3. The ```gp_res``` variable contains the output and the messages from the geoprocessing tool packaged as a Python list. To see only the **Output**, add ```gp_res[0]``` to a new cell and run it.  The ```[0]``` indicates the first item in the list, in this case, the output."
   ]
  },
  {
   "cell_type": "code",
   "execution_count": null,
   "metadata": {},
   "outputs": [],
   "source": [
    "gp_res[0]"
   ]
  },
  {
   "cell_type": "markdown",
   "metadata": {},
   "source": [
    "4. Print out the current workspace environment variable."
   ]
  },
  {
   "cell_type": "code",
   "execution_count": null,
   "metadata": {},
   "outputs": [],
   "source": [
    "print(arcpy.env.workspace)"
   ]
  },
  {
   "cell_type": "markdown",
   "metadata": {},
   "source": [
    "5. Change the workspace to **Results.gdb** using the ```gp_res[0]``` list item. You will use this geodatabase as the output location for geoprocessing results."
   ]
  },
  {
   "cell_type": "code",
   "execution_count": null,
   "metadata": {},
   "outputs": [],
   "source": [
    "arcpy.env.workspace = gp_res[0]\n",
    "print(arcpy.env.workspace)"
   ]
  },
  {
   "cell_type": "markdown",
   "metadata": {},
   "source": [
    "# Visualize features on a map <a class=\"anchor\" id=\"viz-features\"></a>"
   ]
  },
  {
   "cell_type": "markdown",
   "metadata": {},
   "source": [
    "A capability of ArcGIS Notebooks and the ArcGIS API for Python is that you can plot features from a feature class directly on a map in a notebook. This leverages the [spatially enabled dataframe](https://developers.arcgis.com/python/guide/spatially-enabled-dataframe-advanced-topics/), which is part of the [ArcGIS API for Python](https://developers.arcgis.com/python/). This means that you can also do this within a Standard ArcGIS Notebook, which does not consume ArcGIS Online credits. In this step, you will explore the use of the spatially enabled dataframe to read in a feature class and plot it on a map.\n",
    "\n",
    "1. Start by importing ```pandas as pd``` and the ```GeoAccessor``` from ```arcgis.features``` (```from arcgis.features import GeoAccessor```)."
   ]
  },
  {
   "cell_type": "code",
   "execution_count": null,
   "metadata": {},
   "outputs": [],
   "source": [
    "import pandas as pd\n",
    "from arcgis.features import GeoAccessor"
   ]
  },
  {
   "cell_type": "markdown",
   "metadata": {},
   "source": [
    "2. The GeoAccessor enables a custom ```spatial``` namespace on ```pandas```. To create a spatially enabled dataframe from a feature class, use the [```from_featureclass```](https://developers.arcgis.com/python/api-reference/arcgis.features.toc.html?highlight=from_featureclass#arcgis.features.GeoAccessor.from_featureclass) method. Create a variable named ```singapore_ta_sdf``` and set it equal to ```pd.DataFrame.spatial.from_featureclass(input_fc)```, where the ```input_fc``` references **Singapore_Tourist_Attractions**."
   ]
  },
  {
   "cell_type": "code",
   "execution_count": null,
   "metadata": {},
   "outputs": [],
   "source": [
    "singapore_ta_sdf = pd.DataFrame.spatial.from_featureclass(\n",
    "    os.path.join(singapore_gdb,'Singapore_Tourist_Attractions'))"
   ]
  },
  {
   "cell_type": "markdown",
   "metadata": {},
   "source": [
    "3. From the spatially enabled dataframe (```singapore_ta_sdf```), plot the data directly on a map using [```sdf.spatial.plot()```](https://developers.arcgis.com/python/api-reference/arcgis.features.toc.html?highlight=plot#arcgis.features.GeoAccessor.plot). This will both create the map in the notebook and add **Singapore_Tourist_Attractions** as a layer. To create and display the map, type the following into a new cell and run it:\n",
    "\n",
    "```\n",
    "map_view = singapore_ta_sdf.spatial.plot(alpha=0.75) \n",
    "map_view\n",
    "```  \n",
    "\n",
    "The ```(alpha=0.75)``` parameter specifies the opacity of the layer. At 75% opacity, the marker symbols for the points will be slightly transparent. "
   ]
  },
  {
   "cell_type": "code",
   "execution_count": null,
   "metadata": {},
   "outputs": [],
   "source": [
    "map_view = singapore_ta_sdf.spatial.plot(alpha=0.75) \n",
    "map_view"
   ]
  },
  {
   "cell_type": "markdown",
   "metadata": {},
   "source": [
    "The map will look like this:\n",
    "    \n",
    "<img src=\"https://learngis.maps.arcgis.com/sharing/rest/content/items/f23d34c2da3440b38bf41709e7fe19e6/data\" width=\"600px\" />"
   ]
  },
  {
   "cell_type": "markdown",
   "metadata": {},
   "source": [
    "4. You can add more layers to the same map. Add the **Singapore_Rail_Lines** feature class to the map. First, read the features into a spatially enabled data frame named ```rail_lines_sdf```."
   ]
  },
  {
   "cell_type": "code",
   "execution_count": null,
   "metadata": {},
   "outputs": [],
   "source": [
    "rail_lines_sdf = pd.DataFrame.spatial.from_featureclass(\n",
    "    os.path.join(singapore_gdb,'Singapore_Rail_Lines'))"
   ]
  },
  {
   "cell_type": "markdown",
   "metadata": {},
   "source": [
    "5. Add ```rail_lines_sdf``` to the existing map by specifying that map in ```rail_lines_sdf.spatial.plot(map_view)```."
   ]
  },
  {
   "cell_type": "code",
   "execution_count": null,
   "metadata": {},
   "outputs": [],
   "source": [
    "rail_lines_sdf.spatial.plot(map_view) "
   ]
  },
  {
   "cell_type": "markdown",
   "metadata": {},
   "source": [
    "The resulting map with both the tourist attractions and rail lines will look like this:\n",
    "\n",
    "<img src=\"https://learngis.maps.arcgis.com/sharing/rest/content/items/8f05d194425a484ea993baf9279b371f/data\" width=\"600px\" />\n",
    "\n",
    "If you want to test your knowledge, go ahead and add the **Singapore_Rail_Stations** to the map."
   ]
  },
  {
   "cell_type": "markdown",
   "metadata": {},
   "source": [
    "# Join features using ```arcpy``` <a class=\"anchor\" id=\"join-arcpy\"></a>"
   ]
  },
  {
   "cell_type": "markdown",
   "metadata": {},
   "source": [
    "The benefit of using the **Advanced** notebook runtime is that it comes with the ArcPy site package. ArcPy allows you to programmatically run all ArcGIS standard geoprocessing tools and provides helper functions and classes. Next, you will determine the closest railroad station (**Singapore_Rail_Stations**) to each tourist attraction (**Singapore_Tourist_Attractions**) using the [Spatial Join](https://pro.arcgis.com/en/pro-app/tool-reference/analysis/spatial-join.htm) tool. This tool is chosen because it exists in ```arcpy``` and has an analogous analysis tool in ArcGIS Online called [Join Features](https://doc.arcgis.com/en/arcgis-online/analyze/join-features.htm).\n",
    "\n",
    "1. Print the ```arcpy.env.workspace``` variable to verify that the default workspace is set to **Results.gdb**."
   ]
  },
  {
   "cell_type": "code",
   "execution_count": null,
   "metadata": {},
   "outputs": [],
   "source": [
    "print(arcpy.env.workspace)"
   ]
  },
  {
   "cell_type": "markdown",
   "metadata": {},
   "source": [
    "2. Next, use ```arcpy.analysis.SpatialJoin()``` to join **Singapore_Tourist_Attractions** to the **Singapore_Rail_Stations**. Create a variable named ```gp_res```. Set it equal to ```arcpy.analysis.SpatialJoin()```. Define the following input variables to the ```SpatialJoin()```:\n",
    "    - Set the target features to be 'Singapore_Tourist_Attractions'\n",
    "    - Set the join features to be 'Singapore_Rail_Stations'\n",
    "    - Set the output feature class to be named 'Tourist_attractions_Join'\n",
    "    - Set ```match_option='CLOSEST'```  \n",
    "\n",
    "The tourist attractions and rail stations are in the **singapore_gdb**, so you will need to specify the path to them, using ```os.path.join```. You don't need to specify the path for the output, it will go in the **Results.gdb**."
   ]
  },
  {
   "cell_type": "code",
   "execution_count": null,
   "metadata": {},
   "outputs": [],
   "source": [
    "gp_res = arcpy.analysis.SpatialJoin(\n",
    "    os.path.join(singapore_gdb,'Singapore_Tourist_Attractions'),\n",
    "    os.path.join(singapore_gdb,'Singapore_Rail_Stations'), \n",
    "    'Tourist_Attractions_Join',\n",
    "    match_option='CLOSEST')"
   ]
  },
  {
   "cell_type": "markdown",
   "metadata": {},
   "source": [
    "3. Type ```gp_res``` into a new cell and run it to see the geoprocessing messages."
   ]
  },
  {
   "cell_type": "code",
   "execution_count": null,
   "metadata": {},
   "outputs": [],
   "source": [
    "gp_res"
   ]
  },
  {
   "cell_type": "markdown",
   "metadata": {},
   "source": [
    "4. Using what you have learned above, read the joined features into a spatially enabled dataframe. Name the spatially enabled dataframe variable ```attractions_join_sdf```."
   ]
  },
  {
   "cell_type": "code",
   "execution_count": null,
   "metadata": {},
   "outputs": [],
   "source": [
    "attractions_join_sdf = pd.DataFrame.spatial.from_featureclass('Tourist_Attractions_Join')"
   ]
  },
  {
   "cell_type": "markdown",
   "metadata": {},
   "source": [
    "5. Verify that the join was successful by viewing the table using ```attractions_join_sdf.head()```. The **PAGETITLE** field is the name of the tourist attraction and the **Name** field is the name of the closest rail station. "
   ]
  },
  {
   "cell_type": "code",
   "execution_count": null,
   "metadata": {},
   "outputs": [],
   "source": [
    "attractions_join_sdf.head()"
   ]
  },
  {
   "cell_type": "markdown",
   "metadata": {},
   "source": [
    "6. To finish this step, plot the joined features on a map and display it.\n",
    "```\n",
    "tourist_map = attrations_join_sdf.spatial.plot() \n",
    "tourist_map\n",
    "```"
   ]
  },
  {
   "cell_type": "code",
   "execution_count": null,
   "metadata": {},
   "outputs": [],
   "source": [
    "tourist_map = attractions_join_sdf.spatial.plot() \n",
    "tourist_map"
   ]
  },
  {
   "cell_type": "markdown",
   "metadata": {},
   "source": [
    "# Join features using ```arcgis``` <a class=\"anchor\" id=\"join-arcgis\"></a>"
   ]
  },
  {
   "cell_type": "markdown",
   "metadata": {},
   "source": [
    "You can also join features using ```arcgis```. Running the join features analysis tool can be done in a Standard notebook, thus, you would conserve ArcGIS Online credits by creating a Standard notebook instead of an Advanced notebook. There is a trade-off, however. Running ArcGIS Online analysis tools also costs credits each time they are executed. This is something that should be taken into consideration when choosing a notebook runtime.\n",
    "\n",
    "In this step, you will run [```arcgis.features.analysis.join_features```](https://developers.arcgis.com/python/api-reference/arcgis.features.analysis.html?highlight=analysis#join-features) to join the same datasets you joined in the previous steps. Before you can run join features, you need to convert the feature classes into feature layers using the spatially enabled dataframe.\n",
    "\n",
    "1. Import the ArcGIS API for Python and create a ```gis``` object. "
   ]
  },
  {
   "cell_type": "code",
   "execution_count": null,
   "metadata": {},
   "outputs": [],
   "source": [
    "from arcgis.gis import GIS\n",
    "gis = GIS(\"home\")"
   ]
  },
  {
   "cell_type": "markdown",
   "metadata": {},
   "source": [
    "2. Next, you will use the [```to_featurelayer```](https://developers.arcgis.com/python/api-reference/arcgis.features.toc.html?highlight=to_featurelayer#arcgis.features.GeoAccessor.to_featurelayer) method on ```singapore_ta_sdf``` (the tourist attractions spatially enabled dataframe) to publish it as a dataframe. Start by creating a variable named ```tourist_attractions_fl```.\n"
   ]
  },
  {
   "cell_type": "markdown",
   "metadata": {},
   "source": [
    "3. Set that variable equal to ```singapore_ta_sdf.spatial.to_featurelayer()```."
   ]
  },
  {
   "cell_type": "markdown",
   "metadata": {},
   "source": [
    "4. Define two inputs to ```singapore_ta_sdf.spatial.to_featurelayer()```: \n",
    "    - A title, call it 'Singapore_Tourist_Attractions_' followed by your initials\n",
    "    - An array of tags, for example, ```['Singapore', 'Learn ArcGIS', 'Learn Lesson']```"
   ]
  },
  {
   "cell_type": "markdown",
   "metadata": {},
   "source": [
    "5. Your code will look like the following:\n",
    "\n",
    "\n",
    "```tourist_attractions_fl = singapore_ta_sdf.spatial.to_featurelayer(\n",
    "title='Singapore_Tourist_Attractions_YOURINITIALS', \n",
    "tags=['Singapore', 'Learn ArcGIS', 'Learn Lesson'])\n",
    "tourist_attractions_fl\n",
    "```\n",
    "\n",
    "Run the cell."
   ]
  },
  {
   "cell_type": "code",
   "execution_count": null,
   "metadata": {},
   "outputs": [],
   "source": [
    "tourist_attractions_fl = singapore_ta_sdf.spatial.to_featurelayer(\n",
    "    title='Singapore_Tourist_Attractions_YOURINITIALS', \n",
    "    tags=['Singapore', 'Learn ArcGIS', 'Learn Lesson'])\n",
    "tourist_attractions_fl"
   ]
  },
  {
   "cell_type": "markdown",
   "metadata": {},
   "source": [
    "6. Following the same pattern, publish ```rail_lines_sdf``` (the rail lines spatially enabled dataframe) as feature layers in ArcGIS Online. Name it 'Singapore_Rail_Lines_' followed by your initials."
   ]
  },
  {
   "cell_type": "code",
   "execution_count": null,
   "metadata": {},
   "outputs": [],
   "source": [
    "rail_lines_fl = rail_lines_sdf.spatial.to_featurelayer(\n",
    "    'Singapore_Rail_Lines_YOURINITIALS', \n",
    "    tags=['Singapore', 'Learn ArcGIS', 'Learn Lesson'])\n",
    "rail_lines_fl"
   ]
  },
  {
   "cell_type": "markdown",
   "metadata": {},
   "source": [
    "7. Import the ```analysis``` tools from [```arcgis.features```](https://developers.arcgis.com/python/api-reference/arcgis.features.toc.html?highlight=features#module-arcgis.features)."
   ]
  },
  {
   "cell_type": "code",
   "execution_count": null,
   "metadata": {},
   "outputs": [],
   "source": [
    "from arcgis.features import analysis"
   ]
  },
  {
   "cell_type": "markdown",
   "metadata": {},
   "source": [
    "8. Create a variable named ```join_fl```. Set it equal to [```analysis.join_features()```](https://developers.arcgis.com/python/api-reference/arcgis.features.analysis.html?highlight=join_features#join-features). In the ```join_features()``` function, specify the following parameters: \n",
    "    - Set the target features to be the tourist attractions feature layer, ```tourist_attractions_fl```\n",
    "    - Set the join features to be the rail lines feature layer, ```rail_lines_fl```\n",
    "    - Set the output feature class to be named 'Tourist_attractions_Join'\n",
    "    - Set ```spatial_relationship='withindistance'```\n",
    "    - Set ```spatial_relationship_distance = 250```\n",
    "    - Set ```spatial_relationship_distance_units = 'Meters'```\n",
    "    - Set ```output_name``` to be 'Tourist_Attractions_Join_` followed by your initials."
   ]
  },
  {
   "cell_type": "code",
   "execution_count": null,
   "metadata": {},
   "outputs": [],
   "source": [
    "join_fl = analysis.join_features(\n",
    "    tourist_attractions_fl,\n",
    "    rail_lines_fl,\n",
    "    spatial_relationship='intersects',\n",
    "    spatial_relationship_distance = 100,\n",
    "    spatial_relationship_distance_units = 'Meters',\n",
    "    output_name='Tourist_Attractions_Join_YOURINITIALS')"
   ]
  },
  {
   "cell_type": "markdown",
   "metadata": {},
   "source": [
    "9. In a new cell, type ```join_fl``` and run the cell. This will display the analysis tool result item."
   ]
  },
  {
   "cell_type": "code",
   "execution_count": null,
   "metadata": {},
   "outputs": [],
   "source": [
    "join_fl"
   ]
  },
  {
   "cell_type": "markdown",
   "metadata": {},
   "source": [
    "10. Create and display a map view over Singapore using ```gis.map('Singapore')```."
   ]
  },
  {
   "cell_type": "code",
   "execution_count": null,
   "metadata": {},
   "outputs": [],
   "source": [
    "singapore_map = gis.map('Singapore')\n",
    "singapore_map"
   ]
  },
  {
   "cell_type": "markdown",
   "metadata": {},
   "source": [
    "11. To finish this section, verify that ```join_features``` was successful by adding the layer to a map over Singapore."
   ]
  },
  {
   "cell_type": "code",
   "execution_count": null,
   "metadata": {},
   "outputs": [],
   "source": [
    "singapore_map.add_layer(join_fl)"
   ]
  },
  {
   "cell_type": "markdown",
   "metadata": {},
   "source": [
    "What took longer, using ```arcpy.analysis.SpatialJoin``` or ```join_features```?"
   ]
  },
  {
   "cell_type": "markdown",
   "metadata": {},
   "source": [
    "# Create a minimum bounding geometry with ```arcpy``` <a class=\"anchor\" id=\"mbg-arcpy\"></a>"
   ]
  },
  {
   "cell_type": "markdown",
   "metadata": {},
   "source": [
    "Use Advanced notebooks when you cannot complete your analysis using the [ArcGIS Online Analysis Tools](https://doc.arcgis.com/en/arcgis-online/analyze/perform-analysis.htm). Use Standard notebooks when you can achieve your analysis using ```arcgis``` and [```arcgis.features.analysis```](https://developers.arcgis.com/python/api-reference/arcgis.features.analysis.html?highlight=analysis#module-arcgis.features.analysis). An example of a tool that is not included in the ```arcgis.features.analysis``` module is the [Minimum Bounding Geometry geoprocessing tool](https://pro.arcgis.com/en/pro-app/tool-reference/data-management/minimum-bounding-geometry.htm). The Minimum Bounding Geometry geoprocessing tool creates a feature class containing polygons that represent a specified minimum bounding geometry enclosing each input feature or each group of input features. You can use this tool to understand how much area the Singapore tourist attractions cover.\n",
    "\n",
    "1. Use ```arcpy``` and minimum bounding geometry to create the minimum bounding geometry of the tourist attraction locations using ```\"CONVEX_HULL\"``` as the ```geometry_type```. Name the output feature class \"Tourist_Attractions_Boundary_\" followed by your initials. Your function should look like the following.\n",
    "\n",
    "```\n",
    "arcpy.management.MinimumBoundingGeometry(\"Tourist_Attractions_Join\",\n",
    "                                         \"Tourist_Attractions_Boundary_YOURINITIALS\",\n",
    "                                         \"CONVEX_HULL\")\n",
    "```"
   ]
  },
  {
   "cell_type": "code",
   "execution_count": null,
   "metadata": {},
   "outputs": [],
   "source": [
    "arcpy.management.MinimumBoundingGeometry(\"Tourist_Attractions_Join\",\n",
    "                                         \"Tourist_Attractions_Boundary_YOURINITIALS\",\n",
    "                                         \"CONVEX_HULL\")"
   ]
  },
  {
   "cell_type": "markdown",
   "metadata": {},
   "source": [
    "2. Using what you learned above, read the tourist attractions boundary minimum bounding geometry into a spatially enabled dataframe variable named ```boundary_sdf```."
   ]
  },
  {
   "cell_type": "code",
   "execution_count": null,
   "metadata": {},
   "outputs": [],
   "source": [
    "boundary_sdf = pd.DataFrame.spatial.from_featureclass('Tourist_Attractions_Boundary')"
   ]
  },
  {
   "cell_type": "markdown",
   "metadata": {},
   "source": [
    "3. Display the ```boundary_sdf``` on a map. When you display the ```boundary_sdf``` with the [```plot``` function](https://developers.arcgis.com/python/api-reference/arcgis.features.toc.html?highlight=plot#arcgis.features.GeoAccessor.plot), specify the following arguments within the function to make the minimum bounding polygon more apparent:  \n",
    "    - ```renderer_type='s'```\n",
    "    - ```symbol_type='simple'```\n",
    "    - ```symbol_style=\"/\"```\n",
    "    - ```outline_style='s'```\n",
    "    - ```outline_color=[0,0,0,255]```\n",
    "    - ```line_width=1.0```"
   ]
  },
  {
   "cell_type": "code",
   "execution_count": null,
   "metadata": {},
   "outputs": [],
   "source": [
    "boundary_map = boundary_sdf.spatial.plot(renderer_type='s',\n",
    "                           symbol_type='simple',\n",
    "                           symbol_style=\"/\",\n",
    "                           outline_style='s',\n",
    "                           outline_color=[0,0,0,255],\n",
    "                           line_width=1.0)\n",
    "boundary_map"
   ]
  },
  {
   "cell_type": "markdown",
   "metadata": {},
   "source": [
    "The map will look like this:\n",
    "    \n",
    "<img src=\"https://learngis.maps.arcgis.com/sharing/rest/content/items/32a72caf91174f1f8dd5a1b5d9129b6c/data\" width=\"600px\" />"
   ]
  },
  {
   "cell_type": "markdown",
   "metadata": {},
   "source": [
    "4. Go to the [```plot``` function documentation](https://developers.arcgis.com/python/api-reference/arcgis.features.toc.html?highlight=plot#arcgis.features.GeoAccessor.plot). Change the arguments in the plot function that determine the symbology and rerun the previous cell. Did the appearance of the boundary polygon change?"
   ]
  },
  {
   "cell_type": "markdown",
   "metadata": {},
   "source": [
    "# Summary <a class=\"anchor\" id=\"summary\"></a>"
   ]
  },
  {
   "cell_type": "markdown",
   "metadata": {},
   "source": [
    "In this lesson, you learned how to use ```arcpy``` in ArcGIS Notebooks. You uploaded a zipped file geodatabase into ArcGIS Notebooks and extracted the geodatabase using the ```zipfile``` module. You used ```arcpy``` to perform analysis against the features and plot them on a map. You also learned when to use ```arcpy``` and when to use ```arcgis``` and performed the same spatial join analysis using ```arcgis``` that you did using ```arcpy```. Now that you have completed the lesson, test you understanding by attempting the [**Challenge**](#challenge) questions."
   ]
  },
  {
   "cell_type": "markdown",
   "metadata": {},
   "source": [
    "# Challenge <a class=\"anchor\" id=\"challenge\"></a>"
   ]
  },
  {
   "cell_type": "markdown",
   "metadata": {},
   "source": [
    "1. Using the same Singapore data, buffer the tourist attractions using the [Buffer geoprocessing tool](https://pro.arcgis.com/en/pro-app/tool-reference/analysis/buffer.htm) and also the [Buffer Analysis tool](https://developers.arcgis.com/python/api-reference/arcgis.features.analysis.html?highlight=analysis#create-buffers).\n",
    "2. Identify a dataset that you want to analyze, upload it into ArcGIS Notebooks, and use ```arcpy``` geoprocessing tools to perform the analysis and display the results on a map."
   ]
  },
  {
   "cell_type": "code",
   "execution_count": null,
   "metadata": {},
   "outputs": [],
   "source": []
  }
 ],
 "metadata": {
  "esriNotebookRuntime": {
   "notebookRuntimeName": "ArcGIS Notebook Python 3 Advanced",
   "notebookRuntimeVersion": "4.0"
  },
  "kernelspec": {
   "display_name": "ArcGISPro",
   "language": "Python",
   "name": "python3"
  },
  "language_info": {
   "file_extension": ".py",
   "name": "python",
   "version": "3"
  }
 },
 "nbformat": 4,
 "nbformat_minor": 2
}

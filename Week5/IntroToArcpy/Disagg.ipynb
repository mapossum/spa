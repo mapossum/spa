{
 "cells": [
  {
   "cell_type": "code",
   "execution_count": null,
   "metadata": {},
   "outputs": [],
   "source": [
    "#This is a script that will disagg a field by another field after an intersect.\n",
    "\n",
    "import arcpy\n",
    "\n",
    "arcpy.env.workspace = r\"C:\\courses\\spa\\W6\\IntroToArcpy\\IntroToArcpy.gdb\"\n",
    "\n",
    "#Inputs\n",
    "\n",
    "#Feature Class to be disagged\n",
    "disaggFC = \"ctracts\"\n",
    "iaFieldName = \"Inital_Area\"\n",
    "\n",
    "overlayFC = \"watersheds\"\n",
    "\n",
    "tintersectFC = \"memory\\intersect\"\n",
    "\n",
    "oPopFieldName = \"P0010001\"\n",
    "oUnitsfield = \"HUC_8\"\n",
    "\n",
    "#Outputs\n",
    "\n",
    "EstPopFieldName = \"Estimated_population\"\n",
    "TotalPopFieldName = \"Estimated_population SUM\"\n",
    "\n",
    "disaggoutFC = r\"disaggdata\"\n",
    "\n",
    "arcpy.management.CalculateField(disaggFC, iaFieldName, \"!shape.area!\", \"PYTHON3\", '', \"DOUBLE\")\n",
    "arcpy.analysis.PairwiseIntersect(\"{};{}\".format(disaggFC,overlayFC), tintersectFC, \"ALL\", None, \"INPUT\")\n",
    "arcpy.management.CalculateField(tintersectFC, EstPopFieldName, \"(!shape.area! / !{}!) * !{}!\".format(iaFieldName, oPopFieldName), \"PYTHON3\", '', \"LONG\")\n",
    "arcpy.analysis.PairwiseDissolve(tintersectFC, disaggoutFC, oUnitsfield, TotalPopFieldName, \"MULTI_PART\")\n"
   ]
  }
 ],
 "metadata": {
  "kernelspec": {
   "display_name": "ArcGISPro",
   "language": "Python",
   "name": "python3"
  },
  "language_info": {
   "file_extension": ".py",
   "name": "python",
   "version": "3"
  }
 },
 "nbformat": 4,
 "nbformat_minor": 2
}

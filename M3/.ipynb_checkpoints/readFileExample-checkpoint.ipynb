{
 "cells": [
  {
   "cell_type": "markdown",
   "metadata": {},
   "source": [
    "In this notebook we will read a file line by line and get the coordinates of each line"
   ]
  },
  {
   "cell_type": "code",
   "execution_count": 26,
   "metadata": {},
   "outputs": [
    {
     "name": "stdout",
     "output_type": "stream",
     "text": [
      "xcoord\n",
      "4.4\n",
      "5.3\n",
      "6.3\n"
     ]
    }
   ],
   "source": [
    "# opens a file and reads each line and prints that line onto the screen \n",
    "f = open(r'C:\\Users\\George\\courses\\spa\\M3\\points.txt', 'r')\n",
    "for line in f:   ## iterates over the lines of the file\n",
    "    cleanline = line.replace(\"\\n\", \"\")\n",
    "    \n",
    "    splitline = cleanline.split(\",\")\n",
    "    \n",
    "    x = splitline[0]\n",
    "    print(x)\n",
    "    #y = ???\n",
    "                  \n",
    "f.close()\n"
   ]
  },
  {
   "cell_type": "code",
   "execution_count": 40,
   "metadata": {},
   "outputs": [
    {
     "name": "stdout",
     "output_type": "stream",
     "text": [
      "Nope\n",
      "5.3  Its in range\n",
      "6.3  Its in range\n"
     ]
    }
   ],
   "source": [
    "# opens a file and reads each line and prints that line onto the screen \n",
    "f = open(r'C:\\Users\\George\\courses\\spa\\M3\\points.txt', 'r')\n",
    "linelist = []\n",
    "for line in f:   ## iterates over the lines of the file\n",
    "    cleanline = line.replace(\"\\n\", \"\")\n",
    "    \n",
    "    splitline = cleanline.split(\",\")\n",
    "    \n",
    "    linelist.append(splitline)\n",
    "\n",
    "linelist = linelist[1:] \n",
    "\n",
    "for row in linelist:\n",
    "    #print(row)\n",
    "    x = float(row[0])\n",
    "    y = float(row[1])\n",
    "    if x > 4.5 and x < 7:\n",
    "        print(x, \" Its in range\")\n",
    "    else:\n",
    "        print(\"Nope\")\n",
    "\n",
    "f.close()\n"
   ]
  },
  {
   "cell_type": "code",
   "execution_count": 37,
   "metadata": {},
   "outputs": [
    {
     "data": {
      "text/plain": [
       "5.3"
      ]
     },
     "execution_count": 37,
     "metadata": {},
     "output_type": "execute_result"
    }
   ],
   "source": [
    "float(linelist[1][0])"
   ]
  },
  {
   "cell_type": "code",
   "execution_count": null,
   "metadata": {},
   "outputs": [],
   "source": []
  }
 ],
 "metadata": {
  "kernelspec": {
   "display_name": "Python 3",
   "language": "python",
   "name": "python3"
  },
  "language_info": {
   "codemirror_mode": {
    "name": "ipython",
    "version": 3
   },
   "file_extension": ".py",
   "mimetype": "text/x-python",
   "name": "python",
   "nbconvert_exporter": "python",
   "pygments_lexer": "ipython3",
   "version": "3.6.8"
  }
 },
 "nbformat": 4,
 "nbformat_minor": 2
}

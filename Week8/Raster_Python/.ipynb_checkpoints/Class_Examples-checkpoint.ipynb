{
 "cells": [
  {
   "cell_type": "code",
   "execution_count": 2,
   "metadata": {},
   "outputs": [],
   "source": [
    "import arcpy\n",
    "from arcpy.sa import *\n",
    "from arcpy import env\n",
    "\n",
    "env.workspace = r\"C:\\courses\\spa\\Week8\\Raster_Python\\USA_Data.gdb\"\n",
    "\n",
    "hiprecip = Con(\"average_summer_precip\",1,0,\"Value > 140\")\n",
    "hitemp = Con(\"averge_summer_temperature\",1,0,\"Value > 265\")\n",
    "\n",
    "hotpwet = hiprecip + hitemp \n",
    "\n",
    "out_raster = Con(hotpwet,1,0,\"Value = 2\")\n",
    "\n",
    "out_raster.save(r\"hotandhumid\")"
   ]
  },
  {
   "cell_type": "code",
   "execution_count": 3,
   "metadata": {},
   "outputs": [],
   "source": [
    "import arcpy\n",
    "from arcpy.sa import *\n",
    "from arcpy import env\n",
    "\n",
    "env.workspace = r\"C:\\courses\\spa\\Week8\\Raster_Python\\USA_Data.gdb\"\n",
    "\n",
    "out_raster = Con((Con(\"average_summer_precip\",1,0,\"Value > 140\") + Con(\"averge_summer_temperature\",1,0,\"Value > 265\")),1,0,\"Value = 2\")\n",
    "\n",
    "out_raster.save(r\"hotandhumid2\")"
   ]
  },
  {
   "cell_type": "code",
   "execution_count": 4,
   "metadata": {},
   "outputs": [],
   "source": [
    "import arcpy\n",
    "from arcpy.sa import *\n",
    "from arcpy import env\n",
    "\n",
    "env.workspace = r\"C:\\courses\\spa\\Week8\\Raster_Python\\USA_Data.gdb\"\n",
    "\n",
    "#out_raster = RasterCalculator('\"averge_summer_temperature\" + \"averge_winter_temperature\"')\n",
    "out_raster = Raster(\"averge_summer_temperature\") + Raster(\"averge_winter_temperature\") / 2\n",
    "\n",
    "out_raster.save(r\"averageTemp\")"
   ]
  },
  {
   "cell_type": "code",
   "execution_count": 5,
   "metadata": {},
   "outputs": [],
   "source": [
    "import arcpy\n",
    "from arcpy.sa import *\n",
    "from arcpy import env\n",
    "\n",
    "env.workspace = r\"C:\\courses\\spa\\Week8\\Raster_Python\\USA_Data.gdb\"\n",
    "\n",
    "highslopes = Con(Slope(\"elevation\"),1,0, \"Value > 20\")\n",
    "\n",
    "highslopes.save(r\"highslopes\")"
   ]
  },
  {
   "cell_type": "code",
   "execution_count": 9,
   "metadata": {},
   "outputs": [
    {
     "name": "stdout",
     "output_type": "stream",
     "text": [
      "[[-148 -148 -148 ...   55   55   55]\n",
      " [-148 -148 -148 ...   55   55   55]\n",
      " [-148 -148 -148 ...   55   55   55]\n",
      " ...\n",
      " [-148 -148 -148 ...   80   80   80]\n",
      " [-148 -148 -148 ...   80   80   80]\n",
      " [-148 -148 -148 ...   80   80 -148]]\n"
     ]
    }
   ],
   "source": [
    "import arcpy\n",
    "from arcpy import env\n",
    "from arcpy.sa import *\n",
    "import numpy as np\n",
    "\n",
    "arcpy.env.overwriteOutput = True\n",
    "\n",
    "env.workspace = r\"G:\\courses\\spa\\Week8\\Raster_Python\\USA_Data.gdb\"\n",
    "\n",
    "tempRaster = arcpy.Raster(\"averge_summer_temperature\")\n",
    "\n",
    "lowerLeft = arcpy.Point(tempRaster.extent.XMin-10000, tempRaster.extent.YMin-1000)\n",
    "cs = tempRaster.meanCellWidth\n",
    "\n",
    "arr = arcpy.RasterToNumPyArray(tempRaster, nodata_to_value=-1000)\n",
    "\n",
    "arr2 = ((arr / 10.0) * (9.0/5.0) + 32.0).astype(int)\n",
    "\n",
    "Temp_F = arcpy.NumPyArrayToRaster(arr2, lower_left_corner=lowerLeft, x_cell_size=cs, y_cell_size=cs, value_to_nodata=-148)\n",
    "\n",
    "#Temp_F = arcpy.NumPyArrayToRaster(arr2, lower_left_corner=lowerLeft, x_cell_size=cs-100, y_cell_size=cs-100, value_to_nodata=-148)\n",
    "#Temp_F.save(\"ast_wrong\")\n",
    "\n",
    "print(arr2)\n"
   ]
  },
  {
   "cell_type": "code",
   "execution_count": null,
   "metadata": {},
   "outputs": [],
   "source": []
  }
 ],
 "metadata": {
  "kernelspec": {
   "display_name": "ArcGISPro",
   "language": "python",
   "name": "python3"
  },
  "language_info": {
   "file_extension": ".py",
   "mimetype": "text/x-python",
   "name": "python",
   "version": "3.11.10"
  }
 },
 "nbformat": 4,
 "nbformat_minor": 4
}

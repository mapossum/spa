{
 "cells": [
  {
   "cell_type": "code",
   "execution_count": 2,
   "metadata": {},
   "outputs": [],
   "source": [
    "import arcpy\n",
    "from arcpy.sa import *\n",
    "from arcpy import env\n",
    "\n",
    "env.workspace = r\"C:\\courses\\spa\\Week8\\Raster_Python\\USA_Data.gdb\"\n",
    "\n",
    "hiprecip = Con(\"average_summer_precip\",1,0,\"Value > 140\")\n",
    "hitemp = Con(\"averge_summer_temperature\",1,0,\"Value > 265\")\n",
    "\n",
    "hotpwet = hiprecip + hitemp \n",
    "\n",
    "out_raster = Con(hotpwet,1,0,\"Value = 2\")\n",
    "\n",
    "out_raster.save(r\"hotandhumid\")"
   ]
  },
  {
   "cell_type": "code",
   "execution_count": null,
   "metadata": {},
   "outputs": [],
   "source": []
  }
 ],
 "metadata": {
  "kernelspec": {
   "display_name": "ArcGISPro",
   "language": "python",
   "name": "python3"
  },
  "language_info": {
   "file_extension": ".py",
   "mimetype": "text/x-python",
   "name": "python",
   "version": "3.11.10"
  }
 },
 "nbformat": 4,
 "nbformat_minor": 4
}

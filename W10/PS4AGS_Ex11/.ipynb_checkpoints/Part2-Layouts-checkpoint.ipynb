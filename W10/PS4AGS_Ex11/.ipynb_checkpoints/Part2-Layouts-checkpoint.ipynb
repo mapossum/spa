{
 "cells": [
  {
   "cell_type": "code",
   "execution_count": 16,
   "metadata": {},
   "outputs": [
    {
     "name": "stdout",
     "output_type": "stream",
     "text": [
      "Layout\n"
     ]
    }
   ],
   "source": [
    "aprx = arcpy.mp.ArcGISProject(\"CURRENT\")\n",
    "lyts = aprx.listLayouts()\n",
    "for lyt in lyts:\n",
    "    print(lyt.name)\n"
   ]
  },
  {
   "cell_type": "code",
   "execution_count": 22,
   "metadata": {},
   "outputs": [
    {
     "name": "stdout",
     "output_type": "stream",
     "text": [
      "North Arrow MAPSURROUND_ELEMENT\n",
      "Scale Bar MAPSURROUND_ELEMENT\n",
      "Map Frame MAPFRAME_ELEMENT\n"
     ]
    }
   ],
   "source": [
    "Layout = lyts[0]\n",
    "elems = Layout.listElements()\n",
    "for elem in elems:\n",
    "    print(elem.name + \" \" + elem.type)\n",
    "    elem.elementPositionX = elem.elementPositionX - 0.5\n"
   ]
  },
  {
   "cell_type": "code",
   "execution_count": 35,
   "metadata": {},
   "outputs": [
    {
     "data": {
      "text/plain": [
       "'G:\\\\courses\\\\spa\\\\W10\\\\austin_map.pdf'"
      ]
     },
     "execution_count": 35,
     "metadata": {},
     "output_type": "execute_result"
    }
   ],
   "source": [
    "Layout.exportToPDF(r\"C:\\courses\\spa\\W10\\austin_map.pdf\")"
   ]
  },
  {
   "cell_type": "code",
   "execution_count": 36,
   "metadata": {},
   "outputs": [
    {
     "data": {
      "text/plain": [
       "'G:\\\\courses\\\\spa\\\\W10\\\\austin_map_HRes.pdf'"
      ]
     },
     "execution_count": 36,
     "metadata": {},
     "output_type": "execute_result"
    }
   ],
   "source": [
    "Layout.exportToPDF(r\"C:\\courses\\spa\\W10\\austin_map_HRes.pdf\", 600)"
   ]
  },
  {
   "cell_type": "code",
   "execution_count": null,
   "metadata": {},
   "outputs": [],
   "source": []
  },
  {
   "cell_type": "code",
   "execution_count": null,
   "metadata": {},
   "outputs": [],
   "source": []
  }
 ],
 "metadata": {
  "kernelspec": {
   "display_name": "Python 3 (ipykernel)",
   "language": "python",
   "name": "python3"
  },
  "language_info": {
   "file_extension": ".py",
   "name": "python",
   "version": "3"
  }
 },
 "nbformat": 4,
 "nbformat_minor": 2
}

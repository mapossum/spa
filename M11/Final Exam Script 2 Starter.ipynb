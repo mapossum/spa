{
 "cells": [
  {
   "cell_type": "code",
   "execution_count": 1,
   "metadata": {},
   "outputs": [],
   "source": [
    "#Setup nessessary libraries.  \n",
    "#You will need to add some more based on how you will read the feature class you will use\n",
    "#probably either arcpy or ArcGIS api for Python and Pandas\n",
    "\n",
    "%matplotlib inline\n",
    "\n",
    "import matplotlib\n",
    "import numpy as np\n",
    "import matplotlib.pyplot as plt"
   ]
  },
  {
   "cell_type": "code",
   "execution_count": 2,
   "metadata": {},
   "outputs": [
    {
     "name": "stdout",
     "output_type": "stream",
     "text": [
      "[110.04882943  85.59262272  95.56725726 ...  98.16753945 103.56075756\n",
      " 106.61725051]\n"
     ]
    }
   ],
   "source": [
    "# example data, you could use any data.\n",
    "mu = 100 # mean of distribution\n",
    "sigma = 15 # standard deviation of distribution\n",
    "x = mu + sigma * np.random.randn(10000)\n",
    "\n",
    "# note x is a numpy array but a list works just as well\n",
    "print(x)"
   ]
  },
  {
   "cell_type": "code",
   "execution_count": 3,
   "metadata": {},
   "outputs": [],
   "source": [
    "# To get the right answer for the test get the data from a column of a given field\n",
    "# Delete the cell above, but include the logic to build the same kind of data from one \n",
    "# column in a feature class.\n",
    "\n",
    "#Specify which feature class you will use here (path)\n",
    "featureClass = r\"c:\\temp\\myshapeFile.shp\"\n",
    "\n",
    "#Specify which Column you will use here.\n",
    "histo_field = \"Weight\"\n",
    "\n",
    "# Below here add the logic that will build a sequence of all the values\n",
    "# in one column (field) of a feature class.  Then delete the cell above this.  \n",
    "# if you name the variable that stores the sequence \"x\" you should not have to change\n",
    "# of the code below this point."
   ]
  },
  {
   "cell_type": "code",
   "execution_count": 4,
   "metadata": {},
   "outputs": [
    {
     "data": {
      "image/png": "[encoded data removed]",
      "text/plain": [
       "<Figure size 432x288 with 1 Axes>"
      ]
     },
     "metadata": {
      "needs_background": "light"
     },
     "output_type": "display_data"
    }
   ],
   "source": [
    "#This is the number of bins your histogram will have.  \n",
    "#You may want to change this so keep it near this comment.\n",
    "num_bins = 10\n",
    "\n",
    "# the histogram of the data\n",
    "n, bins, patches = plt.hist(x, num_bins, facecolor='blue', alpha=0.5)\n",
    "\n",
    "plt.xlabel(histo_field)\n",
    "plt.ylabel('Frequency')\n",
    "plt.title(r'Histogram of : {0}'.format(histo_field))\n",
    "\n",
    "# Tweak spacing to prevent clipping of ylabel\n",
    "plt.subplots_adjust(left=0.15)"
   ]
  },
  {
   "cell_type": "code",
   "execution_count": null,
   "metadata": {},
   "outputs": [],
   "source": []
  }
 ],
 "metadata": {
  "kernelspec": {
   "display_name": "Python 3",
   "language": "python",
   "name": "python3"
  },
  "language_info": {
   "codemirror_mode": {
    "name": "ipython",
    "version": 3
   },
   "file_extension": ".py",
   "mimetype": "text/x-python",
   "name": "python",
   "nbconvert_exporter": "python",
   "pygments_lexer": "ipython3",
   "version": "3.6.8"
  }
 },
 "nbformat": 4,
 "nbformat_minor": 2
}

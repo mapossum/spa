{
 "cells": [
  {
   "cell_type": "markdown",
   "metadata": {},
   "source": [
    "<h3>The function below is a single function that finds the location of any address wordwide.</h3>"
   ]
  },
  {
   "cell_type": "code",
   "execution_count": 66,
   "metadata": {},
   "outputs": [
    {
     "name": "stdout",
     "output_type": "stream",
     "text": [
      "{'x': -90.18044999999995, 'y': 32.29887000000008, 'location': 'Jackson, MS'}\n",
      "{'x': -118.24549999999999, 'y': 34.05361000000005, 'location': 'Los Angeles, CA'}\n"
     ]
    }
   ],
   "source": [
    "import math, urllib\n",
    "import urllib.parse\n",
    "import urllib.request\n",
    "import numpy as np\n",
    "\n",
    "def getaddresslocation(address, outSR=4326):\n",
    "    params = urllib.parse.urlencode({'SingleLine': address, 'f': 'json', 'outSR': outSR})\n",
    "    f = urllib.request.urlopen(\"https://geocode.arcgis.com/arcgis/rest/services/World/GeocodeServer/findAddressCandidates?%s\" % params)\n",
    "    loc = eval(f.read())\n",
    "    outdic = loc['candidates'][0]['location']\n",
    "    outdic['location'] = address\n",
    "    return (loc['candidates'][0]['location'])\n",
    "\n",
    "HBurgLoc = (getaddresslocation(\"Hattiesburg, MS\"))\n",
    "print(getaddresslocation(\"Jackson, MS\"))\n",
    "print(getaddresslocation(\"Los Angeles, CA\"))"
   ]
  },
  {
   "cell_type": "code",
   "execution_count": 67,
   "metadata": {},
   "outputs": [
    {
     "data": {
      "text/plain": [
       "{'x': -89.29070999999999, 'y': 31.327350000000024, 'location': 'Hattiesburg, MS'}"
      ]
     },
     "execution_count": 67,
     "metadata": {},
     "output_type": "execute_result"
    }
   ],
   "source": [
    "HBurgLoc"
   ]
  },
  {
   "cell_type": "code",
   "execution_count": 68,
   "metadata": {},
   "outputs": [
    {
     "data": {
      "text/plain": [
       "{'x': -89.14783999999997, 'y': 30.35451000000006, 'location': 'Long Beach, MS'}"
      ]
     },
     "execution_count": 68,
     "metadata": {},
     "output_type": "execute_result"
    }
   ],
   "source": [
    "getaddresslocation(\"Long Beach, MS\")"
   ]
  },
  {
   "cell_type": "code",
   "execution_count": 71,
   "metadata": {},
   "outputs": [
    {
     "data": {
      "text/plain": [
       "('Hattiesburg, MS', -89.29070999999999, 31.327350000000024)"
      ]
     },
     "execution_count": 71,
     "metadata": {},
     "output_type": "execute_result"
    }
   ],
   "source": [
    "#All the values in the HBurgLoc Dictionary printed as a tuple\n",
    "HBurgLoc['location'], HBurgLoc['x'], HBurgLoc['y']"
   ]
  },
  {
   "cell_type": "code",
   "execution_count": 94,
   "metadata": {},
   "outputs": [
    {
     "name": "stdout",
     "output_type": "stream",
     "text": [
      "[('George Washington', 'Westmoreland County', 'Virginia', -76.80137836199998, 38.111459833000026), ('John Adams', 'Braintree', 'Massachusetts', -70.98898999999994, 42.21282000000008), ('Thomas Jefferson', 'Shadwell', 'Virginia', -78.39934999999997, 38.015550000000076), ('James Madison', 'Port Conway', 'Virginia', -77.18587999999994, 38.17770000000007), ('James Monroe', 'Monroe Hall', 'Virginia', -76.99146999999994, 38.24072000000007), ('Andrew Jackson', 'Waxhaws Region', 'South Carolina', -81.29699451075308, 34.11529859823612), ('John Quincy Adams', 'Braintree', 'Massachusetts', -70.98898999999994, 42.21282000000008), ('William Henry Harrison', 'Charles City County', 'Virginia', -77.05857373799995, 37.354146300000025), ('Martin Van Buren', 'Kinderhook', 'New York', -73.69842999999997, 42.395260000000064), ('Zachary Taylor', 'Barboursville', 'Virginia', -78.27934999999997, 38.17107000000004), ('John Tyler', 'Charles City County', 'Virginia', -77.05857373799995, 37.354146300000025), ('James Buchanan', 'Cove Gap', 'Pennsylvania', -77.94568999999996, 39.866490000000056), ('James K. Polk', 'Pineville', 'North Carolina', -80.88933999999995, 35.08644000000004), ('Millard Fillmore', 'Summerhill', 'New York', -76.28043999999994, 42.65282000000008), ('Franklin Pierce', 'Hillsborough', 'New Hampshire', -71.93271999999996, 43.144300000000044), ('Andrew Johnson', 'Raleigh', 'North Carolina', -78.64269999999993, 35.78547000000003), ('Abraham Lincoln', 'Sinking Spring', 'Kentucky', -76.02859027013854, 40.334243901519336), ('Ulysses S. Grant', 'Point Pleasant', 'Ohio', -84.23347999999999, 38.894580000000076), ('Rutherford B. Hayes', 'Delaware', 'Ohio', -83.06576999999999, 40.30114000000003), ('Chester A. Arthur', 'Fairfield', 'Vermont', -72.93861999999996, 44.80281000000008), ('James A. Garfield', 'Moreland Hills', 'Ohio', -81.44374999999997, 41.43701000000004), ('Benjamin Harrison', 'North Bend', 'Ohio', -84.74546999999995, 39.14933000000008), ('Grover Cleveland', 'Caldwell', 'New Jersey', -74.27626999999995, 40.84185000000008), ('William McKinley', 'Niles', 'Ohio', -80.76511999999997, 41.18148000000008), ('Woodrow Wilson', 'Staunton', 'Virginia', -79.07271999999995, 38.150010000000066), ('William H. Taft', 'Cincinnati', 'Ohio', -84.45688999999999, 39.162000000000035), ('Theodore Roosevelt', 'New York City', 'New York', -74.00713999999994, 40.71455000000003), ('Warren G. Harding', 'Blooming Grove', 'Ohio', -82.72226999999998, 40.71103000000005), ('Calvin Coolidge', 'Plymouth', 'Vermont', -72.72163999999998, 43.53555000000006), ('Herbert Hoover', 'West Branch', 'Iowa', -91.34662999999995, 41.67244000000005), ('Franklin D. Roosevelt', 'Hyde Park', 'New York', -73.93498999999997, 41.79150000000004), ('Harry S. Truman', 'Lamar', 'Missouri', -94.27543999999995, 37.493220000000065), ('Dwight D. Eisenhower', 'Denison', 'Texas', -96.53661999999997, 33.760380000000055), ('Lyndon B. Johnson', 'Stonewall', 'Texas', -98.67011999999994, 30.23604000000006), ('Ronald Reagan', 'Tampico', 'Illinois', -89.78340999999995, 41.62770000000006), ('Richard Nixon', 'Yorba Linda', 'California', -117.82431999999994, 33.89152000000007), ('Gerald Ford', 'Omaha', 'Nebraska', -95.94025999999997, 41.260680000000036), ('John F. Kennedy', 'Brookline', 'Massachusetts', -71.12046999999995, 42.333470000000034), ('George H. W. Bush', 'Milton', 'Massachusetts', -71.07685999999995, 42.256170000000054), ('Jimmy Carter', 'Plains', 'Georgia', -84.38811999999996, 32.037010000000066), ('George W. Bush', 'New Haven', 'Connecticut', -72.92431999999997, 41.308010000000024), ('Bill Clinton', 'Hope', 'Arkansas', -93.58984999999996, 33.66742000000005), ('Barack Obama', 'Honolulu', 'Hawaii', -157.85787999999997, 21.30493000000007), ('Donald Trump', 'Queens', 'New York', -73.82998999999995, 40.714000000000055), ('Joe Biden', 'Scranton', 'Pennsylvania', -75.66077999999999, 41.410150000000044)]\n"
     ]
    }
   ],
   "source": [
    "#open a file\n",
    "f = open(r\"G:\\courses\\spa\\W4\\Presidents.csv\", \"r\")\n",
    "\n",
    "outputList = []\n",
    "\n",
    "for line in f:\n",
    "    ls = line.split(\",\")\n",
    "    result = getaddresslocation(ls[1] + \",\" + ls[2])\n",
    "    outputList.append((ls[0], ls[1], ls[2].strip(), result['x'], result['y']))\n",
    "    \n",
    "\n",
    "f.close()\n",
    "del outputList[0]\n",
    "print(outputList)\n"
   ]
  },
  {
   "cell_type": "code",
   "execution_count": 96,
   "metadata": {},
   "outputs": [
    {
     "name": "stdout",
     "output_type": "stream",
     "text": [
      "[(b'George Washington', b'Westmoreland County', b'Virginia',  -76.80137836, 38.11145983)\n",
      " (b'John Adams', b'Braintree', b'Massachusetts',  -70.98899   , 42.21282   )\n",
      " (b'Thomas Jefferson', b'Shadwell', b'Virginia',  -78.39935   , 38.01555   )\n",
      " (b'James Madison', b'Port Conway', b'Virginia',  -77.18588   , 38.1777    )\n",
      " (b'James Monroe', b'Monroe Hall', b'Virginia',  -76.99147   , 38.24072   )\n",
      " (b'Andrew Jackson', b'Waxhaws Region', b'South Carolina',  -81.29699451, 34.1152986 )\n",
      " (b'John Quincy Adams', b'Braintree', b'Massachusetts',  -70.98899   , 42.21282   )\n",
      " (b'William Henry Harrison', b'Charles City County', b'Virginia',  -77.05857374, 37.3541463 )\n",
      " (b'Martin Van Buren', b'Kinderhook', b'New York',  -73.69843   , 42.39526   )\n",
      " (b'Zachary Taylor', b'Barboursville', b'Virginia',  -78.27935   , 38.17107   )\n",
      " (b'John Tyler', b'Charles City County', b'Virginia',  -77.05857374, 37.3541463 )\n",
      " (b'James Buchanan', b'Cove Gap', b'Pennsylvania',  -77.94569   , 39.86649   )\n",
      " (b'James K. Polk', b'Pineville', b'North Carolina',  -80.88934   , 35.08644   )\n",
      " (b'Millard Fillmore', b'Summerhill', b'New York',  -76.28044   , 42.65282   )\n",
      " (b'Franklin Pierce', b'Hillsborough', b'New Hampshire',  -71.93272   , 43.1443    )\n",
      " (b'Andrew Johnson', b'Raleigh', b'North Carolina',  -78.6427    , 35.78547   )\n",
      " (b'Abraham Lincoln', b'Sinking Spring', b'Kentucky',  -76.02859027, 40.3342439 )\n",
      " (b'Ulysses S. Grant', b'Point Pleasant', b'Ohio',  -84.23348   , 38.89458   )\n",
      " (b'Rutherford B. Hayes', b'Delaware', b'Ohio',  -83.06577   , 40.30114   )\n",
      " (b'Chester A. Arthur', b'Fairfield', b'Vermont',  -72.93862   , 44.80281   )\n",
      " (b'James A. Garfield', b'Moreland Hills', b'Ohio',  -81.44375   , 41.43701   )\n",
      " (b'Benjamin Harrison', b'North Bend', b'Ohio',  -84.74547   , 39.14933   )\n",
      " (b'Grover Cleveland', b'Caldwell', b'New Jersey',  -74.27627   , 40.84185   )\n",
      " (b'William McKinley', b'Niles', b'Ohio',  -80.76512   , 41.18148   )\n",
      " (b'Woodrow Wilson', b'Staunton', b'Virginia',  -79.07272   , 38.15001   )\n",
      " (b'William H. Taft', b'Cincinnati', b'Ohio',  -84.45689   , 39.162     )\n",
      " (b'Theodore Roosevelt', b'New York City', b'New York',  -74.00714   , 40.71455   )\n",
      " (b'Warren G. Harding', b'Blooming Grove', b'Ohio',  -82.72227   , 40.71103   )\n",
      " (b'Calvin Coolidge', b'Plymouth', b'Vermont',  -72.72164   , 43.53555   )\n",
      " (b'Herbert Hoover', b'West Branch', b'Iowa',  -91.34663   , 41.67244   )\n",
      " (b'Franklin D. Roosevelt', b'Hyde Park', b'New York',  -73.93499   , 41.7915    )\n",
      " (b'Harry S. Truman', b'Lamar', b'Missouri',  -94.27544   , 37.49322   )\n",
      " (b'Dwight D. Eisenhower', b'Denison', b'Texas',  -96.53662   , 33.76038   )\n",
      " (b'Lyndon B. Johnson', b'Stonewall', b'Texas',  -98.67012   , 30.23604   )\n",
      " (b'Ronald Reagan', b'Tampico', b'Illinois',  -89.78341   , 41.6277    )\n",
      " (b'Richard Nixon', b'Yorba Linda', b'California', -117.82432   , 33.89152   )\n",
      " (b'Gerald Ford', b'Omaha', b'Nebraska',  -95.94026   , 41.26068   )\n",
      " (b'John F. Kennedy', b'Brookline', b'Massachusetts',  -71.12047   , 42.33347   )\n",
      " (b'George H. W. Bush', b'Milton', b'Massachusetts',  -71.07686   , 42.25617   )\n",
      " (b'Jimmy Carter', b'Plains', b'Georgia',  -84.38812   , 32.03701   )\n",
      " (b'George W. Bush', b'New Haven', b'Connecticut',  -72.92432   , 41.30801   )\n",
      " (b'Bill Clinton', b'Hope', b'Arkansas',  -93.58985   , 33.66742   )\n",
      " (b'Barack Obama', b'Honolulu', b'Hawaii', -157.85788   , 21.30493   )\n",
      " (b'Donald Trump', b'Queens', b'New York',  -73.82999   , 40.714     )\n",
      " (b'Joe Biden', b'Scranton', b'Pennsylvania',  -75.66078   , 41.41015   )]\n"
     ]
    }
   ],
   "source": [
    "datadef = [('Name', \"S32\"),('City', 'S32'),('State', 'S32'), ('X', 'f8'), ('Y', 'f8')]\n",
    "\n",
    "presidentArray = np.zeros((len(outputList)), dtype=datadef)\n",
    "presidentArray[:] = outputList[:]\n",
    "print(presidentArray)"
   ]
  },
  {
   "cell_type": "code",
   "execution_count": 102,
   "metadata": {},
   "outputs": [
    {
     "data": {
      "text/plain": [
       "(-82.52614801375312, 38.86392744295017)"
      ]
     },
     "execution_count": 102,
     "metadata": {},
     "output_type": "execute_result"
    }
   ],
   "source": [
    "presidentArray[\"X\"].mean(), presidentArray[\"Y\"].mean()"
   ]
  },
  {
   "cell_type": "code",
   "execution_count": 103,
   "metadata": {},
   "outputs": [
    {
     "data": {
      "text/plain": [
       "(-91.42128499999997, 33.89152000000007)"
      ]
     },
     "execution_count": 103,
     "metadata": {},
     "output_type": "execute_result"
    }
   ],
   "source": [
    "presidentArray[\"X\"][-10:].mean(), presidentArray[\"Y\"][-10].mean()"
   ]
  },
  {
   "cell_type": "code",
   "execution_count": 105,
   "metadata": {},
   "outputs": [
    {
     "data": {
      "text/plain": [
       "(array([29, 31, 32, 33, 34, 35, 36, 41, 42], dtype=int64),)"
      ]
     },
     "execution_count": 105,
     "metadata": {},
     "output_type": "execute_result"
    }
   ],
   "source": [
    "np.where(presidentArray[\"X\"] < -89)"
   ]
  },
  {
   "cell_type": "code",
   "execution_count": 106,
   "metadata": {},
   "outputs": [
    {
     "data": {
      "text/plain": [
       "array([(b'Herbert Hoover', b'West Branch', b'Iowa',  -91.34663, 41.67244),\n",
       "       (b'Harry S. Truman', b'Lamar', b'Missouri',  -94.27544, 37.49322),\n",
       "       (b'Dwight D. Eisenhower', b'Denison', b'Texas',  -96.53662, 33.76038),\n",
       "       (b'Lyndon B. Johnson', b'Stonewall', b'Texas',  -98.67012, 30.23604),\n",
       "       (b'Ronald Reagan', b'Tampico', b'Illinois',  -89.78341, 41.6277 ),\n",
       "       (b'Richard Nixon', b'Yorba Linda', b'California', -117.82432, 33.89152),\n",
       "       (b'Gerald Ford', b'Omaha', b'Nebraska',  -95.94026, 41.26068),\n",
       "       (b'Bill Clinton', b'Hope', b'Arkansas',  -93.58985, 33.66742),\n",
       "       (b'Barack Obama', b'Honolulu', b'Hawaii', -157.85788, 21.30493)],\n",
       "      dtype=[('Name', 'S32'), ('City', 'S32'), ('State', 'S32'), ('X', '<f8'), ('Y', '<f8')])"
      ]
     },
     "execution_count": 106,
     "metadata": {},
     "output_type": "execute_result"
    }
   ],
   "source": [
    "ind = np.where(presidentArray[\"X\"] < -89)\n",
    "presidentArray[ind]"
   ]
  },
  {
   "cell_type": "code",
   "execution_count": null,
   "metadata": {},
   "outputs": [],
   "source": [
    "ls[2] = ls[2].strip()"
   ]
  },
  {
   "cell_type": "code",
   "execution_count": 79,
   "metadata": {},
   "outputs": [
    {
     "data": {
      "text/plain": [
       "'Pennsylvania'"
      ]
     },
     "execution_count": 79,
     "metadata": {},
     "output_type": "execute_result"
    }
   ],
   "source": [
    "ls[2]"
   ]
  },
  {
   "cell_type": "code",
   "execution_count": 82,
   "metadata": {},
   "outputs": [
    {
     "data": {
      "text/plain": [
       "{'x': -75.66077999999999, 'y': 41.410150000000044, 'location': 'Scranton,Pennsylvania'}"
      ]
     },
     "execution_count": 82,
     "metadata": {},
     "output_type": "execute_result"
    }
   ],
   "source": [
    "getaddresslocation(ls[1] + \",\" + ls[2])"
   ]
  },
  {
   "cell_type": "code",
   "execution_count": 85,
   "metadata": {},
   "outputs": [
    {
     "data": {
      "text/plain": [
       "{'x': -78.39934999999997, 'y': 38.015550000000076, 'location': 'Shadwell,Virginia\\n'}"
      ]
     },
     "execution_count": 85,
     "metadata": {},
     "output_type": "execute_result"
    }
   ],
   "source": [
    "outputList[3]"
   ]
  },
  {
   "cell_type": "code",
   "execution_count": 93,
   "metadata": {},
   "outputs": [
    {
     "data": {
      "text/plain": [
       "[('George Washington', 'Westmoreland County', 'Virginia', -76.80137836199998, 38.111459833000026), ('John Adams', 'Braintree', 'Massachusetts', -70.98898999999994, 42.21282000000008), ('Thomas Jefferson', 'Shadwell', 'Virginia', -78.39934999999997, 38.015550000000076), ('James Madison', 'Port Conway', 'Virginia', -77.18587999999994, 38.17770000000007), ('James Monroe', 'Monroe Hall', 'Virginia', -76.99146999999994, 38.24072000000007), ('Andrew Jackson', 'Waxhaws Region', 'South Carolina', -81.29699451075308, 34.11529859823612), ('John Quincy Adams', 'Braintree', 'Massachusetts', -70.98898999999994, 42.21282000000008), ('William Henry Harrison', 'Charles City County', 'Virginia', -77.05857373799995, 37.354146300000025), ('Martin Van Buren', 'Kinderhook', 'New York', -73.69842999999997, 42.395260000000064), ('Zachary Taylor', 'Barboursville', 'Virginia', -78.27934999999997, 38.17107000000004), ('John Tyler', 'Charles City County', 'Virginia', -77.05857373799995, 37.354146300000025), ('James Buchanan', 'Cove Gap', 'Pennsylvania', -77.94568999999996, 39.866490000000056), ('James K. Polk', 'Pineville', 'North Carolina', -80.88933999999995, 35.08644000000004), ('Millard Fillmore', 'Summerhill', 'New York', -76.28043999999994, 42.65282000000008), ('Franklin Pierce', 'Hillsborough', 'New Hampshire', -71.93271999999996, 43.144300000000044), ('Andrew Johnson', 'Raleigh', 'North Carolina', -78.64269999999993, 35.78547000000003), ('Abraham Lincoln', 'Sinking Spring', 'Kentucky', -76.02859027013854, 40.334243901519336), ('Ulysses S. Grant', 'Point Pleasant', 'Ohio', -84.23347999999999, 38.894580000000076), ('Rutherford B. Hayes', 'Delaware', 'Ohio', -83.06576999999999, 40.30114000000003), ('Chester A. Arthur', 'Fairfield', 'Vermont', -72.93861999999996, 44.80281000000008), ('James A. Garfield', 'Moreland Hills', 'Ohio', -81.44374999999997, 41.43701000000004), ('Benjamin Harrison', 'North Bend', 'Ohio', -84.74546999999995, 39.14933000000008), ('Grover Cleveland', 'Caldwell', 'New Jersey', -74.27626999999995, 40.84185000000008), ('William McKinley', 'Niles', 'Ohio', -80.76511999999997, 41.18148000000008), ('Woodrow Wilson', 'Staunton', 'Virginia', -79.07271999999995, 38.150010000000066), ('William H. Taft', 'Cincinnati', 'Ohio', -84.45688999999999, 39.162000000000035), ('Theodore Roosevelt', 'New York City', 'New York', -74.00713999999994, 40.71455000000003), ('Warren G. Harding', 'Blooming Grove', 'Ohio', -82.72226999999998, 40.71103000000005), ('Calvin Coolidge', 'Plymouth', 'Vermont', -72.72163999999998, 43.53555000000006), ('Herbert Hoover', 'West Branch', 'Iowa', -91.34662999999995, 41.67244000000005), ('Franklin D. Roosevelt', 'Hyde Park', 'New York', -73.93498999999997, 41.79150000000004), ('Harry S. Truman', 'Lamar', 'Missouri', -94.27543999999995, 37.493220000000065), ('Dwight D. Eisenhower', 'Denison', 'Texas', -96.53661999999997, 33.760380000000055), ('Lyndon B. Johnson', 'Stonewall', 'Texas', -98.67011999999994, 30.23604000000006), ('Ronald Reagan', 'Tampico', 'Illinois', -89.78340999999995, 41.62770000000006), ('Richard Nixon', 'Yorba Linda', 'California', -117.82431999999994, 33.89152000000007), ('Gerald Ford', 'Omaha', 'Nebraska', -95.94025999999997, 41.260680000000036), ('John F. Kennedy', 'Brookline', 'Massachusetts', -71.12046999999995, 42.333470000000034), ('George H. W. Bush', 'Milton', 'Massachusetts', -71.07685999999995, 42.256170000000054), ('Jimmy Carter', 'Plains', 'Georgia', -84.38811999999996, 32.037010000000066), ('George W. Bush', 'New Haven', 'Connecticut', -72.92431999999997, 41.308010000000024), ('Bill Clinton', 'Hope', 'Arkansas', -93.58984999999996, 33.66742000000005), ('Barack Obama', 'Honolulu', 'Hawaii', -157.85787999999997, 21.30493000000007), ('Donald Trump', 'Queens', 'New York', -73.82998999999995, 40.714000000000055), ('Joe Biden', 'Scranton', 'Pennsylvania', -75.66077999999999, 41.410150000000044)]"
      ]
     },
     "execution_count": 93,
     "metadata": {},
     "output_type": "execute_result"
    }
   ],
   "source": []
  },
  {
   "cell_type": "code",
   "execution_count": 109,
   "metadata": {},
   "outputs": [
    {
     "name": "stdout",
     "output_type": "stream",
     "text": [
      "-82.5261480137531\n"
     ]
    }
   ],
   "source": [
    "outputList\n",
    "\n",
    "sumX = 0\n",
    "\n",
    "for president in outputList:\n",
    "    sumX = sumX + president[3]\n",
    "    \n",
    "averageX = sumX / len(outputList)\n",
    "print(averageX)\n",
    "    "
   ]
  },
  {
   "cell_type": "code",
   "execution_count": null,
   "metadata": {},
   "outputs": [],
   "source": []
  },
  {
   "cell_type": "code",
   "execution_count": 111,
   "metadata": {},
   "outputs": [
    {
     "data": {
      "text/plain": [
       "6.5"
      ]
     },
     "execution_count": 111,
     "metadata": {},
     "output_type": "execute_result"
    }
   ],
   "source": [
    "np.median((4,6,7,10))"
   ]
  },
  {
   "cell_type": "code",
   "execution_count": 112,
   "metadata": {},
   "outputs": [
    {
     "data": {
      "text/plain": [
       "2.5"
      ]
     },
     "execution_count": 112,
     "metadata": {},
     "output_type": "execute_result"
    }
   ],
   "source": [
    "xvals = np.array([1,2,3,4])\n",
    "xmean = xvals.mean()\n",
    "xmean"
   ]
  },
  {
   "cell_type": "code",
   "execution_count": 113,
   "metadata": {},
   "outputs": [
    {
     "data": {
      "text/plain": [
       "array([-1.5, -0.5,  0.5,  1.5])"
      ]
     },
     "execution_count": 113,
     "metadata": {},
     "output_type": "execute_result"
    }
   ],
   "source": [
    "xvalsDiff = xvals - xmean\n",
    "xvalsDiff"
   ]
  },
  {
   "cell_type": "code",
   "execution_count": 116,
   "metadata": {},
   "outputs": [
    {
     "data": {
      "text/plain": [
       "array([2.25, 0.25, 0.25, 2.25])"
      ]
     },
     "execution_count": 116,
     "metadata": {},
     "output_type": "execute_result"
    }
   ],
   "source": [
    "xvdSQ = xvalsDiff ** 2\n",
    "xvdSQ"
   ]
  },
  {
   "cell_type": "code",
   "execution_count": 117,
   "metadata": {},
   "outputs": [
    {
     "data": {
      "text/plain": [
       "1.25"
      ]
     },
     "execution_count": 117,
     "metadata": {},
     "output_type": "execute_result"
    }
   ],
   "source": [
    "xmError = xvdSQ.mean()\n",
    "xmError"
   ]
  },
  {
   "cell_type": "code",
   "execution_count": null,
   "metadata": {},
   "outputs": [],
   "source": []
  }
 ],
 "metadata": {
  "kernelspec": {
   "display_name": "ArcGISPro",
   "language": "Python",
   "name": "python3"
  },
  "language_info": {
   "file_extension": ".py",
   "name": "python",
   "version": "3"
  }
 },
 "nbformat": 4,
 "nbformat_minor": 2
}

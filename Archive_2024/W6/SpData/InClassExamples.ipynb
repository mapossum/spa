{
 "cells": [
  {
   "cell_type": "code",
   "execution_count": 1,
   "metadata": {},
   "outputs": [
    {
     "name": "stdout",
     "output_type": "stream",
     "text": [
      "6\n"
     ]
    }
   ],
   "source": [
    "a = 2+4\n",
    "print(a)"
   ]
  },
  {
   "cell_type": "code",
   "execution_count": 2,
   "metadata": {},
   "outputs": [
    {
     "name": "stdout",
     "output_type": "stream",
     "text": [
      "0.5814143422536892\n",
      "1970 2.233050847457627 -0.08290964123486066\n",
      "1971 2.29375 -0.02221048869248765\n",
      "1972 2.2027027027027026 -0.1132577859897852\n",
      "1973 2.2590673575129534 -0.05689313117953443\n",
      "1974 2.5132743362831858 0.19731384759069792\n",
      "1975 2.23728813559322 -0.07867235309926768\n",
      "1976 2.3577586206896552 0.04179813199716742\n",
      "1977 2.372448979591837 0.05648849089934904\n",
      "1978 2.287769784172662 -0.02819070451982597\n",
      "1979 2.292207792207792 -0.02375269648469569\n",
      "1980 2.2110552763819094 -0.10490521231057848\n",
      "1981 2.206703910614525 -0.10925657807796263\n",
      "1982 2.2931726907630523 -0.022787797929435527\n",
      "1983 2.3125 -0.0034604886924878286\n",
      "1984 2.3956043956043955 0.0796439069119077\n",
      "1985 2.4051724137931036 0.08921192510061582\n",
      "1986 2.1956521739130435 -0.12030831477944437\n",
      "1987 2.2337662337662336 -0.0821942549262542\n",
      "1988 2.2777777777777777 -0.03818271091471015\n",
      "1989 2.2601626016260163 -0.055797887066471485\n",
      "1990 2.3507109004739335 0.03475041178144567\n",
      "1991 2.3624161073825505 0.04645561869006265\n",
      "1992 2.3870967741935485 0.07113628550106066\n",
      "1993 2.3620689655172415 0.04610847682475372\n",
      "1994 2.3448275862068964 0.028867097514408524\n",
      "1995 2.3384615384615386 0.022501049769050763\n",
      "1996 2.2747252747252746 -0.04123521396721319\n",
      "1997 2.4074074074074074 0.09144691871491961\n",
      "1998 2.3805970149253732 0.0646365262328854\n",
      "1999 2.467065868263473 0.15110537957098513\n",
      "2000 2.3026315789473686 -0.013328909745119244\n",
      "2001 2.314814814814815 -0.001145673877672948\n",
      "2002 2.4022988505747125 0.08633836188222466\n",
      "2003 2.3620689655172415 0.04610847682475372\n",
      "2004 2.2666666666666666 -0.04929382202582122\n",
      "2005 2.2222222222222223 -0.09373826647026551\n",
      "2006 2.3035714285714284 -0.012389060121059448\n",
      "2007 2.316666666666667 0.0007061779741790453\n",
      "2008 2.341463414634146 0.025502925941658372\n",
      "2009 2.24 -0.07596048869248762\n",
      "2010 2.3433734939759034 0.027413005283415615\n",
      "2011 2.4050179211469533 0.08905743245446551\n",
      "2012 2.2601626016260163 -0.055797887066471485\n",
      "2013 2.3551401869158877 0.03917969822339984\n",
      "2014 2.3541666666666665 0.03820617797417869\n",
      "2015 2.2823529411764705 -0.033607547516017355\n",
      "2016 2.2884615384615383 -0.027498950230949504\n",
      "2017 2.1180555555555554 -0.19790493313693247\n"
     ]
    }
   ],
   "source": [
    "import arcpy\n",
    "import numpy as np\n",
    "\n",
    "table = r'C:\\courses\\spa\\W6\\SpData\\SpData.gdb\\Tornados_Since_1970'\n",
    "  \n",
    "sr = arcpy.SpatialReference(4326)\n",
    "narray = arcpy.da.FeatureClassToNumPyArray(table, '*', \"mag > 1 \", sr)\n",
    "overallmean = np.mean(narray[\"mag\"])\n",
    "overallstd = np.std(narray[\"mag\"])\n",
    "print(overallstd)\n",
    "for year in range(1970,2018):\n",
    "    narray = arcpy.da.FeatureClassToNumPyArray(table, '*', \"mag > 1 and yr = {}\".format(year), sr)\n",
    "    print(year, np.mean(narray[\"mag\"]), np.mean(narray[\"mag\"]) - overallmean)"
   ]
  },
  {
   "cell_type": "code",
   "execution_count": 1,
   "metadata": {},
   "outputs": [
    {
     "data": {
      "text/html": [
       "<div class='gpresult'><h2>Messages</h2><div id='messages' data-messages='[\"Start Time: Wednesday, February 21, 2024 1:45:27 PM\",\"Sorting Attributes...\",\"Dissolving...\",\"Succeeded at Wednesday, February 21, 2024 1:45:28 PM (Elapsed Time: 0.87 seconds)\"]' data-show='true'><div id = 'default' /></div></div>"
      ],
      "text/plain": [
       "<Result 'C:\\\\courses\\\\spa\\\\W6\\\\SpData\\\\SpData.gdb\\\\Tornados_Since_PairwiseDisso'>"
      ]
     },
     "execution_count": 1,
     "metadata": {},
     "output_type": "execute_result"
    }
   ],
   "source": [
    "arcpy.env.workspace = r\"C:\\courses\\spa\\W6\\SpData\\SpData.gdb\"\n",
    "\n",
    "arcpy.analysis.PairwiseDissolve(\"Tornados_Since_1970_MS\",r\"Tornados_Since_PairwiseDisso\",\"mo\")\n"
   ]
  },
  {
   "cell_type": "code",
   "execution_count": 8,
   "metadata": {},
   "outputs": [
    {
     "name": "stdout",
     "output_type": "stream",
     "text": [
      "Simple Polyline 430625.7707 -792295.5748 794028.0605 -236996.6003 0 0 nan nan\n"
     ]
    }
   ],
   "source": [
    "desc = arcpy.Describe(r\"Tornados_Since_PairwiseDisso\")\n",
    "desc.dataType\n",
    "\n",
    "if desc.dataType == 'FeatureLayer':\n",
    "    #or find out what type it is\n",
    "    print(desc.featureType, desc.shapeType, desc.extent)\n"
   ]
  },
  {
   "cell_type": "code",
   "execution_count": 20,
   "metadata": {},
   "outputs": [
    {
     "data": {
      "text/plain": [
       "(1.0740740740740742, 27)"
      ]
     },
     "execution_count": 20,
     "metadata": {},
     "output_type": "execute_result"
    }
   ],
   "source": [
    "cursor = arcpy.da.SearchCursor(\"Tornados_Since_1970_MS\", ['mag', 'mo', 'yr'], \"yr = 1970\")\n",
    "\n",
    "total, count = 0, 0\n",
    "for row in cursor:\n",
    "    #print(row)\n",
    "    total = row[0] + total\n",
    "    count = count + 1\n",
    "    \n",
    "averagem = total / count\n",
    "averagem, count"
   ]
  },
  {
   "cell_type": "code",
   "execution_count": 24,
   "metadata": {},
   "outputs": [
    {
     "name": "stdout",
     "output_type": "stream",
     "text": [
      "1970 1.0740740740740742 27\n",
      "1971 1.675 40\n",
      "1972 1.7096774193548387 31\n",
      "1973 1.75 44\n",
      "1974 1.4705882352941178 34\n",
      "1975 1.6176470588235294 34\n",
      "1976 2.0588235294117645 34\n",
      "1977 1.7428571428571429 35\n",
      "1978 2.090909090909091 11\n",
      "1979 0.8333333333333334 6\n",
      "1980 1.875 32\n",
      "1981 1.5714285714285714 7\n",
      "1982 1.8235294117647058 17\n",
      "1983 1.5909090909090908 22\n",
      "1984 1.1875 16\n",
      "1985 0.9047619047619048 21\n",
      "1986 1.2 35\n",
      "1987 1.1428571428571428 42\n",
      "1988 1.3548387096774193 62\n",
      "1989 1.0 36\n",
      "1990 1.1304347826086956 23\n",
      "1991 0.75 12\n",
      "1992 0.7962962962962963 54\n",
      "1993 0.16666666666666666 12\n",
      "1994 0.5 34\n",
      "1995 0.6 45\n",
      "1996 0.95 20\n",
      "1997 1.4705882352941178 17\n",
      "1998 1.0 3\n",
      "1999 1.0909090909090908 11\n",
      "2000 1.0 8\n",
      "2001 1.2962962962962963 27\n",
      "2002 1.0769230769230769 13\n",
      "2003 0.8260869565217391 23\n",
      "2004 1.096774193548387 31\n",
      "2005 0.8734177215189873 79\n",
      "2006 0.75 24\n",
      "2007 0.8571428571428571 28\n",
      "2008 0.801980198019802 101\n",
      "2009 0.7368421052631579 38\n",
      "2010 1.1025641025641026 39\n",
      "2011 1.4022988505747127 87\n",
      "2012 0.9361702127659575 47\n",
      "2013 1.0 30\n",
      "2014 1.205128205128205 39\n",
      "2015 0.8292682926829268 41\n",
      "2016 0.8181818181818182 44\n",
      "2017 0.8656716417910447 67\n"
     ]
    }
   ],
   "source": [
    "def reportMagYear(year):\n",
    "    cursor = arcpy.da.SearchCursor(\"Tornados_Since_1970_MS\", ['mag', 'mo', 'yr'], \"yr = {}\".format(year))\n",
    "\n",
    "    total, count = 0, 0\n",
    "    for row in cursor:\n",
    "        #print(row)\n",
    "        total = row[0] + total\n",
    "        count = count + 1\n",
    "    \n",
    "    averagem = total / count\n",
    "    return (averagem, count)\n",
    "   \n",
    "\n",
    "for year in range(1970, 2018):\n",
    "    yreport = reportMagYear(year)\n",
    "    print(year, yreport[0], yreport[1])"
   ]
  },
  {
   "cell_type": "code",
   "execution_count": 28,
   "metadata": {},
   "outputs": [
    {
     "name": "stdout",
     "output_type": "stream",
     "text": [
      "(4, 4, 1970)\n",
      "(3, 4, 1970)\n",
      "(2, 2, 1970)\n",
      "(2, 4, 1970)\n",
      "(2, 5, 1970)\n",
      "(2, 10, 1970)\n",
      "(2, 10, 1970)\n",
      "(1, 2, 1970)\n",
      "(1, 3, 1970)\n",
      "(1, 4, 1970)\n",
      "(1, 4, 1970)\n",
      "(1, 5, 1970)\n",
      "(1, 6, 1970)\n",
      "(1, 6, 1970)\n",
      "(1, 10, 1970)\n",
      "(1, 10, 1970)\n",
      "(1, 10, 1970)\n",
      "(1, 12, 1970)\n",
      "(1, 12, 1970)\n",
      "(0, 2, 1970)\n",
      "(0, 6, 1970)\n",
      "(0, 7, 1970)\n",
      "(0, 8, 1970)\n",
      "(0, 9, 1970)\n",
      "(0, 10, 1970)\n",
      "(0, 10, 1970)\n",
      "(0, 10, 1970)\n"
     ]
    }
   ],
   "source": [
    "cursor = arcpy.da.SearchCursor(\"Tornados_Since_1970_MS\", ['mag', 'mo', 'yr'], \"yr = 1970\", sql_clause=(\"\", \"ORDER BY mag DESC\"))\n",
    "\n",
    "for row in cursor:\n",
    "    print(row)\n",
    "\n"
   ]
  },
  {
   "cell_type": "code",
   "execution_count": null,
   "metadata": {},
   "outputs": [],
   "source": []
  }
 ],
 "metadata": {
  "kernelspec": {
   "display_name": "ArcGISPro",
   "language": "Python",
   "name": "python3"
  },
  "language_info": {
   "file_extension": ".py",
   "name": "python",
   "version": "3"
  }
 },
 "nbformat": 4,
 "nbformat_minor": 2
}
